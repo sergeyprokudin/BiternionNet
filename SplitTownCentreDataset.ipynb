{
 "cells": [
  {
   "cell_type": "code",
   "execution_count": 1,
   "metadata": {},
   "outputs": [],
   "source": [
    "import pickle\n",
    "import gzip\n",
    "import numpy as np\n",
    "\n",
    "x, y, img_names = pickle.load(gzip.open('data/TownCentre.pkl.gz', 'rb'))"
   ]
  },
  {
   "cell_type": "code",
   "execution_count": 2,
   "metadata": {
    "collapsed": true
   },
   "outputs": [],
   "source": [
    "np.random.seed(13)"
   ]
  },
  {
   "cell_type": "code",
   "execution_count": 3,
   "metadata": {},
   "outputs": [],
   "source": [
    "person_ids = np.asarray([int(name.split('_')[1]) for name in img_names])\n",
    "unique_pid_set = np.unique(person_ids)\n",
    "rands = np.random.rand(unique_pid_set.shape[0])"
   ]
  },
  {
   "cell_type": "code",
   "execution_count": 4,
   "metadata": {},
   "outputs": [],
   "source": [
    "train_pids = unique_pid_set[rands<0.8]\n",
    "val_pids = unique_pid_set[(rands>=0.8) & (rands<0.9)]\n",
    "test_pids = unique_pid_set[rands>0.9]"
   ]
  },
  {
   "cell_type": "code",
   "execution_count": 5,
   "metadata": {},
   "outputs": [],
   "source": [
    "ixtr = np.where(np.in1d(person_ids, train_pids))[0]\n",
    "ixval = np.where(np.in1d(person_ids, val_pids))[0]\n",
    "ixte = np.where(np.in1d(person_ids, test_pids))[0]"
   ]
  },
  {
   "cell_type": "code",
   "execution_count": 6,
   "metadata": {},
   "outputs": [],
   "source": [
    "xtr, ytr = x[ixtr], y[ixtr]\n",
    "xval, yval = x[ixval], y[ixval]\n",
    "xte, yte = x[ixte], y[ixte]"
   ]
  },
  {
   "cell_type": "code",
   "execution_count": 7,
   "metadata": {},
   "outputs": [
    {
     "name": "stdout",
     "output_type": "stream",
     "text": [
      "Number of train samples: 6916\n",
      "Number of validation samples: 874\n",
      "Number of test samples: 904\n"
     ]
    }
   ],
   "source": [
    "print(\"Number of train samples: %s\" % xtr.shape[0])\n",
    "print(\"Number of validation samples: %s\" % xval.shape[0])\n",
    "print(\"Number of test samples: %s\" % xte.shape[0])"
   ]
  },
  {
   "cell_type": "code",
   "execution_count": 9,
   "metadata": {},
   "outputs": [
    {
     "name": "stdout",
     "output_type": "stream",
     "text": [
      "Number of train samples: 6916\n",
      "Number of validation samples: 874\n",
      "Number of test samples: 904\n"
     ]
    }
   ],
   "source": [
    "from utils.towncentre import load_towncentre\n",
    "xtr, ytr_deg, xval, yval_deg, xte, yte_deg = load_towncentre('data/TownCentre.pkl.gz', \n",
    "                                                             canonical_split=True,\n",
    "                                                             verbose=1)"
   ]
  }
 ],
 "metadata": {
  "kernelspec": {
   "display_name": "Python 3",
   "language": "python",
   "name": "python3"
  },
  "language_info": {
   "codemirror_mode": {
    "name": "ipython",
    "version": 3
   },
   "file_extension": ".py",
   "mimetype": "text/x-python",
   "name": "python",
   "nbconvert_exporter": "python",
   "pygments_lexer": "ipython3",
   "version": "3.6.1"
  }
 },
 "nbformat": 4,
 "nbformat_minor": 2
}
