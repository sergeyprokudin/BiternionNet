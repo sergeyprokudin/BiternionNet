{
 "cells": [
  {
   "cell_type": "code",
   "execution_count": null,
   "metadata": {},
   "outputs": [
    {
     "name": "stderr",
     "output_type": "stream",
     "text": [
      "Using TensorFlow backend.\n"
     ]
    }
   ],
   "source": [
    "from keras.layers import Input, Dense, Lambda, Flatten, Activation, Merge, Concatenate, Add\n",
    "from keras import layers\n",
    "from keras.layers.merge import concatenate\n",
    "from keras.models import Model, Sequential\n",
    "from keras.objectives import binary_crossentropy\n",
    "from keras.callbacks import LearningRateScheduler\n",
    "\n",
    "import numpy as np\n",
    "from scipy.stats import sem\n",
    "from scipy.spatial.distance import squareform, pdist\n",
    "from keras import backend as K\n",
    "from keras.models import load_model\n",
    "import tensorflow as tf\n",
    "\n",
    "\n",
    "from models import vgg\n",
    "from models.cvae import CVAE\n",
    "from utils.angles import deg2bit, bit2deg\n",
    "from utils.losses import mad_loss_tf, cosine_loss_tf, von_mises_loss_tf, maad_from_deg\n",
    "from utils.losses import gaussian_kl_divergence_tf, gaussian_kl_divergence_np\n",
    "from utils.losses  import von_mises_log_likelihood_tf, von_mises_log_likelihood_np\n",
    "from utils.towncentre import load_towncentre\n",
    "from utils.experiements import get_experiment_id"
   ]
  },
  {
   "cell_type": "code",
   "execution_count": null,
   "metadata": {},
   "outputs": [],
   "source": [
    "xtr, ytr_deg, xval, yval_deg, xte, yte_deg = load_towncentre('data/TownCentre.pkl.gz', canonical_split=True, verbose=1)\n",
    "\n",
    "image_height, image_width = xtr.shape[1], xtr.shape[2]\n",
    "ytr_bit = deg2bit(ytr_deg)\n",
    "yval_bit = deg2bit(yval_deg)\n",
    "yte_bit = deg2bit(yte_deg)\n",
    "yte_rad = np.deg2rad(yte_deg)\n",
    "\n",
    "image_height, image_width, n_channels = xtr.shape[1:]\n",
    "flatten_x_shape = xtr[0].flatten().shape[0]\n",
    "phi_shape = yte_bit.shape[1]"
   ]
  },
  {
   "cell_type": "markdown",
   "metadata": {},
   "source": [
    "#### Loading pre-trained models"
   ]
  },
  {
   "cell_type": "markdown",
   "metadata": {},
   "source": [
    "#### Biternion-VGG (Log-likelihood, fixed $\\kappa=3$)"
   ]
  },
  {
   "cell_type": "code",
   "execution_count": null,
   "metadata": {
    "collapsed": true
   },
   "outputs": [],
   "source": [
    "vgg_fixed_kappa = vgg.BiternionVGG(image_height=image_height,\n",
    "                                   image_width=image_width,\n",
    "                                   n_channels=3,\n",
    "                                   predict_kappa=False,\n",
    "                                   fixed_kappa_value=3.0)\n",
    "\n",
    "vgg_fixed_kappa.model.load_weights('/Users/sergeyprokudin/BiternionNet/logs/best_models/fixed_kappa/vgg_bit_vm_likelihood_town.best.weights.h5')"
   ]
  },
  {
   "cell_type": "code",
   "execution_count": null,
   "metadata": {},
   "outputs": [],
   "source": [
    "results_fixed = dict()\n",
    "#results_fixed['train'] = vgg_fixed_kappa.evaluate(xtr, ytr_deg, 'train')\n",
    "results_fixed['validation'] = vgg_fixed_kappa.evaluate(xval, yval_deg, 'validation')\n",
    "results_fixed['test'] = vgg_fixed_kappa.evaluate(xte, yte_deg, 'test')"
   ]
  },
  {
   "cell_type": "markdown",
   "metadata": {},
   "source": [
    "#### Biternion-VGG (Log-likelihood, learned $\\kappa$)"
   ]
  },
  {
   "cell_type": "code",
   "execution_count": null,
   "metadata": {
    "collapsed": true
   },
   "outputs": [],
   "source": [
    "vgg_learned_kappa = vgg.BiternionVGG(image_height=image_height,\n",
    "                                     image_width=image_width,\n",
    "                                     n_channels=3,\n",
    "                                     predict_kappa=True)\n",
    "\n",
    "vgg_learned_kappa.model.load_weights('/Users/sergeyprokudin/BiternionNet/logs/best_models/learned_kappa/vgg_bit_vm_likelihood_town.best.weights.h5')"
   ]
  },
  {
   "cell_type": "code",
   "execution_count": null,
   "metadata": {},
   "outputs": [],
   "source": [
    "results_learned = dict()\n",
    "#results_learned['train'] = vgg_learned_kappa.evaluate(xtr, ytr_deg, 'train')\n",
    "results_learned['validation'] = vgg_learned_kappa.evaluate(xval, yval_deg, 'validation')\n",
    "results_learned['test'] = vgg_learned_kappa.evaluate(xte, yte_deg, 'test')"
   ]
  },
  {
   "cell_type": "markdown",
   "metadata": {},
   "source": [
    "#### Biternion-VGG (cosine-loss)"
   ]
  },
  {
   "cell_type": "code",
   "execution_count": null,
   "metadata": {
    "collapsed": true
   },
   "outputs": [],
   "source": [
    "vgg_cosine = vgg.BiternionVGG(image_height=image_height,\n",
    "                              image_width=image_width,\n",
    "                              n_channels=3,\n",
    "                              predict_kappa=False,\n",
    "                              fixed_kappa_value=3.0)\n",
    "\n",
    "vgg_cosine.model.load_weights('/Users/sergeyprokudin/BiternionNet/logs/best_models/cosine/vgg_bit_cosine_town.best.weights.h5')"
   ]
  },
  {
   "cell_type": "code",
   "execution_count": null,
   "metadata": {},
   "outputs": [],
   "source": [
    "results_cosine = dict()\n",
    "#results_cosine['train'] = vgg_cosine.evaluate(xtr, ytr_deg, 'train')\n",
    "results_cosine['validation'] = vgg_cosine.evaluate(xval, yval_deg, 'validation')\n",
    "results_cosine['test'] = vgg_cosine.evaluate(xte, yte_deg, 'test')"
   ]
  },
  {
   "cell_type": "markdown",
   "metadata": {},
   "source": [
    "#### Biternion-VGG (Von-Mises loss)"
   ]
  },
  {
   "cell_type": "code",
   "execution_count": null,
   "metadata": {
    "collapsed": true
   },
   "outputs": [],
   "source": [
    "vgg_vm = vgg.BiternionVGG(image_height=image_height,\n",
    "                          image_width=image_width,\n",
    "                          n_channels=3,\n",
    "                          predict_kappa=False,\n",
    "                          fixed_kappa_value=3.0)\n",
    "\n",
    "vgg_vm.model.load_weights('/Users/sergeyprokudin/BiternionNet/logs/best_models/von_mises/vgg_bit_von_mises_town.best.weights.h5')"
   ]
  },
  {
   "cell_type": "code",
   "execution_count": null,
   "metadata": {},
   "outputs": [],
   "source": [
    "results_vm = dict()\n",
    "#results_vm['train'] = vgg_vm.evaluate(xtr, ytr_deg, 'train')\n",
    "results_vm['validation'] = vgg_vm.evaluate(xval, yval_deg, 'validation')\n",
    "results_vm['test'] = vgg_vm.evaluate(xte, yte_deg, 'test')"
   ]
  },
  {
   "cell_type": "markdown",
   "metadata": {},
   "source": [
    "#### CVAE model "
   ]
  },
  {
   "cell_type": "code",
   "execution_count": null,
   "metadata": {
    "collapsed": true
   },
   "outputs": [],
   "source": [
    "n_u = 8\n",
    "cvae_best = CVAE(n_hidden_units=n_u)\n",
    "cvae_ckpt_path = '/Users/sergeyprokudin/BiternionNet/logs/best_models/cvae/kl_reduction_exepriments//Users/sergeyprokudin/BiternionNet/logs/best_models/cvae/kl_reduction_exepriments/cvae.full_model.overall_best.weights.hdf5'\n",
    "cvae_best.full_model.load_weights(cvae_ckpt_path)"
   ]
  },
  {
   "cell_type": "code",
   "execution_count": null,
   "metadata": {},
   "outputs": [],
   "source": [
    "results_cvae = dict()\n",
    "# results_cvae['train'] = cvae_best.evaluate(xtr, ytr_deg, 'train')\n",
    "results_cvae['validation'] = cvae_best.evaluate(xval, yval_deg, 'validation')\n",
    "results_cvae['test'] = cvae_best.evaluate(xte, yte_deg, 'test')"
   ]
  },
  {
   "cell_type": "code",
   "execution_count": null,
   "metadata": {
    "collapsed": true
   },
   "outputs": [],
   "source": [
    "from utils.losses import von_mises_log_likelihood_np"
   ]
  },
  {
   "cell_type": "code",
   "execution_count": null,
   "metadata": {
    "collapsed": true
   },
   "outputs": [],
   "source": [
    "# cvae_preds = cvae_best.decoder_model.predict(xte)\n"
   ]
  },
  {
   "cell_type": "markdown",
   "metadata": {},
   "source": [
    "#### Using Maximum Expected Utility for calculation"
   ]
  },
  {
   "cell_type": "code",
   "execution_count": null,
   "metadata": {
    "collapsed": true
   },
   "outputs": [],
   "source": [
    "def maximum_expected_utility(ypreds):\n",
    "    ix = np.argmin(np.sum(squareform(pdist(ypreds, 'euclidean')), axis=1))\n",
    "    return float(ypreds[ix])"
   ]
  },
  {
   "cell_type": "code",
   "execution_count": null,
   "metadata": {
    "collapsed": true
   },
   "outputs": [],
   "source": [
    "n_samples = 20\n",
    "\n",
    "cvae_mu_rad_preds  = np.zeros([n_samples, xte.shape[0], 1])\n",
    "cvae_kappa_preds  = np.zeros([n_samples, xte.shape[0], 1])\n",
    "cvae_mu_bit_preds = np.zeros([n_samples, xte.shape[0], 2])\n",
    "\n",
    "for i in range(0, n_samples):\n",
    "    cvae_preds = cvae_best.decoder_model.predict(xte)\n",
    "    cvae_mu_bit_preds[i,:,:] = cvae_preds[:,0:2]\n",
    "    cvae_mu_rad_preds[i,:,:] = np.deg2rad(bit2deg(cvae_preds[:,0:2])).reshape(-1,1)\n",
    "    cvae_kappa_preds[i,:,:] = cvae_preds[:,2].reshape(-1,1)"
   ]
  },
  {
   "cell_type": "code",
   "execution_count": null,
   "metadata": {},
   "outputs": [],
   "source": [
    "cvae_mu_rad_preds_mae = [maximum_expected_utility(cvae_mu_rad_preds[:,i,:]) for i in range(0, cvae_mu_rad_preds.shape[1])]\n",
    "maad_errors = maad_from_deg(np.rad2deg(cvae_mu_rad_preds_mae), yte_deg)\n",
    "print(\"MAAD error (test, CVAE-MAE) : %f ± %fSEM\" % (np.mean(maad_errors), sem(maad_errors)))"
   ]
  },
  {
   "cell_type": "markdown",
   "metadata": {},
   "source": [
    "#### Saving predictions from different model"
   ]
  },
  {
   "cell_type": "code",
   "execution_count": null,
   "metadata": {
    "collapsed": true
   },
   "outputs": [],
   "source": [
    "vm_preds = vgg_vm.model.predict(xte)\n",
    "vm_preds_mu_rad = np.deg2rad(bit2deg(vm_preds))\n",
    "vm_preds_kappa = np.ones([xte.shape[0],1])*3\n",
    "vm_preds_likelihoods = von_mises_log_likelihood_np(yte_bit, vm_preds[:,0:2], learned_preds_kappa)\n",
    "\n",
    "fixed_preds = vgg_fixed_kappa.model.predict(xte)\n",
    "fixed_preds_mu_rad = np.deg2rad(bit2deg(fixed_preds))\n",
    "fixed_preds_kappa = np.ones([xte.shape[0],1])*3\n",
    "fixed_preds_likelihoods = von_mises_log_likelihood_np(yte_bit, fixed_preds[:,0:2], learned_preds_kappa)\n",
    "\n",
    "learned_preds = vgg_learned_kappa.model.predict(xte)\n",
    "learned_preds_mu_rad = np.deg2rad(bit2deg(learned_preds[:,0:2]))\n",
    "learned_preds_kappa = learned_preds[:,2:]\n",
    "learned_preds_likelihoods = von_mises_log_likelihood_np(yte_bit, learned_preds[:,0:2], learned_preds_kappa)"
   ]
  },
  {
   "cell_type": "code",
   "execution_count": null,
   "metadata": {
    "collapsed": true
   },
   "outputs": [],
   "source": [
    "from utils.losses import log_bessel_approx_np\n",
    "\n",
    "def vm_pdf(vals, mu_rad, kappa):\n",
    "    return np.exp(kappa * np.cos(vals-mu_rad)) / (2* np.pi * np.exp(log_bessel_approx_np(kappa)))"
   ]
  },
  {
   "cell_type": "code",
   "execution_count": null,
   "metadata": {
    "collapsed": true
   },
   "outputs": [],
   "source": [
    "import matplotlib.pyplot as plt\n",
    "%matplotlib inline\n",
    "\n",
    "\n",
    "def plot_vm_dists(fid):\n",
    "    x_vals = np.arange(0, 2*np.pi, 0.01)\n",
    "    \n",
    "    fig, axs = plt.subplots(1, 5, figsize=(25, 5))\n",
    "    \n",
    "    axs[0].imshow(xtr[fid])\n",
    "    \n",
    "    def _plt_vgg(axis, mu_rad_preds, kappa_preds, method_name):\n",
    "        axis.set_xticks(([0., .5*np.pi, np.pi, 1.5*np.pi, 2*np.pi]))\n",
    "        axis.set_xticklabels([\"$0$\", r\"$\\frac{\\pi}{2}$\", r\"$\\pi$\", r\"$\\frac{3\\pi}{2}$\", r\"$2\\pi$\"]) \n",
    "        axis.set_xlim([-0.001, 2*np.pi+0.001])\n",
    "        axis.plot(x_vals, np.squeeze(vm_pdf(x_vals, mu_rad_preds[fid], kappa_preds[fid])))\n",
    "        axis.axvline(yte_rad[fid], color='red')\n",
    "        axis.set_title(\"%s ()\" % method_name)\n",
    "        axis.set_ylim([0, 2.0])\n",
    "        \n",
    "    def _plt_cvae(axis):\n",
    "        axis.set_xticks(([0., .5*np.pi, np.pi, 1.5*np.pi, 2*np.pi]))\n",
    "        axis.set_xticklabels([\"$0$\", r\"$\\frac{\\pi}{2}$\", r\"$\\pi$\", r\"$\\frac{3\\pi}{2}$\", r\"$2\\pi$\"]) \n",
    "        axis.set_xlim([-0.001, 2*np.pi+0.001])\n",
    "        for sid in range(0, n_samples):\n",
    "            axis.plot(x_vals, np.squeeze(vm_pdf(x_vals, cvae_mu_rad_preds[sid, fid], cvae_kappa_preds[sid, fid])))    \n",
    "        axis.axvline(yte_rad[fid], color='red')\n",
    "        axis.set_title(\"CVAE\")\n",
    "        #axis.set_ylim([0, 2.0])\n",
    "        \n",
    "    _plt_vgg(axs[1], fixed_preds_mu_rad, fixed_preds_kappa, 'original (Von-Mises loss)')\n",
    "    _plt_vgg(axs[2], fixed_preds_mu_rad, fixed_preds_kappa, 'fixed kappa')\n",
    "    _plt_vgg(axs[3], learned_preds_mu_rad, learned_preds_kappa, 'learned kappa')\n",
    "    _plt_cvae(axs[4])\n",
    "    fig.suptitle(\"frame id =%d\" %fid)\n",
    "    #plt.plot((ytr_deg, x2), (y1, y2), 'k-')\n",
    "    plt.show()"
   ]
  },
  {
   "cell_type": "markdown",
   "metadata": {},
   "source": [
    "#####  dataset desc http://www.robots.ox.ac.uk/~lav/Papers/benfold_reid_iccv2011/benfold_reid_iccv2011.pdf\n",
    "#####  https://www.youtube.com/watch?v=eupXTJM_TAw (Demo)"
   ]
  },
  {
   "cell_type": "code",
   "execution_count": null,
   "metadata": {},
   "outputs": [],
   "source": [
    "import time \n",
    "\n",
    "for fid in range(0, 20):\n",
    "    plot_vm_dists(fid)"
   ]
  },
  {
   "cell_type": "code",
   "execution_count": null,
   "metadata": {
    "collapsed": true
   },
   "outputs": [],
   "source": [
    "cvae_preds_full = cvae_best.full_model.predict([xte, yte_bit])"
   ]
  },
  {
   "cell_type": "code",
   "execution_count": null,
   "metadata": {
    "collapsed": true
   },
   "outputs": [],
   "source": [
    "mu_prior = cvae_preds_full[:, 0:cvae_best.n_u]\n",
    "log_sigma_prior = cvae_preds_full[:, cvae_best.n_u:cvae_best.n_u*2]\n",
    "mu_encoder = cvae_preds_full[:, cvae_best.n_u*2:cvae_best.n_u*3]\n",
    "log_sigma_encoder = cvae_preds_full[:, cvae_best.n_u*3:cvae_best.n_u*4]\n",
    "mu_pred = cvae_preds_full[:, cvae_best.n_u*4:cvae_best.n_u*4+2]\n",
    "kappa_pred = cvae_preds_full[:, cvae_best.n_u*4+2:]"
   ]
  },
  {
   "cell_type": "code",
   "execution_count": null,
   "metadata": {},
   "outputs": [],
   "source": [
    "np.exp(log_sigma_prior[2])"
   ]
  },
  {
   "cell_type": "markdown",
   "metadata": {},
   "source": [
    "#### The problem is that encoder and prior generate exactly the same distributions for each input"
   ]
  },
  {
   "cell_type": "markdown",
   "metadata": {},
   "source": [
    "$ p(u|x) = q(u|x,\\phi) = p(u)$ "
   ]
  },
  {
   "cell_type": "code",
   "execution_count": null,
   "metadata": {},
   "outputs": [],
   "source": [
    "mu_prior[0:5]"
   ]
  },
  {
   "cell_type": "code",
   "execution_count": null,
   "metadata": {},
   "outputs": [],
   "source": [
    "mu_encoder[0:5]"
   ]
  },
  {
   "cell_type": "markdown",
   "metadata": {},
   "source": [
    "#### Generating predictions on random images"
   ]
  },
  {
   "cell_type": "code",
   "execution_count": null,
   "metadata": {
    "collapsed": true
   },
   "outputs": [],
   "source": [
    "black_img = np.zeros(xte[1].shape)\n",
    "white_img = np.ones(xte[1].shape)\n",
    "random_img1 = np.random.rand(xte[1].shape[0], xte[1].shape[1], xte[1].shape[2])\n",
    "random_img2 = np.random.rand(xte[1].shape[0], xte[1].shape[1], xte[1].shape[2])\n",
    "random_img3 = np.random.rand(xte[1].shape[0], xte[1].shape[1], xte[1].shape[2])"
   ]
  },
  {
   "cell_type": "code",
   "execution_count": null,
   "metadata": {},
   "outputs": [],
   "source": [
    "cvae_best.full_model.predict"
   ]
  },
  {
   "cell_type": "code",
   "execution_count": null,
   "metadata": {},
   "outputs": [],
   "source": [
    "cvae_best.decoder_model.predict(black_img.reshape([1,50,50,3]))"
   ]
  },
  {
   "cell_type": "code",
   "execution_count": null,
   "metadata": {
    "collapsed": true
   },
   "outputs": [],
   "source": [
    "def plot_cvae_preds(img, cvae_model, n_samples=10):\n",
    "    x_vals = np.arange(0, 2*np.pi, 0.01)\n",
    "    fig, axs = plt.subplots(1, 2, figsize=(7, 3))\n",
    "    axs[0].imshow(img)\n",
    "    axs[1].set_xticks(([0., .5*np.pi, np.pi, 1.5*np.pi, 2*np.pi]))\n",
    "    axs[1].set_xticklabels([\"$0$\", r\"$\\frac{\\pi}{2}$\", r\"$\\pi$\", r\"$\\frac{3\\pi}{2}$\", r\"$2\\pi$\"]) \n",
    "    axs[1].set_ylim([0, 2.0])\n",
    "    for i in range(0, n_samples):\n",
    "        preds = cvae_best.decoder_model.predict(img.reshape([1,50,50,3]))\n",
    "        mu_preds = np.deg2rad(bit2deg(preds[:, 0:2]))\n",
    "        kappa_preds = preds[:,2:]\n",
    "        axs[1].plot(x_vals, np.squeeze(vm_pdf(x_vals, mu_preds[0], kappa_preds[0]))) \n",
    "    return"
   ]
  },
  {
   "cell_type": "code",
   "execution_count": null,
   "metadata": {},
   "outputs": [],
   "source": [
    "for i in range(0,5):\n",
    "    plot_cvae_preds(xte[i], cvae_best, 10)\n",
    "plot_cvae_preds(black_img, cvae_best, 10)\n",
    "plot_cvae_preds(white_img, cvae_best, 10)\n",
    "plot_cvae_preds(random_img1, cvae_best, 10)\n",
    "plot_cvae_preds(random_img2, cvae_best, 10)\n",
    "plot_cvae_preds(random_img3, cvae_best, 10)"
   ]
  },
  {
   "cell_type": "code",
   "execution_count": null,
   "metadata": {
    "collapsed": true
   },
   "outputs": [],
   "source": [
    "loss = cvae_best.full_model.evaluate([xte, yte_bit],yte_bit, verbose=0)"
   ]
  }
 ],
 "metadata": {
  "kernelspec": {
   "display_name": "Python 3",
   "language": "python",
   "name": "python3"
  },
  "language_info": {
   "codemirror_mode": {
    "name": "ipython",
    "version": 3
   },
   "file_extension": ".py",
   "mimetype": "text/x-python",
   "name": "python",
   "nbconvert_exporter": "python",
   "pygments_lexer": "ipython3",
   "version": "3.6.1"
  }
 },
 "nbformat": 4,
 "nbformat_minor": 2
}
