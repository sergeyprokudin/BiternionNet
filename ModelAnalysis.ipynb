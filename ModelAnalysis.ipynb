{
 "cells": [
  {
   "cell_type": "code",
   "execution_count": 1,
   "metadata": {},
   "outputs": [
    {
     "name": "stderr",
     "output_type": "stream",
     "text": [
      "Using TensorFlow backend.\n"
     ]
    }
   ],
   "source": [
    "from keras.layers import Input, Dense, Lambda, Flatten, Activation, Merge, Concatenate, Add\n",
    "from keras import layers\n",
    "from keras.layers.merge import concatenate\n",
    "from keras.models import Model, Sequential\n",
    "from keras.objectives import binary_crossentropy\n",
    "from keras.callbacks import LearningRateScheduler\n",
    "\n",
    "import numpy as np\n",
    "from scipy.stats import sem\n",
    "\n",
    "from keras import backend as K\n",
    "from keras.models import load_model\n",
    "import tensorflow as tf\n",
    "\n",
    "from models import vgg\n",
    "from models.cvae import CVAE\n",
    "from utils.angles import deg2bit, bit2deg\n",
    "from utils.losses import mad_loss_tf, cosine_loss_tf, von_mises_loss_tf, maad_from_deg\n",
    "from utils.losses import gaussian_kl_divergence_tf, gaussian_kl_divergence_np\n",
    "from utils.losses  import von_mises_log_likelihood_tf, von_mises_log_likelihood_np\n",
    "from utils.towncentre import load_towncentre\n",
    "from utils.experiements import get_experiment_id"
   ]
  },
  {
   "cell_type": "code",
   "execution_count": 2,
   "metadata": {
    "collapsed": true
   },
   "outputs": [],
   "source": [
    "xtr, ytr_deg, xval, yval_deg, xte, yte_deg = load_towncentre('data/TownCentre.pkl.gz', canonical_split=True)\n",
    "image_height, image_width = xtr.shape[1], xtr.shape[2]\n",
    "ytr_bit = deg2bit(ytr_deg)\n",
    "yval_bit = deg2bit(yval_deg)\n",
    "yte_bit = deg2bit(yte_deg)\n",
    "\n",
    "image_height, image_width, n_channels = xtr.shape[1:]\n",
    "flatten_x_shape = xtr[0].flatten().shape[0]\n",
    "phi_shape = yte_bit.shape[1]"
   ]
  },
  {
   "cell_type": "code",
   "execution_count": 7,
   "metadata": {},
   "outputs": [],
   "source": [
    "vgg_fixed_kappa = vgg.BiternionVGG(image_height=image_height,\n",
    "                                   image_width=image_width,\n",
    "                                   n_channels=3,\n",
    "                                   predict_kappa=False,\n",
    "                                   fixed_kappa_value=3.0)\n",
    "\n",
    "vgg_fixed_kappa.model.load_weights('/Users/sergey/BiternionNet/logs/vggbit_likelihood_learned_kappa_Adadelta_200epochs_batch10_a87f25f2a6b61f752c35/vgg_bit_vm_likelihood_town.best.weights.h5')"
   ]
  },
  {
   "cell_type": "code",
   "execution_count": 8,
   "metadata": {
    "collapsed": true
   },
   "outputs": [],
   "source": []
  },
  {
   "cell_type": "code",
   "execution_count": 9,
   "metadata": {
    "collapsed": true
   },
   "outputs": [],
   "source": [
    "def eval_bvgg_model(best_vgg, x, ytrue_deg, ytrue_bit, data_part):\n",
    "\n",
    "    ypreds = best_vgg.model.predict(x)\n",
    "    ypreds_bit = ypreds[:, 0:2]\n",
    "    ypreds_deg = bit2deg(ypreds_bit)\n",
    "\n",
    "    if best_vgg.predict_kappa:\n",
    "        kappa_preds = ypreds[:, 2:]\n",
    "    else:\n",
    "        kappa_preds = np.ones([ytrue_deg.shape[0], 1]) * best_vgg.fixed_kappa_value\n",
    "\n",
    "    loss = maad_from_deg(ypreds_deg, ytrue_deg)\n",
    "    \n",
    "    results = dict()\n",
    "    \n",
    "    results['mean_loss_'+data_part] = float(np.mean(loss))\n",
    "    results['std_loss_'+data_part] = float(np.std(loss))\n",
    "    print(\"MAAD error (%s) : %f ± %f\" % (data_part,\n",
    "                                         results['mean_loss_'+data_part],\n",
    "                                         results['std_loss_'+data_part]))\n",
    "\n",
    "    results['mean_kappa_'+data_part] = float(np.mean(kappa_preds))\n",
    "    results['std_kappa_'+data_part] = float(np.std(kappa_preds))\n",
    "    print(\"predicted kappa (%s) : %f ± %f\" % (data_part,\n",
    "                                                  results['mean_kappa_'+data_part],\n",
    "                                                  results['std_kappa_'+data_part]))\n",
    "\n",
    "    log_likelihoods = von_mises_log_likelihood_np(ytrue_bit, ypreds_bit, kappa_preds,\n",
    "                                                  input_type='biternion')\n",
    "    results['log_likelihood_mean_'+data_part] = float(np.mean(log_likelihoods))\n",
    "    results['log_likelihood_sem_'+data_part] = float(sem(log_likelihoods, axis=None))\n",
    "    print(\"log-likelihood (%s) : %f ± %fSEM\" % (data_part,\n",
    "                                                results['log_likelihood_mean_'+data_part],\n",
    "                                                results['log_likelihood_sem_'+data_part]))\n",
    "    \n",
    "    return results"
   ]
  },
  {
   "cell_type": "code",
   "execution_count": 11,
   "metadata": {},
   "outputs": [
    {
     "name": "stdout",
     "output_type": "stream",
     "text": [
      "MAAD error (validation) : 47.180345 ± 45.412062\n",
      "predicted kappa (validation) : 3.000000 ± 0.000000\n",
      "log-likelihood (validation) : -1.711596 ± 0.061680SEM\n"
     ]
    }
   ],
   "source": [
    "val_results = eval_bvgg_model(vgg_fixed_kappa, xval, yval_deg, yval_bit, 'validation')"
   ]
  },
  {
   "cell_type": "code",
   "execution_count": 9,
   "metadata": {},
   "outputs": [
    {
     "ename": "NameError",
     "evalue": "name 'predict_kappa' is not defined",
     "output_type": "error",
     "traceback": [
      "\u001b[0;31m---------------------------------------------------------------------------\u001b[0m",
      "\u001b[0;31mNameError\u001b[0m                                 Traceback (most recent call last)",
      "\u001b[0;32m<ipython-input-9-526d68b69813>\u001b[0m in \u001b[0;36m<module>\u001b[0;34m()\u001b[0m\n\u001b[0;32m----> 1\u001b[0;31m \u001b[0m_eval_model\u001b[0m\u001b[0;34m(\u001b[0m\u001b[0mvgg_fixed_kappa\u001b[0m\u001b[0;34m,\u001b[0m \u001b[0mxtr\u001b[0m\u001b[0;34m,\u001b[0m \u001b[0mytr_deg\u001b[0m\u001b[0;34m,\u001b[0m \u001b[0mytr_bit\u001b[0m\u001b[0;34m,\u001b[0m \u001b[0;34m'train'\u001b[0m\u001b[0;34m)\u001b[0m\u001b[0;34m\u001b[0m\u001b[0m\n\u001b[0m",
      "\u001b[0;32m<ipython-input-8-f7773d1c0b66>\u001b[0m in \u001b[0;36m_eval_model\u001b[0;34m(best_vgg, x, ytrue_deg, ytrue_bit, data_part)\u001b[0m\n\u001b[1;32m      5\u001b[0m     \u001b[0mypreds_deg\u001b[0m \u001b[0;34m=\u001b[0m \u001b[0mbit2deg\u001b[0m\u001b[0;34m(\u001b[0m\u001b[0mypreds_bit\u001b[0m\u001b[0;34m)\u001b[0m\u001b[0;34m\u001b[0m\u001b[0m\n\u001b[1;32m      6\u001b[0m \u001b[0;34m\u001b[0m\u001b[0m\n\u001b[0;32m----> 7\u001b[0;31m     \u001b[0;32mif\u001b[0m \u001b[0mpredict_kappa\u001b[0m\u001b[0;34m:\u001b[0m\u001b[0;34m\u001b[0m\u001b[0m\n\u001b[0m\u001b[1;32m      8\u001b[0m         \u001b[0mkappa_preds\u001b[0m \u001b[0;34m=\u001b[0m \u001b[0mypreds\u001b[0m\u001b[0;34m[\u001b[0m\u001b[0;34m:\u001b[0m\u001b[0;34m,\u001b[0m \u001b[0;36m2\u001b[0m\u001b[0;34m:\u001b[0m\u001b[0;34m]\u001b[0m\u001b[0;34m\u001b[0m\u001b[0m\n\u001b[1;32m      9\u001b[0m     \u001b[0;32melse\u001b[0m\u001b[0;34m:\u001b[0m\u001b[0;34m\u001b[0m\u001b[0m\n",
      "\u001b[0;31mNameError\u001b[0m: name 'predict_kappa' is not defined"
     ]
    }
   ],
   "source": [
    "_eval_vgg_model(vgg_fixed_kappa, xtr, ytr_deg, ytr_bit, 'train')"
   ]
  },
  {
   "cell_type": "markdown",
   "metadata": {},
   "source": [
    "#### CVAE model "
   ]
  },
  {
   "cell_type": "code",
   "execution_count": 12,
   "metadata": {},
   "outputs": [],
   "source": [
    "n_u = 8\n",
    "cvae_best = CVAE(n_hidden_units=n_u)\n",
    "cvae_ckpt_path = 'logs/cvae.full_model.weights.hdf5'\n",
    "cvae_best.full_model.load_weights(cvae_ckpt_path)"
   ]
  },
  {
   "cell_type": "code",
   "execution_count": 13,
   "metadata": {
    "collapsed": true
   },
   "outputs": [],
   "source": [
    "def eval_cvae_model(cvae_model, x, ytrue_deg, ytrue_bit, data_part):\n",
    "    \n",
    "    n_samples = x.shape[0]\n",
    "\n",
    "    cvae_preds = cvae_model.full_model.predict([x, ytrue_bit])\n",
    "    elbo_te, ll_te, kl_te = cvae_model._cvae_elbo_loss_np(ytrue_bit, cvae_preds)\n",
    "\n",
    "    ypreds = cvae_model.decoder_model.predict(x)\n",
    "    ypreds_bit = ypreds[:,0:2]\n",
    "    kappa_preds_te = ypreds[:,2:]\n",
    "\n",
    "    ypreds_deg = bit2deg(ypreds_bit)\n",
    "\n",
    "    loss_te = maad_from_deg(ytrue_deg, ypreds_deg)\n",
    "    mean_loss_te = np.mean(loss_te)\n",
    "    std_loss_te = np.std(loss_te)\n",
    "\n",
    "    print(\"MAAD error (%s) : %f ± %f\" % (data_part, mean_loss_te, std_loss_te))\n",
    "\n",
    "    print(\"kappa (%s) : %f ± %f\" % (data_part, np.mean(kappa_preds_te), np.std(kappa_preds_te)))\n",
    "\n",
    "    log_likelihood_loss = von_mises_log_likelihood_np(ytrue_bit, ypreds_bit, kappa_preds_te,\n",
    "                                                         input_type='biternion')\n",
    "\n",
    "    print(\"ELBO (%s) : %f ± %f SEM\" % (data_part, np.mean(-elbo_te), sem(-elbo_te)))\n",
    "\n",
    "    print(\"KL(encoder|prior) (%s) : %f ± %f SEM\" % (data_part, np.mean(-kl_te), sem(-kl_te)))\n",
    "\n",
    "    print(\"log-likelihood (%s) : %f±%fSEM\" % (data_part, \n",
    "                                              np.mean(log_likelihood_loss), \n",
    "                                              sem(log_likelihood_loss)))\n",
    "    return"
   ]
  },
  {
   "cell_type": "code",
   "execution_count": 14,
   "metadata": {},
   "outputs": [
    {
     "name": "stdout",
     "output_type": "stream",
     "text": [
      "MAAD error (train) : 24.149429 ± 31.282352\n",
      "kappa (train) : 12.268851 ± 10.783769\n",
      "ELBO (train) : -0.694701 ± 0.054878 SEM\n",
      "KL(encoder|prior) (train) : -0.000583 ± 0.000055 SEM\n",
      "log-likelihood (train) : -0.690100±0.054472SEM\n",
      "MAAD error (validation) : 23.977060 ± 32.969274\n",
      "kappa (validation) : 12.130845 ± 10.135998\n",
      "ELBO (validation) : -0.650484 ± 0.058520 SEM\n",
      "KL(encoder|prior) (validation) : -0.000704 ± 0.000079 SEM\n",
      "log-likelihood (validation) : -0.650794±0.058297SEM\n",
      "MAAD error (test) : 24.041479 ± 31.067524\n",
      "kappa (test) : 12.259947 ± 10.808006\n",
      "ELBO (test) : -0.692449 ± 0.054575 SEM\n",
      "KL(encoder|prior) (test) : -0.000583 ± 0.000055 SEM\n",
      "log-likelihood (test) : -0.682615±0.052969SEM\n"
     ]
    }
   ],
   "source": [
    "eval_cvae_model(cvae_best, xte, yte_deg, yte_bit, 'train')\n",
    "eval_cvae_model(cvae_best, xval, yval_deg, yval_bit, 'validation')\n",
    "eval_cvae_model(cvae_best, xte, yte_deg, yte_bit, 'test')"
   ]
  }
 ],
 "metadata": {
  "kernelspec": {
   "display_name": "Python 3",
   "language": "python",
   "name": "python3"
  },
  "language_info": {
   "codemirror_mode": {
    "name": "ipython",
    "version": 3
   },
   "file_extension": ".py",
   "mimetype": "text/x-python",
   "name": "python",
   "nbconvert_exporter": "python",
   "pygments_lexer": "ipython3",
   "version": "3.6.1"
  }
 },
 "nbformat": 4,
 "nbformat_minor": 2
}
