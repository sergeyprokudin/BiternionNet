{
 "cells": [
  {
   "cell_type": "markdown",
   "metadata": {},
   "source": [
    "# Experiments on the TownCentre dataset"
   ]
  },
  {
   "cell_type": "markdown",
   "metadata": {},
   "source": [
    "This is the reproduction of the experiments described and shown in Section 4.3 of the BiternionNets paper, including the results shown in Table 3, as well as Table 4 in Secton 5."
   ]
  },
  {
   "cell_type": "code",
   "execution_count": null,
   "metadata": {
    "collapsed": true,
    "init_cell": true
   },
   "outputs": [],
   "source": [
    "%load_ext autoreload\n",
    "%autoreload 2\n",
    "import numpy as np\n",
    "import pickle, gzip\n",
    "from collections import Counter"
   ]
  },
  {
   "cell_type": "code",
   "execution_count": null,
   "metadata": {
    "collapsed": true,
    "init_cell": true
   },
   "outputs": [],
   "source": [
    "%matplotlib inline\n",
    "\n",
    "# Font which got unicode math stuff.\n",
    "import matplotlib as mpl\n",
    "mpl.rcParams['font.family'] = 'DejaVu Sans'\n",
    "\n",
    "# Much more readable plots\n",
    "import matplotlib.pyplot as plt\n",
    "plt.style.use('ggplot')"
   ]
  },
  {
   "cell_type": "code",
   "execution_count": null,
   "metadata": {
    "collapsed": true,
    "init_cell": true
   },
   "outputs": [],
   "source": [
    "import DeepFried2 as df"
   ]
  },
  {
   "cell_type": "code",
   "execution_count": null,
   "metadata": {
    "collapsed": true
   },
   "outputs": [],
   "source": [
    "import tensorflow as tf\n",
    "import tensorflow.contrib.slim as slim"
   ]
  },
  {
   "cell_type": "code",
   "execution_count": null,
   "metadata": {
    "collapsed": true,
    "init_cell": true
   },
   "outputs": [],
   "source": [
    "from lbtoolbox.thutil import count_params\n",
    "from lbtoolbox.augmentation import AugmentationPipeline, Cropper"
   ]
  },
  {
   "cell_type": "markdown",
   "metadata": {},
   "source": [
    "Functions for training and evaluating that are shared across notebooks."
   ]
  },
  {
   "cell_type": "code",
   "execution_count": null,
   "metadata": {
    "collapsed": true,
    "init_cell": true
   },
   "outputs": [],
   "source": [
    "from training_utils import dotrain, dostats, dopred"
   ]
  },
  {
   "cell_type": "markdown",
   "metadata": {},
   "source": [
    "# Utilities and plotting"
   ]
  },
  {
   "cell_type": "markdown",
   "metadata": {},
   "source": [
    "These functions can be used for \"cyclic\" filtering of a 1D array, such as a histogram of angles as will be used later."
   ]
  },
  {
   "cell_type": "code",
   "execution_count": null,
   "metadata": {
    "collapsed": true,
    "init_cell": true
   },
   "outputs": [],
   "source": [
    "def boxfilter(n):\n",
    "    return np.ones(n)/n\n",
    "\n",
    "def gaussfilter(n, sigma=0.3, retx=False, norm=np.sum):\n",
    "    x = np.arange(-(n-1)/2, (n+1)/2)\n",
    "    x /= np.max(x)\n",
    "    y = 1/(sigma * np.sqrt(2*np.pi)) * np.exp(-x**2/(2*sigma**2))\n",
    "    if norm is not None:\n",
    "        y /= norm(y)\n",
    "    return (x, y) if retx else y\n",
    "\n",
    "def cyclic_filter(a, f):\n",
    "    # Pad in a cyclic way so that we can use 'same' convolution to cycle.\n",
    "    a = np.pad(a, pad_width=len(f)//2, mode='wrap')\n",
    "    # While it doesn't make a difference here because `f` is symmetric,\n",
    "    # we use `correlate` because `convolve` flips the filter.\n",
    "    return np.correlate(a, f, mode='valid')"
   ]
  },
  {
   "cell_type": "markdown",
   "metadata": {},
   "source": [
    "The following function generates kind-of a histogram over the cyclic range [0,360] using an array of predictions `preds`."
   ]
  },
  {
   "cell_type": "code",
   "execution_count": null,
   "metadata": {
    "collapsed": true,
    "init_cell": true
   },
   "outputs": [],
   "source": [
    "def mkheatmap_deg(preds, nbins=360):\n",
    "    \"\"\"\n",
    "    - `preds`: The array of angle predictions.\n",
    "    - `norm`: function of the count-values by the return value of which to divide. Examples:\n",
    "        - `sum` for getting a \"frequency\" histogram (if without filtering).\n",
    "        - `max` for getting a histogram whose peak is at 1 (if without filtering).\n",
    "        - `None` for an unnormalized \"counts\" histogram.\n",
    "    - `nbins`: Obvious.\n",
    "    \"\"\"\n",
    "    # Make sure to be in [0,360) range for Counter.\n",
    "    preds = (preds + 3600) % 360\n",
    "    hm = np.zeros(nbins)\n",
    "\n",
    "    # Discretize the predictions into the bins we have.\n",
    "    ipreds = (preds/(360/nbins)).astype(int)\n",
    "\n",
    "    counter = Counter(ipreds)\n",
    "\n",
    "    # Fill heatmap.\n",
    "    for a, n in counter.items():\n",
    "        hm[a] += n\n",
    "\n",
    "    return hm"
   ]
  },
  {
   "cell_type": "markdown",
   "metadata": {},
   "source": [
    "Here's an example of how to use this, together with filtering/smoothing:"
   ]
  },
  {
   "cell_type": "code",
   "execution_count": null,
   "metadata": {
    "init_cell": true,
    "scrolled": true
   },
   "outputs": [],
   "source": [
    "fig, axes = plt.subplots(1,2, figsize=(12,4))\n",
    "hm = mkheatmap_deg(np.array([15, 15, 45.]), nbins=3600)\n",
    "axes[0].plot(np.linspace(0, 360, len(hm)), hm);\n",
    "hm = cyclic_filter(hm, gaussfilter(n=501))\n",
    "axes[1].plot(np.linspace(0, 360, len(hm)), hm);"
   ]
  },
  {
   "cell_type": "markdown",
   "metadata": {},
   "source": [
    "The following creates a \"donut heatmap\" which is the donut-shaped histogram introduced in the paper."
   ]
  },
  {
   "cell_type": "code",
   "execution_count": null,
   "metadata": {
    "collapsed": true,
    "init_cell": true
   },
   "outputs": [],
   "source": [
    "def donut_heatmap(hm, bg, R, zero_rad=np.deg2rad(-90), colormap=mpl.cm.Spectral_r, aapow=None):\n",
    "    \"\"\"\n",
    "    - `hm`: The heatmap distribution as returned by `donut_heatmap`.\n",
    "    - `bg`: Either a tuple specifying the size of the image: `(h, w, depth)`.\n",
    "            Or an image (as a (h,w,d) numpy array) on top of which to draw the heatmap.\n",
    "    - `R`: the width, in pixels, of the donut.\n",
    "    - `zero_rad`: The angle at which to place zero, relative to mathematical zero (on the right).\n",
    "    - `colormap`: Obviously, which colormap to use.\n",
    "    - `aapow`: A fiddling parameter for the fake anti-aliasing effect. The higher the sharper, or `None` for no aa.\n",
    "    \"\"\"\n",
    "\n",
    "    if isinstance(bg, tuple):\n",
    "        if len(bg) == 2:\n",
    "            bg += (4,)\n",
    "        bg = np.zeros(bg)\n",
    "    else:\n",
    "        bg = np.copy(bg)\n",
    "\n",
    "    assert len(bg.shape) == 3 and bg.shape[-1] in (3,4), \"Can only put a donut onto a color image!\"\n",
    "\n",
    "    h, w = bg.shape[:2]\n",
    "    assert w == h, \"Currently, we only work for squares, because no time to test ellipses!\"\n",
    "\n",
    "    # First, take the distribution as-is and draw it into a donut.\n",
    "    cx, cy = w/2, h/2\n",
    "    for y in range(h):\n",
    "        for x in range(w):\n",
    "            l = np.hypot((x-cx), (y-cy))\n",
    "            lc = (l - (w/2-R/2))/(R/2)  # Center it at the center of the donut band and put into [-1,1].\n",
    "            if -1 < lc < 1:\n",
    "                angle = (np.rad2deg(np.arctan2(-(y-cy), x-cx) - zero_rad) + 360) % 360\n",
    "                bg[y,x] = colormap(hm[int(angle*len(hm)/360)])\n",
    "                if aapow is not None:\n",
    "                    bg[y,x,3] = 1 - (np.exp(lc**aapow)-1)/(np.exp(1)-1)\n",
    "\n",
    "    return bg"
   ]
  },
  {
   "cell_type": "markdown",
   "metadata": {},
   "source": [
    "And this combines these functions in order to compute and draw a beautiful donut from given predictions."
   ]
  },
  {
   "cell_type": "code",
   "execution_count": null,
   "metadata": {
    "collapsed": true,
    "init_cell": true
   },
   "outputs": [],
   "source": [
    "def donut(ax, hm, **kw):\n",
    "    im = ax.imshow(donut_heatmap(hm, **kw))\n",
    "    ax.grid(False)\n",
    "    ax.axis('off')\n",
    "    ax.patch.set_visible(False)\n",
    "    return im\n",
    "\n",
    "def donut_default(ax, angles, **kw):\n",
    "    return donut(ax, cyclic_filter(mkheatmap_deg(angles, nbins=3600), gaussfilter(41)), **kw)"
   ]
  },
  {
   "cell_type": "code",
   "execution_count": null,
   "metadata": {
    "init_cell": true,
    "scrolled": true
   },
   "outputs": [],
   "source": [
    "fig, ax = plt.subplots(figsize=(4,4))\n",
    "donut(ax, hm/np.max(hm), bg=(201,201), R=50, aapow=40);"
   ]
  },
  {
   "cell_type": "markdown",
   "metadata": {},
   "source": [
    "# Load TownCentre Data"
   ]
  },
  {
   "cell_type": "code",
   "execution_count": null,
   "metadata": {
    "collapsed": true,
    "init_cell": true
   },
   "outputs": [],
   "source": [
    "X, y, n = pickle.load(gzip.open('data/TownCentre.pkl.gz', 'rb'))"
   ]
  },
  {
   "cell_type": "markdown",
   "metadata": {},
   "source": [
    "Now, we need to split the dataset into train/test sets. But we need to be careful in doing the splitting since we don't want the exact same person to be present in both sets, that would make the task extremely easy and close to cheating.\n",
    "\n",
    "Unfortunately, I didn't save the split which I used for the paper and hence there's no \"official\" split. Sorry for that, it's actually a big fuckup of mine. For this reason, the numbers in here can be quite different than the ones from the paper, although the relative improvements of various methods do stay the same."
   ]
  },
  {
   "cell_type": "code",
   "execution_count": null,
   "metadata": {
    "collapsed": true,
    "init_cell": true
   },
   "outputs": [],
   "source": [
    "def split(X, y, n, split=0.9):\n",
    "    itr, ite, trs, tes = [], [], set(), set()\n",
    "    for i, name in enumerate(n):\n",
    "        # Extract the person's ID.\n",
    "        pid = int(name.split('_')[1])\n",
    "\n",
    "        # Decide where to put that person.\n",
    "        if pid in trs:\n",
    "            itr.append(i)\n",
    "        elif pid in tes:\n",
    "            ite.append(i)\n",
    "        else:\n",
    "            if np.random.rand() < split:\n",
    "                itr.append(i)\n",
    "                trs.add(pid)\n",
    "            else:\n",
    "                ite.append(i)\n",
    "                tes.add(pid)\n",
    "    return (X[itr], y[itr], [n[i] for i in itr]), (X[ite], y[ite], [n[i] for i in ite])"
   ]
  },
  {
   "cell_type": "code",
   "execution_count": null,
   "metadata": {
    "init_cell": true
   },
   "outputs": [],
   "source": [
    "(Xtr, ytr, ntr), (Xte, yte, nte) = split(X, y, n, split=0.9)\n",
    "Xtr, ytr = Xtr.astype(df.floatX)/255, ytr.astype(df.floatX)\n",
    "Xte, yte = Xte.astype(df.floatX)/255, yte.astype(df.floatX)\n",
    "print(\"Trainset: {}\".format(len(Xtr)))\n",
    "print(\"Testset:  {}\".format(len(Xte)))"
   ]
  },
  {
   "cell_type": "markdown",
   "metadata": {},
   "source": [
    "Some examples of usage. Tune the various parameters in order for the heatmap to look good in your case. Note that the `norm` here is just a rescaling influencing which range of the heatmap is used. The size of the `filt` should not be too large or it will wash-out the actual distribution, which could be seen as cheating!"
   ]
  },
  {
   "cell_type": "code",
   "execution_count": null,
   "metadata": {
    "init_cell": true,
    "scrolled": true
   },
   "outputs": [],
   "source": [
    "fig, axes = plt.subplots(1, 2, figsize=(8,4))\n",
    "hm_ytr = cyclic_filter(mkheatmap_deg(ytr, nbins=3600), gaussfilter(41))\n",
    "hm_yte = cyclic_filter(mkheatmap_deg(yte, nbins=3600), gaussfilter(41))\n",
    "donut(axes[0], hm_ytr/(len(ytr)/400), bg=(201, 201), R=50, aapow=40);\n",
    "donut(axes[1], hm_yte/(len(yte)/400), bg=(201, 201), R=50, aapow=40);"
   ]
  },
  {
   "cell_type": "markdown",
   "metadata": {},
   "source": [
    "Here are the \"raw\", i.e. not re-scaled heatmaps just for reference. Notice the colors are exactly the same as above, but uglier because of higher frequency."
   ]
  },
  {
   "cell_type": "code",
   "execution_count": null,
   "metadata": {
    "init_cell": true,
    "scrolled": true
   },
   "outputs": [],
   "source": [
    "fig, axes = plt.subplots(1, 2, figsize=(8,4))\n",
    "hm_ytr = cyclic_filter(mkheatmap_deg(ytr, nbins=3600), gaussfilter(41))\n",
    "hm_yte = cyclic_filter(mkheatmap_deg(yte, nbins=3600), gaussfilter(41))\n",
    "donut(axes[0], hm_ytr/np.max(hm_ytr), bg=(201, 201), R=50, aapow=40);\n",
    "donut(axes[1], hm_yte/np.max(hm_yte), bg=(201, 201), R=50, aapow=40);"
   ]
  },
  {
   "cell_type": "markdown",
   "metadata": {},
   "source": [
    "# Network creation and evaluation functions"
   ]
  },
  {
   "cell_type": "code",
   "execution_count": null,
   "metadata": {
    "collapsed": true,
    "init_cell": true
   },
   "outputs": [],
   "source": [
    "aug = AugmentationPipeline(Xtr, ytr, Cropper((46,46)))"
   ]
  },
  {
   "cell_type": "code",
   "execution_count": null,
   "metadata": {
    "collapsed": true,
    "init_cell": true
   },
   "outputs": [],
   "source": [
    "class Flatten(df.Module):\n",
    "    def symb_forward(self, symb_in):\n",
    "        return symb_in.flatten(2)"
   ]
  },
  {
   "cell_type": "code",
   "execution_count": null,
   "metadata": {
    "collapsed": true,
    "init_cell": true
   },
   "outputs": [],
   "source": [
    "def mknet(*outlayers):\n",
    "    return df.Sequential(                          #     3@46\n",
    "        df.SpatialConvolutionCUDNN( 3, 24, 3, 3),  # -> 24@44\n",
    "        df.BatchNormalization(24),\n",
    "        df.ReLU(),\n",
    "        df.SpatialConvolutionCUDNN(24, 24, 3, 3),  # -> 24@42\n",
    "        df.BatchNormalization(24),\n",
    "        df.SpatialMaxPoolingCUDNN(2, 2),           # -> 24@21\n",
    "        df.ReLU(),\n",
    "        df.SpatialConvolutionCUDNN(24, 48, 3, 3),  # -> 48@19\n",
    "        df.BatchNormalization(48),\n",
    "        df.ReLU(),\n",
    "        df.SpatialConvolutionCUDNN(48, 48, 3, 3),  # -> 48@17\n",
    "        df.BatchNormalization(48),\n",
    "        df.SpatialMaxPooling(2, 2),                # -> 48@9\n",
    "        df.ReLU(),\n",
    "        df.SpatialConvolutionCUDNN(48, 64, 3, 3),  # -> 48@7\n",
    "        df.BatchNormalization(64),\n",
    "        df.ReLU(),\n",
    "        df.SpatialConvolutionCUDNN(64, 64, 3, 3),  # -> 48@5\n",
    "        df.BatchNormalization(64),\n",
    "        df.ReLU(),\n",
    "        df.Dropout(0.2),\n",
    "        Flatten(),\n",
    "        df.Linear(64*5*5, 512),\n",
    "        df.ReLU(),\n",
    "        df.Dropout(0.5),\n",
    "        *outlayers\n",
    "    )"
   ]
  },
  {
   "cell_type": "markdown",
   "metadata": {},
   "source": [
    "#### tensorflow additional functions"
   ]
  },
  {
   "cell_type": "code",
   "execution_count": null,
   "metadata": {
    "collapsed": true
   },
   "outputs": [],
   "source": [
    "from lbtoolbox.util import batched\n",
    "\n",
    "def mad_loss(y_target, y_pred):\n",
    "    loss = tf.abs(y_target - y_pred)\n",
    "    return loss\n",
    "\n",
    "def input_tensors():\n",
    "    x = tf.placeholder(tf.float32, shape=[None, 3, 46, 46])\n",
    "    y_target = tf.placeholder(tf.float32, shape=[None, 1])\n",
    "    return x, y_target\n",
    "\n",
    "def adadelta_optimizer(loss):\n",
    "    opt = tf.train.AdadeltaOptimizer(rho=0.95, learning_rate=1.0, epsilon=1e-7).minimize(loss)\n",
    "    return opt\n",
    "\n",
    "def dotrain_eval_tf(Xtr, ytr, Xte, yte, nruns = 5, nepochs=50, batchsize=100, debug_print=False):\n",
    "    y_preds = []\n",
    "    Xte_aug, yte_aug = aug.augbatch_train(Xte, yte)\n",
    "    yte_aug = yte_aug[:,None]\n",
    "    runs_epochs_losses = []\n",
    "    for run_id in range(0, nruns):\n",
    "        with tf.Session() as sess:\n",
    "            sess.run(init_op)\n",
    "            epochs_losses = []\n",
    "            for epoch_id in range(0, nepochs):\n",
    "                epoch_losses = []\n",
    "                for Xb, yb in batched(batchsize, Xtr, ytr, shuf=True):\n",
    "                    Xb_aug, yb_aug = aug.augbatch_train(Xb, yb)\n",
    "                    yb_aug = yb_aug.reshape(-1,1)\n",
    "                    _, preds, batch_losses = sess.run([train_step, y_target_tf, loss_tf], \n",
    "                                                      feed_dict={x_tf: Xb_aug, y_target_tf: yb_aug})\n",
    "                    epoch_losses.append(np.mean(batch_losses))\n",
    "                mean_epoch_loss = np.mean(epoch_losses)\n",
    "                epochs_losses.append(mean_epoch_loss)\n",
    "                if debug_print:\n",
    "                    print(\"epoch %d finished. mean epoch loss: %f\" % (epoch_id, mean_epoch_loss))\n",
    "            y_preds.append(sess.run(y_pred_tf, feed_dict={x_tf:Xte_aug}))\n",
    "        runs_epochs_losses.append(epochs_losses)\n",
    "        print(\"run %d finished\" % run_id)\n",
    "    return y_preds, runs_epochs_losses"
   ]
  },
  {
   "cell_type": "markdown",
   "metadata": {},
   "source": [
    "#### error functions"
   ]
  },
  {
   "cell_type": "code",
   "execution_count": null,
   "metadata": {
    "collapsed": true,
    "init_cell": true
   },
   "outputs": [],
   "source": [
    "def ensemble_degrees(angles):\n",
    "    return np.arctan2(np.mean(np.sin(np.deg2rad(angles)), axis=0), np.mean(np.cos(np.deg2rad(angles)), axis=0))"
   ]
  },
  {
   "cell_type": "code",
   "execution_count": null,
   "metadata": {
    "collapsed": true,
    "init_cell": true
   },
   "outputs": [],
   "source": [
    "def dopred_deg(model, aug, X, batchsize=100):\n",
    "    return np.rad2deg(dopred(model, aug, X, ensembling=ensemble_degrees, output2preds=lambda x: x, batchsize=batchsize))"
   ]
  },
  {
   "cell_type": "code",
   "execution_count": null,
   "metadata": {
    "collapsed": true,
    "init_cell": true
   },
   "outputs": [],
   "source": [
    "def maad_from_deg(preds, reals):\n",
    "    return np.rad2deg(np.abs(np.arctan2(np.sin(np.deg2rad(reals-preds)), np.cos(np.deg2rad(reals-preds)))))"
   ]
  },
  {
   "cell_type": "code",
   "execution_count": null,
   "metadata": {
    "collapsed": true,
    "init_cell": true
   },
   "outputs": [],
   "source": [
    "def show_errs_deg(preds, reals, epoch=-1):\n",
    "    errs = maad_from_deg(preds, reals)\n",
    "    mean_errs = np.mean(errs, axis=1)\n",
    "    std_errs = np.std(errs, axis=1)\n",
    "    print(\"Error: {:5.2f}°±{:5.2f}°\".format(np.mean(mean_errs), np.mean(std_errs)))\n",
    "    print(\"Stdev: {:5.2f}°±{:5.2f}°\".format(np.std(mean_errs), np.std(std_errs)))"
   ]
  },
  {
   "cell_type": "markdown",
   "metadata": {},
   "source": [
    "# Varying Output Layer and Criteria (Sec. 4.3)"
   ]
  },
  {
   "cell_type": "markdown",
   "metadata": {},
   "source": [
    "## Pure Linear Regression"
   ]
  },
  {
   "cell_type": "markdown",
   "metadata": {},
   "source": [
    "#### Theano + DeepFried"
   ]
  },
  {
   "cell_type": "code",
   "execution_count": null,
   "metadata": {
    "collapsed": true
   },
   "outputs": [],
   "source": [
    "nets_shallow_linreg = [df.Sequential(\n",
    "    Flatten(),\n",
    "    df.Linear(3*46*46, 1, init=df.init.const(0)),\n",
    ") for _ in range(5)]\n",
    "#print('{:.3f}M params'.format(count_params(nets_shallow_linreg[0])/1000000))"
   ]
  },
  {
   "cell_type": "markdown",
   "metadata": {},
   "source": [
    "#### TensorFlow"
   ]
  },
  {
   "cell_type": "code",
   "execution_count": null,
   "metadata": {
    "collapsed": true
   },
   "outputs": [],
   "source": [
    "def weight_variable(shape):\n",
    "    initial = tf.constant(0.0, shape=shape)\n",
    "    return tf.Variable(initial)\n",
    "\n",
    "def bias_variable(shape):\n",
    "    initial = tf.constant(0.0, shape=shape)\n",
    "    return tf.Variable(initial)\n",
    "\n",
    "def shallow_linear_regression_model(x):\n",
    "    x_flat = tf.contrib.layers.flatten(x)\n",
    "    W_fc = weight_variable([3*46*46, 1])\n",
    "    b_fc = bias_variable([1])\n",
    "    y = tf.matmul(x_flat, W_fc) + b_fc\n",
    "    return y \n",
    "\n",
    "def dnn_model(x):\n",
    "    x_flat = tf.contrib.layers.flatten(x)\n",
    "    fc1 = slim.layers.fully_connected(x_flat, 512, activation_fn=tf.nn.relu)\n",
    "    fc2 = slim.layers.fully_connected(fc1, 512, activation_fn=tf.nn.relu)\n",
    "    fc3 = slim.layers.fully_connected(fc2, 512, activation_fn=tf.nn.relu)\n",
    "    fc4 = slim.layers.fully_connected(fc3, 1, activation_fn=None)\n",
    "    return fc4"
   ]
  },
  {
   "cell_type": "markdown",
   "metadata": {},
   "source": [
    "### TF train procedure"
   ]
  },
  {
   "cell_type": "code",
   "execution_count": null,
   "metadata": {
    "collapsed": true
   },
   "outputs": [],
   "source": [
    "tf.reset_default_graph()\n",
    "\n",
    "x_tf, y_target_tf = input_tensors()\n",
    "y_pred_tf = shallow_linear_regression_model(x_tf)\n",
    "loss_tf = mad_loss(y_target_tf, y_pred_tf)\n",
    "train_step = adadelta_optimizer(loss_tf)\n",
    "\n",
    "init_op = tf.global_variables_initializer()"
   ]
  },
  {
   "cell_type": "markdown",
   "metadata": {},
   "source": [
    "#### Training for degrees"
   ]
  },
  {
   "cell_type": "code",
   "execution_count": null,
   "metadata": {},
   "outputs": [],
   "source": [
    "nruns=5\n",
    "y_preds_shallow_linreg, losses_plots = dotrain_eval_tf(Xtr, ytr, Xte, yte, debug_print=False, nruns=nruns)"
   ]
  },
  {
   "cell_type": "code",
   "execution_count": null,
   "metadata": {},
   "outputs": [],
   "source": [
    "import matplotlib.pyplot as plt\n",
    "\n",
    "plt.plot(range(0, len(losses_plots[0])), losses_plots[0])\n",
    "plt.xlabel('epochs')\n",
    "plt.ylabel('mean error in degrees')\n",
    "plt.show()"
   ]
  },
  {
   "cell_type": "code",
   "execution_count": null,
   "metadata": {
    "scrolled": true
   },
   "outputs": [],
   "source": [
    "Xte_aug, yte_aug = aug.augbatch_train(Xte, yte)\n",
    "yte_aug = yte_aug[:,None]\n",
    "show_errs_deg(y_preds_shallow_linreg, yte_aug)"
   ]
  },
  {
   "cell_type": "code",
   "execution_count": null,
   "metadata": {
    "scrolled": false
   },
   "outputs": [],
   "source": [
    "fig, axes = plt.subplots(1, 2, figsize=(8,4))\n",
    "preds = np.squeeze(y_preds_shallow_linreg[0],axis=1)\n",
    "hm_pred = cyclic_filter(mkheatmap_deg(preds, nbins=3600), gaussfilter(41))\n",
    "#hm_pred = cyclic_filter(mkheatmap_deg(np.zeros(y_preds_shallow_linreg[0].shape)[:,0], nbins=3600)/5, gaussfilter(41))\n",
    "hm_real = cyclic_filter(mkheatmap_deg(yte, nbins=3600), gaussfilter(41))\n",
    "donut(axes[0], hm_pred/(len(yte)/400), bg=(201, 201), R=50, aapow=40);\n",
    "axes[0].set_title('shallow linear regression predictions')\n",
    "donut(axes[1], hm_real/(len(yte)/400), bg=(201, 201), R=50, aapow=40);\n",
    "axes[1].set_title('ground truth')\n",
    "plt.show()"
   ]
  },
  {
   "cell_type": "markdown",
   "metadata": {},
   "source": [
    "## Linear regression through MLE of Von-Mises distribution"
   ]
  },
  {
   "cell_type": "markdown",
   "metadata": {},
   "source": [
    "\n",
    "General form of Von-Mises distribution:\n",
    "\n",
    "\\begin{align}\n",
    "   p(\\phi; \\mu, \\kappa) = \\frac{\\exp{(\\kappa \\cos{(\\phi-\\mu)}})}{2\\pi I_0(\\kappa)}\n",
    "\\end{align}\n",
    "\n",
    "In case of a fixed paramater $\\kappa$ and simple linear regression, our model will look like:\n",
    "\n",
    "\\begin{align}\n",
    "   p(\\phi| x; \\theta) = \\frac{\\exp{(\\kappa \\cos{(\\phi - g(x,\\theta))}})}{2\\pi I_0(\\kappa)},\\\\\n",
    "   g(x,\\theta) = \\theta_1 x_1 + \\dots + \\theta_n x_n + \\theta_{n+1}\n",
    "\\end{align}\n",
    "\n",
    "Optimization function in case of a fixed $\\kappa$:\n",
    "\n",
    "\\begin{align}\n",
    "   argmax_{\\theta} \\sum_{i=1}^n{\\cos{(\\phi_i - g(x_i,\\theta))}}\n",
    "\\end{align}"
   ]
  },
  {
   "cell_type": "markdown",
   "metadata": {},
   "source": [
    "#### Examples of the Von-Mises distribution with different $\\kappa$ and $\\mu = 0$"
   ]
  },
  {
   "cell_type": "code",
   "execution_count": null,
   "metadata": {
    "scrolled": true
   },
   "outputs": [],
   "source": [
    "from numpy.random import vonmises\n",
    "fig, axes = plt.subplots(1, 3, figsize=(10,4))\n",
    "vm_01 = cyclic_filter(mkheatmap_deg(np.mod(np.rad2deg(vonmises(0,1,3000)),360), nbins=3600)/5, gaussfilter(41))\n",
    "vm_001 = cyclic_filter(mkheatmap_deg(np.mod(np.rad2deg(vonmises(0,100,3000)),360), nbins=3600)/5, gaussfilter(41))\n",
    "vm_010 = cyclic_filter(mkheatmap_deg(np.mod(np.rad2deg(vonmises(0,0.1,3000)),360), nbins=3600)/5, gaussfilter(41))\n",
    "donut(axes[0], vm_01/(len(yte)/400), bg=(201, 201), R=50, aapow=40);\n",
    "axes[0].set_title('$\\mu=0, \\kappa=1$')\n",
    "donut(axes[1], vm_001/(len(yte)/400), bg=(201, 201), R=50, aapow=40);\n",
    "axes[1].set_title('$\\mu=0, \\kappa=100$')\n",
    "donut(axes[2], vm_010/(len(yte)/400), bg=(201, 201), R=50, aapow=40);\n",
    "axes[2].set_title('$\\mu=0, \\kappa=0.1$')\n",
    "plt.show()"
   ]
  },
  {
   "cell_type": "code",
   "execution_count": null,
   "metadata": {
    "collapsed": true
   },
   "outputs": [],
   "source": [
    "def vm_model_tf():\n",
    "    mu = tf.Variable(0.0, name='mu')\n",
    "    return mu\n",
    "\n",
    "def mle_vm_loss(phi_target, mu, radian_input=True):\n",
    "    if radian_input:\n",
    "        scaler = 1\n",
    "    else:\n",
    "        #convert to radians in input is in degrees\n",
    "        scaler = 0.0174533\n",
    "    loss = 1-tf.cos(scaler * (phi_target - mu))\n",
    "    return tf.reduce_mean(loss)"
   ]
  },
  {
   "cell_type": "code",
   "execution_count": null,
   "metadata": {
    "collapsed": true
   },
   "outputs": [],
   "source": [
    "def mle_vm_demo(mu_gt, kappa_gt, sample_size=1000, niters=1000, lr=0.001):\n",
    "\n",
    "    print(\"ground truth Von-Mises params: mu=%f, kappa=%f\" %(mu_gt, kappa_gt))\n",
    "\n",
    "    vm_samples = vonmises(mu_gt, kappa_gt, sample_size)\n",
    "\n",
    "    losses = []\n",
    "    mu_preds = []\n",
    "    \n",
    "    tf.reset_default_graph()\n",
    "    phi_tf = tf.placeholder(tf.float32, shape=None)\n",
    "    mu_tf = vm_model_tf()\n",
    "    mle_loss_tf = mle_vm_loss(phi_tf, mu_tf)\n",
    "    train_step = tf.train.GradientDescentOptimizer(learning_rate=lr).minimize(mle_loss_tf)\n",
    "\n",
    "    init_op = tf.global_variables_initializer()\n",
    "    with tf.Session() as sess:\n",
    "        sess.run(init_op)\n",
    "        for i in range(0,niters):\n",
    "            loss, mu_pred, _ = sess.run([mle_loss_tf, mu_tf, train_step], feed_dict={phi_tf: vm_samples})\n",
    "            losses.append(loss)\n",
    "            mu_preds.append(mu_pred)\n",
    "\n",
    "    kappa_pred = kappa_gt\n",
    "    print(\"estimated Von-Mises params: mu=%f, kappa=%f\" %(mu_pred, kappa_pred))\n",
    "    \n",
    "    fig, axes = plt.subplots(2, 2, figsize=(10,8))\n",
    "    axes[0,0].plot(range(0, len(losses)), losses)\n",
    "    axes[0,0].set_title('cost over epochs')\n",
    "    axes[0,1].plot(range(0, len(mu_preds)), mu_preds)\n",
    "    axes[0,1].set_title('mu over epochs')\n",
    "    vm_gt = cyclic_filter(mkheatmap_deg(np.mod(np.rad2deg(vm_samples),360), nbins=3600)/5, gaussfilter(41))\n",
    "    vm_pred = cyclic_filter(mkheatmap_deg(np.mod(np.rad2deg(vonmises(mu_pred,kappa_pred,sample_size)),360), nbins=3600)/5, gaussfilter(41))\n",
    "    donut(axes[1,0], vm_gt/(len(yte)/400), bg=(201, 201), R=50, aapow=40);\n",
    "    axes[1,0].set_title('gt distribution')\n",
    "    donut(axes[1,1], vm_pred/(len(yte)/400), bg=(201, 201), R=50, aapow=40);\n",
    "    axes[1,1].set_title('estimated distribution') "
   ]
  },
  {
   "cell_type": "code",
   "execution_count": null,
   "metadata": {},
   "outputs": [],
   "source": [
    "mle_vm_demo(mu_gt=1.0, kappa_gt=1, sample_size=10000, niters=5000, lr=0.01)"
   ]
  },
  {
   "cell_type": "code",
   "execution_count": null,
   "metadata": {},
   "outputs": [],
   "source": [
    "mle_vm_demo(mu_gt=0.5, kappa_gt=10, sample_size=10000, niters=5000, lr=0.01)"
   ]
  },
  {
   "cell_type": "code",
   "execution_count": null,
   "metadata": {},
   "outputs": [],
   "source": [
    "mle_vm_demo(mu_gt=3.14, kappa_gt=1.0, sample_size=10000, niters=10000, lr=0.01)"
   ]
  },
  {
   "cell_type": "markdown",
   "metadata": {},
   "source": [
    "### Modified Bessel function of order 0\n",
    "\n",
    "https://docs.scipy.org/doc/scipy/reference/generated/scipy.special.i0.html#scipy.special.i0\n",
    "http://mathworld.wolfram.com/ModifiedBesselFunctionoftheFirstKind.html"
   ]
  },
  {
   "cell_type": "markdown",
   "metadata": {},
   "source": [
    "#### Using Taylor expansion around \n",
    "\n",
    "\\begin{align}\n",
    "I_0(x) \\approx \\sum_{m=0}^M \\frac{(x^2/4)^m}{(m!)^2} \n",
    "\\end{align}"
   ]
  },
  {
   "cell_type": "code",
   "execution_count": null,
   "metadata": {},
   "outputs": [],
   "source": [
    "from scipy.misc import factorial\n",
    "\n",
    "def taylor_el(m):\n",
    "    return 1/(4**m * factorial(m)**2)\n",
    "\n",
    "coefs = np.asarray([taylor_el(m) for m in range(0,500)])\n",
    "\n",
    "def bessel_approx(x, m=10):\n",
    "    x = np.asarray(x).reshape(-1,1)\n",
    "    deg = np.arange(0,m,1)*2\n",
    "    x_tiled = np.tile(x, [1, m])\n",
    "    deg_tiled = np.tile(deg, [x.shape[0],1])\n",
    "    coef_tiled = np.tile(coefs[0:m].reshape(1,m), [x.shape[0],1])\n",
    "    return np.sum(np.power(x_tiled, deg_tiled)*coef_tiled, axis=1)\n",
    "\n",
    "def bessel_approx_tf(x, m=10):\n",
    "    deg = tf.reshape(tf.range(0,m,1)*2, [1,-1])\n",
    "    n_rows = tf.shape(x)[0]\n",
    "    x_tiled = tf.tile(x, [1, m])\n",
    "    deg_tiled = tf.tile(deg, [n_rows,1])\n",
    "    coef_tiled = tf.tile(coefs[0:m].reshape(1,m), [n_rows,1])\n",
    "    return  tf.reduce_sum(tf.pow(x_tiled, tf.to_double(deg_tiled))*coef_tiled, axis=1)"
   ]
  },
  {
   "cell_type": "code",
   "execution_count": null,
   "metadata": {},
   "outputs": [],
   "source": [
    "def bessel_approx_tf_demo(x_vals, m=20):\n",
    "    tf.reset_default_graph()\n",
    "    x = tf.placeholder(tf.float64, shape=[None, 1])\n",
    "    bessel_tf = bessel_approx_tf(x, m=m)\n",
    "    with tf.Session() as sess:\n",
    "        vals = sess.run(bessel_tf, feed_dict={x:x_vals.reshape(-1, 1)})\n",
    "    return vals"
   ]
  },
  {
   "cell_type": "code",
   "execution_count": null,
   "metadata": {
    "scrolled": true
   },
   "outputs": [],
   "source": [
    "from scipy.special import i0 as bessel\n",
    "\n",
    "x_vals = np.arange(0,15, 0.01)\n",
    "y_vals = bessel(x_vals)\n",
    "plt.plot(x_vals, y_vals, label='$I_0(x)$')\n",
    "m=5\n",
    "plt.plot(x_vals, bessel_approx_tf_demo(x_vals, m=m), label='$I_0(x)$ (approx, M=%d)'%m)\n",
    "m=10\n",
    "plt.plot(x_vals, bessel_approx_tf_demo(x_vals, m=m), label='$I_0(x)$ (approx, M=%d)'%m)\n",
    "m=20\n",
    "plt.plot(x_vals, bessel_approx_tf_demo(x_vals, m=m), label='$I_0(x)$ (approx, M=%d)'%m)\n",
    "plt.legend()\n",
    "plt.show()"
   ]
  },
  {
   "cell_type": "markdown",
   "metadata": {},
   "source": [
    "\\begin{align}\n",
    "   p(\\phi; \\mu, \\kappa) = \\frac{\\exp{(\\kappa \\cos{(\\phi-\\mu)}})}{2\\pi I_0(\\kappa)}\n",
    "\\end{align}"
   ]
  },
  {
   "cell_type": "code",
   "execution_count": null,
   "metadata": {},
   "outputs": [],
   "source": [
    "def vm_cdf(vals, mu, kappa):\n",
    "    return np.exp(kappa * np.cos(vals-mu)) / (2* np.pi * bessel_approx(kappa))"
   ]
  },
  {
   "cell_type": "code",
   "execution_count": null,
   "metadata": {},
   "outputs": [],
   "source": [
    "from scipy.special import i0 as bessel\n",
    "\n",
    "x_vals = np.arange(-10,10, 0.01)\n",
    "\n",
    "plt.figure(figsize=(10,8))\n",
    "mu, kappa = [0.0, 1.0]\n",
    "plt.plot(x_vals, vm_cdf(x_vals, mu, kappa), label='Von-Mises distribution, $\\mu=%f, \\kappa=%f$' %(mu, kappa))\n",
    "mu, kappa = [0.0, 10.0]\n",
    "plt.plot(x_vals, vm_cdf(x_vals, mu, kappa), label='Von-Mises distribution, $\\mu=%f, \\kappa=%f$' %(mu, kappa))\n",
    "mu, kappa = [0.0, 0.1]\n",
    "plt.plot(x_vals, vm_cdf(x_vals, mu, kappa), label='Von-Mises distribution, $\\mu=%f, \\kappa=%f$' %(mu, kappa))\n",
    "plt.legend()\n",
    "plt.show()"
   ]
  },
  {
   "cell_type": "markdown",
   "metadata": {},
   "source": [
    "Log-likelihood formula:\n",
    "\n",
    "\\begin{align}\n",
    "            \\log \\mathcal{L}(\\mu, \\kappa, X) = \\sum_{i=1}^n{\\log p(\\phi_i| \\mu, \\kappa) } =\\\\ \\sum_{i=1}^n{\\kappa\\cos{(\\phi_i - \\mu)}} - \\sum_{i=1}^n{\\log 2 \\pi I_0(\\kappa)}\n",
    "\\end{align}"
   ]
  },
  {
   "cell_type": "code",
   "execution_count": null,
   "metadata": {
    "collapsed": true
   },
   "outputs": [],
   "source": [
    "def likelihood_np(phi_target, mu, kappa, radian_input=True):\n",
    "    if radian_input:\n",
    "        scaler = 1\n",
    "    else:\n",
    "        #convert to radians in input is in degrees\n",
    "        scaler = 0.0174533 \n",
    "    kappa = scaler * kappa\n",
    "    likelihood = kappa * np.cos(scaler * (phi_target - mu)) - np.log(2*np.pi*bessel_approx(kappa))\n",
    "    return np.mean(likelihood)\n",
    "\n",
    "def log_likelihood_tf(x, mu, kappa, radian_input=True):\n",
    "    kappa = tf.abs(tf.to_double(tf.reshape(kappa, [-1,1])))\n",
    "    x = tf.to_double(x)\n",
    "    mu = tf.to_double(mu)\n",
    "    if radian_input:\n",
    "        scaler = 1\n",
    "    else:\n",
    "        #convert to radians in input is in degrees\n",
    "        scaler = 0.0174533 \n",
    "    kappa = scaler * kappa\n",
    "    log_likelihood = kappa * tf.cos(scaler * (x - mu)) - tf.log(2*np.pi*bessel_approx_tf(kappa))\n",
    "    return tf.reduce_mean(log_likelihood)\n",
    "\n",
    "def log_likelihood_tf_demo(x, mu, kappa, radian_input=True):\n",
    "    tf.reset_default_graph()\n",
    "    mu = np.asarray(mu).reshape(-1,1)\n",
    "    kappa = np.asarray(kappa).reshape(-1,1)\n",
    "    x_tf = tf.placeholder(tf.float64, shape=[None, 1])\n",
    "    mu_tf = tf.placeholder(tf.float64, shape=[None, 1])\n",
    "    kappa_tf = tf.placeholder(tf.float64, shape=[None, 1])\n",
    "    likelihood = likelihood_tf(x_tf, mu_tf, kappa_tf)\n",
    "    with tf.Session() as sess:\n",
    "        vals = sess.run(likelihood, feed_dict={x_tf:x.reshape(-1, 1), mu_tf: mu, kappa_tf: kappa} )\n",
    "    return vals"
   ]
  },
  {
   "cell_type": "code",
   "execution_count": null,
   "metadata": {},
   "outputs": [],
   "source": [
    "mu, kappa = [0, 10.0]\n",
    "samples = vonmises(mu, kappa, 5000).reshape(-1,1)\n",
    "print(\"log-likelihood, numpy: %f\" %likelihood_np(samples, mu, kappa))\n",
    "print(\"log-likelihood, tensorflow: %f\" %log_likelihood_tf_demo(samples, mu, kappa))"
   ]
  },
  {
   "cell_type": "code",
   "execution_count": null,
   "metadata": {
    "collapsed": true
   },
   "outputs": [],
   "source": [
    "def vm_model_full_tf(mu_ini, kappa_ini):\n",
    "    mu = tf.Variable(mu_ini, dtype=tf.float32, name='mu')\n",
    "    kappa = tf.Variable(kappa_ini, dtype=tf.float32, name='kappa')\n",
    "    return mu, kappa"
   ]
  },
  {
   "cell_type": "code",
   "execution_count": null,
   "metadata": {},
   "outputs": [],
   "source": [
    "def mle_vm_demo_full(mu_gt, kappa_gt, sample_size=1000, niters=1000, lr=0.001, \n",
    "                    mu_ini=0.0, kappa_ini=1.0, vis_sample_size=5000):\n",
    "\n",
    "    print(\"ground truth Von-Mises params: mu=%f, kappa=%f\" % (mu_gt, kappa_gt))\n",
    "\n",
    "    vm_samples = vonmises(mu_gt, kappa_gt, sample_size)\n",
    "    \n",
    "    likelihoods = []\n",
    "    mu_preds = []\n",
    "    kappa_preds = []\n",
    "    \n",
    "    tf.reset_default_graph()\n",
    "    phi_tf = tf.placeholder(tf.float32, shape=[None,1])\n",
    "    mu_tf, kappa_tf = vm_model_full_tf(mu_ini, kappa_ini)\n",
    "    loss = -log_likelihood_tf(phi_tf, mu_tf, kappa_tf)\n",
    "    train_step = tf.train.AdadeltaOptimizer(learning_rate=lr).minimize(loss)\n",
    "\n",
    "    init_op = tf.global_variables_initializer()\n",
    "    with tf.Session() as sess:\n",
    "        sess.run(init_op)\n",
    "        for i in range(0, niters):\n",
    "            #vm_samples = vonmises(mu_gt, kappa_gt, sample_size)\n",
    "            likelihood_pred, mu_pred, kappa_pred,  _ = sess.run([loss, mu_tf, kappa_tf, train_step], \n",
    "                                                     feed_dict={phi_tf: vm_samples.reshape(-1,1)})\n",
    "            likelihoods.append(likelihood_pred)\n",
    "            mu_preds.append(mu_pred)\n",
    "            kappa_preds.append(kappa_pred)\n",
    "    \n",
    "    print(\"estimated Von-Mises params: mu=%f, kappa=%f\" %(mu_pred, kappa_pred))\n",
    "    \n",
    "    kappa_pred = np.abs(kappa_pred)\n",
    "    \n",
    "    fig, axes = plt.subplots(2, 3, figsize=(15,10))\n",
    "    axes[0,0].plot(range(0, len(likelihoods)), likelihoods)\n",
    "    axes[0,0].set_title('$-\\log \\mathcal{L}(\\mu, \\kappa, X)$ over epochs')\n",
    "    axes[0,1].plot(range(0, len(mu_preds)), mu_preds)\n",
    "    axes[0,1].set_title('$\\mu$ over epochs')\n",
    "    axes[0,2].plot(range(0, len(kappa_preds)), kappa_preds)\n",
    "    axes[0,2].set_title('$\\kappa$ over epochs')\n",
    "    vm_gt = cyclic_filter(mkheatmap_deg(np.mod(np.rad2deg(vonmises(mu_gt,kappa_gt,vis_sample_size)),360), nbins=3600), gaussfilter(41))\n",
    "    vm_ini = cyclic_filter(mkheatmap_deg(np.mod(np.rad2deg(vonmises(mu_ini,kappa_ini,vis_sample_size)),360), nbins=3600), gaussfilter(41))\n",
    "    vm_pred = cyclic_filter(mkheatmap_deg(np.mod(np.rad2deg(vonmises(mu_pred,kappa_pred,vis_sample_size)),360), nbins=3600), gaussfilter(41))\n",
    "    donut(axes[1,0], vm_gt/(len(yte)/400), bg=(201, 201), R=50, aapow=40);\n",
    "    axes[1,0].set_title('gt distribution $\\mu=%.2f, \\kappa=%.2f$' %(mu_gt, kappa_gt), fontsize=10)\n",
    "    donut(axes[1,1], vm_pred/(len(yte)/400), bg=(201, 201), R=50, aapow=40);\n",
    "    axes[1,1].set_title('estimated distribution $\\mu=%.2f, \\kappa=%.2f$' %(mu_pred, kappa_pred), fontsize=10)\n",
    "    donut(axes[1,2], vm_ini/(len(yte)/400), bg=(201, 201), R=50, aapow=40);\n",
    "    axes[1,2].set_title('initial distribution $\\mu=%.2f, \\kappa=%.2f$' %(mu_ini, kappa_ini), fontsize=10)"
   ]
  },
  {
   "cell_type": "code",
   "execution_count": null,
   "metadata": {},
   "outputs": [],
   "source": [
    "mle_vm_demo_full(mu_gt=2.0, kappa_gt=1.0, sample_size=50000, niters=50000, lr=0.1)"
   ]
  },
  {
   "cell_type": "code",
   "execution_count": null,
   "metadata": {},
   "outputs": [],
   "source": [
    "mle_vm_demo_full(mu_gt=3.14, kappa_gt=10.0, sample_size=50000, niters=50000, lr=0.1)"
   ]
  },
  {
   "cell_type": "code",
   "execution_count": null,
   "metadata": {},
   "outputs": [],
   "source": [
    "mle_vm_demo_full(mu_gt=3.14, kappa_gt=0.1, sample_size=50000, niters=50000, lr=1.0)"
   ]
  },
  {
   "cell_type": "markdown",
   "metadata": {},
   "source": [
    "#### MLE estimation for TownCentre headpose"
   ]
  },
  {
   "cell_type": "code",
   "execution_count": null,
   "metadata": {
    "collapsed": true
   },
   "outputs": [],
   "source": [
    "from lbtoolbox.util import batched\n",
    "\n",
    "def mad_loss(y_target, y_pred):\n",
    "    loss = tf.abs(y_target - y_pred)\n",
    "    return loss\n",
    "\n",
    "def input_tensors():\n",
    "    x = tf.placeholder(tf.float32, shape=[None, 3, 46, 46])\n",
    "    y_target = tf.placeholder(tf.float32, shape=[None, 1])\n",
    "    return x, y_target\n",
    "\n",
    "def adadelta_optimizer(loss):\n",
    "    opt = tf.train.AdadeltaOptimizer(rho=0.95, learning_rate=1.0, epsilon=1e-7).minimize(loss)\n",
    "    return opt\n",
    "\n",
    "def dotrain_eval_tf(Xtr, ytr, Xte, yte, nruns = 5, nepochs=50, batchsize=100, debug_print=False):\n",
    "    y_preds = []\n",
    "    Xte_aug, yte_aug = aug.augbatch_train(Xte, yte)\n",
    "    yte_aug = yte_aug[:,None]\n",
    "    runs_epochs_losses = []\n",
    "    for run_id in range(0, nruns):\n",
    "        with tf.Session() as sess:\n",
    "            sess.run(init_op)\n",
    "            epochs_losses = []\n",
    "            for epoch_id in range(0, nepochs):\n",
    "                epoch_losses = []\n",
    "                for Xb, yb in batched(batchsize, Xtr, ytr, shuf=True):\n",
    "                    Xb_aug, yb_aug = aug.augbatch_train(Xb, yb)\n",
    "                    yb_aug = yb_aug.reshape(-1,1)\n",
    "                    _, preds, batch_losses = sess.run([train_step, y_target_tf, loss_tf], \n",
    "                                                      feed_dict={x_tf: Xb_aug, y_target_tf: yb_aug})\n",
    "                    epoch_losses.append(np.mean(batch_losses))\n",
    "                mean_epoch_loss = np.mean(epoch_losses)\n",
    "                epochs_losses.append(mean_epoch_loss)\n",
    "                if debug_print:\n",
    "                    print(\"epoch %d finished. mean epoch loss: %f\" % (epoch_id, mean_epoch_loss))\n",
    "            y_preds.append(sess.run(y_pred_tf, feed_dict={x_tf:Xte_aug}))\n",
    "        runs_epochs_losses.append(epochs_losses)\n",
    "        print(\"run %d finished\" % run_id)\n",
    "    return y_preds, runs_epochs_losses"
   ]
  },
  {
   "cell_type": "code",
   "execution_count": null,
   "metadata": {
    "collapsed": true
   },
   "outputs": [],
   "source": [
    "def vm_shallow_linear_regression_model(x):\n",
    "    x_flat = tf.contrib.layers.flatten(x)\n",
    "    W_fc = weight_variable([3*46*46, 2])\n",
    "    b_fc = bias_variable([2])\n",
    "    y = tf.matmul(x_flat, W_fc) + b_fc\n",
    "    mu = tf.reshape(y[:,0], [-1,1])\n",
    "    kappa = tf.reshape(y[:,1],[-1,1])\n",
    "    return mu, kappa"
   ]
  },
  {
   "cell_type": "code",
   "execution_count": 838,
   "metadata": {},
   "outputs": [],
   "source": [
    "tf.reset_default_graph()\n",
    "\n",
    "x_tf, y_target_tf = input_tensors()\n",
    "mu_tf, kappa_tf = vm_shallow_linear_regression_model(x_tf)\n",
    "y_pred_tf = mu_tf\n",
    "loss_tf = -log_likelihood_tf(y_target_tf, mu_tf, 1.0, radian_input=False)\n",
    "train_step = tf.train.AdamOptimizer(learning_rate=0.01).minimize(loss_tf)\n",
    "\n",
    "init_op = tf.global_variables_initializer()"
   ]
  },
  {
   "cell_type": "code",
   "execution_count": null,
   "metadata": {},
   "outputs": [],
   "source": [
    "Xb, yb = next(batched(100, Xtr, ytr, shuf=True))\n",
    "Xb_aug, yb_aug = aug.augbatch_train(Xb, yb)\n",
    "\n",
    "with tf.Session() as sess:\n",
    "    sess.run(init_op)\n",
    "    for epoch_id in range(0, 100):\n",
    "        _, mu, kappa, preds, batch_losses = sess.run([train_step, mu_tf, kappa_tf, y_target_tf, loss_tf], \n",
    "                                      feed_dict={x_tf: Xb_aug, y_target_tf: yb_aug.reshape(-1,1)})\n",
    "        print(batch_losses)"
   ]
  },
  {
   "cell_type": "code",
   "execution_count": 839,
   "metadata": {
    "scrolled": true
   },
   "outputs": [
    {
     "name": "stdout",
     "output_type": "stream",
     "text": [
      "epoch 0 finished. mean epoch loss: 1.836353\n",
      "epoch 1 finished. mean epoch loss: 1.833258\n",
      "epoch 2 finished. mean epoch loss: 1.832796\n",
      "epoch 3 finished. mean epoch loss: 1.832440\n",
      "epoch 4 finished. mean epoch loss: 1.832384\n",
      "epoch 5 finished. mean epoch loss: 1.832312\n",
      "epoch 6 finished. mean epoch loss: 1.832189\n",
      "epoch 7 finished. mean epoch loss: 1.832063\n",
      "epoch 8 finished. mean epoch loss: 1.832047\n",
      "epoch 9 finished. mean epoch loss: 1.832010\n",
      "epoch 10 finished. mean epoch loss: 1.831919\n",
      "epoch 11 finished. mean epoch loss: 1.831809\n",
      "epoch 12 finished. mean epoch loss: 1.831801\n",
      "epoch 13 finished. mean epoch loss: 1.831873\n",
      "epoch 14 finished. mean epoch loss: 1.831755\n",
      "epoch 15 finished. mean epoch loss: 1.831802\n",
      "epoch 16 finished. mean epoch loss: 1.831621\n",
      "epoch 17 finished. mean epoch loss: 1.831699\n",
      "epoch 18 finished. mean epoch loss: 1.831795\n",
      "epoch 19 finished. mean epoch loss: 1.831821\n",
      "epoch 20 finished. mean epoch loss: 1.831739\n",
      "epoch 21 finished. mean epoch loss: 1.831626\n",
      "epoch 22 finished. mean epoch loss: 1.831616\n",
      "epoch 23 finished. mean epoch loss: 1.831522\n",
      "epoch 24 finished. mean epoch loss: 1.831637\n",
      "epoch 25 finished. mean epoch loss: 1.831610\n",
      "epoch 26 finished. mean epoch loss: 1.831729\n",
      "epoch 27 finished. mean epoch loss: 1.831518\n",
      "epoch 28 finished. mean epoch loss: 1.831562\n",
      "epoch 29 finished. mean epoch loss: 1.831548\n",
      "epoch 30 finished. mean epoch loss: 1.831475\n",
      "epoch 31 finished. mean epoch loss: 1.831355\n",
      "epoch 32 finished. mean epoch loss: 1.831519\n",
      "epoch 33 finished. mean epoch loss: 1.831665\n",
      "epoch 34 finished. mean epoch loss: 1.831520\n",
      "epoch 35 finished. mean epoch loss: 1.831531\n",
      "epoch 36 finished. mean epoch loss: 1.831494\n",
      "epoch 37 finished. mean epoch loss: 1.831427\n",
      "epoch 38 finished. mean epoch loss: 1.831389\n",
      "epoch 39 finished. mean epoch loss: 1.831494\n",
      "epoch 40 finished. mean epoch loss: 1.831382\n",
      "epoch 41 finished. mean epoch loss: 1.831432\n",
      "epoch 42 finished. mean epoch loss: 1.831347\n",
      "epoch 43 finished. mean epoch loss: 1.831384\n",
      "epoch 44 finished. mean epoch loss: 1.831354\n",
      "epoch 45 finished. mean epoch loss: 1.831385\n",
      "epoch 46 finished. mean epoch loss: 1.831452\n",
      "epoch 47 finished. mean epoch loss: 1.831375\n",
      "epoch 48 finished. mean epoch loss: 1.831302\n",
      "epoch 49 finished. mean epoch loss: 1.831363\n",
      "epoch 50 finished. mean epoch loss: 1.831329\n"
     ]
    },
    {
     "ename": "KeyboardInterrupt",
     "evalue": "",
     "output_type": "error",
     "traceback": [
      "\u001b[0;31m---------------------------------------------------------------------------\u001b[0m",
      "\u001b[0;31mKeyboardInterrupt\u001b[0m                         Traceback (most recent call last)",
      "\u001b[0;32m<ipython-input-839-3f2891d9162d>\u001b[0m in \u001b[0;36m<module>\u001b[0;34m()\u001b[0m\n\u001b[1;32m      1\u001b[0m \u001b[0mnruns\u001b[0m\u001b[0;34m=\u001b[0m\u001b[0;36m1\u001b[0m\u001b[0;34m\u001b[0m\u001b[0m\n\u001b[0;32m----> 2\u001b[0;31m \u001b[0my_preds_shallow_linreg_mle\u001b[0m\u001b[0;34m,\u001b[0m \u001b[0mlosses_plots\u001b[0m \u001b[0;34m=\u001b[0m \u001b[0mdotrain_eval_tf\u001b[0m\u001b[0;34m(\u001b[0m\u001b[0mXtr\u001b[0m\u001b[0;34m,\u001b[0m \u001b[0mytr\u001b[0m\u001b[0;34m,\u001b[0m \u001b[0mXte\u001b[0m\u001b[0;34m,\u001b[0m \u001b[0myte\u001b[0m\u001b[0;34m,\u001b[0m \u001b[0mdebug_print\u001b[0m\u001b[0;34m=\u001b[0m\u001b[0;32mTrue\u001b[0m\u001b[0;34m,\u001b[0m \u001b[0mnepochs\u001b[0m\u001b[0;34m=\u001b[0m\u001b[0;36m100\u001b[0m\u001b[0;34m,\u001b[0m \u001b[0mnruns\u001b[0m\u001b[0;34m=\u001b[0m\u001b[0mnruns\u001b[0m\u001b[0;34m)\u001b[0m\u001b[0;34m\u001b[0m\u001b[0m\n\u001b[0m",
      "\u001b[0;32m<ipython-input-22-ab688fb74bf3>\u001b[0m in \u001b[0;36mdotrain_eval_tf\u001b[0;34m(Xtr, ytr, Xte, yte, nruns, nepochs, batchsize, debug_print)\u001b[0m\n\u001b[1;32m     27\u001b[0m                 \u001b[0;32mfor\u001b[0m \u001b[0mXb\u001b[0m\u001b[0;34m,\u001b[0m \u001b[0myb\u001b[0m \u001b[0;32min\u001b[0m \u001b[0mbatched\u001b[0m\u001b[0;34m(\u001b[0m\u001b[0mbatchsize\u001b[0m\u001b[0;34m,\u001b[0m \u001b[0mXtr\u001b[0m\u001b[0;34m,\u001b[0m \u001b[0mytr\u001b[0m\u001b[0;34m,\u001b[0m \u001b[0mshuf\u001b[0m\u001b[0;34m=\u001b[0m\u001b[0;32mTrue\u001b[0m\u001b[0;34m)\u001b[0m\u001b[0;34m:\u001b[0m\u001b[0;34m\u001b[0m\u001b[0m\n\u001b[1;32m     28\u001b[0m                     \u001b[0mXb_aug\u001b[0m\u001b[0;34m,\u001b[0m \u001b[0myb_aug\u001b[0m \u001b[0;34m=\u001b[0m \u001b[0maug\u001b[0m\u001b[0;34m.\u001b[0m\u001b[0maugbatch_train\u001b[0m\u001b[0;34m(\u001b[0m\u001b[0mXb\u001b[0m\u001b[0;34m,\u001b[0m \u001b[0myb\u001b[0m\u001b[0;34m)\u001b[0m\u001b[0;34m\u001b[0m\u001b[0m\n\u001b[0;32m---> 29\u001b[0;31m                     \u001b[0myb_aug\u001b[0m \u001b[0;34m=\u001b[0m \u001b[0myb_aug\u001b[0m\u001b[0;34m.\u001b[0m\u001b[0mreshape\u001b[0m\u001b[0;34m(\u001b[0m\u001b[0;34m-\u001b[0m\u001b[0;36m1\u001b[0m\u001b[0;34m,\u001b[0m\u001b[0;36m1\u001b[0m\u001b[0;34m)\u001b[0m\u001b[0;34m\u001b[0m\u001b[0m\n\u001b[0m\u001b[1;32m     30\u001b[0m                     _, preds, batch_losses = sess.run([train_step, y_target_tf, loss_tf], \n\u001b[1;32m     31\u001b[0m                                                       feed_dict={x_tf: Xb_aug, y_target_tf: yb_aug})\n",
      "\u001b[0;31mKeyboardInterrupt\u001b[0m: "
     ]
    }
   ],
   "source": [
    "nruns=1\n",
    "y_preds_shallow_linreg_mle, losses_plots = dotrain_eval_tf(Xtr, ytr, Xte, yte, debug_print=True, nepochs=100, nruns=nruns)"
   ]
  },
  {
   "cell_type": "code",
   "execution_count": 832,
   "metadata": {},
   "outputs": [
    {
     "data": {
      "image/png": "[encoded data removed]",
      "text/plain": [
       "<matplotlib.figure.Figure at 0x127f34b38>"
      ]
     },
     "metadata": {},
     "output_type": "display_data"
    }
   ],
   "source": [
    "import matplotlib.pyplot as plt\n",
    "\n",
    "plt.plot(range(0, len(losses_plots[0])), losses_plots[0])\n",
    "plt.xlabel('epochs')\n",
    "plt.ylabel('cost')\n",
    "plt.show()"
   ]
  },
  {
   "cell_type": "code",
   "execution_count": 833,
   "metadata": {},
   "outputs": [
    {
     "name": "stdout",
     "output_type": "stream",
     "text": [
      "Error: 94.10°±61.86°\n",
      "Stdev:  0.00°± 0.00°\n"
     ]
    }
   ],
   "source": [
    "Xte_aug, yte_aug = aug.augbatch_train(Xte, yte)\n",
    "yte_aug = yte_aug[:,None]\n",
    "show_errs_deg(y_preds_shallow_linreg_mle, yte_aug)"
   ]
  },
  {
   "cell_type": "code",
   "execution_count": 835,
   "metadata": {},
   "outputs": [
    {
     "data": {
      "image/png": "[encoded data removed]",
      "text/plain": [
       "<matplotlib.figure.Figure at 0x125d3c7b8>"
      ]
     },
     "metadata": {},
     "output_type": "display_data"
    }
   ],
   "source": [
    "fig, axes = plt.subplots(1, 3, figsize=(10,4))\n",
    "hm_pred_lr = cyclic_filter(mkheatmap_deg(np.concatenate(y_preds_shallow_linreg)[:,0], nbins=3600)/5, gaussfilter(41))\n",
    "hm_pred_lr_mle = cyclic_filter(mkheatmap_deg(np.concatenate(y_preds_shallow_linreg_mle)[:,0], nbins=3600)/nruns, gaussfilter(41))\n",
    "hm_real = cyclic_filter(mkheatmap_deg(yte, nbins=3600), gaussfilter(41))\n",
    "donut(axes[0], hm_pred_lr/(len(yte)/400), bg=(201, 201), R=50, aapow=40);\n",
    "axes[0].set_title('linear regression')\n",
    "donut(axes[1], hm_pred_lr_mle/(len(yte)/400), bg=(201, 201), R=50, aapow=40);\n",
    "axes[1].set_title('VM-MLE')\n",
    "donut(axes[2], hm_real/(len(yte)/400), bg=(201, 201), R=50, aapow=40);\n",
    "axes[2].set_title('ground truth')\n",
    "plt.show()"
   ]
  },
  {
   "cell_type": "markdown",
   "metadata": {},
   "source": [
    "#### MLE with variance estimation"
   ]
  },
  {
   "cell_type": "markdown",
   "metadata": {},
   "source": [
    "#### This conditioned version is definitely not the best way to do that, we need to find more elegant and efficient way"
   ]
  },
  {
   "cell_type": "markdown",
   "metadata": {},
   "source": [
    "#### same, but faster version"
   ]
  },
  {
   "cell_type": "code",
   "execution_count": null,
   "metadata": {
    "collapsed": true
   },
   "outputs": [],
   "source": [
    "def vm_model_full_tf():\n",
    "    mu = tf.Variable(0.0, name='mu')\n",
    "    kappa = tf.Variable(1.0, name='kappa')\n",
    "    return mu, kappa\n",
    "\n",
    "def mle_vm_loss_full(phi_target, mu, kappa, radian_input=True):\n",
    "    if radian_input:\n",
    "        scaler = 1\n",
    "    else:\n",
    "        #convert to radians in input is in degrees\n",
    "        scaler = 0.0174533\n",
    "    bessel_val = bessel_tf0(kappa)\n",
    "    likelihood = kappa * tf.cos(scaler * (phi_target - mu)) - tf.log(2*np.pi*bessel_val)\n",
    "    return tf.reduce_mean(-likelihood)"
   ]
  },
  {
   "cell_type": "code",
   "execution_count": null,
   "metadata": {
    "collapsed": true
   },
   "outputs": [],
   "source": [
    "def likelihood_np(phi_target, mu, kappa, radian_input=True):\n",
    "    if radian_input:\n",
    "        scaler = 1\n",
    "    else:\n",
    "        #convert to radians in input is in degrees\n",
    "        scaler = 0.0174533 \n",
    "    kappa = scaler * kappa\n",
    "    likelihood = kappa * np.cos(scaler * (phi_target - mu)) - np.log(2*np.pi*bessel(0, kappa))\n",
    "    return np.mean(likelihood)"
   ]
  },
  {
   "cell_type": "code",
   "execution_count": null,
   "metadata": {
    "collapsed": true
   },
   "outputs": [],
   "source": [
    "def likelihood_tf(phi_target, mu, kappa, radian_input=True):\n",
    "    if radian_input:\n",
    "        scaler = 1\n",
    "    else:\n",
    "        #convert to radians in input is in degrees\n",
    "        scaler = 0.0174533\n",
    "    bessel_val = bessel_tf0(kappa)\n",
    "    likelihood = kappa * tf.cos(scaler * (phi_target - mu)) - tf.log(2*np.pi*bessel_val)\n",
    "    return likilehood"
   ]
  },
  {
   "cell_type": "code",
   "execution_count": null,
   "metadata": {
    "collapsed": true
   },
   "outputs": [],
   "source": [
    "def mle_vm_full_demo(mu_gt, kappa_gt, sample_size=1000, niters=1000, lr=0.001):\n",
    "\n",
    "    print(\"ground truth Von-Mises params: mu=%f, kappa=%f\" %(mu_gt, kappa_gt))\n",
    "\n",
    "    vm_samples = vonmises(mu_gt, kappa_gt, sample_size)\n",
    "\n",
    "    losses = []\n",
    "    mu_preds = []\n",
    "    \n",
    "    tf.reset_default_graph()\n",
    "    phi_tf = tf.placeholder(tf.float32, shape=None)\n",
    "    mu_tf, kappa_tf = vm_model_full_tf()\n",
    "    mle_loss_tf = mle_vm_loss_full(phi_tf, mu_tf, kappa_tf)\n",
    "    train_step = tf.train.GradientDescentOptimizer(learning_rate=lr).minimize(mle_loss_tf)\n",
    "\n",
    "    init_op = tf.global_variables_initializer()\n",
    "    with tf.Session() as sess:\n",
    "        sess.run(init_op)\n",
    "        for i in range(0,niters):\n",
    "            loss, mu_pred, kappa_pred, _ = sess.run([mle_loss_tf, mu_tf, kappa_tf, train_step], feed_dict={phi_tf: vm_samples})\n",
    "            losses.append(loss)\n",
    "            mu_preds.append(mu_pred)\n",
    "\n",
    "    print(\"estimated Von-Mises params: mu=%f, kappa=%f\" %(mu_pred, kappa_pred))\n",
    "    \n",
    "    fig, axes = plt.subplots(2, 2, figsize=(10,8))\n",
    "    axes[0,0].plot(range(0, len(losses)), losses)\n",
    "    axes[0,0].set_title('cost over epochs')\n",
    "    axes[0,1].plot(range(0, len(mu_preds)), mu_preds)\n",
    "    axes[0,1].set_title('mu over epochs')\n",
    "    vm_gt = cyclic_filter(mkheatmap_deg(np.mod(np.rad2deg(vm_samples),360), nbins=3600)/5, gaussfilter(41))\n",
    "    vm_pred = cyclic_filter(mkheatmap_deg(np.mod(np.rad2deg(vonmises(mu_pred,kappa_pred,sample_size)),360), nbins=3600)/5, gaussfilter(41))\n",
    "    donut(axes[1,0], vm_gt/(len(yte)/400), bg=(201, 201), R=50, aapow=40);\n",
    "    axes[1,0].set_title('gt distribution')\n",
    "    donut(axes[1,1], vm_pred/(len(yte)/400), bg=(201, 201), R=50, aapow=40);\n",
    "    axes[1,1].set_title('estimated distribution') "
   ]
  },
  {
   "cell_type": "markdown",
   "metadata": {},
   "source": [
    "## Deep Linear Regression"
   ]
  },
  {
   "cell_type": "code",
   "execution_count": null,
   "metadata": {
    "collapsed": true
   },
   "outputs": [],
   "source": [
    "nets_linreg = [mknet_updated(df.Linear(512, 1, init=df.init.const(0))) for _ in range(5)]\n",
    "# print('{:.3f}M params'.format(count_params(nets_linreg[0])/1000000))"
   ]
  },
  {
   "cell_type": "code",
   "execution_count": null,
   "metadata": {
    "collapsed": true
   },
   "outputs": [],
   "source": [
    "trains_linreg = [dotrain(net, df.MADCriterion(), aug, Xtr, ytr[:,None]) for net in nets_linreg]"
   ]
  },
  {
   "cell_type": "code",
   "execution_count": null,
   "metadata": {
    "collapsed": true
   },
   "outputs": [],
   "source": [
    "for model in nets_linreg:\n",
    "    dostats(model, aug, Xtr, batchsize=1000)"
   ]
  },
  {
   "cell_type": "code",
   "execution_count": null,
   "metadata": {
    "collapsed": true
   },
   "outputs": [],
   "source": [
    "y_preds_linreg = [dopred_deg(net, aug, Xte) for net in nets_linreg]"
   ]
  },
  {
   "cell_type": "code",
   "execution_count": null,
   "metadata": {
    "collapsed": true,
    "scrolled": false
   },
   "outputs": [],
   "source": [
    "show_errs_deg(y_preds_linreg, yte[:,None])"
   ]
  },
  {
   "cell_type": "code",
   "execution_count": null,
   "metadata": {
    "collapsed": true,
    "scrolled": false
   },
   "outputs": [],
   "source": [
    "fig, axes = plt.subplots(1, 2, figsize=(8,4))\n",
    "hm_pred = cyclic_filter(mkheatmap_deg(np.concatenate(y_preds_linreg)[:,0], nbins=3600)/5, gaussfilter(41))\n",
    "hm_real = cyclic_filter(mkheatmap_deg(yte, nbins=3600), gaussfilter(41))\n",
    "donut(axes[0], hm_pred/(len(yte)/400), bg=(201, 201), R=50, aapow=40);\n",
    "donut(axes[1], hm_real/(len(yte)/400), bg=(201, 201), R=50, aapow=40);"
   ]
  },
  {
   "cell_type": "markdown",
   "metadata": {},
   "source": [
    "## Linear Regression in Radians"
   ]
  },
  {
   "cell_type": "markdown",
   "metadata": {},
   "source": [
    "This experiment is not present in the paper, but just in order to prove that the improvements do not lie in the smaller output range of biternions, here is the regression of the angles in radians, i.e. a small range. Spoiler: the results are the same as for degrees."
   ]
  },
  {
   "cell_type": "code",
   "execution_count": null,
   "metadata": {
    "collapsed": true
   },
   "outputs": [],
   "source": [
    "#nets_linreg_rad = [mknet(df.Linear(512, 1, initW=df.init.const(0))) for _ in range(5)]\n",
    "nets_shallow_linreg = [df.Sequential(\n",
    "    Flatten(),\n",
    "    df.Linear(3*46*46, 1, init=df.init.const(0)),\n",
    ") for _ in range(5)]\n",
    "#print('{:.3f}M params'.format(count_params(nets_linreg_rad[0])/1000000))"
   ]
  },
  {
   "cell_type": "code",
   "execution_count": null,
   "metadata": {},
   "outputs": [],
   "source": [
    "trains_linreg_rad = [dotrain(net, df.MADCriterion(), aug, Xtr, np.deg2rad(ytr[:,None])) for net in nets_shallow_linreg]"
   ]
  },
  {
   "cell_type": "code",
   "execution_count": null,
   "metadata": {
    "collapsed": true
   },
   "outputs": [],
   "source": [
    "for model in nets_shallow_linreg:\n",
    "    dostats(model, aug, Xtr, batchsize=1000)"
   ]
  },
  {
   "cell_type": "code",
   "execution_count": null,
   "metadata": {
    "collapsed": true
   },
   "outputs": [],
   "source": [
    "def ensemble_radians(angles):\n",
    "    return np.arctan2(np.mean(np.sin(angles), axis=0), np.mean(np.cos(angles), axis=0))"
   ]
  },
  {
   "cell_type": "code",
   "execution_count": null,
   "metadata": {
    "collapsed": true
   },
   "outputs": [],
   "source": [
    "def dopred_rad(model, aug, X, batchsize=100):\n",
    "    return dopred(model, aug, X, ensembling=ensemble_radians, output2preds=lambda x: x, batchsize=batchsize)"
   ]
  },
  {
   "cell_type": "code",
   "execution_count": null,
   "metadata": {
    "collapsed": true
   },
   "outputs": [],
   "source": [
    "y_preds_linreg_rad = [dopred_rad(net, aug, Xte) for net in nets_shallow_linreg]"
   ]
  },
  {
   "cell_type": "code",
   "execution_count": null,
   "metadata": {
    "scrolled": false
   },
   "outputs": [],
   "source": [
    "show_errs_deg(np.rad2deg(y_preds_linreg_rad), yte[:,None])"
   ]
  },
  {
   "cell_type": "code",
   "execution_count": null,
   "metadata": {
    "scrolled": false
   },
   "outputs": [],
   "source": [
    "fig, axes = plt.subplots(1, 2, figsize=(8,4))\n",
    "hm_pred = cyclic_filter(mkheatmap_deg(np.concatenate(np.rad2deg(y_preds_linreg_rad))[:,0], nbins=3600)/5, gaussfilter(41))\n",
    "hm_real = cyclic_filter(mkheatmap_deg(yte, nbins=3600), gaussfilter(41))\n",
    "donut(axes[0], hm_pred/(len(yte)/400), bg=(201, 201), R=50, aapow=40);\n",
    "donut(axes[1], hm_real/(len(yte)/400), bg=(201, 201), R=50, aapow=40);"
   ]
  },
  {
   "cell_type": "markdown",
   "metadata": {},
   "source": [
    "## Deep Linear Regression with Modulo"
   ]
  },
  {
   "cell_type": "code",
   "execution_count": null,
   "metadata": {
    "collapsed": true
   },
   "outputs": [],
   "source": [
    "nets_linreg_mod = [mknet(df.Linear(512, 1, initW=df.init.const(0))) for _ in range(5)]\n",
    "print('{:.3f}M params'.format(count_params(nets_linreg_mod[0])/1000000))"
   ]
  },
  {
   "cell_type": "code",
   "execution_count": null,
   "metadata": {
    "collapsed": true
   },
   "outputs": [],
   "source": [
    "class ModuloMADCriterion(df.Criterion):\n",
    "    def symb_forward(self, symb_in, symb_tgt):\n",
    "        self._assert_same_dim(symb_in, symb_tgt)\n",
    "\n",
    "        return df.T.mean(abs(symb_in - symb_tgt) % 360)"
   ]
  },
  {
   "cell_type": "code",
   "execution_count": null,
   "metadata": {
    "collapsed": true
   },
   "outputs": [],
   "source": [
    "trains_linreg_mod = [dotrain(net, ModuloMADCriterion(), aug, Xtr, ytr[:,None]) for net in nets_linreg_mod]"
   ]
  },
  {
   "cell_type": "code",
   "execution_count": null,
   "metadata": {
    "collapsed": true
   },
   "outputs": [],
   "source": [
    "for model in nets_linreg_mod:\n",
    "    dostats(model, aug, Xtr, batchsize=1000)"
   ]
  },
  {
   "cell_type": "code",
   "execution_count": null,
   "metadata": {
    "collapsed": true
   },
   "outputs": [],
   "source": [
    "y_preds_linreg_mod = [dopred_deg(net, aug, Xte) for net in nets_linreg_mod]"
   ]
  },
  {
   "cell_type": "code",
   "execution_count": null,
   "metadata": {
    "collapsed": true,
    "scrolled": true
   },
   "outputs": [],
   "source": [
    "show_errs_deg(y_preds_linreg_mod, yte[:,None])"
   ]
  },
  {
   "cell_type": "code",
   "execution_count": null,
   "metadata": {
    "collapsed": true,
    "scrolled": false
   },
   "outputs": [],
   "source": [
    "fig, axes = plt.subplots(1, 2, figsize=(8,4))\n",
    "hm_pred = cyclic_filter(mkheatmap_deg(np.concatenate(y_preds_linreg_mod)[:,0], nbins=3600)/5, gaussfilter(41))\n",
    "hm_real = cyclic_filter(mkheatmap_deg(yte, nbins=3600), gaussfilter(41))\n",
    "donut(axes[0], hm_pred/(len(yte)/400), bg=(201, 201), R=50, aapow=40);\n",
    "donut(axes[1], hm_real/(len(yte)/400), bg=(201, 201), R=50, aapow=40);"
   ]
  },
  {
   "cell_type": "markdown",
   "metadata": {},
   "source": [
    "As you can see, the `mod` in the criterion doesn't seem to change anything at all compared to the linear case. That's because our initialization of the last layer makes it output all-zeros in the first run, and from thereon it will be \"pulled upwards\" so as to output only values within [0,360] almost all the time. Within this range, `mod` is exactly a no-op, so nothing bad happens.\n",
    "\n",
    "But actually, even when forcing the network outside this \"nice\" range initially (using large initialization of the output layer), `mod` will behave the same as no-`mod`. Here is such a large initialization as reference, it's left as an exercise to the reader (as if there was one, heh) to do the same experiment without the `mod`."
   ]
  },
  {
   "cell_type": "code",
   "execution_count": null,
   "metadata": {
    "collapsed": true,
    "scrolled": true
   },
   "outputs": [],
   "source": [
    "net_linreg_mod2 = mknet(df.Linear(512, 1, initW=df.init.normal(20)))\n",
    "net_linreg_mod2.forward(aug.augbatch_train(Xtr[:10])[0]).T"
   ]
  },
  {
   "cell_type": "code",
   "execution_count": null,
   "metadata": {
    "collapsed": true,
    "scrolled": true
   },
   "outputs": [],
   "source": [
    "train_linreg_mod2 = dotrain(net_linreg_mod2, ModuloMADCriterion(), aug, Xtr, ytr[:,None])"
   ]
  },
  {
   "cell_type": "markdown",
   "metadata": {},
   "source": [
    "## Von-Mises Criterion"
   ]
  },
  {
   "cell_type": "code",
   "execution_count": null,
   "metadata": {
    "collapsed": true
   },
   "outputs": [],
   "source": [
    "class VonMisesCriterion(df.Criterion):\n",
    "    def __init__(self, kappa, radians=True):\n",
    "        df.Criterion.__init__(self)\n",
    "\n",
    "        self.kappa = kappa\n",
    "        self.torad = 1 if radians else 0.0174532925\n",
    "\n",
    "    def symb_forward(self, symb_in, symb_tgt):\n",
    "        delta_rad = self.torad * (symb_in - symb_tgt)\n",
    "        C = np.exp(2*self.kappa)\n",
    "        return df.T.mean(C - df.T.exp(self.kappa * (1+df.T.cos(delta_rad))))"
   ]
  },
  {
   "cell_type": "code",
   "execution_count": null,
   "metadata": {
    "collapsed": true
   },
   "outputs": [],
   "source": [
    "nets_linreg_vm = [mknet(df.Linear(512, 1, initW=df.init.const(0))) for _ in range(5)]\n",
    "print('{:.3f}M params'.format(count_params(nets_linreg_vm[0])/1000000))"
   ]
  },
  {
   "cell_type": "code",
   "execution_count": null,
   "metadata": {
    "collapsed": true
   },
   "outputs": [],
   "source": [
    "trains_linreg_vm = [dotrain(net, VonMisesCriterion(0.5, radians=False), aug, Xtr, ytr[:,None]) for net in nets_linreg_vm]"
   ]
  },
  {
   "cell_type": "code",
   "execution_count": null,
   "metadata": {
    "collapsed": true
   },
   "outputs": [],
   "source": [
    "for model in nets_linreg_vm:\n",
    "    dostats(model, aug, Xtr, batchsize=1000)"
   ]
  },
  {
   "cell_type": "code",
   "execution_count": null,
   "metadata": {
    "collapsed": true
   },
   "outputs": [],
   "source": [
    "y_preds_linreg_vm = [dopred_deg(net, aug, Xte) for net in nets_linreg_vm]"
   ]
  },
  {
   "cell_type": "code",
   "execution_count": null,
   "metadata": {
    "collapsed": true,
    "scrolled": true
   },
   "outputs": [],
   "source": [
    "show_errs_deg(y_preds_linreg_vm, yte[:,None])"
   ]
  },
  {
   "cell_type": "code",
   "execution_count": null,
   "metadata": {
    "collapsed": true,
    "scrolled": false
   },
   "outputs": [],
   "source": [
    "fig, axes = plt.subplots(1, 2, figsize=(8,4))\n",
    "hm_pred = cyclic_filter(mkheatmap_deg(np.concatenate(y_preds_linreg_vm)[:,0], nbins=3600)/5, gaussfilter(41))\n",
    "hm_real = cyclic_filter(mkheatmap_deg(yte, nbins=3600), gaussfilter(41))\n",
    "donut(axes[0], hm_pred/(len(yte)/400), bg=(201, 201), R=50, aapow=40);\n",
    "donut(axes[1], hm_real/(len(yte)/400), bg=(201, 201), R=50, aapow=40);"
   ]
  },
  {
   "cell_type": "markdown",
   "metadata": {},
   "source": [
    "## Biternion Output"
   ]
  },
  {
   "cell_type": "markdown",
   "metadata": {},
   "source": [
    "For the biternion output, no matter the criterion, we need a few common functions. First, the biternion layer itself (simply normalization), and utilities to convert angles to 2D vectors (\"biternions\") and vice-versa."
   ]
  },
  {
   "cell_type": "code",
   "execution_count": null,
   "metadata": {
    "collapsed": true
   },
   "outputs": [],
   "source": [
    "class Biternion(df.Module):\n",
    "    def symb_forward(self, symb_in):\n",
    "        return symb_in / df.T.sqrt((symb_in**2).sum(axis=1, keepdims=True))"
   ]
  },
  {
   "cell_type": "code",
   "execution_count": null,
   "metadata": {
    "collapsed": true
   },
   "outputs": [],
   "source": [
    "def deg2bit(angles_deg):\n",
    "    angles_rad = np.deg2rad(angles_deg)\n",
    "    return np.array([np.cos(angles_rad), np.sin(angles_rad)]).T"
   ]
  },
  {
   "cell_type": "code",
   "execution_count": null,
   "metadata": {
    "collapsed": true
   },
   "outputs": [],
   "source": [
    "def bit2deg(angles_bit):\n",
    "    return (np.rad2deg(np.arctan2(angles_bit[:,1], angles_bit[:,0])) + 360) % 360"
   ]
  },
  {
   "cell_type": "markdown",
   "metadata": {},
   "source": [
    "### Biternion with Cosine Criterion"
   ]
  },
  {
   "cell_type": "code",
   "execution_count": null,
   "metadata": {
    "collapsed": true
   },
   "outputs": [],
   "source": [
    "class CosineCriterion(df.Criterion):\n",
    "    def symb_forward(self, symb_in, symb_tgt):\n",
    "        # For normalized `p_t_given_x` and `t`, dot-product (batched)\n",
    "        # outputs a cosine value, i.e. between -1 (worst) and 1 (best)\n",
    "        cos_angles = df.T.batched_dot(symb_in, symb_tgt)\n",
    "\n",
    "        # Rescale to a cost going from 2 (worst) to 0 (best) each, then take mean.\n",
    "        return df.T.mean(1 - cos_angles)"
   ]
  },
  {
   "cell_type": "code",
   "execution_count": null,
   "metadata": {
    "collapsed": true,
    "scrolled": true
   },
   "outputs": [],
   "source": [
    "#nets_linreg_bt_cos = [mknet(df.Linear(512, 2, initW=df.init.normal(0.01)), Biternion()) for _ in range(5)]\n",
    "nets_linreg_bt_cos = [df.Sequential(\n",
    "    Flatten(),\n",
    "    df.Linear(3*46*46, 2, init=df.init.const(0)),\n",
    ") for _ in range(5)]\n",
    "#print('{:.3f}M params'.format(count_params(nets_linreg_bt_cos[0])/1000000))"
   ]
  },
  {
   "cell_type": "code",
   "execution_count": null,
   "metadata": {},
   "outputs": [],
   "source": [
    "trains_linreg_bt_cos = [dotrain(net, CosineCriterion(), aug, Xtr, deg2bit(ytr)) for net in nets_linreg_bt_cos]"
   ]
  },
  {
   "cell_type": "code",
   "execution_count": null,
   "metadata": {
    "collapsed": true
   },
   "outputs": [],
   "source": [
    "for model in nets_linreg_bt_cos:\n",
    "    dostats(model, aug, Xtr, batchsize=1000)"
   ]
  },
  {
   "cell_type": "code",
   "execution_count": null,
   "metadata": {
    "collapsed": true
   },
   "outputs": [],
   "source": [
    "y_preds_linreg_bt_cos = [bit2deg(dopred_deg(net, aug, Xte)) for net in nets_linreg_bt_cos]"
   ]
  },
  {
   "cell_type": "code",
   "execution_count": null,
   "metadata": {
    "scrolled": true
   },
   "outputs": [],
   "source": [
    "show_errs_deg(y_preds_linreg_bt_cos, yte)"
   ]
  },
  {
   "cell_type": "code",
   "execution_count": null,
   "metadata": {
    "scrolled": true
   },
   "outputs": [],
   "source": [
    "fig, axes = plt.subplots(1, 2, figsize=(8,4))\n",
    "hm_pred = cyclic_filter(mkheatmap_deg(np.concatenate(y_preds_linreg_bt_cos), nbins=3600)/5, gaussfilter(41))\n",
    "hm_real = cyclic_filter(mkheatmap_deg(yte, nbins=3600), gaussfilter(41))\n",
    "donut(axes[0], hm_pred/(len(yte)/400), bg=(201, 201), R=50, aapow=40);\n",
    "donut(axes[1], hm_real/(len(yte)/400), bg=(201, 201), R=50, aapow=40);"
   ]
  },
  {
   "cell_type": "markdown",
   "metadata": {},
   "source": [
    "### Biternion with Von-Mises Criterion"
   ]
  },
  {
   "cell_type": "code",
   "execution_count": null,
   "metadata": {
    "collapsed": true
   },
   "outputs": [],
   "source": [
    "class VonMisesBiternionCriterion(df.Criterion):\n",
    "    def __init__(self, kappa):\n",
    "        df.Criterion.__init__(self)\n",
    "        self.kappa = kappa\n",
    "\n",
    "    def symb_forward(self, symb_in, symb_tgt):\n",
    "        cos_angles = df.T.batched_dot(symb_in, symb_tgt)\n",
    "\n",
    "        # This is the only difference to the pure `CosineCriterion`.\n",
    "        # Obviously, they could be in the same class, but I separate them here for narration.\n",
    "        cos_angles = df.T.exp(self.kappa * (cos_angles - 1))\n",
    "\n",
    "        return df.T.mean(1 - cos_angles)"
   ]
  },
  {
   "cell_type": "code",
   "execution_count": null,
   "metadata": {
    "collapsed": true,
    "scrolled": false
   },
   "outputs": [],
   "source": [
    "nets_linreg_bt_vm = [mknet(df.Linear(512, 2, initW=df.init.normal(0.01)), Biternion()) for _ in range(5)]\n",
    "print('{:.3f}M params'.format(count_params(nets_linreg_bt_vm[0])/1000000))"
   ]
  },
  {
   "cell_type": "code",
   "execution_count": null,
   "metadata": {
    "collapsed": true
   },
   "outputs": [],
   "source": [
    "trains_linreg_bt_vm = [dotrain(net, VonMisesBiternionCriterion(1), aug, Xtr, deg2bit(ytr)) for net in nets_linreg_bt_vm]"
   ]
  },
  {
   "cell_type": "code",
   "execution_count": null,
   "metadata": {
    "collapsed": true
   },
   "outputs": [],
   "source": [
    "for model in nets_linreg_bt_vm:\n",
    "    dostats(model, aug, Xtr, batchsize=1000)"
   ]
  },
  {
   "cell_type": "code",
   "execution_count": null,
   "metadata": {
    "collapsed": true
   },
   "outputs": [],
   "source": [
    "y_preds_linreg_bt_vm = [bit2deg(dopred_deg(net, aug, Xte)) for net in nets_linreg_bt_vm]"
   ]
  },
  {
   "cell_type": "code",
   "execution_count": null,
   "metadata": {
    "collapsed": true,
    "scrolled": false
   },
   "outputs": [],
   "source": [
    "show_errs_deg(y_preds_linreg_bt_vm, yte)"
   ]
  },
  {
   "cell_type": "code",
   "execution_count": null,
   "metadata": {
    "collapsed": true,
    "scrolled": true
   },
   "outputs": [],
   "source": [
    "fig, axes = plt.subplots(1, 2, figsize=(8,4))\n",
    "hm_pred = cyclic_filter(mkheatmap_deg(np.concatenate(y_preds_linreg_bt_vm), nbins=3600)/5, gaussfilter(41))\n",
    "hm_real = cyclic_filter(mkheatmap_deg(yte, nbins=3600), gaussfilter(41))\n",
    "donut(axes[0], hm_pred/(len(yte)/400), bg=(201, 201), R=50, aapow=40);\n",
    "donut(axes[1], hm_real/(len(yte)/400), bg=(201, 201), R=50, aapow=40);"
   ]
  },
  {
   "cell_type": "markdown",
   "metadata": {},
   "source": [
    "# Regression using weak (class) labels"
   ]
  },
  {
   "cell_type": "markdown",
   "metadata": {},
   "source": [
    "This second half of the notebook is about reproducing Table 4 of Section 5 of the paper, i.e. investigating how well distributed of an output we can learn from discrete (\"weak\") class labels. For this, we will quantize the TownCentre labels into various amounts of weak classes."
   ]
  },
  {
   "cell_type": "code",
   "execution_count": null,
   "metadata": {
    "collapsed": true
   },
   "outputs": [],
   "source": [
    "def quantize_labels(y, ranges):\n",
    "    q = np.empty(y.shape, dtype=np.int32)\n",
    "    for i in range(len(ranges)-1):\n",
    "        # Check for \"that\" jump.\n",
    "        if ranges[i] < ranges[i+1]:\n",
    "            q[(ranges[i] <= y) & (y < ranges[i+1])] = i\n",
    "        else:\n",
    "            q[(ranges[i] <= y) | (y < ranges[i+1])] = i\n",
    "    return q"
   ]
  },
  {
   "cell_type": "markdown",
   "metadata": {},
   "source": [
    "The following function simply does softmax prediction, i.e. returns class-probabilities for each sample."
   ]
  },
  {
   "cell_type": "code",
   "execution_count": null,
   "metadata": {
    "collapsed": true
   },
   "outputs": [],
   "source": [
    "def dopred_sm(model, aug, X, batchsize=100):\n",
    "    return dopred(model, aug, X, ensembling=lambda p_ys: np.mean(p_ys, axis=0), output2preds=lambda x: x, batchsize=batchsize)"
   ]
  },
  {
   "cell_type": "markdown",
   "metadata": {},
   "source": [
    "Convert class-probabilities as returned by `dopred_sm` into angle predictions in degrees by simply using the class-centre."
   ]
  },
  {
   "cell_type": "code",
   "execution_count": null,
   "metadata": {
    "collapsed": true
   },
   "outputs": [],
   "source": [
    "def probs2deg_centre(p_y, centres):\n",
    "    return centres[np.argmax(p_y, axis=-1)]"
   ]
  },
  {
   "cell_type": "markdown",
   "metadata": {},
   "source": [
    "Convert class-probabilities as returned by `dopred_sm` into angle predictions in degrees by quadratically interpolating between the highest-probability class and its two neighbors, and then predicting the max of that parabola."
   ]
  },
  {
   "cell_type": "code",
   "execution_count": null,
   "metadata": {
    "collapsed": true
   },
   "outputs": [],
   "source": [
    "# http://stackoverflow.com/questions/717762/how-to-calculate-the-vertex-of-a-parabola-given-three-points\n",
    "def parabola_vertex(x, y):\n",
    "    x1, x2, x3 = x\n",
    "    y1, y2, y3 = y\n",
    "    denom = (x1 - x2) * (x1 - x3) * (x2 - x3)\n",
    "    A = (x3 * (y2 - y1) + x2 * (y1 - y3) + x1 * (y3 - y2)) / denom\n",
    "    B = (x3 * x3 * (y1 - y2) + x2 * x2 * (y3 - y1) + x1 * x1 * (y2 - y3)) / denom\n",
    "    C = (x2 * x3 * (x2 - x3) * y1 + x3 * x1 * (x3 - x1) * y2 + x1 * x2 * (x1 - x2) * y3) / denom\n",
    "\n",
    "    return -B / (2*A), C - B*B / (4*A)\n",
    "\n",
    "#parabola_vertex(1,1, 0,2, -1,1)\n",
    "#parabola_vertex([1, 0, -1], [1, 2, 1])"
   ]
  },
  {
   "cell_type": "code",
   "execution_count": null,
   "metadata": {
    "collapsed": true
   },
   "outputs": [],
   "source": [
    "def prob2deg_quadint(p_y, centres):\n",
    "    i = np.argmax(p_y)\n",
    "    if i == 0:\n",
    "        return parabola_vertex([centres[-1] - 360, centres[0], centres[1]], p_y[[-1, 0, 1]])\n",
    "    elif i == len(centres)-1:\n",
    "        return parabola_vertex([centres[-2], centres[-1], centres[0] + 360], p_y[[-2, -1, 0]])\n",
    "    else:\n",
    "        return parabola_vertex(centres[[i-1, i, i+1]], p_y[[i-1, i, i+1]])\n",
    "\n",
    "def probs2deg_quadint(preds, centres):\n",
    "    return np.array([prob2deg_quadint(p, centres)[0] for p in preds])"
   ]
  },
  {
   "cell_type": "markdown",
   "metadata": {},
   "source": [
    "## 3 Orientation bins"
   ]
  },
  {
   "cell_type": "code",
   "execution_count": null,
   "metadata": {
    "collapsed": true
   },
   "outputs": [],
   "source": [
    "q3_borders = np.array([0, 120, 240, 361], dtype=df.floatX)\n",
    "q3_centres = np.array([ 60,  180, 320  ], dtype=df.floatX)"
   ]
  },
  {
   "cell_type": "markdown",
   "metadata": {},
   "source": [
    "### Class-centre predictions"
   ]
  },
  {
   "cell_type": "code",
   "execution_count": null,
   "metadata": {
    "collapsed": true,
    "scrolled": true
   },
   "outputs": [],
   "source": [
    "nets_q3_sm = [mknet(df.Linear(512, 3, initW=df.init.const(0)), df.SoftMax()) for _ in range(5)]\n",
    "trains_q3_sm = [dotrain(net, df.ClassNLLCriterion(), aug, Xtr, quantize_labels(ytr, q3_borders)) for net in nets_q3_sm]\n",
    "for model in nets_q3_sm:\n",
    "    dostats(model, aug, Xtr, batchsize=1000)\n",
    "y_preds_q3_sm = [dopred_sm(net, aug, Xte) for net in nets_q3_sm]"
   ]
  },
  {
   "cell_type": "code",
   "execution_count": null,
   "metadata": {
    "collapsed": true,
    "scrolled": false
   },
   "outputs": [],
   "source": [
    "show_errs_deg(probs2deg_centre(y_preds_q3_sm, q3_centres), yte)"
   ]
  },
  {
   "cell_type": "markdown",
   "metadata": {},
   "source": [
    "### Probabilistic class interpolation predictions"
   ]
  },
  {
   "cell_type": "code",
   "execution_count": null,
   "metadata": {
    "collapsed": true
   },
   "outputs": [],
   "source": [
    "show_errs_deg([probs2deg_quadint(p_y, q3_centres) for p_y in y_preds_q3_sm], yte)"
   ]
  },
  {
   "cell_type": "markdown",
   "metadata": {},
   "source": [
    "### Deep linear regression"
   ]
  },
  {
   "cell_type": "code",
   "execution_count": null,
   "metadata": {
    "collapsed": true
   },
   "outputs": [],
   "source": [
    "nets_q3_lr = [mknet(df.Linear(512, 1, initW=df.init.const(0))) for _ in range(5)]\n",
    "trains_q3_lr = [dotrain(net, df.MADCriterion(), aug, Xtr, q3_centres[quantize_labels(ytr, q3_borders),None]) for net in nets_q3_lr]\n",
    "for model in nets_q3_lr:\n",
    "    dostats(model, aug, Xtr, batchsize=1000)\n",
    "y_preds_q3_lr = [dopred_deg(net, aug, Xte) for net in nets_q3_lr]"
   ]
  },
  {
   "cell_type": "code",
   "execution_count": null,
   "metadata": {
    "collapsed": true,
    "scrolled": false
   },
   "outputs": [],
   "source": [
    "show_errs_deg(y_preds_q3_lr, yte[:,None])"
   ]
  },
  {
   "cell_type": "markdown",
   "metadata": {},
   "source": [
    "### Deep linear regression + Von-Mises"
   ]
  },
  {
   "cell_type": "code",
   "execution_count": null,
   "metadata": {
    "collapsed": true,
    "scrolled": true
   },
   "outputs": [],
   "source": [
    "nets_q3_lr_vm = [mknet(df.Linear(512, 1, initW=df.init.const(0))) for _ in range(5)]\n",
    "trains_q3_lr_vm = [dotrain(net, VonMisesCriterion(1, radians=False), aug, Xtr, q3_centres[quantize_labels(ytr, q3_borders),None]) for net in nets_q3_lr_vm]\n",
    "for model in nets_q3_lr_vm:\n",
    "    dostats(model, aug, Xtr, batchsize=1000)\n",
    "y_preds_q3_lr_vm = [dopred_deg(net, aug, Xte) for net in nets_q3_lr_vm]"
   ]
  },
  {
   "cell_type": "code",
   "execution_count": null,
   "metadata": {
    "collapsed": true,
    "scrolled": false
   },
   "outputs": [],
   "source": [
    "show_errs_deg(y_preds_q3_lr_vm, yte[:,None])"
   ]
  },
  {
   "cell_type": "markdown",
   "metadata": {},
   "source": [
    "### Biternions"
   ]
  },
  {
   "cell_type": "code",
   "execution_count": null,
   "metadata": {
    "collapsed": true,
    "scrolled": false
   },
   "outputs": [],
   "source": [
    "nets_q3_bt = [mknet(df.Linear(512, 2, initW=df.init.normal(0.01)), Biternion()) for _ in range(5)]\n",
    "trains_q3_bt = [dotrain(net, CosineCriterion(), aug, Xtr, deg2bit(q3_centres[quantize_labels(ytr, q3_borders)])) for net in nets_q3_bt]\n",
    "for model in nets_q3_bt:\n",
    "    dostats(model, aug, Xtr, batchsize=1000)\n",
    "y_preds_q3_bt = [bit2deg(dopred_deg(net, aug, Xte)) for net in nets_q3_bt]"
   ]
  },
  {
   "cell_type": "code",
   "execution_count": null,
   "metadata": {
    "collapsed": true
   },
   "outputs": [],
   "source": [
    "show_errs_deg(y_preds_q3_bt, yte)"
   ]
  },
  {
   "cell_type": "markdown",
   "metadata": {},
   "source": [
    "### Biternions + Von-Mises"
   ]
  },
  {
   "cell_type": "code",
   "execution_count": null,
   "metadata": {
    "collapsed": true,
    "scrolled": true
   },
   "outputs": [],
   "source": [
    "nets_q3_bt_vm = [mknet(df.Linear(512, 2, initW=df.init.normal(0.01)), Biternion()) for _ in range(5)]\n",
    "trains_q3_bt_vm = [dotrain(net, VonMisesBiternionCriterion(1), aug, Xtr, deg2bit(q3_centres[quantize_labels(ytr, q3_borders)])) for net in nets_q3_bt_vm]\n",
    "for model in nets_q3_bt_vm:\n",
    "    dostats(model, aug, Xtr, batchsize=1000)\n",
    "y_preds_q3_bt_vm = [bit2deg(dopred_deg(net, aug, Xte)) for net in nets_q3_bt_vm]"
   ]
  },
  {
   "cell_type": "code",
   "execution_count": null,
   "metadata": {
    "collapsed": true
   },
   "outputs": [],
   "source": [
    "show_errs_deg(y_preds_q3_bt_vm, yte)"
   ]
  },
  {
   "cell_type": "markdown",
   "metadata": {},
   "source": [
    "## 4 to 12 Orientation bins"
   ]
  },
  {
   "cell_type": "markdown",
   "metadata": {},
   "source": [
    "I don't want to clutter the remainder of this notebook with all-the-same plots and cells only the number of bins changing, so here they are in a loop.\n",
    "Note that we can't keep all the networks in memory or we'll run out of GPU memory relatively fast, so I'll only keep track of training curves and predictions."
   ]
  },
  {
   "cell_type": "code",
   "execution_count": null,
   "metadata": {
    "collapsed": true
   },
   "outputs": [],
   "source": [
    "def train_stats(net, crit, aug, Xtr, ytr, title):\n",
    "    r = dotrain(net, crit, aug, Xtr, ytr, title=title)\n",
    "    dostats(net, aug, Xtr, batchsize=100)\n",
    "    return r"
   ]
  },
  {
   "cell_type": "code",
   "execution_count": null,
   "metadata": {
    "collapsed": true
   },
   "outputs": [],
   "source": [
    "trains = {}\n",
    "preds = {}\n",
    "centres = {}\n",
    "borders = {}\n",
    "\n",
    "for name, bord, cent in (\n",
    "('4x', [315, 45, 135, 225, 315],\n",
    "       [   0,  90, 180, 270   ]),\n",
    "('4p', [0, 90, 180, 270, 361],\n",
    "       [ 45, 135, 225, 315  ]),\n",
    "('6x', [330, 30, 90, 150, 210, 270, 330],\n",
    "       [   0, 60, 120, 180, 240, 300   ]),\n",
    "('8x', [337.5, 22.5, 67.5, 112.5, 157.5, 202.5, 247.5, 292.5, 337.5],\n",
    "       [     0,    45,   90,   135,   180,   225,   270,   315,    ]),\n",
    "('8p', [0,   45,   90,   135,   180,   225,   270,   315,   361],\n",
    "       [ 22.5, 67.5, 112.5, 157.5, 202.5, 247.5, 292.5, 337.5  ]),\n",
    "('10x',[342, 18, 54, 90, 126, 162, 198, 234, 270, 306, 342],\n",
    "       [   0,  36, 72, 108, 144, 180, 216, 252, 288, 324  ]),\n",
    "('12x',[345, 15, 45, 75, 105, 135, 165, 195, 225, 255, 285, 315, 345],\n",
    "       [   0,  30, 60, 90,  120, 150, 180, 210, 240, 270, 300, 330  ]),\n",
    "):\n",
    "    print(name)\n",
    "    cent = centres[name] = np.array(cent, df.floatX)\n",
    "    bord = borders[name] = np.array(bord, df.floatX)\n",
    "    qtr = quantize_labels(ytr, bord)\n",
    "\n",
    "    trains[name] = {}\n",
    "    preds[name] = {}\n",
    "\n",
    "    # Softmax.\n",
    "    nets = [mknet(df.Linear(512, len(cent), initW=df.init.const(0)), df.SoftMax()) for _ in range(5)]\n",
    "    trains[name]['sm'] = [train_stats(net, df.ClassNLLCriterion(), aug, Xtr, qtr, \"Softmax \" + name) for net in nets]\n",
    "    preds[name]['sm'] = [dopred_sm(net, aug, Xte) for net in nets]\n",
    "\n",
    "    # Linear regression.\n",
    "    nets = [mknet(df.Linear(512, 1, initW=df.init.const(0))) for _ in range(5)]\n",
    "    trains[name]['lr'] = [train_stats(net, df.MADCriterion(), aug, Xtr, cent[qtr,None], \"LinReg \" + name) for net in nets]\n",
    "    preds[name]['lr'] = [dopred_deg(net, aug, Xte) for net in nets]\n",
    "\n",
    "    # Linear regression + von-Mises.\n",
    "    nets = [mknet(df.Linear(512, 1, initW=df.init.const(0))) for _ in range(5)]\n",
    "    trains[name]['lr_vm'] = [train_stats(net, VonMisesCriterion(1, radians=False), aug, Xtr, cent[qtr,None], \"LinReg-vM \" + name) for net in nets]\n",
    "    preds[name]['lr_vm'] = [dopred_deg(net, aug, Xte) for net in nets]\n",
    "\n",
    "    # Biternions.\n",
    "    nets = [mknet(df.Linear(512, 2, initW=df.init.normal(0.01)), Biternion()) for _ in range(5)]\n",
    "    trains[name]['bt'] = [train_stats(net, CosineCriterion(), aug, Xtr, deg2bit(cent[qtr]), \"BitReg \" + name) for net in nets]\n",
    "    preds[name]['bt'] = [bit2deg(dopred_deg(net, aug, Xte)) for net in nets]\n",
    "\n",
    "    # Biternions + von-Mises.\n",
    "    nets = [mknet(df.Linear(512, 2, initW=df.init.normal(0.01)), Biternion()) for _ in range(5)]\n",
    "    trains[name]['bt_vm'] = [train_stats(net, VonMisesBiternionCriterion(1), aug, Xtr, deg2bit(cent[qtr]), \"BitReg-vM \" + name) for net in nets]\n",
    "    preds[name]['bt_vm'] = [bit2deg(dopred_deg(net, aug, Xte)) for net in nets]"
   ]
  },
  {
   "cell_type": "markdown",
   "metadata": {},
   "source": [
    "### A peek at the results"
   ]
  },
  {
   "cell_type": "markdown",
   "metadata": {},
   "source": [
    "I don't have the time to make this into a pretty automatic table, the table is in the paper. Here are all the results dumped in not-so-nice-to-read form:"
   ]
  },
  {
   "cell_type": "code",
   "execution_count": null,
   "metadata": {
    "collapsed": true,
    "scrolled": true
   },
   "outputs": [],
   "source": [
    "for name in ('4x', '4p', '6x', '8x', '8p', '10x', '12x'):\n",
    "    pre = preds[name]\n",
    "    print()\n",
    "    print(name)\n",
    "    print(\"=\" * len(name))\n",
    "    print()\n",
    "    print(\"Softmax centre prediction\")\n",
    "    show_errs_deg(probs2deg_centre(pre['sm'], centres[name]), yte)\n",
    "    print()\n",
    "    print(\"Softmax interpolated prediction\")\n",
    "    show_errs_deg([probs2deg_quadint(p, centres[name]) for p in pre['sm']], yte)\n",
    "    print()\n",
    "    print(\"Deep linear regression\")\n",
    "    show_errs_deg(pre['lr'], yte[:,None])\n",
    "    print()\n",
    "    print(\"Deep linear von-Mises regression\")\n",
    "    show_errs_deg(pre['lr_vm'], yte[:,None])\n",
    "    print()\n",
    "    print(\"Deep biternion regression\")\n",
    "    show_errs_deg(pre['bt'], yte)\n",
    "    print()\n",
    "    print(\"Deep biternion von-Mises regression\")\n",
    "    show_errs_deg(pre['bt_vm'], yte)"
   ]
  },
  {
   "cell_type": "markdown",
   "metadata": {},
   "source": [
    "Also, as reported in the paper, the numbers don't do justice to the prediction quality. The softmaxes have good scores, but their output is really \"stuck\" at the bin-centres. We can see this using the heatmaps:"
   ]
  },
  {
   "cell_type": "code",
   "execution_count": null,
   "metadata": {
    "collapsed": true
   },
   "outputs": [],
   "source": [
    "mkpreds = {\n",
    "    'sm': lambda name: np.concatenate(probs2deg_centre(preds[name]['sm'], centres[name])),\n",
    "    'sm_int': lambda name: np.concatenate([probs2deg_quadint(p, centres[name]) for p in preds[name]['sm']]),\n",
    "    'lr': lambda name: np.concatenate(preds[name]['lr'])[:,0],\n",
    "    'lr_vm': lambda name: np.concatenate(preds[name]['lr_vm'])[:,0],\n",
    "    'bt': lambda name: np.concatenate(preds[name]['bt']),\n",
    "    'bt_vm': lambda name: np.concatenate(preds[name]['bt_vm']),\n",
    "}\n",
    "titles = {\n",
    "    'sm': 'Softmax centre ({})',\n",
    "    'sm_int': 'Softmax interpolation ({})',\n",
    "    'lr': 'Linear regression ({})',\n",
    "    'lr_vm': 'Linear von-Mises ({})',\n",
    "    'bt': 'Biternion regression ({})',\n",
    "    'bt_vm': 'Biternion von-Mises ({})',\n",
    "}"
   ]
  },
  {
   "cell_type": "code",
   "execution_count": null,
   "metadata": {
    "collapsed": true,
    "scrolled": true
   },
   "outputs": [],
   "source": [
    "fig, axes = plt.subplots(6, 4, figsize=(4*4,6*4))\n",
    "for (kind, name), ax in zip(product(('sm', 'sm_int', 'lr', 'lr_vm', 'bt', 'bt_vm'), ('4x', '6x', '8x', '12x')), axes.flat):\n",
    "    hm = cyclic_filter(mkheatmap_deg(mkpreds[kind](name), nbins=3600)/5, gaussfilter(41))\n",
    "    ax.set_title(titles[kind].format(name), fontsize=12)\n",
    "    donut(ax, hm/(len(yte)/400), bg=(201, 201), R=50, aapow=40);"
   ]
  },
  {
   "cell_type": "markdown",
   "metadata": {},
   "source": [
    "This pretty clearly shows that both Biternions and von-Mises help with cyclic predictions. It also clearly shows that 4 bins is not enough, in any case!\n",
    "\n",
    "Finally, that \"linear regression\" plot again clearly shows why linear regression of a circular value doesn't make sense!"
   ]
  }
 ],
 "metadata": {
  "kernelspec": {
   "display_name": "Python 3",
   "language": "python",
   "name": "python3"
  },
  "language_info": {
   "codemirror_mode": {
    "name": "ipython",
    "version": 3
   },
   "file_extension": ".py",
   "mimetype": "text/x-python",
   "name": "python",
   "nbconvert_exporter": "python",
   "pygments_lexer": "ipython3",
   "version": "3.6.1"
  },
  "notify_time": "10"
 },
 "nbformat": 4,
 "nbformat_minor": 1
}
