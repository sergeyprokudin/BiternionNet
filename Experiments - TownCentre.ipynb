{
 "cells": [
  {
   "cell_type": "markdown",
   "metadata": {},
   "source": [
    "# Experiments on the TownCentre dataset"
   ]
  },
  {
   "cell_type": "markdown",
   "metadata": {},
   "source": [
    "### Table of contents\n",
    "\n",
    "<a href='#utils_plots'>Utilities and plots</a>\n",
    " \n",
    "<a href='#load_towncentre'>TownCentre data loading</a>\n",
    "\n",
    "<a href='#deep_linear_regression'>Deep linear regression</a>\n",
    "\n",
    "<a href='#deep_biternion'>Deep biternion regression</a>\n"
   ]
  },
  {
   "cell_type": "markdown",
   "metadata": {},
   "source": [
    "This is the reproduction of the experiments described and shown in Section 4.3 of the BiternionNets paper, including the results shown in Table 3, as well as Table 4 in Secton 5."
   ]
  },
  {
   "cell_type": "code",
   "execution_count": 6,
   "metadata": {
    "init_cell": true
   },
   "outputs": [
    {
     "name": "stdout",
     "output_type": "stream",
     "text": [
      "The autoreload extension is already loaded. To reload it, use:\n",
      "  %reload_ext autoreload\n"
     ]
    }
   ],
   "source": [
    "%load_ext autoreload\n",
    "%autoreload 2\n",
    "import numpy as np\n",
    "import pickle, gzip\n",
    "from collections import Counter"
   ]
  },
  {
   "cell_type": "code",
   "execution_count": 7,
   "metadata": {
    "collapsed": true,
    "init_cell": true
   },
   "outputs": [],
   "source": [
    "%matplotlib inline\n",
    "\n",
    "# Font which got unicode math stuff.\n",
    "import matplotlib as mpl\n",
    "mpl.rcParams['font.family'] = 'DejaVu Sans'\n",
    "\n",
    "# Much more readable plots\n",
    "import matplotlib.pyplot as plt\n",
    "plt.style.use('ggplot')"
   ]
  },
  {
   "cell_type": "code",
   "execution_count": 8,
   "metadata": {
    "collapsed": true,
    "init_cell": true
   },
   "outputs": [],
   "source": [
    "import DeepFried2 as df"
   ]
  },
  {
   "cell_type": "code",
   "execution_count": 9,
   "metadata": {
    "collapsed": true
   },
   "outputs": [],
   "source": [
    "import tensorflow as tf\n",
    "import tensorflow.contrib.slim as slim"
   ]
  },
  {
   "cell_type": "code",
   "execution_count": 10,
   "metadata": {
    "collapsed": true,
    "init_cell": true
   },
   "outputs": [],
   "source": [
    "from lbtoolbox.thutil import count_params\n",
    "from lbtoolbox.augmentation import AugmentationPipeline, Cropper"
   ]
  },
  {
   "cell_type": "markdown",
   "metadata": {},
   "source": [
    "Functions for training and evaluating that are shared across notebooks."
   ]
  },
  {
   "cell_type": "code",
   "execution_count": 11,
   "metadata": {
    "collapsed": true,
    "init_cell": true
   },
   "outputs": [],
   "source": [
    "from training_utils import dotrain, dostats, dopred"
   ]
  },
  {
   "cell_type": "markdown",
   "metadata": {},
   "source": [
    "# Utilities and plotting\n",
    "\n",
    "<a id='utils_plots'></a>"
   ]
  },
  {
   "cell_type": "markdown",
   "metadata": {},
   "source": [
    "These functions can be used for \"cyclic\" filtering of a 1D array, such as a histogram of angles as will be used later."
   ]
  },
  {
   "cell_type": "code",
   "execution_count": 12,
   "metadata": {
    "collapsed": true,
    "init_cell": true
   },
   "outputs": [],
   "source": [
    "def boxfilter(n):\n",
    "    return np.ones(n)/n\n",
    "\n",
    "def gaussfilter(n, sigma=0.3, retx=False, norm=np.sum):\n",
    "    x = np.arange(-(n-1)/2, (n+1)/2)\n",
    "    x /= np.max(x)\n",
    "    y = 1/(sigma * np.sqrt(2*np.pi)) * np.exp(-x**2/(2*sigma**2))\n",
    "    if norm is not None:\n",
    "        y /= norm(y)\n",
    "    return (x, y) if retx else y\n",
    "\n",
    "def cyclic_filter(a, f):\n",
    "    # Pad in a cyclic way so that we can use 'same' convolution to cycle.\n",
    "    a = np.pad(a, pad_width=len(f)//2, mode='wrap')\n",
    "    # While it doesn't make a difference here because `f` is symmetric,\n",
    "    # we use `correlate` because `convolve` flips the filter.\n",
    "    return np.correlate(a, f, mode='valid')"
   ]
  },
  {
   "cell_type": "markdown",
   "metadata": {},
   "source": [
    "The following function generates kind-of a histogram over the cyclic range [0,360] using an array of predictions `preds`."
   ]
  },
  {
   "cell_type": "code",
   "execution_count": 13,
   "metadata": {
    "collapsed": true,
    "init_cell": true
   },
   "outputs": [],
   "source": [
    "def mkheatmap_deg(preds, nbins=360):\n",
    "    \"\"\"\n",
    "    - `preds`: The array of angle predictions.\n",
    "    - `norm`: function of the count-values by the return value of which to divide. Examples:\n",
    "        - `sum` for getting a \"frequency\" histogram (if without filtering).\n",
    "        - `max` for getting a histogram whose peak is at 1 (if without filtering).\n",
    "        - `None` for an unnormalized \"counts\" histogram.\n",
    "    - `nbins`: Obvious.\n",
    "    \"\"\"\n",
    "    # Make sure to be in [0,360) range for Counter.\n",
    "    preds = (preds + 3600) % 360\n",
    "    hm = np.zeros(nbins)\n",
    "\n",
    "    # Discretize the predictions into the bins we have.\n",
    "    ipreds = (preds/(360/nbins)).astype(int)\n",
    "\n",
    "    counter = Counter(ipreds)\n",
    "\n",
    "    # Fill heatmap.\n",
    "    for a, n in counter.items():\n",
    "        hm[a] += n\n",
    "\n",
    "    return hm"
   ]
  },
  {
   "cell_type": "markdown",
   "metadata": {},
   "source": [
    "Here's an example of how to use this, together with filtering/smoothing:"
   ]
  },
  {
   "cell_type": "code",
   "execution_count": 14,
   "metadata": {
    "init_cell": true,
    "scrolled": true
   },
   "outputs": [
    {
     "data": {
      "image/png": "[encoded data removed]",
      "text/plain": [
       "<matplotlib.figure.Figure at 0x11d110e10>"
      ]
     },
     "metadata": {},
     "output_type": "display_data"
    }
   ],
   "source": [
    "fig, axes = plt.subplots(1,2, figsize=(12,4))\n",
    "hm = mkheatmap_deg(np.array([15, 15, 45.]), nbins=3600)\n",
    "axes[0].plot(np.linspace(0, 360, len(hm)), hm);\n",
    "hm = cyclic_filter(hm, gaussfilter(n=501))\n",
    "axes[1].plot(np.linspace(0, 360, len(hm)), hm);"
   ]
  },
  {
   "cell_type": "markdown",
   "metadata": {},
   "source": [
    "The following creates a \"donut heatmap\" which is the donut-shaped histogram introduced in the paper."
   ]
  },
  {
   "cell_type": "code",
   "execution_count": 15,
   "metadata": {
    "collapsed": true,
    "init_cell": true
   },
   "outputs": [],
   "source": [
    "def donut_heatmap(hm, bg, R, zero_rad=np.deg2rad(-90), colormap=mpl.cm.Spectral_r, aapow=None):\n",
    "    \"\"\"\n",
    "    - `hm`: The heatmap distribution as returned by `donut_heatmap`.\n",
    "    - `bg`: Either a tuple specifying the size of the image: `(h, w, depth)`.\n",
    "            Or an image (as a (h,w,d) numpy array) on top of which to draw the heatmap.\n",
    "    - `R`: the width, in pixels, of the donut.\n",
    "    - `zero_rad`: The angle at which to place zero, relative to mathematical zero (on the right).\n",
    "    - `colormap`: Obviously, which colormap to use.\n",
    "    - `aapow`: A fiddling parameter for the fake anti-aliasing effect. The higher the sharper, or `None` for no aa.\n",
    "    \"\"\"\n",
    "\n",
    "    if isinstance(bg, tuple):\n",
    "        if len(bg) == 2:\n",
    "            bg += (4,)\n",
    "        bg = np.zeros(bg)\n",
    "    else:\n",
    "        bg = np.copy(bg)\n",
    "\n",
    "    assert len(bg.shape) == 3 and bg.shape[-1] in (3,4), \"Can only put a donut onto a color image!\"\n",
    "\n",
    "    h, w = bg.shape[:2]\n",
    "    assert w == h, \"Currently, we only work for squares, because no time to test ellipses!\"\n",
    "\n",
    "    # First, take the distribution as-is and draw it into a donut.\n",
    "    cx, cy = w/2, h/2\n",
    "    for y in range(h):\n",
    "        for x in range(w):\n",
    "            l = np.hypot((x-cx), (y-cy))\n",
    "            lc = (l - (w/2-R/2))/(R/2)  # Center it at the center of the donut band and put into [-1,1].\n",
    "            if -1 < lc < 1:\n",
    "                angle = (np.rad2deg(np.arctan2(-(y-cy), x-cx) - zero_rad) + 360) % 360\n",
    "                bg[y,x] = colormap(hm[int(angle*len(hm)/360)])\n",
    "                if aapow is not None:\n",
    "                    bg[y,x,3] = 1 - (np.exp(lc**aapow)-1)/(np.exp(1)-1)\n",
    "\n",
    "    return bg"
   ]
  },
  {
   "cell_type": "markdown",
   "metadata": {},
   "source": [
    "And this combines these functions in order to compute and draw a beautiful donut from given predictions."
   ]
  },
  {
   "cell_type": "code",
   "execution_count": 16,
   "metadata": {
    "collapsed": true,
    "init_cell": true
   },
   "outputs": [],
   "source": [
    "def donut(ax, hm, **kw):\n",
    "    im = ax.imshow(donut_heatmap(hm, **kw))\n",
    "    ax.grid(False)\n",
    "    ax.axis('off')\n",
    "    ax.patch.set_visible(False)\n",
    "    return im\n",
    "\n",
    "def donut_default(ax, angles, **kw):\n",
    "    return donut(ax, cyclic_filter(mkheatmap_deg(angles, nbins=3600), gaussfilter(41)), **kw)"
   ]
  },
  {
   "cell_type": "code",
   "execution_count": 17,
   "metadata": {
    "init_cell": true,
    "scrolled": true
   },
   "outputs": [
    {
     "data": {
      "image/png": "[encoded data removed]",
      "text/plain": [
       "<matplotlib.figure.Figure at 0x11d239358>"
      ]
     },
     "metadata": {},
     "output_type": "display_data"
    }
   ],
   "source": [
    "fig, ax = plt.subplots(figsize=(4,4))\n",
    "donut(ax, hm/np.max(hm), bg=(201,201), R=50, aapow=40);"
   ]
  },
  {
   "cell_type": "markdown",
   "metadata": {},
   "source": [
    "# Load TownCentre Data\n",
    "\n",
    "<a id='load_towncentre'></a>"
   ]
  },
  {
   "cell_type": "markdown",
   "metadata": {},
   "source": [
    "Now, we need to split the dataset into train/test sets. But we need to be careful in doing the splitting since we don't want the exact same person to be present in both sets, that would make the task extremely easy and close to cheating.\n",
    "\n",
    "Unfortunately, I didn't save the split which I used for the paper and hence there's no \"official\" split. Sorry for that, it's actually a big fuckup of mine. For this reason, the numbers in here can be quite different than the ones from the paper, although the relative improvements of various methods do stay the same."
   ]
  },
  {
   "cell_type": "code",
   "execution_count": 19,
   "metadata": {
    "collapsed": true,
    "init_cell": true
   },
   "outputs": [],
   "source": [
    "def split_dataset(X, y, n, canonical_split=True, split=0.9):\n",
    "    if canonical_split:\n",
    "        np.random.seed(0)\n",
    "    itr, ite, trs, tes = [], [], set(), set()\n",
    "    for i, name in enumerate(n):\n",
    "        # Extract the person's ID.\n",
    "        pid = int(name.split('_')[1])\n",
    "\n",
    "        # Decide where to put that person.\n",
    "        if pid in trs:\n",
    "            itr.append(i)\n",
    "        elif pid in tes:\n",
    "            ite.append(i)\n",
    "        else:\n",
    "            if np.random.rand() < split:\n",
    "                itr.append(i)\n",
    "                trs.add(pid)\n",
    "            else:\n",
    "                ite.append(i)\n",
    "                tes.add(pid)\n",
    "    return (X[itr], y[itr], [n[i] for i in itr]), (X[ite], y[ite], [n[i] for i in ite])"
   ]
  },
  {
   "cell_type": "code",
   "execution_count": 20,
   "metadata": {
    "collapsed": true
   },
   "outputs": [],
   "source": [
    "def prepare_data(X, y):\n",
    "    X, y = X.astype(np.float)/255, y.astype(np.float)\n",
    "    X = X.transpose([0,2,3,1]) #[channels, height, width] -> [height, width, channels]\n",
    "    #y = y.reshape(-1,1)\n",
    "    return X, y"
   ]
  },
  {
   "cell_type": "code",
   "execution_count": 21,
   "metadata": {
    "collapsed": true,
    "init_cell": true
   },
   "outputs": [],
   "source": [
    "X, y, n = pickle.load(gzip.open('data/TownCentre.pkl.gz', 'rb'))\n",
    "X, y = prepare_data(X, y)\n",
    "image_height, image_width = X.shape[1], X.shape[2]\n",
    "(Xtr, ytr, ntr), (Xte, yte, nte) = split_dataset(X, y, n, split=0.9, canonical_split=True)"
   ]
  },
  {
   "cell_type": "code",
   "execution_count": 22,
   "metadata": {},
   "outputs": [
    {
     "data": {
      "text/plain": [
       "(7780, 50, 50, 3)"
      ]
     },
     "execution_count": 22,
     "metadata": {},
     "output_type": "execute_result"
    }
   ],
   "source": [
    "Xtr.shape"
   ]
  },
  {
   "cell_type": "markdown",
   "metadata": {},
   "source": [
    "Some examples of usage. Tune the various parameters in order for the heatmap to look good in your case. Note that the `norm` here is just a rescaling influencing which range of the heatmap is used. The size of the `filt` should not be too large or it will wash-out the actual distribution, which could be seen as cheating!"
   ]
  },
  {
   "cell_type": "code",
   "execution_count": 23,
   "metadata": {
    "init_cell": true,
    "scrolled": true
   },
   "outputs": [
    {
     "data": {
      "image/png": "[encoded data removed]",
      "text/plain": [
       "<matplotlib.figure.Figure at 0x10b568128>"
      ]
     },
     "metadata": {},
     "output_type": "display_data"
    }
   ],
   "source": [
    "fig, axes = plt.subplots(1, 2, figsize=(8,4))\n",
    "hm_ytr = cyclic_filter(mkheatmap_deg(ytr, nbins=3600), gaussfilter(41))\n",
    "hm_yte = cyclic_filter(mkheatmap_deg(yte, nbins=3600), gaussfilter(41))\n",
    "donut(axes[0], hm_ytr/(len(ytr)/400), bg=(201, 201), R=50, aapow=40);\n",
    "axes[0].set_title('train data')\n",
    "donut(axes[1], hm_yte/(len(yte)/400), bg=(201, 201), R=50, aapow=40);\n",
    "axes[1].set_title('test data')\n",
    "plt.show()"
   ]
  },
  {
   "cell_type": "code",
   "execution_count": 17,
   "metadata": {},
   "outputs": [
    {
     "ename": "SyntaxError",
     "evalue": "invalid syntax (<ipython-input-17-9b47e7e73323>, line 1)",
     "output_type": "error",
     "traceback": [
      "\u001b[0;36m  File \u001b[0;32m\"<ipython-input-17-9b47e7e73323>\"\u001b[0;36m, line \u001b[0;32m1\u001b[0m\n\u001b[0;31m    STOP!\u001b[0m\n\u001b[0m        ^\u001b[0m\n\u001b[0;31mSyntaxError\u001b[0m\u001b[0;31m:\u001b[0m invalid syntax\n"
     ]
    }
   ],
   "source": [
    "STOP!"
   ]
  },
  {
   "cell_type": "markdown",
   "metadata": {},
   "source": [
    "Here are the \"raw\", i.e. not re-scaled heatmaps just for reference. Notice the colors are exactly the same as above, but uglier because of higher frequency."
   ]
  },
  {
   "cell_type": "code",
   "execution_count": null,
   "metadata": {
    "collapsed": true,
    "init_cell": true,
    "scrolled": true
   },
   "outputs": [],
   "source": [
    "fig, axes = plt.subplots(1, 2, figsize=(8,4))\n",
    "hm_ytr = cyclic_filter(mkheatmap_deg(ytr, nbins=3600), gaussfilter(41))\n",
    "hm_yte = cyclic_filter(mkheatmap_deg(yte, nbins=3600), gaussfilter(41))\n",
    "donut(axes[0], hm_ytr/np.max(hm_ytr), bg=(201, 201), R=50, aapow=40);\n",
    "donut(axes[1], hm_yte/np.max(hm_yte), bg=(201, 201), R=50, aapow=40);"
   ]
  },
  {
   "cell_type": "markdown",
   "metadata": {},
   "source": [
    "# Network creation and evaluation functions"
   ]
  },
  {
   "cell_type": "markdown",
   "metadata": {},
   "source": [
    "#### tensorflow additional functions"
   ]
  },
  {
   "cell_type": "code",
   "execution_count": 27,
   "metadata": {
    "collapsed": true
   },
   "outputs": [],
   "source": [
    "def shuffle_samples(n_frames):\n",
    "    return np.random.choice(n_frames, n_frames, replace=False)\n",
    "\n",
    "def batch_split(data, batch_size):\n",
    "    \"\"\"Yield successive n-sized chunks from l.\"\"\"\n",
    "    for i in range(0, len(data), batch_size):\n",
    "        yield data[i:i + batch_size]\n",
    "\n",
    "def shuffle_samples_batches(n_samples, batch_size):\n",
    "    shuffled_samples = shuffle_samples(n_samples)\n",
    "    batches_samples = list(batch_split(shuffled_samples, batch_size))\n",
    "    return batches_samples"
   ]
  },
  {
   "cell_type": "code",
   "execution_count": null,
   "metadata": {
    "collapsed": true
   },
   "outputs": [],
   "source": [
    "train_batches = shuffle_samples_batches(Xtr.shape[0], batch_size=100)"
   ]
  },
  {
   "cell_type": "code",
   "execution_count": 26,
   "metadata": {
    "collapsed": true
   },
   "outputs": [],
   "source": [
    "def mad_loss(y_target, y_pred):\n",
    "    loss = tf.abs(y_target - y_pred)\n",
    "    return tf.reduce_mean(loss)"
   ]
  },
  {
   "cell_type": "code",
   "execution_count": 25,
   "metadata": {
    "collapsed": true
   },
   "outputs": [],
   "source": [
    "def dotrain_eval_tf(Xtr, ytr, Xte, yte,\n",
    "                    x_tf, y_tf, y_target_tf, loss_tf, train_step_tf,\n",
    "                    nruns = 5, nepochs=50, batchsize=100, \n",
    "                    validation=False, val_size=500,\n",
    "                    debug_print=False):\n",
    "    \n",
    "    ytr = ytr.reshape(-1,1)\n",
    "    yte = yte.reshape(-1,1)\n",
    "    \n",
    "    if validation:\n",
    "        Xval, yval = Xtr[0:val_size], ytr[0:val_size]\n",
    "        Xtr, ytr = Xtr[val_size:], ytr[val_size:]\n",
    "        runs_epochs_losses_val = []\n",
    "\n",
    "    y_preds = []        \n",
    "    runs_epochs_losses_train = []\n",
    "\n",
    "    for run_id in range(0, nruns):\n",
    "        with tf.Session() as sess:\n",
    "            sess.run(init_op)\n",
    "            epochs_losses_train = []\n",
    "            epochs_losses_val = []\n",
    "            for epoch_id in range(0, nepochs):\n",
    "                for batch_ix in shuffle_samples_batches(Xtr.shape[0], batch_size=100):\n",
    "                    Xb, yb = Xtr[batch_ix], ytr[batch_ix]\n",
    "                    sess.run(train_step_tf, feed_dict={x_tf: Xb, y_target_tf: yb})\n",
    "                epoch_loss_train = sess.run(loss_tf, feed_dict={x_tf: Xtr, y_target_tf: ytr})\n",
    "                epochs_losses_train.append(epoch_loss_train)\n",
    "                if validation:\n",
    "                    epoch_loss_val = sess.run(loss_tf, feed_dict={x_tf: Xval, y_target_tf: yval})\n",
    "                    epochs_losses_val.append(epoch_loss_val)\n",
    "                if debug_print:\n",
    "                    if validation:\n",
    "                        print(\"epoch %d finished. mean epoch train loss: %f, validation loss: %f\" % \n",
    "                              (epoch_id, epoch_loss_train, epoch_loss_val))\n",
    "                    else:\n",
    "                        print(\"epoch %d finished. mean epoch train loss: %f\" % (epoch_id, epoch_loss_train))\n",
    "            y_preds.append(sess.run(y_tf, feed_dict={x_tf: Xte}))\n",
    "        runs_epochs_losses_train.append(epochs_losses_train)\n",
    "        if validation: \n",
    "            runs_epochs_losses_val.append(epochs_losses_val)\n",
    "        print(\"run %d finished\" % run_id)\n",
    "    if validation: \n",
    "        return y_preds, runs_epochs_losses_train, runs_epochs_losses_val\n",
    "    else: \n",
    "        return y_preds, runs_epochs_losses_train"
   ]
  },
  {
   "cell_type": "markdown",
   "metadata": {},
   "source": [
    "#### error functions"
   ]
  },
  {
   "cell_type": "code",
   "execution_count": 21,
   "metadata": {
    "collapsed": true,
    "init_cell": true
   },
   "outputs": [],
   "source": [
    "def ensemble_degrees(angles):\n",
    "    return np.arctan2(np.mean(np.sin(np.deg2rad(angles)), axis=0), np.mean(np.cos(np.deg2rad(angles)), axis=0))"
   ]
  },
  {
   "cell_type": "code",
   "execution_count": 22,
   "metadata": {
    "collapsed": true,
    "init_cell": true
   },
   "outputs": [],
   "source": [
    "def dopred_deg(model, aug, X, batchsize=100):\n",
    "    return np.rad2deg(dopred(model, aug, X, ensembling=ensemble_degrees, output2preds=lambda x: x, batchsize=batchsize))"
   ]
  },
  {
   "cell_type": "code",
   "execution_count": 23,
   "metadata": {
    "collapsed": true,
    "init_cell": true
   },
   "outputs": [],
   "source": [
    "def maad_from_deg(preds, reals):\n",
    "    return np.rad2deg(np.abs(np.arctan2(np.sin(np.deg2rad(reals-preds)), np.cos(np.deg2rad(reals-preds)))))"
   ]
  },
  {
   "cell_type": "code",
   "execution_count": 24,
   "metadata": {
    "collapsed": true,
    "init_cell": true
   },
   "outputs": [],
   "source": [
    "def show_errs_deg(preds, reals, epoch=-1):\n",
    "    errs = maad_from_deg(preds, reals)\n",
    "    mean_errs = np.mean(errs, axis=1)\n",
    "    std_errs = np.std(errs, axis=1)\n",
    "    print(\"Error: {:5.2f}°±{:5.2f}°\".format(np.mean(mean_errs), np.mean(std_errs)))\n",
    "    print(\"Stdev: {:5.2f}°±{:5.2f}°\".format(np.std(mean_errs), np.std(std_errs)))"
   ]
  },
  {
   "cell_type": "markdown",
   "metadata": {},
   "source": [
    "# Varying Output Layer and Criteria (Sec. 4.3)"
   ]
  },
  {
   "cell_type": "markdown",
   "metadata": {},
   "source": [
    "## Pure Linear Regression"
   ]
  },
  {
   "cell_type": "markdown",
   "metadata": {},
   "source": [
    "#### TensorFlow"
   ]
  },
  {
   "cell_type": "code",
   "execution_count": 28,
   "metadata": {
    "collapsed": true
   },
   "outputs": [],
   "source": [
    "def weight_variable(shape):\n",
    "    initial = tf.constant(0.01, shape=shape)\n",
    "    return tf.Variable(initial)\n",
    "\n",
    "def bias_variable(shape):\n",
    "    initial = tf.constant(0.01, shape=shape)\n",
    "    return tf.Variable(initial)\n",
    "\n",
    "def shallow_linear_regression_model(x):\n",
    "    x_flat = tf.contrib.layers.flatten(x)\n",
    "    W_fc = weight_variable([50*50*3, 1])\n",
    "    b_fc = bias_variable([1])\n",
    "    y = tf.matmul(x_flat, W_fc) + b_fc\n",
    "    return y "
   ]
  },
  {
   "cell_type": "markdown",
   "metadata": {},
   "source": [
    "### TF train procedure"
   ]
  },
  {
   "cell_type": "markdown",
   "metadata": {},
   "source": [
    "#### Training for degrees"
   ]
  },
  {
   "cell_type": "code",
   "execution_count": 30,
   "metadata": {},
   "outputs": [
    {
     "name": "stdout",
     "output_type": "stream",
     "text": [
      "epoch 0 finished. mean epoch train loss: 90.270210, validation loss: 92.645378\n",
      "epoch 1 finished. mean epoch train loss: 86.872734, validation loss: 88.878082\n",
      "epoch 2 finished. mean epoch train loss: 82.972214, validation loss: 86.887901\n",
      "epoch 3 finished. mean epoch train loss: 79.562279, validation loss: 83.589035\n",
      "epoch 4 finished. mean epoch train loss: 76.948044, validation loss: 80.686462\n",
      "epoch 5 finished. mean epoch train loss: 75.136032, validation loss: 77.246277\n",
      "epoch 6 finished. mean epoch train loss: 74.130096, validation loss: 79.176353\n",
      "epoch 7 finished. mean epoch train loss: 73.028053, validation loss: 74.668091\n",
      "epoch 8 finished. mean epoch train loss: 72.734138, validation loss: 72.193901\n",
      "epoch 9 finished. mean epoch train loss: 72.100670, validation loss: 72.036469\n",
      "epoch 10 finished. mean epoch train loss: 71.737335, validation loss: 73.502754\n",
      "epoch 11 finished. mean epoch train loss: 71.400398, validation loss: 71.658432\n",
      "epoch 12 finished. mean epoch train loss: 71.178604, validation loss: 71.351486\n",
      "epoch 13 finished. mean epoch train loss: 71.186409, validation loss: 72.658028\n",
      "epoch 14 finished. mean epoch train loss: 70.871460, validation loss: 69.676193\n",
      "epoch 15 finished. mean epoch train loss: 70.703506, validation loss: 69.531471\n",
      "epoch 16 finished. mean epoch train loss: 70.554382, validation loss: 70.265762\n",
      "epoch 17 finished. mean epoch train loss: 70.467163, validation loss: 70.480789\n",
      "epoch 18 finished. mean epoch train loss: 70.317924, validation loss: 69.650925\n",
      "epoch 19 finished. mean epoch train loss: 70.445465, validation loss: 71.123840\n",
      "epoch 20 finished. mean epoch train loss: 70.152252, validation loss: 69.744980\n",
      "epoch 21 finished. mean epoch train loss: 70.058533, validation loss: 68.440948\n",
      "epoch 22 finished. mean epoch train loss: 69.952560, validation loss: 68.685028\n",
      "epoch 23 finished. mean epoch train loss: 70.037704, validation loss: 67.515625\n",
      "epoch 24 finished. mean epoch train loss: 69.860703, validation loss: 69.425919\n",
      "epoch 25 finished. mean epoch train loss: 69.736328, validation loss: 68.439674\n",
      "epoch 26 finished. mean epoch train loss: 69.726479, validation loss: 69.218407\n",
      "epoch 27 finished. mean epoch train loss: 69.641479, validation loss: 68.979103\n",
      "epoch 28 finished. mean epoch train loss: 69.714561, validation loss: 67.120392\n",
      "epoch 29 finished. mean epoch train loss: 69.496918, validation loss: 68.244133\n",
      "epoch 30 finished. mean epoch train loss: 69.451294, validation loss: 68.401367\n",
      "epoch 31 finished. mean epoch train loss: 69.416771, validation loss: 68.631081\n",
      "epoch 32 finished. mean epoch train loss: 69.468124, validation loss: 67.161217\n",
      "epoch 33 finished. mean epoch train loss: 69.375526, validation loss: 68.992218\n",
      "epoch 34 finished. mean epoch train loss: 69.358009, validation loss: 69.142128\n",
      "epoch 35 finished. mean epoch train loss: 69.265694, validation loss: 68.731293\n",
      "epoch 36 finished. mean epoch train loss: 69.312996, validation loss: 66.973808\n",
      "epoch 37 finished. mean epoch train loss: 69.510651, validation loss: 66.336967\n",
      "epoch 38 finished. mean epoch train loss: 69.130737, validation loss: 67.823242\n",
      "epoch 39 finished. mean epoch train loss: 69.357422, validation loss: 66.522270\n",
      "epoch 40 finished. mean epoch train loss: 69.699005, validation loss: 65.803749\n",
      "epoch 41 finished. mean epoch train loss: 69.035583, validation loss: 67.729286\n",
      "epoch 42 finished. mean epoch train loss: 69.059769, validation loss: 68.634995\n",
      "epoch 43 finished. mean epoch train loss: 69.222794, validation loss: 69.552628\n",
      "epoch 44 finished. mean epoch train loss: 69.329018, validation loss: 66.114655\n",
      "epoch 45 finished. mean epoch train loss: 68.918419, validation loss: 67.732719\n",
      "epoch 46 finished. mean epoch train loss: 69.076912, validation loss: 69.199936\n",
      "epoch 47 finished. mean epoch train loss: 69.210007, validation loss: 66.150261\n",
      "epoch 48 finished. mean epoch train loss: 68.897972, validation loss: 67.049797\n",
      "epoch 49 finished. mean epoch train loss: 68.819389, validation loss: 67.774857\n",
      "run 0 finished\n"
     ]
    }
   ],
   "source": [
    "tf.reset_default_graph()\n",
    "\n",
    "x_tf = tf.placeholder(tf.float32, shape=[None, image_height, image_width, 3])\n",
    "y_target_tf = tf.placeholder(tf.float32, shape=[None, 1])\n",
    "\n",
    "y_tf = shallow_linear_regression_model(x_tf)\n",
    "\n",
    "loss_tf = mad_loss(y_target_tf, y_tf)\n",
    "\n",
    "train_step_tf = tf.train.AdadeltaOptimizer(rho=0.95, learning_rate=1.0, epsilon=1e-7).minimize(loss_tf)\n",
    "\n",
    "init_op = tf.global_variables_initializer()\n",
    "\n",
    "nruns=1\n",
    "y_preds_shallow_linreg, losses_plots_train, losses_plots_val = dotrain_eval_tf(Xtr, ytr, Xte, yte,\n",
    "                                                       x_tf, y_tf, y_target_tf, loss_tf, train_step_tf,\n",
    "                                                       debug_print=True, validation=True, val_size=1000,\n",
    "                                                                               nruns=nruns, nepochs=50)"
   ]
  },
  {
   "cell_type": "code",
   "execution_count": null,
   "metadata": {
    "collapsed": true
   },
   "outputs": [],
   "source": [
    "import matplotlib.pyplot as plt\n",
    "\n",
    "plt.plot(range(0, len(losses_plots_train[0])), losses_plots_train[0], label='train')\n",
    "plt.plot(range(0, len(losses_plots_val[0])), losses_plots_val[0], label='validation')\n",
    "plt.xlabel('epochs')\n",
    "plt.ylabel('mean error in degrees')\n",
    "plt.legend()\n",
    "plt.show()"
   ]
  },
  {
   "cell_type": "code",
   "execution_count": 31,
   "metadata": {
    "scrolled": true
   },
   "outputs": [
    {
     "name": "stdout",
     "output_type": "stream",
     "text": [
      "Error: 61.97°±45.12°\n",
      "Stdev:  0.00°± 0.00°\n"
     ]
    }
   ],
   "source": [
    "show_errs_deg(y_preds_shallow_linreg, yte.reshape(-1,1))"
   ]
  },
  {
   "cell_type": "code",
   "execution_count": null,
   "metadata": {
    "collapsed": true,
    "scrolled": false
   },
   "outputs": [],
   "source": [
    "fig, axes = plt.subplots(1, 2, figsize=(8,4))\n",
    "preds = np.squeeze(y_preds_shallow_linreg[0],axis=1)\n",
    "hm_pred = cyclic_filter(mkheatmap_deg(preds, nbins=3600), gaussfilter(41))\n",
    "#hm_pred = cyclic_filter(mkheatmap_deg(np.zeros(y_preds_shallow_linreg[0].shape)[:,0], nbins=3600)/5, gaussfilter(41))\n",
    "hm_real = cyclic_filter(mkheatmap_deg(yte, nbins=3600), gaussfilter(41))\n",
    "donut(axes[0], hm_pred/(len(yte)/400), bg=(201, 201), R=50, aapow=40);\n",
    "axes[0].set_title('shallow linear regression predictions')\n",
    "donut(axes[1], hm_real/(len(yte)/400), bg=(201, 201), R=50, aapow=40);\n",
    "axes[1].set_title('ground truth')\n",
    "plt.show()"
   ]
  },
  {
   "cell_type": "markdown",
   "metadata": {},
   "source": [
    "## Linear regression through MLE of Von-Mises distribution"
   ]
  },
  {
   "cell_type": "markdown",
   "metadata": {},
   "source": [
    "\n",
    "General form of Von-Mises distribution:\n",
    "\n",
    "\\begin{align}\n",
    "   p(\\phi; \\mu, \\kappa) = \\frac{\\exp{(\\kappa \\cos{(\\phi-\\mu)}})}{2\\pi I_0(\\kappa)}\n",
    "\\end{align}\n",
    "\n",
    "In case of a fixed paramater $\\kappa$ and simple linear regression, our model will look like:\n",
    "\n",
    "\\begin{align}\n",
    "   p(\\phi| x; \\theta) = \\frac{\\exp{(\\kappa \\cos{(\\phi - g(x,\\theta))}})}{2\\pi I_0(\\kappa)},\\\\\n",
    "   g(x,\\theta) = \\theta_1 x_1 + \\dots + \\theta_n x_n + \\theta_{n+1}\n",
    "\\end{align}\n",
    "\n",
    "Optimization function in case of a fixed $\\kappa$:\n",
    "\n",
    "\\begin{align}\n",
    "   argmax_{\\theta} \\sum_{i=1}^n{\\cos{(\\phi_i - g(x_i,\\theta))}}\n",
    "\\end{align}"
   ]
  },
  {
   "cell_type": "markdown",
   "metadata": {},
   "source": [
    "#### Examples of the Von-Mises distribution with different $\\kappa$ and $\\mu = 0$"
   ]
  },
  {
   "cell_type": "code",
   "execution_count": 24,
   "metadata": {
    "scrolled": true
   },
   "outputs": [
    {
     "data": {
      "image/png": "[encoded data removed]",
      "text/plain": [
       "<matplotlib.figure.Figure at 0x160dcd048>"
      ]
     },
     "metadata": {},
     "output_type": "display_data"
    }
   ],
   "source": [
    "from numpy.random import vonmises\n",
    "import matplotlib.pyplot as plt\n",
    "\n",
    "fig, axes = plt.subplots(1, 3, figsize=(10,4))\n",
    "vm_01 = cyclic_filter(mkheatmap_deg(np.mod(np.rad2deg(vonmises(0,1,3000)),360), nbins=3600)/5, gaussfilter(41))\n",
    "vm_001 = cyclic_filter(mkheatmap_deg(np.mod(np.rad2deg(vonmises(0,100,3000)),360), nbins=3600)/5, gaussfilter(41))\n",
    "vm_010 = cyclic_filter(mkheatmap_deg(np.mod(np.rad2deg(vonmises(0,0.1,3000)),360), nbins=3600)/5, gaussfilter(41))\n",
    "donut(axes[0], vm_01/(len(yte)/400), bg=(201, 201), R=50, aapow=40);\n",
    "axes[0].set_title('$\\mu=0, \\kappa=1$')\n",
    "donut(axes[1], vm_001/(len(yte)/400), bg=(201, 201), R=50, aapow=40);\n",
    "axes[1].set_title('$\\mu=0, \\kappa=100$')\n",
    "donut(axes[2], vm_010/(len(yte)/400), bg=(201, 201), R=50, aapow=40);\n",
    "axes[2].set_title('$\\mu=0, \\kappa=0.1$')\n",
    "plt.show()"
   ]
  },
  {
   "cell_type": "code",
   "execution_count": null,
   "metadata": {
    "collapsed": true
   },
   "outputs": [],
   "source": [
    "def vm_model_tf():\n",
    "    mu = tf.Variable(0.0, name='mu')\n",
    "    return mu\n",
    "\n",
    "def mle_vm_loss(phi_target, mu, radian_input=True):\n",
    "    if radian_input:\n",
    "        scaler = 1\n",
    "    else:\n",
    "        #convert to radians in input is in degrees\n",
    "        scaler = 0.0174533\n",
    "    loss = 1-tf.cos(scaler * (phi_target - mu))\n",
    "    return tf.reduce_mean(loss)"
   ]
  },
  {
   "cell_type": "code",
   "execution_count": 1,
   "metadata": {
    "collapsed": true
   },
   "outputs": [],
   "source": [
    "def mle_vm_demo(mu_gt, kappa_gt, sample_size=1000, niters=1000, lr=0.001):\n",
    "\n",
    "    print(\"ground truth Von-Mises params: mu=%f, kappa=%f\" %(mu_gt, kappa_gt))\n",
    "\n",
    "    vm_samples = vonmises(mu_gt, kappa_gt, sample_size)\n",
    "\n",
    "    losses = []\n",
    "    mu_preds = []\n",
    "    \n",
    "    tf.reset_default_graph()\n",
    "    phi_tf = tf.placeholder(tf.float32, shape=None)\n",
    "    mu_tf = vm_model_tf()\n",
    "    mle_loss_tf = mle_vm_loss(phi_tf, mu_tf)\n",
    "    train_step = tf.train.GradientDescentOptimizer(learning_rate=lr).minimize(mle_loss_tf)\n",
    "\n",
    "    init_op = tf.global_variables_initializer()\n",
    "    with tf.Session() as sess:\n",
    "        sess.run(init_op)\n",
    "        for i in range(0,niters):\n",
    "            loss, mu_pred, _ = sess.run([mle_loss_tf, mu_tf, train_step], feed_dict={phi_tf: vm_samples})\n",
    "            losses.append(loss)\n",
    "            mu_preds.append(mu_pred)\n",
    "\n",
    "    kappa_pred = kappa_gt\n",
    "    print(\"estimated Von-Mises params: mu=%f, kappa=%f\" %(mu_pred, kappa_pred))\n",
    "    \n",
    "    fig, axes = plt.subplots(2, 2, figsize=(10,8))\n",
    "    axes[0,0].plot(range(0, len(losses)), losses)\n",
    "    axes[0,0].set_title('cost over epochs')\n",
    "    axes[0,1].plot(range(0, len(mu_preds)), mu_preds)\n",
    "    axes[0,1].set_title('mu over epochs')\n",
    "    vm_gt = cyclic_filter(mkheatmap_deg(np.mod(np.rad2deg(vm_samples),360), nbins=3600)/5, gaussfilter(41))\n",
    "    vm_pred = cyclic_filter(mkheatmap_deg(np.mod(np.rad2deg(vonmises(mu_pred,kappa_pred,sample_size)),360), nbins=3600)/5, gaussfilter(41))\n",
    "    donut(axes[1,0], vm_gt/(len(yte)/400), bg=(201, 201), R=50, aapow=40);\n",
    "    axes[1,0].set_title('gt distribution')\n",
    "    donut(axes[1,1], vm_pred/(len(yte)/400), bg=(201, 201), R=50, aapow=40);\n",
    "    axes[1,1].set_title('estimated distribution') "
   ]
  },
  {
   "cell_type": "code",
   "execution_count": 2,
   "metadata": {},
   "outputs": [
    {
     "name": "stdout",
     "output_type": "stream",
     "text": [
      "ground truth Von-Mises params: mu=1.000000, kappa=1.000000\n"
     ]
    },
    {
     "ename": "NameError",
     "evalue": "name 'vonmises' is not defined",
     "output_type": "error",
     "traceback": [
      "\u001b[0;31m---------------------------------------------------------------------------\u001b[0m",
      "\u001b[0;31mNameError\u001b[0m                                 Traceback (most recent call last)",
      "\u001b[0;32m<ipython-input-2-091542719f4c>\u001b[0m in \u001b[0;36m<module>\u001b[0;34m()\u001b[0m\n\u001b[0;32m----> 1\u001b[0;31m \u001b[0mmle_vm_demo\u001b[0m\u001b[0;34m(\u001b[0m\u001b[0mmu_gt\u001b[0m\u001b[0;34m=\u001b[0m\u001b[0;36m1.0\u001b[0m\u001b[0;34m,\u001b[0m \u001b[0mkappa_gt\u001b[0m\u001b[0;34m=\u001b[0m\u001b[0;36m1\u001b[0m\u001b[0;34m,\u001b[0m \u001b[0msample_size\u001b[0m\u001b[0;34m=\u001b[0m\u001b[0;36m10000\u001b[0m\u001b[0;34m,\u001b[0m \u001b[0mniters\u001b[0m\u001b[0;34m=\u001b[0m\u001b[0;36m5000\u001b[0m\u001b[0;34m,\u001b[0m \u001b[0mlr\u001b[0m\u001b[0;34m=\u001b[0m\u001b[0;36m0.01\u001b[0m\u001b[0;34m)\u001b[0m\u001b[0;34m\u001b[0m\u001b[0m\n\u001b[0m",
      "\u001b[0;32m<ipython-input-1-7ca39085bf1a>\u001b[0m in \u001b[0;36mmle_vm_demo\u001b[0;34m(mu_gt, kappa_gt, sample_size, niters, lr)\u001b[0m\n\u001b[1;32m      3\u001b[0m     \u001b[0mprint\u001b[0m\u001b[0;34m(\u001b[0m\u001b[0;34m\"ground truth Von-Mises params: mu=%f, kappa=%f\"\u001b[0m \u001b[0;34m%\u001b[0m\u001b[0;34m(\u001b[0m\u001b[0mmu_gt\u001b[0m\u001b[0;34m,\u001b[0m \u001b[0mkappa_gt\u001b[0m\u001b[0;34m)\u001b[0m\u001b[0;34m)\u001b[0m\u001b[0;34m\u001b[0m\u001b[0m\n\u001b[1;32m      4\u001b[0m \u001b[0;34m\u001b[0m\u001b[0m\n\u001b[0;32m----> 5\u001b[0;31m     \u001b[0mvm_samples\u001b[0m \u001b[0;34m=\u001b[0m \u001b[0mvonmises\u001b[0m\u001b[0;34m(\u001b[0m\u001b[0mmu_gt\u001b[0m\u001b[0;34m,\u001b[0m \u001b[0mkappa_gt\u001b[0m\u001b[0;34m,\u001b[0m \u001b[0msample_size\u001b[0m\u001b[0;34m)\u001b[0m\u001b[0;34m\u001b[0m\u001b[0m\n\u001b[0m\u001b[1;32m      6\u001b[0m \u001b[0;34m\u001b[0m\u001b[0m\n\u001b[1;32m      7\u001b[0m     \u001b[0mlosses\u001b[0m \u001b[0;34m=\u001b[0m \u001b[0;34m[\u001b[0m\u001b[0;34m]\u001b[0m\u001b[0;34m\u001b[0m\u001b[0m\n",
      "\u001b[0;31mNameError\u001b[0m: name 'vonmises' is not defined"
     ]
    }
   ],
   "source": [
    "mle_vm_demo(mu_gt=1.0, kappa_gt=1, sample_size=10000, niters=5000, lr=0.01)"
   ]
  },
  {
   "cell_type": "code",
   "execution_count": null,
   "metadata": {
    "collapsed": true
   },
   "outputs": [],
   "source": [
    "mle_vm_demo(mu_gt=0.5, kappa_gt=10, sample_size=10000, niters=5000, lr=0.01)"
   ]
  },
  {
   "cell_type": "code",
   "execution_count": null,
   "metadata": {
    "collapsed": true
   },
   "outputs": [],
   "source": [
    "mle_vm_demo(mu_gt=3.14, kappa_gt=1.0, sample_size=10000, niters=10000, lr=0.01)"
   ]
  },
  {
   "cell_type": "markdown",
   "metadata": {},
   "source": [
    "### Modified Bessel function of order 0\n",
    "\n",
    "https://docs.scipy.org/doc/scipy/reference/generated/scipy.special.i0.html#scipy.special.i0\n",
    "http://mathworld.wolfram.com/ModifiedBesselFunctionoftheFirstKind.html"
   ]
  },
  {
   "cell_type": "markdown",
   "metadata": {},
   "source": [
    "#### Using Taylor expansion around \n",
    "\n",
    "\\begin{align}\n",
    "I_0(x) \\approx \\sum_{m=0}^M \\frac{(x^2/4)^m}{(m!)^2} \n",
    "\\end{align}"
   ]
  },
  {
   "cell_type": "code",
   "execution_count": 55,
   "metadata": {
    "collapsed": true
   },
   "outputs": [],
   "source": [
    "from scipy.misc import factorial\n",
    "\n",
    "def taylor_el(m):\n",
    "    return 1/(4**m * factorial(m)**2)\n",
    "\n",
    "coefs = np.asarray([taylor_el(m) for m in range(0,500)])\n",
    "\n",
    "def bessel_approx(x, m=10):\n",
    "    x = np.asarray(x).reshape(-1,1)\n",
    "    deg = np.arange(0,m,1)*2\n",
    "    x_tiled = np.tile(x, [1, m])\n",
    "    deg_tiled = np.tile(deg, [x.shape[0],1])\n",
    "    coef_tiled = np.tile(coefs[0:m].reshape(1,m), [x.shape[0],1])\n",
    "    return np.sum(np.power(x_tiled, deg_tiled)*coef_tiled, axis=1)\n",
    "\n",
    "def bessel_approx_tf(x, m=10):\n",
    "    deg = tf.reshape(tf.range(0,m,1)*2, [1,-1])\n",
    "    n_rows = tf.shape(x)[0]\n",
    "    x_tiled = tf.tile(x, [1, m])\n",
    "    deg_tiled = tf.tile(deg, [n_rows,1])\n",
    "    coef_tiled = tf.tile(coefs[0:m].reshape(1,m), [n_rows,1])\n",
    "    return  tf.reduce_sum(tf.pow(x_tiled, tf.to_double(deg_tiled))*coef_tiled, axis=1)"
   ]
  },
  {
   "cell_type": "code",
   "execution_count": 57,
   "metadata": {
    "collapsed": true
   },
   "outputs": [],
   "source": [
    "def bessel_approx_tf_demo(x_vals, m=20):\n",
    "    tf.reset_default_graph()\n",
    "    x = tf.placeholder(tf.float64, shape=[None, 1])\n",
    "    bessel_tf = bessel_approx_tf(x, m=m)\n",
    "    with tf.Session() as sess:\n",
    "        vals = sess.run(bessel_tf, feed_dict={x:x_vals.reshape(-1, 1)})\n",
    "    return vals"
   ]
  },
  {
   "cell_type": "code",
   "execution_count": null,
   "metadata": {
    "collapsed": true,
    "scrolled": true
   },
   "outputs": [],
   "source": [
    "from scipy.special import i0 as bessel\n",
    "\n",
    "x_vals = np.arange(0,15, 0.01)\n",
    "y_vals = bessel(x_vals)\n",
    "plt.plot(x_vals, y_vals, label='$I_0(x)$')\n",
    "m=5\n",
    "plt.plot(x_vals, bessel_approx_tf_demo(x_vals, m=m), label='$I_0(x)$ (approx, M=%d)'%m)\n",
    "m=10\n",
    "plt.plot(x_vals, bessel_approx_tf_demo(x_vals, m=m), label='$I_0(x)$ (approx, M=%d)'%m)\n",
    "m=20\n",
    "plt.plot(x_vals, bessel_approx_tf_demo(x_vals, m=m), label='$I_0(x)$ (approx, M=%d)'%m)\n",
    "plt.legend()\n",
    "plt.show()"
   ]
  },
  {
   "cell_type": "markdown",
   "metadata": {},
   "source": [
    "\\begin{align}\n",
    "   p(\\phi; \\mu, \\kappa) = \\frac{\\exp{(\\kappa \\cos{(\\phi-\\mu)}})}{2\\pi I_0(\\kappa)}\n",
    "\\end{align}"
   ]
  },
  {
   "cell_type": "markdown",
   "metadata": {},
   "source": [
    "#### Check that our implementation is correct  by plotting corresponding density function of Von-Mises dist"
   ]
  },
  {
   "cell_type": "code",
   "execution_count": null,
   "metadata": {
    "collapsed": true
   },
   "outputs": [],
   "source": [
    "def vm_pdf(vals, mu, kappa):\n",
    "    return np.exp(kappa * np.cos(vals-mu)) / (2* np.pi * bessel_approx(kappa))"
   ]
  },
  {
   "cell_type": "code",
   "execution_count": null,
   "metadata": {
    "collapsed": true
   },
   "outputs": [],
   "source": [
    "from scipy.special import i0 as bessel\n",
    "\n",
    "x_vals = np.arange(-10,10, 0.01)\n",
    "\n",
    "plt.figure(figsize=(10,8))\n",
    "mu, kappa = [0.0, 1.0]\n",
    "plt.plot(x_vals, vm_pdf(x_vals, mu, kappa), label='Von-Mises distribution, $\\mu=%f, \\kappa=%f$' %(mu, kappa))\n",
    "mu, kappa = [0.0, 10.0]\n",
    "plt.plot(x_vals, vm_pdf(x_vals, mu, kappa), label='Von-Mises distribution, $\\mu=%f, \\kappa=%f$' %(mu, kappa))\n",
    "mu, kappa = [0.0, 0.1]\n",
    "plt.plot(x_vals, vm_pdf(x_vals, mu, kappa), label='Von-Mises distribution, $\\mu=%f, \\kappa=%f$' %(mu, kappa))\n",
    "plt.legend()\n",
    "plt.show()"
   ]
  },
  {
   "cell_type": "markdown",
   "metadata": {},
   "source": [
    "Log-likelihood formula:\n",
    "\n",
    "\\begin{align}\n",
    "            \\log \\mathcal{L}(\\mu, \\kappa, X) = \\sum_{i=1}^n{\\log p(\\phi_i| \\mu, \\kappa) } =\\\\ \\sum_{i=1}^n{\\kappa\\cos{(\\phi_i - \\mu)}} - \\sum_{i=1}^n{\\log 2 \\pi I_0(\\kappa)}\n",
    "\\end{align}"
   ]
  },
  {
   "cell_type": "code",
   "execution_count": 47,
   "metadata": {
    "collapsed": true
   },
   "outputs": [],
   "source": [
    "def log_likelihood_np(phi_target, mu, kappa, radian_input=True):\n",
    "    if radian_input:\n",
    "        scaler = 1\n",
    "    else:\n",
    "        #convert to radians in input is in degrees\n",
    "        scaler = 0.0174533 \n",
    "    kappa = scaler * kappa\n",
    "    likelihood = kappa * np.cos(scaler * (phi_target - mu)) - np.log(2*np.pi*bessel_approx(kappa))\n",
    "    return np.mean(likelihood)\n",
    "\n",
    "def mle_vm_loss(phi_target, mu, radian_input=True):\n",
    "    if radian_input:\n",
    "        scaler = 1\n",
    "    else:\n",
    "        #convert to radians in input is in degrees\n",
    "        scaler = 0.0174533\n",
    "    loss = 1-tf.cos(scaler * (phi_target - mu))\n",
    "    return tf.reduce_mean(loss)\n",
    "\n",
    "def log_likelihood_tf(x, mu, kappa, radian_input=True):\n",
    "    kappa = tf.abs(tf.to_double(tf.reshape(kappa, [-1,1])))\n",
    "    x = tf.to_double(x)\n",
    "    mu = tf.to_double(mu)\n",
    "    if radian_input:\n",
    "        scaler = 1\n",
    "    else:\n",
    "        #convert to radians in input is in degrees\n",
    "        scaler = 0.0174533 \n",
    "    #kappa = scaler * kappa\n",
    "    log_likelihood = kappa * tf.cos(scaler * (x - mu)) - tf.log(2*np.pi*bessel_approx_tf(kappa))\n",
    "    # log_likelihood = tf.cos(scaler * (x - mu))\n",
    "    return tf.reduce_mean(log_likelihood)\n",
    "\n",
    "def log_likelihood_tf_demo(x, mu, kappa, radian_input=True):\n",
    "    tf.reset_default_graph()\n",
    "    mu = np.asarray(mu).reshape(-1,1)\n",
    "    kappa = np.asarray(kappa).reshape(-1,1)\n",
    "    x_tf = tf.placeholder(tf.float64, shape=[None, 1])\n",
    "    mu_tf = tf.placeholder(tf.float64, shape=[None, 1])\n",
    "    kappa_tf = tf.placeholder(tf.float64, shape=[None, 1])\n",
    "    likelihood = log_likelihood_tf(x_tf, mu_tf, kappa_tf)\n",
    "    with tf.Session() as sess:\n",
    "        vals = sess.run(likelihood, feed_dict={x_tf:x.reshape(-1, 1), mu_tf: mu, kappa_tf: kappa} )\n",
    "    return vals"
   ]
  },
  {
   "cell_type": "code",
   "execution_count": null,
   "metadata": {
    "collapsed": true
   },
   "outputs": [],
   "source": [
    "mu, kappa = [0, 10.0]\n",
    "samples = vonmises(mu, kappa, 5000).reshape(-1,1)\n",
    "print(\"log-likelihood, numpy: %f\" %log_likelihood_np(samples, mu, kappa))\n",
    "print(\"log-likelihood, tensorflow: %f\" %log_likelihood_tf_demo(samples, mu, kappa))"
   ]
  },
  {
   "cell_type": "code",
   "execution_count": null,
   "metadata": {
    "collapsed": true
   },
   "outputs": [],
   "source": [
    "def vm_model_full_tf(mu_ini, kappa_ini):\n",
    "    mu = tf.Variable(mu_ini, dtype=tf.float32, name='mu')\n",
    "    kappa = tf.Variable(kappa_ini, dtype=tf.float32, name='kappa')\n",
    "    return mu, kappa"
   ]
  },
  {
   "cell_type": "code",
   "execution_count": null,
   "metadata": {
    "collapsed": true
   },
   "outputs": [],
   "source": [
    "def mle_vm_demo_full(mu_gt, kappa_gt, sample_size=1000, niters=1000, lr=0.001, \n",
    "                    mu_ini=0.0, kappa_ini=1.0, vis_sample_size=5000):\n",
    "\n",
    "    print(\"ground truth Von-Mises params: mu=%f, kappa=%f\" % (mu_gt, kappa_gt))\n",
    "\n",
    "    vm_samples = vonmises(mu_gt, kappa_gt, sample_size)\n",
    "    \n",
    "    likelihoods = []\n",
    "    mu_preds = []\n",
    "    kappa_preds = []\n",
    "    \n",
    "    tf.reset_default_graph()\n",
    "    phi_tf = tf.placeholder(tf.float32, shape=[None,1])\n",
    "    mu_tf, kappa_tf = vm_model_full_tf(mu_ini, kappa_ini)\n",
    "    loss = -log_likelihood_tf(phi_tf, mu_tf, kappa_tf)\n",
    "    train_step = tf.train.AdadeltaOptimizer(learning_rate=lr).minimize(loss)\n",
    "\n",
    "    init_op = tf.global_variables_initializer()\n",
    "    with tf.Session() as sess:\n",
    "        sess.run(init_op)\n",
    "        for i in range(0, niters):\n",
    "            #vm_samples = vonmises(mu_gt, kappa_gt, sample_size)\n",
    "            likelihood_pred, mu_pred, kappa_pred,  _ = sess.run([loss, mu_tf, kappa_tf, train_step], \n",
    "                                                     feed_dict={phi_tf: vm_samples.reshape(-1,1)})\n",
    "            likelihoods.append(likelihood_pred)\n",
    "            mu_preds.append(mu_pred)\n",
    "            kappa_preds.append(kappa_pred)\n",
    "    \n",
    "    print(\"estimated Von-Mises params: mu=%f, kappa=%f\" %(mu_pred, kappa_pred))\n",
    "    \n",
    "    kappa_pred = np.abs(kappa_pred)\n",
    "    \n",
    "    fig, axes = plt.subplots(2, 3, figsize=(15,10))\n",
    "    axes[0,0].plot(range(0, len(likelihoods)), likelihoods)\n",
    "    axes[0,0].set_title('$-\\log \\mathcal{L}(\\mu, \\kappa, X)$ over epochs')\n",
    "    axes[0,1].plot(range(0, len(mu_preds)), mu_preds)\n",
    "    axes[0,1].set_title('$\\mu$ over epochs')\n",
    "    axes[0,2].plot(range(0, len(kappa_preds)), kappa_preds)\n",
    "    axes[0,2].set_title('$\\kappa$ over epochs')\n",
    "    vm_gt = cyclic_filter(mkheatmap_deg(np.mod(np.rad2deg(vonmises(mu_gt,kappa_gt,vis_sample_size)),360), nbins=3600), gaussfilter(41))\n",
    "    vm_ini = cyclic_filter(mkheatmap_deg(np.mod(np.rad2deg(vonmises(mu_ini,kappa_ini,vis_sample_size)),360), nbins=3600), gaussfilter(41))\n",
    "    vm_pred = cyclic_filter(mkheatmap_deg(np.mod(np.rad2deg(vonmises(mu_pred,kappa_pred,vis_sample_size)),360), nbins=3600), gaussfilter(41))\n",
    "    donut(axes[1,0], vm_gt/(len(yte)/400), bg=(201, 201), R=50, aapow=40);\n",
    "    axes[1,0].set_title('gt distribution $\\mu=%.2f, \\kappa=%.2f$' %(mu_gt, kappa_gt), fontsize=10)\n",
    "    donut(axes[1,1], vm_pred/(len(yte)/400), bg=(201, 201), R=50, aapow=40);\n",
    "    axes[1,1].set_title('estimated distribution $\\mu=%.2f, \\kappa=%.2f$' %(mu_pred, kappa_pred), fontsize=10)\n",
    "    donut(axes[1,2], vm_ini/(len(yte)/400), bg=(201, 201), R=50, aapow=40);\n",
    "    axes[1,2].set_title('initial distribution $\\mu=%.2f, \\kappa=%.2f$' %(mu_ini, kappa_ini), fontsize=10)"
   ]
  },
  {
   "cell_type": "code",
   "execution_count": null,
   "metadata": {
    "collapsed": true
   },
   "outputs": [],
   "source": [
    "mle_vm_demo_full(mu_gt=2.0, kappa_gt=1.0, sample_size=50000, niters=50000, lr=0.1)"
   ]
  },
  {
   "cell_type": "code",
   "execution_count": null,
   "metadata": {
    "collapsed": true
   },
   "outputs": [],
   "source": [
    "mle_vm_demo_full(mu_gt=3.14, kappa_gt=10.0, sample_size=50000, niters=50000, lr=0.1)"
   ]
  },
  {
   "cell_type": "code",
   "execution_count": null,
   "metadata": {
    "collapsed": true
   },
   "outputs": [],
   "source": [
    "mle_vm_demo_full(mu_gt=3.14, kappa_gt=0.1, sample_size=50000, niters=50000, lr=1.0)"
   ]
  },
  {
   "cell_type": "markdown",
   "metadata": {},
   "source": [
    "### MLE estimation for TownCentre headpose"
   ]
  },
  {
   "cell_type": "code",
   "execution_count": null,
   "metadata": {
    "collapsed": true
   },
   "outputs": [],
   "source": [
    "def shallow_linear_regression_model(x, image_width=46, image_height=46, output_size=1):\n",
    "    x_flat = tf.contrib.layers.flatten(x)\n",
    "    W_fc = weight_variable([3*image_width*image_height, output_size])\n",
    "    b_fc = bias_variable([output_size])\n",
    "    y = tf.matmul(x_flat, W_fc) + b_fc\n",
    "    return y\n",
    "\n",
    "def mad_loss(y_target, y_pred):\n",
    "    loss = tf.abs(y_target - y_pred)\n",
    "    return loss"
   ]
  },
  {
   "cell_type": "markdown",
   "metadata": {},
   "source": [
    "#### Setting global params"
   ]
  },
  {
   "cell_type": "code",
   "execution_count": null,
   "metadata": {
    "collapsed": true
   },
   "outputs": [],
   "source": [
    "nruns=1\n",
    "nepochs=100\n",
    "image_width=46\n",
    "image_height=46"
   ]
  },
  {
   "cell_type": "markdown",
   "metadata": {},
   "source": [
    "#### Optimizing for mean absolute error"
   ]
  },
  {
   "cell_type": "code",
   "execution_count": null,
   "metadata": {
    "collapsed": true
   },
   "outputs": [],
   "source": [
    "tf.reset_default_graph()\n",
    "\n",
    "x_tf = tf.placeholder(tf.float32, shape=[None, 3, image_width, image_height])\n",
    "y_target_tf = tf.placeholder(tf.float32, shape=[None, 1])\n",
    "\n",
    "y_pred_tf = shallow_linear_regression_model(x_tf)\n",
    "\n",
    "loss_tf = mad_loss(y_target_tf, y_pred_tf)\n",
    "\n",
    "train_step = tf.train.AdadeltaOptimizer(learning_rate=1.0).minimize(loss_tf)\n",
    "\n",
    "init_op = tf.global_variables_initializer()"
   ]
  },
  {
   "cell_type": "code",
   "execution_count": null,
   "metadata": {
    "collapsed": true
   },
   "outputs": [],
   "source": [
    "from lbtoolbox.util import batched\n",
    "\n",
    "def lr_mae_dotrain_eval(nruns = 5, nepochs=50, batchsize=100, debug_print=False):\n",
    "    y_preds = []\n",
    "    Xte_aug, yte_aug = aug.augbatch_train(Xte, yte)\n",
    "    yte_aug = yte_aug[:,None]\n",
    "    runs_epochs_losses = []\n",
    "    for run_id in range(0, nruns):\n",
    "        with tf.Session() as sess:\n",
    "            sess.run(init_op)\n",
    "            epochs_losses = []\n",
    "            for epoch_id in range(0, nepochs):\n",
    "                epoch_losses = []\n",
    "                for Xb, yb in batched(batchsize, Xtr, ytr, shuf=True):\n",
    "                    Xb_aug, yb_aug = aug.augbatch_train(Xb, yb)\n",
    "                    yb_aug = yb_aug.reshape(-1,1)\n",
    "                    _, preds, batch_losses = sess.run([train_step, y_pred_tf, loss_tf], \n",
    "                                                      feed_dict={x_tf: Xb_aug, y_target_tf: yb_aug})\n",
    "                    epoch_losses.append(np.mean(batch_losses))\n",
    "                mean_epoch_loss = np.mean(epoch_losses)\n",
    "                epochs_losses.append(mean_epoch_loss)\n",
    "                if debug_print:\n",
    "                    print(\"epoch %d finished. mean epoch loss: %f\" % (epoch_id, mean_epoch_loss))\n",
    "            y_pred = sess.run(y_pred_tf, feed_dict={x_tf:Xte_aug})\n",
    "            y_preds.append(y_pred)\n",
    "        runs_epochs_losses.append(epochs_losses)\n",
    "        print(\"run %d finished\" % run_id)\n",
    "    return y_preds, runs_epochs_losses"
   ]
  },
  {
   "cell_type": "code",
   "execution_count": null,
   "metadata": {
    "collapsed": true
   },
   "outputs": [],
   "source": [
    "y_preds_lr_mae, losses_lr_mae = lr_mae_dotrain_eval(debug_print=False, nruns=nruns, nepochs=nepochs)"
   ]
  },
  {
   "cell_type": "code",
   "execution_count": null,
   "metadata": {
    "collapsed": true
   },
   "outputs": [],
   "source": [
    "import matplotlib.pyplot as plt\n",
    "\n",
    "plt.plot(range(0, len(losses_lr_mae[0])), losses_lr_mae[0])\n",
    "plt.xlabel('epochs')\n",
    "plt.ylabel('mean absolute difference')\n",
    "plt.show()"
   ]
  },
  {
   "cell_type": "code",
   "execution_count": null,
   "metadata": {
    "collapsed": true
   },
   "outputs": [],
   "source": [
    "Xte_aug, yte_aug = aug.augbatch_train(Xte, yte)\n",
    "yte_aug = yte_aug[:,None]\n",
    "show_errs_deg(y_preds_lr_mae, yte_aug)\n",
    "test_likelihood = np.exp(log_likelihood_np(yte_aug, y_preds_lr_mae, 1.0))\n",
    "print(\"Likelihood: %f\"%test_likelihood)"
   ]
  },
  {
   "cell_type": "markdown",
   "metadata": {},
   "source": [
    "####  linear regression, optmizing for VM-MLE loss with fixed $\\kappa$"
   ]
  },
  {
   "cell_type": "code",
   "execution_count": null,
   "metadata": {
    "collapsed": true
   },
   "outputs": [],
   "source": [
    "tf.reset_default_graph()\n",
    "\n",
    "fixed_kappa=1.0\n",
    "\n",
    "x_tf = tf.placeholder(tf.float32, shape=[None, 3, image_width, image_height])\n",
    "y_target_tf = tf.placeholder(tf.float32, shape=[None, 1])\n",
    "\n",
    "mu_pred_tf = shallow_linear_regression_model(x_tf)\n",
    "\n",
    "loss_tf = -log_likelihood_tf(y_target_tf, mu_pred_tf, fixed_kappa, radian_input=False)\n",
    "\n",
    "train_step = tf.train.AdadeltaOptimizer(learning_rate=1.0).minimize(loss_tf)\n",
    "\n",
    "init_op = tf.global_variables_initializer()"
   ]
  },
  {
   "cell_type": "code",
   "execution_count": null,
   "metadata": {
    "collapsed": true
   },
   "outputs": [],
   "source": [
    "from lbtoolbox.util import batched\n",
    "\n",
    "def lr_mle_fixed_dotrain_eval(nruns = 5, nepochs=50, batchsize=100, debug_print=False):\n",
    "    mu_preds = []\n",
    "    Xte_aug, yte_aug = aug.augbatch_train(Xte, yte)\n",
    "    yte_aug = yte_aug[:,None]\n",
    "    runs_epochs_losses = []\n",
    "    for run_id in range(0, nruns):\n",
    "        with tf.Session() as sess:\n",
    "            sess.run(init_op)\n",
    "            epochs_losses = []\n",
    "            for epoch_id in range(0, nepochs):\n",
    "                epoch_losses = []\n",
    "                for Xb, yb in batched(batchsize, Xtr, ytr, shuf=True):\n",
    "                    Xb_aug, yb_aug = aug.augbatch_train(Xb, yb)\n",
    "                    yb_aug = yb_aug.reshape(-1,1)\n",
    "                    _, batch_losses = sess.run([train_step, loss_tf], \n",
    "                                                      feed_dict={x_tf: Xb_aug, y_target_tf: yb_aug})\n",
    "                    epoch_losses.append(np.mean(batch_losses))\n",
    "                mean_epoch_loss = np.mean(epoch_losses)\n",
    "                epochs_losses.append(mean_epoch_loss)\n",
    "                if debug_print:\n",
    "                    print(\"epoch %d finished. mean epoch loss: %f\" % (epoch_id, mean_epoch_loss))\n",
    "            mu_pred = sess.run(mu_pred_tf, feed_dict={x_tf:Xte_aug})\n",
    "            mu_preds.append(mu_pred)\n",
    "        runs_epochs_losses.append(epochs_losses)\n",
    "        print(\"run %d finished\" % run_id)\n",
    "    return mu_preds, runs_epochs_losses"
   ]
  },
  {
   "cell_type": "code",
   "execution_count": null,
   "metadata": {
    "collapsed": true
   },
   "outputs": [],
   "source": [
    "mu_preds_lr_mle_fixed, losses_plots = lr_mle_fixed_dotrain_eval(debug_print=False, nruns=nruns, nepochs=nepochs)"
   ]
  },
  {
   "cell_type": "code",
   "execution_count": null,
   "metadata": {
    "collapsed": true
   },
   "outputs": [],
   "source": [
    "import matplotlib.pyplot as plt\n",
    "\n",
    "plt.plot(range(0, len(losses_plots[0])), np.exp(-np.asarray(losses_plots[0])))\n",
    "plt.xlabel('epochs')\n",
    "plt.ylabel('likelihood')\n",
    "plt.show()"
   ]
  },
  {
   "cell_type": "code",
   "execution_count": null,
   "metadata": {
    "collapsed": true
   },
   "outputs": [],
   "source": [
    "Xte_aug, yte_aug = aug.augbatch_train(Xte, yte)\n",
    "yte_aug = yte_aug[:,None]\n",
    "show_errs_deg(mu_preds_lr_mle_fixed, yte_aug)\n",
    "test_likelihood_kappa1 = np.exp(log_likelihood_np(yte_aug, mu_preds_lr_mle_fixed, fixed_kappa))\n",
    "test_likelihood_kappa01 = np.exp(log_likelihood_np(yte_aug, mu_preds_lr_mle_fixed, fixed_kappa*0.1))\n",
    "test_likelihood_kappa10 = np.exp(log_likelihood_np(yte_aug, mu_preds_lr_mle_fixed, fixed_kappa*10.0))\n",
    "print(\"Likelihood (kappa=1.0): %f\"%test_likelihood_kappa1)\n",
    "print(\"Likelihood (kappa=0.1): %f\"%test_likelihood_kappa01)\n",
    "print(\"Likelihood (kappa=10.0): %f\"%test_likelihood_kappa10)"
   ]
  },
  {
   "cell_type": "markdown",
   "metadata": {},
   "source": [
    "####  linear regression, optmizing for VM-MLE loss (with $\\kappa$ prediction)"
   ]
  },
  {
   "cell_type": "code",
   "execution_count": null,
   "metadata": {
    "collapsed": true
   },
   "outputs": [],
   "source": [
    "tf.reset_default_graph()\n",
    "\n",
    "x_tf = tf.placeholder(tf.float32, shape=[None, 3, image_width, image_height])\n",
    "y_target_tf = tf.placeholder(tf.float32, shape=[None, 1])\n",
    "\n",
    "mu_pred_tf = shallow_linear_regression_model(x_tf)\n",
    "kappa_pred_tf = shallow_linear_regression_model(x_tf)\n",
    "\n",
    "loss_tf = -log_likelihood_tf(y_target_tf, mu_pred_tf, kappa_pred_tf, radian_input=False)\n",
    "\n",
    "train_step = tf.train.AdadeltaOptimizer(learning_rate=1.0).minimize(loss_tf)\n",
    "\n",
    "init_op = tf.global_variables_initializer()"
   ]
  },
  {
   "cell_type": "code",
   "execution_count": null,
   "metadata": {
    "collapsed": true
   },
   "outputs": [],
   "source": [
    "from lbtoolbox.util import batched\n",
    "\n",
    "def lr_mle_full_dotrain_eval(nruns = 5, nepochs=50, batchsize=100, debug_print=False):\n",
    "    mu_preds = []\n",
    "    kappa_preds = []\n",
    "    Xte_aug, yte_aug = aug.augbatch_train(Xte, yte)\n",
    "    yte_aug = yte_aug[:,None]\n",
    "    runs_epochs_losses = []\n",
    "    for run_id in range(0, nruns):\n",
    "        with tf.Session() as sess:\n",
    "            sess.run(init_op)\n",
    "            epochs_losses = []\n",
    "            for epoch_id in range(0, nepochs):\n",
    "                epoch_losses = []\n",
    "                for Xb, yb in batched(batchsize, Xtr, ytr, shuf=True):\n",
    "                    Xb_aug, yb_aug = aug.augbatch_train(Xb, yb)\n",
    "                    yb_aug = yb_aug.reshape(-1,1)\n",
    "                    _, batch_losses = sess.run([train_step, loss_tf], \n",
    "                                                      feed_dict={x_tf: Xb_aug, y_target_tf: yb_aug})\n",
    "                    epoch_losses.append(np.mean(batch_losses))\n",
    "                mean_epoch_loss = np.mean(epoch_losses)\n",
    "                epochs_losses.append(mean_epoch_loss)\n",
    "                if debug_print:\n",
    "                    print(\"epoch %d finished. mean epoch loss: %f\" % (epoch_id, mean_epoch_loss))\n",
    "            mu_pred, kappa_pred = sess.run([mu_pred_tf, kappa_pred_tf], feed_dict={x_tf:Xte_aug})\n",
    "            mu_preds.append(mu_pred)\n",
    "            kappa_preds.append(kappa_pred)\n",
    "        runs_epochs_losses.append(epochs_losses)\n",
    "        print(\"run %d finished\" % run_id)\n",
    "    return mu_preds, kappa_preds, runs_epochs_losses"
   ]
  },
  {
   "cell_type": "code",
   "execution_count": null,
   "metadata": {
    "collapsed": true
   },
   "outputs": [],
   "source": [
    "mu_preds_lr_mle_full, kappa_preds_lr_mle_full, losses_mle_full = lr_mle_full_dotrain_eval(debug_print=False, nruns=nruns, nepochs=nepochs)"
   ]
  },
  {
   "cell_type": "code",
   "execution_count": null,
   "metadata": {
    "collapsed": true
   },
   "outputs": [],
   "source": [
    "import matplotlib.pyplot as plt\n",
    "\n",
    "plt.plot(range(0, len(losses_mle_full[0])), np.exp(-np.asarray(losses_mle_full[0])))\n",
    "plt.xlabel('epochs')\n",
    "plt.ylabel('likelihood')\n",
    "plt.show()"
   ]
  },
  {
   "cell_type": "code",
   "execution_count": null,
   "metadata": {
    "collapsed": true
   },
   "outputs": [],
   "source": [
    "Xte_aug, yte_aug = aug.augbatch_train(Xte, yte)\n",
    "yte_aug = yte_aug[:,None]\n",
    "show_errs_deg(mu_preds_lr_mle_full, yte_aug)\n",
    "test_likelihood = np.exp(log_likelihood_np(yte_aug, mu_preds_lr_mle_full, np.abs(kappa_preds_lr_mle_full)))\n",
    "print(\"Likelihood: %f\"%test_likelihood)\n",
    "print(\"Mean kappa : %f\" % np.mean(np.abs(kappa_preds_lr_mle_full)))\n",
    "print(\"Std kappa : %f\" % np.std(np.abs(kappa_preds_lr_mle_full)))"
   ]
  },
  {
   "cell_type": "markdown",
   "metadata": {},
   "source": [
    "## Deep Linear Regression\n",
    "\n",
    "<a id='deep_linear_regression'></a>"
   ]
  },
  {
   "cell_type": "code",
   "execution_count": 33,
   "metadata": {},
   "outputs": [
    {
     "name": "stderr",
     "output_type": "stream",
     "text": [
      "Using TensorFlow backend.\n"
     ]
    }
   ],
   "source": [
    "import keras\n",
    "from keras.datasets import mnist\n",
    "from keras.models import Sequential\n",
    "from keras.layers import Dense, Dropout, Flatten\n",
    "from keras.layers import Conv2D, MaxPooling2D\n",
    "from keras.layers.normalization import BatchNormalization"
   ]
  },
  {
   "cell_type": "markdown",
   "metadata": {},
   "source": [
    "#### Original  TownsCentre image format : [batch_size, channels=3, height=46, width=46]"
   ]
  },
  {
   "cell_type": "code",
   "execution_count": 35,
   "metadata": {
    "collapsed": true
   },
   "outputs": [],
   "source": [
    "def mad_loss(y_target, y_pred):\n",
    "    loss = tf.abs(y_target - y_pred)\n",
    "    return tf.reduce_mean(loss)"
   ]
  },
  {
   "cell_type": "code",
   "execution_count": 36,
   "metadata": {
    "collapsed": true
   },
   "outputs": [],
   "source": [
    "def dnn_model(x):\n",
    "    x_flat = tf.contrib.layers.flatten(x)\n",
    "    fc1 = slim.layers.fully_connected(x_flat, 512, activation_fn=tf.nn.relu)\n",
    "    fc2 = slim.layers.fully_connected(fc1, 512, activation_fn=tf.nn.relu)\n",
    "    fc3 = slim.layers.fully_connected(fc2, 512, activation_fn=tf.nn.relu)\n",
    "    fc4 = slim.layers.fully_connected(fc3, 1, activation_fn=None)\n",
    "    return fc4"
   ]
  },
  {
   "cell_type": "code",
   "execution_count": 37,
   "metadata": {
    "collapsed": true
   },
   "outputs": [],
   "source": [
    "import keras\n",
    "\n",
    "from keras.models import Sequential\n",
    "from keras.layers import Dense, Dropout, Flatten, Activation, Lambda\n",
    "from keras.layers import Conv2D, MaxPooling2D\n",
    "from keras.layers.normalization import BatchNormalization\n",
    "from keras import backend as K\n",
    "\n",
    "def vgg_model(n_outputs, image_height=50, image_width=50, l2_normalize_final=False):\n",
    "    model = Sequential()\n",
    "    \n",
    "    model.add(Conv2D(24, kernel_size=(3, 3),\n",
    "                     activation=None,\n",
    "                     input_shape=[image_height, image_width, 3]))\n",
    "    model.add(BatchNormalization())\n",
    "    model.add(Activation('relu'))\n",
    "    model.add(Conv2D(24, (3, 3), activation=None))\n",
    "    model.add(BatchNormalization())\n",
    "    model.add(MaxPooling2D(pool_size=(2, 2)))\n",
    "    model.add(Activation('relu'))\n",
    "    \n",
    "    model.add(Conv2D(48, (3, 3), activation=None))\n",
    "    model.add(BatchNormalization())\n",
    "    model.add(Activation('relu'))\n",
    "    model.add(Conv2D(48, (3, 3), activation=None))\n",
    "    model.add(BatchNormalization())\n",
    "    model.add(MaxPooling2D(pool_size=(2, 2)))\n",
    "    model.add(Activation('relu'))\n",
    "    \n",
    "    model.add(Conv2D(64, (3, 3), activation=None))\n",
    "    model.add(BatchNormalization())\n",
    "    model.add(Activation('relu'))\n",
    "    model.add(Conv2D(64, (3, 3), activation=None))\n",
    "    model.add(BatchNormalization())\n",
    "    model.add(Activation('relu'))\n",
    "    model.add(Dropout(0.2))\n",
    "    model.add(Flatten())\n",
    "    model.add(Dense(512, activation='relu'))\n",
    "    model.add(Dropout(0.5))\n",
    "    model.add(Dense(n_outputs, activation=None))\n",
    "    \n",
    "    if l2_normalize_final:\n",
    "        model.add(Lambda(lambda  x: K.l2_normalize(x,axis=1)))\n",
    "    \n",
    "    return model"
   ]
  },
  {
   "cell_type": "code",
   "execution_count": 38,
   "metadata": {
    "collapsed": true
   },
   "outputs": [],
   "source": [
    "vgg = vgg_model(image_height, image_width)\n",
    "\n",
    "vgg.compile(loss=mad_loss,\n",
    "            optimizer=keras.optimizers.Adadelta(),\n",
    "            metrics=['mae'])"
   ]
  },
  {
   "cell_type": "code",
   "execution_count": 39,
   "metadata": {},
   "outputs": [
    {
     "name": "stdout",
     "output_type": "stream",
     "text": [
      "Train on 7780 samples, validate on 914 samples\n",
      "Epoch 1/50\n",
      "7780/7780 [==============================] - 80s - loss: 70.7497 - mean_absolute_error: 70.7497 - val_loss: 55.7565 - val_mean_absolute_error: 55.7565\n",
      "Epoch 2/50\n",
      "7780/7780 [==============================] - 78s - loss: 58.9015 - mean_absolute_error: 58.9015 - val_loss: 50.5802 - val_mean_absolute_error: 50.5802\n",
      "Epoch 3/50\n",
      "7780/7780 [==============================] - 78s - loss: 57.6619 - mean_absolute_error: 57.6619 - val_loss: 47.8889 - val_mean_absolute_error: 47.8889\n",
      "Epoch 4/50\n",
      "7780/7780 [==============================] - 78s - loss: 55.9839 - mean_absolute_error: 55.9839 - val_loss: 50.3458 - val_mean_absolute_error: 50.3458\n",
      "Epoch 5/50\n",
      "7780/7780 [==============================] - 78s - loss: 54.2112 - mean_absolute_error: 54.2112 - val_loss: 56.5267 - val_mean_absolute_error: 56.5267\n",
      "Epoch 6/50\n",
      "7780/7780 [==============================] - 78s - loss: 53.0893 - mean_absolute_error: 53.0893 - val_loss: 44.9335 - val_mean_absolute_error: 44.9335\n",
      "Epoch 7/50\n",
      "7780/7780 [==============================] - 78s - loss: 52.2448 - mean_absolute_error: 52.2448 - val_loss: 49.3586 - val_mean_absolute_error: 49.3586\n",
      "Epoch 8/50\n",
      "7780/7780 [==============================] - 78s - loss: 51.2067 - mean_absolute_error: 51.2067 - val_loss: 50.0655 - val_mean_absolute_error: 50.0655\n",
      "Epoch 9/50\n",
      "7780/7780 [==============================] - 78s - loss: 50.0442 - mean_absolute_error: 50.0442 - val_loss: 72.0235 - val_mean_absolute_error: 72.0235\n",
      "Epoch 10/50\n",
      "7780/7780 [==============================] - 78s - loss: 49.3197 - mean_absolute_error: 49.3197 - val_loss: 47.0018 - val_mean_absolute_error: 47.0018\n",
      "Epoch 11/50\n",
      "2460/7780 [========>.....................] - ETA: 51s - loss: 48.0489 - mean_absolute_error: 48.0489"
     ]
    },
    {
     "ename": "KeyboardInterrupt",
     "evalue": "",
     "output_type": "error",
     "traceback": [
      "\u001b[0;31m---------------------------------------------------------------------------\u001b[0m",
      "\u001b[0;31mKeyboardInterrupt\u001b[0m                         Traceback (most recent call last)",
      "\u001b[0;32m<ipython-input-39-105f0358801e>\u001b[0m in \u001b[0;36m<module>\u001b[0;34m()\u001b[0m\n\u001b[1;32m      3\u001b[0m           \u001b[0mepochs\u001b[0m\u001b[0;34m=\u001b[0m\u001b[0;36m50\u001b[0m\u001b[0;34m,\u001b[0m\u001b[0;34m\u001b[0m\u001b[0m\n\u001b[1;32m      4\u001b[0m           \u001b[0mverbose\u001b[0m\u001b[0;34m=\u001b[0m\u001b[0;36m1\u001b[0m\u001b[0;34m,\u001b[0m\u001b[0;34m\u001b[0m\u001b[0m\n\u001b[0;32m----> 5\u001b[0;31m           validation_data=(Xte, yte.reshape(-1,1)))\n\u001b[0m",
      "\u001b[0;32m/Users/sergey/BiternionNet/py_env/lib/python3.6/site-packages/keras/models.py\u001b[0m in \u001b[0;36mfit\u001b[0;34m(self, x, y, batch_size, epochs, verbose, callbacks, validation_split, validation_data, shuffle, class_weight, sample_weight, initial_epoch, **kwargs)\u001b[0m\n\u001b[1;32m    854\u001b[0m                               \u001b[0mclass_weight\u001b[0m\u001b[0;34m=\u001b[0m\u001b[0mclass_weight\u001b[0m\u001b[0;34m,\u001b[0m\u001b[0;34m\u001b[0m\u001b[0m\n\u001b[1;32m    855\u001b[0m                               \u001b[0msample_weight\u001b[0m\u001b[0;34m=\u001b[0m\u001b[0msample_weight\u001b[0m\u001b[0;34m,\u001b[0m\u001b[0;34m\u001b[0m\u001b[0m\n\u001b[0;32m--> 856\u001b[0;31m                               initial_epoch=initial_epoch)\n\u001b[0m\u001b[1;32m    857\u001b[0m \u001b[0;34m\u001b[0m\u001b[0m\n\u001b[1;32m    858\u001b[0m     def evaluate(self, x, y, batch_size=32, verbose=1,\n",
      "\u001b[0;32m/Users/sergey/BiternionNet/py_env/lib/python3.6/site-packages/keras/engine/training.py\u001b[0m in \u001b[0;36mfit\u001b[0;34m(self, x, y, batch_size, epochs, verbose, callbacks, validation_split, validation_data, shuffle, class_weight, sample_weight, initial_epoch, **kwargs)\u001b[0m\n\u001b[1;32m   1496\u001b[0m                               \u001b[0mval_f\u001b[0m\u001b[0;34m=\u001b[0m\u001b[0mval_f\u001b[0m\u001b[0;34m,\u001b[0m \u001b[0mval_ins\u001b[0m\u001b[0;34m=\u001b[0m\u001b[0mval_ins\u001b[0m\u001b[0;34m,\u001b[0m \u001b[0mshuffle\u001b[0m\u001b[0;34m=\u001b[0m\u001b[0mshuffle\u001b[0m\u001b[0;34m,\u001b[0m\u001b[0;34m\u001b[0m\u001b[0m\n\u001b[1;32m   1497\u001b[0m                               \u001b[0mcallback_metrics\u001b[0m\u001b[0;34m=\u001b[0m\u001b[0mcallback_metrics\u001b[0m\u001b[0;34m,\u001b[0m\u001b[0;34m\u001b[0m\u001b[0m\n\u001b[0;32m-> 1498\u001b[0;31m                               initial_epoch=initial_epoch)\n\u001b[0m\u001b[1;32m   1499\u001b[0m \u001b[0;34m\u001b[0m\u001b[0m\n\u001b[1;32m   1500\u001b[0m     \u001b[0;32mdef\u001b[0m \u001b[0mevaluate\u001b[0m\u001b[0;34m(\u001b[0m\u001b[0mself\u001b[0m\u001b[0;34m,\u001b[0m \u001b[0mx\u001b[0m\u001b[0;34m,\u001b[0m \u001b[0my\u001b[0m\u001b[0;34m,\u001b[0m \u001b[0mbatch_size\u001b[0m\u001b[0;34m=\u001b[0m\u001b[0;36m32\u001b[0m\u001b[0;34m,\u001b[0m \u001b[0mverbose\u001b[0m\u001b[0;34m=\u001b[0m\u001b[0;36m1\u001b[0m\u001b[0;34m,\u001b[0m \u001b[0msample_weight\u001b[0m\u001b[0;34m=\u001b[0m\u001b[0;32mNone\u001b[0m\u001b[0;34m)\u001b[0m\u001b[0;34m:\u001b[0m\u001b[0;34m\u001b[0m\u001b[0m\n",
      "\u001b[0;32m/Users/sergey/BiternionNet/py_env/lib/python3.6/site-packages/keras/engine/training.py\u001b[0m in \u001b[0;36m_fit_loop\u001b[0;34m(self, f, ins, out_labels, batch_size, epochs, verbose, callbacks, val_f, val_ins, shuffle, callback_metrics, initial_epoch)\u001b[0m\n\u001b[1;32m   1150\u001b[0m                 \u001b[0mbatch_logs\u001b[0m\u001b[0;34m[\u001b[0m\u001b[0;34m'size'\u001b[0m\u001b[0;34m]\u001b[0m \u001b[0;34m=\u001b[0m \u001b[0mlen\u001b[0m\u001b[0;34m(\u001b[0m\u001b[0mbatch_ids\u001b[0m\u001b[0;34m)\u001b[0m\u001b[0;34m\u001b[0m\u001b[0m\n\u001b[1;32m   1151\u001b[0m                 \u001b[0mcallbacks\u001b[0m\u001b[0;34m.\u001b[0m\u001b[0mon_batch_begin\u001b[0m\u001b[0;34m(\u001b[0m\u001b[0mbatch_index\u001b[0m\u001b[0;34m,\u001b[0m \u001b[0mbatch_logs\u001b[0m\u001b[0;34m)\u001b[0m\u001b[0;34m\u001b[0m\u001b[0m\n\u001b[0;32m-> 1152\u001b[0;31m                 \u001b[0mouts\u001b[0m \u001b[0;34m=\u001b[0m \u001b[0mf\u001b[0m\u001b[0;34m(\u001b[0m\u001b[0mins_batch\u001b[0m\u001b[0;34m)\u001b[0m\u001b[0;34m\u001b[0m\u001b[0m\n\u001b[0m\u001b[1;32m   1153\u001b[0m                 \u001b[0;32mif\u001b[0m \u001b[0;32mnot\u001b[0m \u001b[0misinstance\u001b[0m\u001b[0;34m(\u001b[0m\u001b[0mouts\u001b[0m\u001b[0;34m,\u001b[0m \u001b[0mlist\u001b[0m\u001b[0;34m)\u001b[0m\u001b[0;34m:\u001b[0m\u001b[0;34m\u001b[0m\u001b[0m\n\u001b[1;32m   1154\u001b[0m                     \u001b[0mouts\u001b[0m \u001b[0;34m=\u001b[0m \u001b[0;34m[\u001b[0m\u001b[0mouts\u001b[0m\u001b[0;34m]\u001b[0m\u001b[0;34m\u001b[0m\u001b[0m\n",
      "\u001b[0;32m/Users/sergey/BiternionNet/py_env/lib/python3.6/site-packages/keras/backend/tensorflow_backend.py\u001b[0m in \u001b[0;36m__call__\u001b[0;34m(self, inputs)\u001b[0m\n\u001b[1;32m   2227\u001b[0m         \u001b[0msession\u001b[0m \u001b[0;34m=\u001b[0m \u001b[0mget_session\u001b[0m\u001b[0;34m(\u001b[0m\u001b[0;34m)\u001b[0m\u001b[0;34m\u001b[0m\u001b[0m\n\u001b[1;32m   2228\u001b[0m         updated = session.run(self.outputs + [self.updates_op],\n\u001b[0;32m-> 2229\u001b[0;31m                               feed_dict=feed_dict)\n\u001b[0m\u001b[1;32m   2230\u001b[0m         \u001b[0;32mreturn\u001b[0m \u001b[0mupdated\u001b[0m\u001b[0;34m[\u001b[0m\u001b[0;34m:\u001b[0m\u001b[0mlen\u001b[0m\u001b[0;34m(\u001b[0m\u001b[0mself\u001b[0m\u001b[0;34m.\u001b[0m\u001b[0moutputs\u001b[0m\u001b[0;34m)\u001b[0m\u001b[0;34m]\u001b[0m\u001b[0;34m\u001b[0m\u001b[0m\n\u001b[1;32m   2231\u001b[0m \u001b[0;34m\u001b[0m\u001b[0m\n",
      "\u001b[0;32m/Users/sergey/BiternionNet/py_env/lib/python3.6/site-packages/tensorflow/python/client/session.py\u001b[0m in \u001b[0;36mrun\u001b[0;34m(self, fetches, feed_dict, options, run_metadata)\u001b[0m\n\u001b[1;32m    776\u001b[0m     \u001b[0;32mtry\u001b[0m\u001b[0;34m:\u001b[0m\u001b[0;34m\u001b[0m\u001b[0m\n\u001b[1;32m    777\u001b[0m       result = self._run(None, fetches, feed_dict, options_ptr,\n\u001b[0;32m--> 778\u001b[0;31m                          run_metadata_ptr)\n\u001b[0m\u001b[1;32m    779\u001b[0m       \u001b[0;32mif\u001b[0m \u001b[0mrun_metadata\u001b[0m\u001b[0;34m:\u001b[0m\u001b[0;34m\u001b[0m\u001b[0m\n\u001b[1;32m    780\u001b[0m         \u001b[0mproto_data\u001b[0m \u001b[0;34m=\u001b[0m \u001b[0mtf_session\u001b[0m\u001b[0;34m.\u001b[0m\u001b[0mTF_GetBuffer\u001b[0m\u001b[0;34m(\u001b[0m\u001b[0mrun_metadata_ptr\u001b[0m\u001b[0;34m)\u001b[0m\u001b[0;34m\u001b[0m\u001b[0m\n",
      "\u001b[0;32m/Users/sergey/BiternionNet/py_env/lib/python3.6/site-packages/tensorflow/python/client/session.py\u001b[0m in \u001b[0;36m_run\u001b[0;34m(self, handle, fetches, feed_dict, options, run_metadata)\u001b[0m\n\u001b[1;32m    980\u001b[0m     \u001b[0;32mif\u001b[0m \u001b[0mfinal_fetches\u001b[0m \u001b[0;32mor\u001b[0m \u001b[0mfinal_targets\u001b[0m\u001b[0;34m:\u001b[0m\u001b[0;34m\u001b[0m\u001b[0m\n\u001b[1;32m    981\u001b[0m       results = self._do_run(handle, final_targets, final_fetches,\n\u001b[0;32m--> 982\u001b[0;31m                              feed_dict_string, options, run_metadata)\n\u001b[0m\u001b[1;32m    983\u001b[0m     \u001b[0;32melse\u001b[0m\u001b[0;34m:\u001b[0m\u001b[0;34m\u001b[0m\u001b[0m\n\u001b[1;32m    984\u001b[0m       \u001b[0mresults\u001b[0m \u001b[0;34m=\u001b[0m \u001b[0;34m[\u001b[0m\u001b[0;34m]\u001b[0m\u001b[0;34m\u001b[0m\u001b[0m\n",
      "\u001b[0;32m/Users/sergey/BiternionNet/py_env/lib/python3.6/site-packages/tensorflow/python/client/session.py\u001b[0m in \u001b[0;36m_do_run\u001b[0;34m(self, handle, target_list, fetch_list, feed_dict, options, run_metadata)\u001b[0m\n\u001b[1;32m   1030\u001b[0m     \u001b[0;32mif\u001b[0m \u001b[0mhandle\u001b[0m \u001b[0;32mis\u001b[0m \u001b[0;32mNone\u001b[0m\u001b[0;34m:\u001b[0m\u001b[0;34m\u001b[0m\u001b[0m\n\u001b[1;32m   1031\u001b[0m       return self._do_call(_run_fn, self._session, feed_dict, fetch_list,\n\u001b[0;32m-> 1032\u001b[0;31m                            target_list, options, run_metadata)\n\u001b[0m\u001b[1;32m   1033\u001b[0m     \u001b[0;32melse\u001b[0m\u001b[0;34m:\u001b[0m\u001b[0;34m\u001b[0m\u001b[0m\n\u001b[1;32m   1034\u001b[0m       return self._do_call(_prun_fn, self._session, handle, feed_dict,\n",
      "\u001b[0;32m/Users/sergey/BiternionNet/py_env/lib/python3.6/site-packages/tensorflow/python/client/session.py\u001b[0m in \u001b[0;36m_do_call\u001b[0;34m(self, fn, *args)\u001b[0m\n\u001b[1;32m   1037\u001b[0m   \u001b[0;32mdef\u001b[0m \u001b[0m_do_call\u001b[0m\u001b[0;34m(\u001b[0m\u001b[0mself\u001b[0m\u001b[0;34m,\u001b[0m \u001b[0mfn\u001b[0m\u001b[0;34m,\u001b[0m \u001b[0;34m*\u001b[0m\u001b[0margs\u001b[0m\u001b[0;34m)\u001b[0m\u001b[0;34m:\u001b[0m\u001b[0;34m\u001b[0m\u001b[0m\n\u001b[1;32m   1038\u001b[0m     \u001b[0;32mtry\u001b[0m\u001b[0;34m:\u001b[0m\u001b[0;34m\u001b[0m\u001b[0m\n\u001b[0;32m-> 1039\u001b[0;31m       \u001b[0;32mreturn\u001b[0m \u001b[0mfn\u001b[0m\u001b[0;34m(\u001b[0m\u001b[0;34m*\u001b[0m\u001b[0margs\u001b[0m\u001b[0;34m)\u001b[0m\u001b[0;34m\u001b[0m\u001b[0m\n\u001b[0m\u001b[1;32m   1040\u001b[0m     \u001b[0;32mexcept\u001b[0m \u001b[0merrors\u001b[0m\u001b[0;34m.\u001b[0m\u001b[0mOpError\u001b[0m \u001b[0;32mas\u001b[0m \u001b[0me\u001b[0m\u001b[0;34m:\u001b[0m\u001b[0;34m\u001b[0m\u001b[0m\n\u001b[1;32m   1041\u001b[0m       \u001b[0mmessage\u001b[0m \u001b[0;34m=\u001b[0m \u001b[0mcompat\u001b[0m\u001b[0;34m.\u001b[0m\u001b[0mas_text\u001b[0m\u001b[0;34m(\u001b[0m\u001b[0me\u001b[0m\u001b[0;34m.\u001b[0m\u001b[0mmessage\u001b[0m\u001b[0;34m)\u001b[0m\u001b[0;34m\u001b[0m\u001b[0m\n",
      "\u001b[0;32m/Users/sergey/BiternionNet/py_env/lib/python3.6/site-packages/tensorflow/python/client/session.py\u001b[0m in \u001b[0;36m_run_fn\u001b[0;34m(session, feed_dict, fetch_list, target_list, options, run_metadata)\u001b[0m\n\u001b[1;32m   1019\u001b[0m         return tf_session.TF_Run(session, options,\n\u001b[1;32m   1020\u001b[0m                                  \u001b[0mfeed_dict\u001b[0m\u001b[0;34m,\u001b[0m \u001b[0mfetch_list\u001b[0m\u001b[0;34m,\u001b[0m \u001b[0mtarget_list\u001b[0m\u001b[0;34m,\u001b[0m\u001b[0;34m\u001b[0m\u001b[0m\n\u001b[0;32m-> 1021\u001b[0;31m                                  status, run_metadata)\n\u001b[0m\u001b[1;32m   1022\u001b[0m \u001b[0;34m\u001b[0m\u001b[0m\n\u001b[1;32m   1023\u001b[0m     \u001b[0;32mdef\u001b[0m \u001b[0m_prun_fn\u001b[0m\u001b[0;34m(\u001b[0m\u001b[0msession\u001b[0m\u001b[0;34m,\u001b[0m \u001b[0mhandle\u001b[0m\u001b[0;34m,\u001b[0m \u001b[0mfeed_dict\u001b[0m\u001b[0;34m,\u001b[0m \u001b[0mfetch_list\u001b[0m\u001b[0;34m)\u001b[0m\u001b[0;34m:\u001b[0m\u001b[0;34m\u001b[0m\u001b[0m\n",
      "\u001b[0;31mKeyboardInterrupt\u001b[0m: "
     ]
    }
   ],
   "source": [
    "vgg.fit(x=Xtr, y=ytr.reshape(-1,1),\n",
    "          batch_size=10,\n",
    "          epochs=50,\n",
    "          verbose=1,\n",
    "          validation_data=(Xte, yte.reshape(-1,1)))"
   ]
  },
  {
   "cell_type": "code",
   "execution_count": 25,
   "metadata": {
    "collapsed": true
   },
   "outputs": [],
   "source": [
    "y_preds_dlr = vgg.predict(Xte)"
   ]
  },
  {
   "cell_type": "code",
   "execution_count": null,
   "metadata": {
    "collapsed": true
   },
   "outputs": [],
   "source": [
    "import matplotlib.pyplot as plt\n",
    "import matplotlib.pyplot as plt\n",
    "\n",
    "plt.plot(range(0, len(losses_plots_train[0])), losses_plots_train[0], label='train')\n",
    "plt.plot(range(0, len(losses_plots_val[0])), losses_plots_val[0], label='validation')\n",
    "plt.xlabel('epochs')\n",
    "plt.ylabel('mean error in degrees')\n",
    "plt.legend()\n",
    "plt.show()"
   ]
  },
  {
   "cell_type": "code",
   "execution_count": 66,
   "metadata": {
    "scrolled": false
   },
   "outputs": [
    {
     "name": "stdout",
     "output_type": "stream",
     "text": [
      "Error: 33.93°± 0.00°\n",
      "Stdev: 36.44°± 0.00°\n",
      "Likelihood: 0.159151\n"
     ]
    }
   ],
   "source": [
    "show_errs_deg(y_preds_dlr, yte.reshape(-1,1))\n",
    "test_likelihood = np.exp(log_likelihood_np(yte, y_preds_dlr, 0.01))\n",
    "print(\"Likelihood: %f\" %test_likelihood)"
   ]
  },
  {
   "cell_type": "code",
   "execution_count": null,
   "metadata": {
    "collapsed": true,
    "scrolled": false
   },
   "outputs": [],
   "source": [
    "fig, axes = plt.subplots(1, 2, figsize=(8,4))\n",
    "hm_pred = cyclic_filter(mkheatmap_deg(np.concatenate(y_preds_linreg)[:,0], nbins=3600)/5, gaussfilter(41))\n",
    "hm_real = cyclic_filter(mkheatmap_deg(yte, nbins=3600), gaussfilter(41))\n",
    "donut(axes[0], hm_pred/(len(yte)/400), bg=(201, 201), R=50, aapow=40);\n",
    "donut(axes[1], hm_real/(len(yte)/400), bg=(201, 201), R=50, aapow=40);"
   ]
  },
  {
   "cell_type": "markdown",
   "metadata": {},
   "source": [
    "## Linear Regression in Radians"
   ]
  },
  {
   "cell_type": "markdown",
   "metadata": {},
   "source": [
    "This experiment is not present in the paper, but just in order to prove that the improvements do not lie in the smaller output range of biternions, here is the regression of the angles in radians, i.e. a small range. Spoiler: the results are the same as for degrees."
   ]
  },
  {
   "cell_type": "code",
   "execution_count": null,
   "metadata": {
    "collapsed": true
   },
   "outputs": [],
   "source": [
    "#nets_linreg_rad = [mknet(df.Linear(512, 1, initW=df.init.const(0))) for _ in range(5)]\n",
    "nets_shallow_linreg = [df.Sequential(\n",
    "    Flatten(),\n",
    "    df.Linear(3*46*46, 1, init=df.init.const(0)),\n",
    ") for _ in range(5)]\n",
    "#print('{:.3f}M params'.format(count_params(nets_linreg_rad[0])/1000000))"
   ]
  },
  {
   "cell_type": "code",
   "execution_count": null,
   "metadata": {
    "collapsed": true
   },
   "outputs": [],
   "source": [
    "trains_linreg_rad = [dotrain(net, df.MADCriterion(), aug, Xtr, np.deg2rad(ytr[:,None])) for net in nets_shallow_linreg]"
   ]
  },
  {
   "cell_type": "code",
   "execution_count": null,
   "metadata": {
    "collapsed": true
   },
   "outputs": [],
   "source": [
    "for model in nets_shallow_linreg:\n",
    "    dostats(model, aug, Xtr, batchsize=1000)"
   ]
  },
  {
   "cell_type": "code",
   "execution_count": null,
   "metadata": {
    "collapsed": true
   },
   "outputs": [],
   "source": [
    "def ensemble_radians(angles):\n",
    "    return np.arctan2(np.mean(np.sin(angles), axis=0), np.mean(np.cos(angles), axis=0))"
   ]
  },
  {
   "cell_type": "code",
   "execution_count": null,
   "metadata": {
    "collapsed": true
   },
   "outputs": [],
   "source": [
    "def dopred_rad(model, aug, X, batchsize=100):\n",
    "    return dopred(model, aug, X, ensembling=ensemble_radians, output2preds=lambda x: x, batchsize=batchsize)"
   ]
  },
  {
   "cell_type": "code",
   "execution_count": null,
   "metadata": {
    "collapsed": true
   },
   "outputs": [],
   "source": [
    "y_preds_linreg_rad = [dopred_rad(net, aug, Xte) for net in nets_shallow_linreg]"
   ]
  },
  {
   "cell_type": "code",
   "execution_count": null,
   "metadata": {
    "collapsed": true,
    "scrolled": false
   },
   "outputs": [],
   "source": [
    "show_errs_deg(np.rad2deg(y_preds_linreg_rad), yte[:,None])"
   ]
  },
  {
   "cell_type": "code",
   "execution_count": null,
   "metadata": {
    "collapsed": true,
    "scrolled": false
   },
   "outputs": [],
   "source": [
    "fig, axes = plt.subplots(1, 2, figsize=(8,4))\n",
    "hm_pred = cyclic_filter(mkheatmap_deg(np.concatenate(np.rad2deg(y_preds_linreg_rad))[:,0], nbins=3600)/5, gaussfilter(41))\n",
    "hm_real = cyclic_filter(mkheatmap_deg(yte, nbins=3600), gaussfilter(41))\n",
    "donut(axes[0], hm_pred/(len(yte)/400), bg=(201, 201), R=50, aapow=40);\n",
    "donut(axes[1], hm_real/(len(yte)/400), bg=(201, 201), R=50, aapow=40);"
   ]
  },
  {
   "cell_type": "markdown",
   "metadata": {},
   "source": [
    "## Deep Linear Regression with Modulo"
   ]
  },
  {
   "cell_type": "code",
   "execution_count": null,
   "metadata": {
    "collapsed": true
   },
   "outputs": [],
   "source": [
    "nets_linreg_mod = [mknet(df.Linear(512, 1, initW=df.init.const(0))) for _ in range(5)]\n",
    "print('{:.3f}M params'.format(count_params(nets_linreg_mod[0])/1000000))"
   ]
  },
  {
   "cell_type": "code",
   "execution_count": null,
   "metadata": {
    "collapsed": true
   },
   "outputs": [],
   "source": [
    "class ModuloMADCriterion(df.Criterion):\n",
    "    def symb_forward(self, symb_in, symb_tgt):\n",
    "        self._assert_same_dim(symb_in, symb_tgt)\n",
    "\n",
    "        return df.T.mean(abs(symb_in - symb_tgt) % 360)"
   ]
  },
  {
   "cell_type": "code",
   "execution_count": null,
   "metadata": {
    "collapsed": true
   },
   "outputs": [],
   "source": [
    "trains_linreg_mod = [dotrain(net, ModuloMADCriterion(), aug, Xtr, ytr[:,None]) for net in nets_linreg_mod]"
   ]
  },
  {
   "cell_type": "code",
   "execution_count": null,
   "metadata": {
    "collapsed": true
   },
   "outputs": [],
   "source": [
    "for model in nets_linreg_mod:\n",
    "    dostats(model, aug, Xtr, batchsize=1000)"
   ]
  },
  {
   "cell_type": "code",
   "execution_count": null,
   "metadata": {
    "collapsed": true
   },
   "outputs": [],
   "source": [
    "y_preds_linreg_mod = [dopred_deg(net, aug, Xte) for net in nets_linreg_mod]"
   ]
  },
  {
   "cell_type": "code",
   "execution_count": null,
   "metadata": {
    "collapsed": true,
    "scrolled": true
   },
   "outputs": [],
   "source": [
    "show_errs_deg(y_preds_linreg_mod, yte[:,None])"
   ]
  },
  {
   "cell_type": "code",
   "execution_count": null,
   "metadata": {
    "collapsed": true,
    "scrolled": false
   },
   "outputs": [],
   "source": [
    "fig, axes = plt.subplots(1, 2, figsize=(8,4))\n",
    "hm_pred = cyclic_filter(mkheatmap_deg(np.concatenate(y_preds_linreg_mod)[:,0], nbins=3600)/5, gaussfilter(41))\n",
    "hm_real = cyclic_filter(mkheatmap_deg(yte, nbins=3600), gaussfilter(41))\n",
    "donut(axes[0], hm_pred/(len(yte)/400), bg=(201, 201), R=50, aapow=40);\n",
    "donut(axes[1], hm_real/(len(yte)/400), bg=(201, 201), R=50, aapow=40);"
   ]
  },
  {
   "cell_type": "markdown",
   "metadata": {},
   "source": [
    "As you can see, the `mod` in the criterion doesn't seem to change anything at all compared to the linear case. That's because our initialization of the last layer makes it output all-zeros in the first run, and from thereon it will be \"pulled upwards\" so as to output only values within [0,360] almost all the time. Within this range, `mod` is exactly a no-op, so nothing bad happens.\n",
    "\n",
    "But actually, even when forcing the network outside this \"nice\" range initially (using large initialization of the output layer), `mod` will behave the same as no-`mod`. Here is such a large initialization as reference, it's left as an exercise to the reader (as if there was one, heh) to do the same experiment without the `mod`."
   ]
  },
  {
   "cell_type": "code",
   "execution_count": null,
   "metadata": {
    "collapsed": true,
    "scrolled": true
   },
   "outputs": [],
   "source": [
    "net_linreg_mod2 = mknet(df.Linear(512, 1, initW=df.init.normal(20)))\n",
    "net_linreg_mod2.forward(aug.augbatch_train(Xtr[:10])[0]).T"
   ]
  },
  {
   "cell_type": "code",
   "execution_count": null,
   "metadata": {
    "collapsed": true,
    "scrolled": true
   },
   "outputs": [],
   "source": [
    "train_linreg_mod2 = dotrain(net_linreg_mod2, ModuloMADCriterion(), aug, Xtr, ytr[:,None])"
   ]
  },
  {
   "cell_type": "markdown",
   "metadata": {},
   "source": [
    "## Von-Mises Criterion"
   ]
  },
  {
   "cell_type": "code",
   "execution_count": null,
   "metadata": {
    "collapsed": true
   },
   "outputs": [],
   "source": [
    "class VonMisesCriterion(df.Criterion):\n",
    "    def __init__(self, kappa, radians=True):\n",
    "        df.Criterion.__init__(self)\n",
    "\n",
    "        self.kappa = kappa\n",
    "        self.torad = 1 if radians else 0.0174532925\n",
    "\n",
    "    def symb_forward(self, symb_in, symb_tgt):\n",
    "        delta_rad = self.torad * (symb_in - symb_tgt)\n",
    "        C = np.exp(2*self.kappa)\n",
    "        return df.T.mean(C - df.T.exp(self.kappa * (1+df.T.cos(delta_rad))))"
   ]
  },
  {
   "cell_type": "code",
   "execution_count": null,
   "metadata": {
    "collapsed": true
   },
   "outputs": [],
   "source": [
    "nets_linreg_vm = [mknet(df.Linear(512, 1, initW=df.init.const(0))) for _ in range(5)]\n",
    "print('{:.3f}M params'.format(count_params(nets_linreg_vm[0])/1000000))"
   ]
  },
  {
   "cell_type": "code",
   "execution_count": null,
   "metadata": {
    "collapsed": true
   },
   "outputs": [],
   "source": [
    "trains_linreg_vm = [dotrain(net, VonMisesCriterion(0.5, radians=False), aug, Xtr, ytr[:,None]) for net in nets_linreg_vm]"
   ]
  },
  {
   "cell_type": "code",
   "execution_count": null,
   "metadata": {
    "collapsed": true
   },
   "outputs": [],
   "source": [
    "for model in nets_linreg_vm:\n",
    "    dostats(model, aug, Xtr, batchsize=1000)"
   ]
  },
  {
   "cell_type": "code",
   "execution_count": null,
   "metadata": {
    "collapsed": true
   },
   "outputs": [],
   "source": [
    "y_preds_linreg_vm = [dopred_deg(net, aug, Xte) for net in nets_linreg_vm]"
   ]
  },
  {
   "cell_type": "code",
   "execution_count": null,
   "metadata": {
    "collapsed": true,
    "scrolled": true
   },
   "outputs": [],
   "source": [
    "show_errs_deg(y_preds_linreg_vm, yte[:,None])"
   ]
  },
  {
   "cell_type": "code",
   "execution_count": null,
   "metadata": {
    "collapsed": true,
    "scrolled": false
   },
   "outputs": [],
   "source": [
    "fig, axes = plt.subplots(1, 2, figsize=(8,4))\n",
    "hm_pred = cyclic_filter(mkheatmap_deg(np.concatenate(y_preds_linreg_vm)[:,0], nbins=3600)/5, gaussfilter(41))\n",
    "hm_real = cyclic_filter(mkheatmap_deg(yte, nbins=3600), gaussfilter(41))\n",
    "donut(axes[0], hm_pred/(len(yte)/400), bg=(201, 201), R=50, aapow=40);\n",
    "donut(axes[1], hm_real/(len(yte)/400), bg=(201, 201), R=50, aapow=40);"
   ]
  },
  {
   "cell_type": "markdown",
   "metadata": {},
   "source": [
    "<a id='deep_biternion'></a>\n",
    "\n",
    "## Biternion Output"
   ]
  },
  {
   "cell_type": "markdown",
   "metadata": {},
   "source": [
    "For the biternion output, no matter the criterion, we need a few common functions. First, the biternion layer itself (simply normalization), and utilities to convert angles to 2D vectors (\"biternions\") and vice-versa."
   ]
  },
  {
   "cell_type": "code",
   "execution_count": 25,
   "metadata": {
    "collapsed": true
   },
   "outputs": [],
   "source": [
    "def deg2bit(angles_deg):\n",
    "    angles_rad = np.deg2rad(angles_deg)\n",
    "    return np.array([np.cos(angles_rad), np.sin(angles_rad)]).T"
   ]
  },
  {
   "cell_type": "code",
   "execution_count": 26,
   "metadata": {
    "collapsed": true
   },
   "outputs": [],
   "source": [
    "def bit2deg(angles_bit):\n",
    "    return (np.rad2deg(np.arctan2(angles_bit[:,1], angles_bit[:,0])) + 360) % 360"
   ]
  },
  {
   "cell_type": "code",
   "execution_count": 27,
   "metadata": {
    "collapsed": true
   },
   "outputs": [],
   "source": [
    "ytr_bit = deg2bit(ytr)\n",
    "yte_bit = deg2bit(yte)"
   ]
  },
  {
   "cell_type": "code",
   "execution_count": 29,
   "metadata": {
    "collapsed": true
   },
   "outputs": [],
   "source": [
    "def cosine_loss_np(y_target, y_pred):\n",
    "    return (1 - np.sum(np.multiply(y_target, y_pred),axis=1))\n",
    "\n",
    "def cosine_loss_tf(y_target, y_pred):\n",
    "    loss =  1 - tf.reduce_sum(tf.multiply(y_target, y_pred),axis=1)\n",
    "    mean_loss = tf.reduce_mean(loss, name='cosine_loss')\n",
    "    return mean_loss"
   ]
  },
  {
   "cell_type": "markdown",
   "metadata": {},
   "source": [
    "#### Von-Mises loss function: \n",
    "\n",
    "\\begin{align}\n",
    "   C_{VM}(y, t) = 1 - e^{{\\kappa(y  t - 1)}}\n",
    "\\end{align}\n",
    "\n",
    "For details, look at http://www.spencer.eu/papers/beyerBiternions15.pdf"
   ]
  },
  {
   "cell_type": "code",
   "execution_count": 75,
   "metadata": {
    "collapsed": true
   },
   "outputs": [],
   "source": [
    "def von_mises_loss_np(y_target, y_pred, kappa=1):\n",
    "    cosine_dist = np.sum(np.multiply(y_target, y_pred),axis=1) - 1\n",
    "    vm_loss = 1 - np.exp(kappa*cosine_dist)\n",
    "    return vm_loss\n",
    "\n",
    "def von_mises_loss_tf(y_target, y_pred, kappa=1):\n",
    "    cosine_dist = tf.reduce_sum(tf.multiply(y_target, y_pred),axis=1) - 1\n",
    "    vm_loss = 1 - np.exp(kappa*cosine_dist)\n",
    "    mean_loss = tf.reduce_mean(vm_loss, name='vonmises_loss')\n",
    "    return mean_loss"
   ]
  },
  {
   "cell_type": "code",
   "execution_count": 77,
   "metadata": {
    "collapsed": true
   },
   "outputs": [],
   "source": [
    "from keras.models import load_model"
   ]
  },
  {
   "cell_type": "code",
   "execution_count": 86,
   "metadata": {
    "collapsed": true
   },
   "outputs": [],
   "source": [
    "model = load_model('trained_models_path/vgg_bit_cosine_town.h5', custom_objects={'cosine_loss_tf': cosine_loss_tf})"
   ]
  },
  {
   "cell_type": "code",
   "execution_count": 91,
   "metadata": {
    "collapsed": true
   },
   "outputs": [],
   "source": [
    "yte_preds = bit2deg(model.predict(Xte))"
   ]
  },
  {
   "cell_type": "code",
   "execution_count": 101,
   "metadata": {},
   "outputs": [
    {
     "name": "stdout",
     "output_type": "stream",
     "text": [
      "Error: 27.09°± 0.00°\n",
      "Stdev: 30.56°± 0.00°\n"
     ]
    }
   ],
   "source": [
    "show_errs_deg(yte_preds.reshape(-1,1), yte.reshape(-1,1))"
   ]
  },
  {
   "cell_type": "markdown",
   "metadata": {},
   "source": [
    "### Biternion with Cosine Criterion"
   ]
  },
  {
   "cell_type": "code",
   "execution_count": null,
   "metadata": {
    "collapsed": true
   },
   "outputs": [],
   "source": [
    "class CosineCriterion(df.Criterion):\n",
    "    def symb_forward(self, symb_in, symb_tgt):\n",
    "        # For normalized `p_t_given_x` and `t`, dot-product (batched)\n",
    "        # outputs a cosine value, i.e. between -1 (worst) and 1 (best)\n",
    "        cos_angles = df.T.batched_dot(symb_in, symb_tgt)\n",
    "\n",
    "        # Rescale to a cost going from 2 (worst) to 0 (best) each, then take mean.\n",
    "        return df.T.mean(1 - cos_angles)"
   ]
  },
  {
   "cell_type": "code",
   "execution_count": null,
   "metadata": {
    "collapsed": true,
    "scrolled": true
   },
   "outputs": [],
   "source": [
    "#nets_linreg_bt_cos = [mknet(df.Linear(512, 2, initW=df.init.normal(0.01)), Biternion()) for _ in range(5)]\n",
    "nets_linreg_bt_cos = [df.Sequential(\n",
    "    Flatten(),\n",
    "    df.Linear(3*46*46, 2, init=df.init.const(0)),\n",
    ") for _ in range(5)]\n",
    "#print('{:.3f}M params'.format(count_params(nets_linreg_bt_cos[0])/1000000))"
   ]
  },
  {
   "cell_type": "code",
   "execution_count": null,
   "metadata": {
    "collapsed": true
   },
   "outputs": [],
   "source": [
    "trains_linreg_bt_cos = [dotrain(net, CosineCriterion(), aug, Xtr, deg2bit(ytr)) for net in nets_linreg_bt_cos]"
   ]
  },
  {
   "cell_type": "code",
   "execution_count": null,
   "metadata": {
    "collapsed": true
   },
   "outputs": [],
   "source": [
    "for model in nets_linreg_bt_cos:\n",
    "    dostats(model, aug, Xtr, batchsize=1000)"
   ]
  },
  {
   "cell_type": "code",
   "execution_count": null,
   "metadata": {
    "collapsed": true
   },
   "outputs": [],
   "source": [
    "y_preds_linreg_bt_cos = [bit2deg(dopred_deg(net, aug, Xte)) for net in nets_linreg_bt_cos]"
   ]
  },
  {
   "cell_type": "code",
   "execution_count": null,
   "metadata": {
    "collapsed": true,
    "scrolled": true
   },
   "outputs": [],
   "source": [
    "show_errs_deg(y_preds_linreg_bt_cos, yte)"
   ]
  },
  {
   "cell_type": "code",
   "execution_count": null,
   "metadata": {
    "collapsed": true,
    "scrolled": true
   },
   "outputs": [],
   "source": [
    "fig, axes = plt.subplots(1, 2, figsize=(8,4))\n",
    "hm_pred = cyclic_filter(mkheatmap_deg(np.concatenate(y_preds_linreg_bt_cos), nbins=3600)/5, gaussfilter(41))\n",
    "hm_real = cyclic_filter(mkheatmap_deg(yte, nbins=3600), gaussfilter(41))\n",
    "donut(axes[0], hm_pred/(len(yte)/400), bg=(201, 201), R=50, aapow=40);\n",
    "donut(axes[1], hm_real/(len(yte)/400), bg=(201, 201), R=50, aapow=40);"
   ]
  },
  {
   "cell_type": "markdown",
   "metadata": {},
   "source": [
    "### Biternion with Von-Mises Criterion"
   ]
  },
  {
   "cell_type": "code",
   "execution_count": null,
   "metadata": {
    "collapsed": true
   },
   "outputs": [],
   "source": [
    "class VonMisesBiternionCriterion(df.Criterion):\n",
    "    def __init__(self, kappa):\n",
    "        df.Criterion.__init__(self)\n",
    "        self.kappa = kappa\n",
    "\n",
    "    def symb_forward(self, symb_in, symb_tgt):\n",
    "        cos_angles = df.T.batched_dot(symb_in, symb_tgt)\n",
    "\n",
    "        # This is the only difference to the pure `CosineCriterion`.\n",
    "        # Obviously, they could be in the same class, but I separate them here for narration.\n",
    "        cos_angles = df.T.exp(self.kappa * (cos_angles - 1))\n",
    "\n",
    "        return df.T.mean(1 - cos_angles)"
   ]
  },
  {
   "cell_type": "code",
   "execution_count": null,
   "metadata": {
    "collapsed": true,
    "scrolled": false
   },
   "outputs": [],
   "source": [
    "nets_linreg_bt_vm = [mknet(df.Linear(512, 2, initW=df.init.normal(0.01)), Biternion()) for _ in range(5)]\n",
    "print('{:.3f}M params'.format(count_params(nets_linreg_bt_vm[0])/1000000))"
   ]
  },
  {
   "cell_type": "code",
   "execution_count": null,
   "metadata": {
    "collapsed": true
   },
   "outputs": [],
   "source": [
    "trains_linreg_bt_vm = [dotrain(net, VonMisesBiternionCriterion(1), aug, Xtr, deg2bit(ytr)) for net in nets_linreg_bt_vm]"
   ]
  },
  {
   "cell_type": "code",
   "execution_count": null,
   "metadata": {
    "collapsed": true
   },
   "outputs": [],
   "source": [
    "for model in nets_linreg_bt_vm:\n",
    "    dostats(model, aug, Xtr, batchsize=1000)"
   ]
  },
  {
   "cell_type": "code",
   "execution_count": null,
   "metadata": {
    "collapsed": true
   },
   "outputs": [],
   "source": [
    "y_preds_linreg_bt_vm = [bit2deg(dopred_deg(net, aug, Xte)) for net in nets_linreg_bt_vm]"
   ]
  },
  {
   "cell_type": "code",
   "execution_count": null,
   "metadata": {
    "collapsed": true,
    "scrolled": false
   },
   "outputs": [],
   "source": [
    "show_errs_deg(y_preds_linreg_bt_vm, yte)"
   ]
  },
  {
   "cell_type": "code",
   "execution_count": null,
   "metadata": {
    "collapsed": true,
    "scrolled": true
   },
   "outputs": [],
   "source": [
    "fig, axes = plt.subplots(1, 2, figsize=(8,4))\n",
    "hm_pred = cyclic_filter(mkheatmap_deg(np.concatenate(y_preds_linreg_bt_vm), nbins=3600)/5, gaussfilter(41))\n",
    "hm_real = cyclic_filter(mkheatmap_deg(yte, nbins=3600), gaussfilter(41))\n",
    "donut(axes[0], hm_pred/(len(yte)/400), bg=(201, 201), R=50, aapow=40);\n",
    "donut(axes[1], hm_real/(len(yte)/400), bg=(201, 201), R=50, aapow=40);"
   ]
  },
  {
   "cell_type": "markdown",
   "metadata": {},
   "source": [
    "# Regression using weak (class) labels"
   ]
  },
  {
   "cell_type": "markdown",
   "metadata": {},
   "source": [
    "This second half of the notebook is about reproducing Table 4 of Section 5 of the paper, i.e. investigating how well distributed of an output we can learn from discrete (\"weak\") class labels. For this, we will quantize the TownCentre labels into various amounts of weak classes."
   ]
  },
  {
   "cell_type": "code",
   "execution_count": null,
   "metadata": {
    "collapsed": true
   },
   "outputs": [],
   "source": [
    "def quantize_labels(y, ranges):\n",
    "    q = np.empty(y.shape, dtype=np.int32)\n",
    "    for i in range(len(ranges)-1):\n",
    "        # Check for \"that\" jump.\n",
    "        if ranges[i] < ranges[i+1]:\n",
    "            q[(ranges[i] <= y) & (y < ranges[i+1])] = i\n",
    "        else:\n",
    "            q[(ranges[i] <= y) | (y < ranges[i+1])] = i\n",
    "    return q"
   ]
  },
  {
   "cell_type": "markdown",
   "metadata": {},
   "source": [
    "The following function simply does softmax prediction, i.e. returns class-probabilities for each sample."
   ]
  },
  {
   "cell_type": "code",
   "execution_count": null,
   "metadata": {
    "collapsed": true
   },
   "outputs": [],
   "source": [
    "def dopred_sm(model, aug, X, batchsize=100):\n",
    "    return dopred(model, aug, X, ensembling=lambda p_ys: np.mean(p_ys, axis=0), output2preds=lambda x: x, batchsize=batchsize)"
   ]
  },
  {
   "cell_type": "markdown",
   "metadata": {},
   "source": [
    "Convert class-probabilities as returned by `dopred_sm` into angle predictions in degrees by simply using the class-centre."
   ]
  },
  {
   "cell_type": "code",
   "execution_count": null,
   "metadata": {
    "collapsed": true
   },
   "outputs": [],
   "source": [
    "def probs2deg_centre(p_y, centres):\n",
    "    return centres[np.argmax(p_y, axis=-1)]"
   ]
  },
  {
   "cell_type": "markdown",
   "metadata": {},
   "source": [
    "Convert class-probabilities as returned by `dopred_sm` into angle predictions in degrees by quadratically interpolating between the highest-probability class and its two neighbors, and then predicting the max of that parabola."
   ]
  },
  {
   "cell_type": "code",
   "execution_count": null,
   "metadata": {
    "collapsed": true
   },
   "outputs": [],
   "source": [
    "# http://stackoverflow.com/questions/717762/how-to-calculate-the-vertex-of-a-parabola-given-three-points\n",
    "def parabola_vertex(x, y):\n",
    "    x1, x2, x3 = x\n",
    "    y1, y2, y3 = y\n",
    "    denom = (x1 - x2) * (x1 - x3) * (x2 - x3)\n",
    "    A = (x3 * (y2 - y1) + x2 * (y1 - y3) + x1 * (y3 - y2)) / denom\n",
    "    B = (x3 * x3 * (y1 - y2) + x2 * x2 * (y3 - y1) + x1 * x1 * (y2 - y3)) / denom\n",
    "    C = (x2 * x3 * (x2 - x3) * y1 + x3 * x1 * (x3 - x1) * y2 + x1 * x2 * (x1 - x2) * y3) / denom\n",
    "\n",
    "    return -B / (2*A), C - B*B / (4*A)\n",
    "\n",
    "#parabola_vertex(1,1, 0,2, -1,1)\n",
    "#parabola_vertex([1, 0, -1], [1, 2, 1])"
   ]
  },
  {
   "cell_type": "code",
   "execution_count": null,
   "metadata": {
    "collapsed": true
   },
   "outputs": [],
   "source": [
    "def prob2deg_quadint(p_y, centres):\n",
    "    i = np.argmax(p_y)\n",
    "    if i == 0:\n",
    "        return parabola_vertex([centres[-1] - 360, centres[0], centres[1]], p_y[[-1, 0, 1]])\n",
    "    elif i == len(centres)-1:\n",
    "        return parabola_vertex([centres[-2], centres[-1], centres[0] + 360], p_y[[-2, -1, 0]])\n",
    "    else:\n",
    "        return parabola_vertex(centres[[i-1, i, i+1]], p_y[[i-1, i, i+1]])\n",
    "\n",
    "def probs2deg_quadint(preds, centres):\n",
    "    return np.array([prob2deg_quadint(p, centres)[0] for p in preds])"
   ]
  },
  {
   "cell_type": "markdown",
   "metadata": {},
   "source": [
    "## 3 Orientation bins"
   ]
  },
  {
   "cell_type": "code",
   "execution_count": null,
   "metadata": {
    "collapsed": true
   },
   "outputs": [],
   "source": [
    "q3_borders = np.array([0, 120, 240, 361], dtype=df.floatX)\n",
    "q3_centres = np.array([ 60,  180, 320  ], dtype=df.floatX)"
   ]
  },
  {
   "cell_type": "markdown",
   "metadata": {},
   "source": [
    "### Class-centre predictions"
   ]
  },
  {
   "cell_type": "code",
   "execution_count": null,
   "metadata": {
    "collapsed": true,
    "scrolled": true
   },
   "outputs": [],
   "source": [
    "nets_q3_sm = [mknet(df.Linear(512, 3, initW=df.init.const(0)), df.SoftMax()) for _ in range(5)]\n",
    "trains_q3_sm = [dotrain(net, df.ClassNLLCriterion(), aug, Xtr, quantize_labels(ytr, q3_borders)) for net in nets_q3_sm]\n",
    "for model in nets_q3_sm:\n",
    "    dostats(model, aug, Xtr, batchsize=1000)\n",
    "y_preds_q3_sm = [dopred_sm(net, aug, Xte) for net in nets_q3_sm]"
   ]
  },
  {
   "cell_type": "code",
   "execution_count": null,
   "metadata": {
    "collapsed": true,
    "scrolled": false
   },
   "outputs": [],
   "source": [
    "show_errs_deg(probs2deg_centre(y_preds_q3_sm, q3_centres), yte)"
   ]
  },
  {
   "cell_type": "markdown",
   "metadata": {},
   "source": [
    "### Probabilistic class interpolation predictions"
   ]
  },
  {
   "cell_type": "code",
   "execution_count": null,
   "metadata": {
    "collapsed": true
   },
   "outputs": [],
   "source": [
    "show_errs_deg([probs2deg_quadint(p_y, q3_centres) for p_y in y_preds_q3_sm], yte)"
   ]
  },
  {
   "cell_type": "markdown",
   "metadata": {},
   "source": [
    "### Deep linear regression"
   ]
  },
  {
   "cell_type": "code",
   "execution_count": null,
   "metadata": {
    "collapsed": true
   },
   "outputs": [],
   "source": [
    "nets_q3_lr = [mknet(df.Linear(512, 1, initW=df.init.const(0))) for _ in range(5)]\n",
    "trains_q3_lr = [dotrain(net, df.MADCriterion(), aug, Xtr, q3_centres[quantize_labels(ytr, q3_borders),None]) for net in nets_q3_lr]\n",
    "for model in nets_q3_lr:\n",
    "    dostats(model, aug, Xtr, batchsize=1000)\n",
    "y_preds_q3_lr = [dopred_deg(net, aug, Xte) for net in nets_q3_lr]"
   ]
  },
  {
   "cell_type": "code",
   "execution_count": null,
   "metadata": {
    "collapsed": true,
    "scrolled": false
   },
   "outputs": [],
   "source": [
    "show_errs_deg(y_preds_q3_lr, yte[:,None])"
   ]
  },
  {
   "cell_type": "markdown",
   "metadata": {},
   "source": [
    "### Deep linear regression + Von-Mises"
   ]
  },
  {
   "cell_type": "code",
   "execution_count": null,
   "metadata": {
    "collapsed": true,
    "scrolled": true
   },
   "outputs": [],
   "source": [
    "nets_q3_lr_vm = [mknet(df.Linear(512, 1, initW=df.init.const(0))) for _ in range(5)]\n",
    "trains_q3_lr_vm = [dotrain(net, VonMisesCriterion(1, radians=False), aug, Xtr, q3_centres[quantize_labels(ytr, q3_borders),None]) for net in nets_q3_lr_vm]\n",
    "for model in nets_q3_lr_vm:\n",
    "    dostats(model, aug, Xtr, batchsize=1000)\n",
    "y_preds_q3_lr_vm = [dopred_deg(net, aug, Xte) for net in nets_q3_lr_vm]"
   ]
  },
  {
   "cell_type": "code",
   "execution_count": null,
   "metadata": {
    "collapsed": true,
    "scrolled": false
   },
   "outputs": [],
   "source": [
    "show_errs_deg(y_preds_q3_lr_vm, yte[:,None])"
   ]
  },
  {
   "cell_type": "markdown",
   "metadata": {},
   "source": [
    "### Biternions"
   ]
  },
  {
   "cell_type": "code",
   "execution_count": null,
   "metadata": {
    "collapsed": true,
    "scrolled": false
   },
   "outputs": [],
   "source": [
    "nets_q3_bt = [mknet(df.Linear(512, 2, initW=df.init.normal(0.01)), Biternion()) for _ in range(5)]\n",
    "trains_q3_bt = [dotrain(net, CosineCriterion(), aug, Xtr, deg2bit(q3_centres[quantize_labels(ytr, q3_borders)])) for net in nets_q3_bt]\n",
    "for model in nets_q3_bt:\n",
    "    dostats(model, aug, Xtr, batchsize=1000)\n",
    "y_preds_q3_bt = [bit2deg(dopred_deg(net, aug, Xte)) for net in nets_q3_bt]"
   ]
  },
  {
   "cell_type": "code",
   "execution_count": null,
   "metadata": {
    "collapsed": true
   },
   "outputs": [],
   "source": [
    "show_errs_deg(y_preds_q3_bt, yte)"
   ]
  },
  {
   "cell_type": "markdown",
   "metadata": {},
   "source": [
    "### Biternions + Von-Mises"
   ]
  },
  {
   "cell_type": "code",
   "execution_count": null,
   "metadata": {
    "collapsed": true,
    "scrolled": true
   },
   "outputs": [],
   "source": [
    "nets_q3_bt_vm = [mknet(df.Linear(512, 2, initW=df.init.normal(0.01)), Biternion()) for _ in range(5)]\n",
    "trains_q3_bt_vm = [dotrain(net, VonMisesBiternionCriterion(1), aug, Xtr, deg2bit(q3_centres[quantize_labels(ytr, q3_borders)])) for net in nets_q3_bt_vm]\n",
    "for model in nets_q3_bt_vm:\n",
    "    dostats(model, aug, Xtr, batchsize=1000)\n",
    "y_preds_q3_bt_vm = [bit2deg(dopred_deg(net, aug, Xte)) for net in nets_q3_bt_vm]"
   ]
  },
  {
   "cell_type": "code",
   "execution_count": null,
   "metadata": {
    "collapsed": true
   },
   "outputs": [],
   "source": [
    "show_errs_deg(y_preds_q3_bt_vm, yte)"
   ]
  },
  {
   "cell_type": "markdown",
   "metadata": {},
   "source": [
    "## 4 to 12 Orientation bins"
   ]
  },
  {
   "cell_type": "markdown",
   "metadata": {},
   "source": [
    "I don't want to clutter the remainder of this notebook with all-the-same plots and cells only the number of bins changing, so here they are in a loop.\n",
    "Note that we can't keep all the networks in memory or we'll run out of GPU memory relatively fast, so I'll only keep track of training curves and predictions."
   ]
  },
  {
   "cell_type": "code",
   "execution_count": null,
   "metadata": {
    "collapsed": true
   },
   "outputs": [],
   "source": [
    "def train_stats(net, crit, aug, Xtr, ytr, title):\n",
    "    r = dotrain(net, crit, aug, Xtr, ytr, title=title)\n",
    "    dostats(net, aug, Xtr, batchsize=100)\n",
    "    return r"
   ]
  },
  {
   "cell_type": "code",
   "execution_count": null,
   "metadata": {
    "collapsed": true
   },
   "outputs": [],
   "source": [
    "trains = {}\n",
    "preds = {}\n",
    "centres = {}\n",
    "borders = {}\n",
    "\n",
    "for name, bord, cent in (\n",
    "('4x', [315, 45, 135, 225, 315],\n",
    "       [   0,  90, 180, 270   ]),\n",
    "('4p', [0, 90, 180, 270, 361],\n",
    "       [ 45, 135, 225, 315  ]),\n",
    "('6x', [330, 30, 90, 150, 210, 270, 330],\n",
    "       [   0, 60, 120, 180, 240, 300   ]),\n",
    "('8x', [337.5, 22.5, 67.5, 112.5, 157.5, 202.5, 247.5, 292.5, 337.5],\n",
    "       [     0,    45,   90,   135,   180,   225,   270,   315,    ]),\n",
    "('8p', [0,   45,   90,   135,   180,   225,   270,   315,   361],\n",
    "       [ 22.5, 67.5, 112.5, 157.5, 202.5, 247.5, 292.5, 337.5  ]),\n",
    "('10x',[342, 18, 54, 90, 126, 162, 198, 234, 270, 306, 342],\n",
    "       [   0,  36, 72, 108, 144, 180, 216, 252, 288, 324  ]),\n",
    "('12x',[345, 15, 45, 75, 105, 135, 165, 195, 225, 255, 285, 315, 345],\n",
    "       [   0,  30, 60, 90,  120, 150, 180, 210, 240, 270, 300, 330  ]),\n",
    "):\n",
    "    print(name)\n",
    "    cent = centres[name] = np.array(cent, df.floatX)\n",
    "    bord = borders[name] = np.array(bord, df.floatX)\n",
    "    qtr = quantize_labels(ytr, bord)\n",
    "\n",
    "    trains[name] = {}\n",
    "    preds[name] = {}\n",
    "\n",
    "    # Softmax.\n",
    "    nets = [mknet(df.Linear(512, len(cent), initW=df.init.const(0)), df.SoftMax()) for _ in range(5)]\n",
    "    trains[name]['sm'] = [train_stats(net, df.ClassNLLCriterion(), aug, Xtr, qtr, \"Softmax \" + name) for net in nets]\n",
    "    preds[name]['sm'] = [dopred_sm(net, aug, Xte) for net in nets]\n",
    "\n",
    "    # Linear regression.\n",
    "    nets = [mknet(df.Linear(512, 1, initW=df.init.const(0))) for _ in range(5)]\n",
    "    trains[name]['lr'] = [train_stats(net, df.MADCriterion(), aug, Xtr, cent[qtr,None], \"LinReg \" + name) for net in nets]\n",
    "    preds[name]['lr'] = [dopred_deg(net, aug, Xte) for net in nets]\n",
    "\n",
    "    # Linear regression + von-Mises.\n",
    "    nets = [mknet(df.Linear(512, 1, initW=df.init.const(0))) for _ in range(5)]\n",
    "    trains[name]['lr_vm'] = [train_stats(net, VonMisesCriterion(1, radians=False), aug, Xtr, cent[qtr,None], \"LinReg-vM \" + name) for net in nets]\n",
    "    preds[name]['lr_vm'] = [dopred_deg(net, aug, Xte) for net in nets]\n",
    "\n",
    "    # Biternions.\n",
    "    nets = [mknet(df.Linear(512, 2, initW=df.init.normal(0.01)), Biternion()) for _ in range(5)]\n",
    "    trains[name]['bt'] = [train_stats(net, CosineCriterion(), aug, Xtr, deg2bit(cent[qtr]), \"BitReg \" + name) for net in nets]\n",
    "    preds[name]['bt'] = [bit2deg(dopred_deg(net, aug, Xte)) for net in nets]\n",
    "\n",
    "    # Biternions + von-Mises.\n",
    "    nets = [mknet(df.Linear(512, 2, initW=df.init.normal(0.01)), Biternion()) for _ in range(5)]\n",
    "    trains[name]['bt_vm'] = [train_stats(net, VonMisesBiternionCriterion(1), aug, Xtr, deg2bit(cent[qtr]), \"BitReg-vM \" + name) for net in nets]\n",
    "    preds[name]['bt_vm'] = [bit2deg(dopred_deg(net, aug, Xte)) for net in nets]"
   ]
  },
  {
   "cell_type": "markdown",
   "metadata": {},
   "source": [
    "### A peek at the results"
   ]
  },
  {
   "cell_type": "markdown",
   "metadata": {},
   "source": [
    "I don't have the time to make this into a pretty automatic table, the table is in the paper. Here are all the results dumped in not-so-nice-to-read form:"
   ]
  },
  {
   "cell_type": "code",
   "execution_count": null,
   "metadata": {
    "collapsed": true,
    "scrolled": true
   },
   "outputs": [],
   "source": [
    "for name in ('4x', '4p', '6x', '8x', '8p', '10x', '12x'):\n",
    "    pre = preds[name]\n",
    "    print()\n",
    "    print(name)\n",
    "    print(\"=\" * len(name))\n",
    "    print()\n",
    "    print(\"Softmax centre prediction\")\n",
    "    show_errs_deg(probs2deg_centre(pre['sm'], centres[name]), yte)\n",
    "    print()\n",
    "    print(\"Softmax interpolated prediction\")\n",
    "    show_errs_deg([probs2deg_quadint(p, centres[name]) for p in pre['sm']], yte)\n",
    "    print()\n",
    "    print(\"Deep linear regression\")\n",
    "    show_errs_deg(pre['lr'], yte[:,None])\n",
    "    print()\n",
    "    print(\"Deep linear von-Mises regression\")\n",
    "    show_errs_deg(pre['lr_vm'], yte[:,None])\n",
    "    print()\n",
    "    print(\"Deep biternion regression\")\n",
    "    show_errs_deg(pre['bt'], yte)\n",
    "    print()\n",
    "    print(\"Deep biternion von-Mises regression\")\n",
    "    show_errs_deg(pre['bt_vm'], yte)"
   ]
  },
  {
   "cell_type": "markdown",
   "metadata": {},
   "source": [
    "Also, as reported in the paper, the numbers don't do justice to the prediction quality. The softmaxes have good scores, but their output is really \"stuck\" at the bin-centres. We can see this using the heatmaps:"
   ]
  },
  {
   "cell_type": "code",
   "execution_count": null,
   "metadata": {
    "collapsed": true
   },
   "outputs": [],
   "source": [
    "mkpreds = {\n",
    "    'sm': lambda name: np.concatenate(probs2deg_centre(preds[name]['sm'], centres[name])),\n",
    "    'sm_int': lambda name: np.concatenate([probs2deg_quadint(p, centres[name]) for p in preds[name]['sm']]),\n",
    "    'lr': lambda name: np.concatenate(preds[name]['lr'])[:,0],\n",
    "    'lr_vm': lambda name: np.concatenate(preds[name]['lr_vm'])[:,0],\n",
    "    'bt': lambda name: np.concatenate(preds[name]['bt']),\n",
    "    'bt_vm': lambda name: np.concatenate(preds[name]['bt_vm']),\n",
    "}\n",
    "titles = {\n",
    "    'sm': 'Softmax centre ({})',\n",
    "    'sm_int': 'Softmax interpolation ({})',\n",
    "    'lr': 'Linear regression ({})',\n",
    "    'lr_vm': 'Linear von-Mises ({})',\n",
    "    'bt': 'Biternion regression ({})',\n",
    "    'bt_vm': 'Biternion von-Mises ({})',\n",
    "}"
   ]
  },
  {
   "cell_type": "code",
   "execution_count": null,
   "metadata": {
    "collapsed": true,
    "scrolled": true
   },
   "outputs": [],
   "source": [
    "fig, axes = plt.subplots(6, 4, figsize=(4*4,6*4))\n",
    "for (kind, name), ax in zip(product(('sm', 'sm_int', 'lr', 'lr_vm', 'bt', 'bt_vm'), ('4x', '6x', '8x', '12x')), axes.flat):\n",
    "    hm = cyclic_filter(mkheatmap_deg(mkpreds[kind](name), nbins=3600)/5, gaussfilter(41))\n",
    "    ax.set_title(titles[kind].format(name), fontsize=12)\n",
    "    donut(ax, hm/(len(yte)/400), bg=(201, 201), R=50, aapow=40);"
   ]
  },
  {
   "cell_type": "markdown",
   "metadata": {},
   "source": [
    "This pretty clearly shows that both Biternions and von-Mises help with cyclic predictions. It also clearly shows that 4 bins is not enough, in any case!\n",
    "\n",
    "Finally, that \"linear regression\" plot again clearly shows why linear regression of a circular value doesn't make sense!"
   ]
  }
 ],
 "metadata": {
  "kernelspec": {
   "display_name": "Python 3",
   "language": "python",
   "name": "python3"
  },
  "language_info": {
   "codemirror_mode": {
    "name": "ipython",
    "version": 3
   },
   "file_extension": ".py",
   "mimetype": "text/x-python",
   "name": "python",
   "nbconvert_exporter": "python",
   "pygments_lexer": "ipython3",
   "version": "3.6.1"
  },
  "notify_time": "10"
 },
 "nbformat": 4,
 "nbformat_minor": 1
}
