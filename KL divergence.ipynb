{
 "cells": [
  {
   "cell_type": "code",
   "execution_count": 1,
   "metadata": {
    "collapsed": true
   },
   "outputs": [],
   "source": [
    "import numpy as np"
   ]
  },
  {
   "cell_type": "markdown",
   "metadata": {},
   "source": [
    "From Section 9 of http://ai.stanford.edu/~jduchi/projects/general_notes.pdf :\n",
    "\n",
    "\n",
    "$D_{KL}\\Big(P_1 \\parallel P_2 \\Big) = \\{\\dots\\} = \\frac{1}{2}\\Big( \\log \\frac{\\det\\Sigma_2}{\\det\\Sigma_1} - n + tr{\\Sigma^{-1}_2\\Sigma_1}  + (\\mu_2 - \\mu_1) \\Sigma^{-1}_2 (\\mu_2 - \\mu_1) \\Big)$\n",
    "\n",
    "\n",
    "$\\log{\\frac{\\det\\Sigma_2}{\\det\\Sigma_1}} = \\sum_{i=1}^n{\\big[\\log{\\sigma_{2i} - \\log{\\sigma_{1i}}} \\big]}$\n",
    "\n",
    "$\\Sigma_2^{-1} =  diag{(\\frac{1}{\\sigma_{21}}, \\dots, \\frac{1}{\\sigma_{2n}})}$\n",
    "\n",
    "$ tr{\\Sigma^{-1}_2\\Sigma_1}  = \\sum_{i=1}^n{\\frac{\\sigma_{1i}}{\\sigma_{2i}}}$\n",
    "\n",
    "$(\\mu_2 - \\mu_1) \\Sigma^{-1}_2 (\\mu_2 - \\mu_1) = \\sum_{i=1}^n{\\frac{(\\mu_{2i}-\\mu_{1i})^2}{\\sigma_{2i}}}$\n"
   ]
  },
  {
   "cell_type": "code",
   "execution_count": 80,
   "metadata": {
    "collapsed": true
   },
   "outputs": [],
   "source": [
    "def gaussian_kl_divergence(mu1, ln_var1, mu2, ln_var2): \n",
    "    n = mu1.shape[0]\n",
    "    \n",
    "    log_var_diff = ln_var2 - ln_var1\n",
    "    \n",
    "    var_diff_trace = np.sum(np.exp(log_var_diff))\n",
    "    \n",
    "    mudiff = np.sum(np.square(mu1-mu2) / np.exp(ln_var2))\n",
    "    \n",
    "    KL_sum = 0.5*(np.sum(log_var_diff) - n + var_diff_trace + mudiff)\n",
    "    \n",
    "    return KL_sum"
   ]
  },
  {
   "cell_type": "markdown",
   "metadata": {},
   "source": [
    "#### Sanity checks"
   ]
  },
  {
   "cell_type": "markdown",
   "metadata": {},
   "source": [
    "$ p_1(x) \\sim \\mathcal{N}(0, 1)$\n",
    "\n",
    "$ p_2(x) \\sim \\mathcal{N}(10, 1)$\n",
    "\n",
    "$ p_3(x) \\sim \\mathcal{N}(5, 10)$"
   ]
  },
  {
   "cell_type": "code",
   "execution_count": 123,
   "metadata": {},
   "outputs": [],
   "source": [
    "n = 10\n",
    "mu1 = np.zeros(n)\n",
    "ln_var1 = np.ones(n)\n",
    "mu2 = np.zeros(n)+10\n",
    "ln_var2 = np.ones(n)\n",
    "mu3 = np.zeros(n)+5\n",
    "ln_var3 = np.ones(n)*np.log(10)"
   ]
  },
  {
   "cell_type": "code",
   "execution_count": 86,
   "metadata": {},
   "outputs": [
    {
     "data": {
      "text/plain": [
       "(10,)"
      ]
     },
     "execution_count": 86,
     "metadata": {},
     "output_type": "execute_result"
    }
   ],
   "source": [
    "ln_var1.shape"
   ]
  },
  {
   "cell_type": "markdown",
   "metadata": {},
   "source": [
    "$D_{KL}\\Big(P_1 \\parallel P_1 \\Big) $ = 0"
   ]
  },
  {
   "cell_type": "code",
   "execution_count": 110,
   "metadata": {},
   "outputs": [
    {
     "data": {
      "text/plain": [
       "0.0"
      ]
     },
     "execution_count": 110,
     "metadata": {},
     "output_type": "execute_result"
    }
   ],
   "source": [
    "gaussian_kl_divergence(mu1, ln_var1, mu1, ln_var1)"
   ]
  },
  {
   "cell_type": "markdown",
   "metadata": {},
   "source": [
    "$D_{KL}\\Big(P_1 \\parallel P_2 \\Big)  > D_{KL}\\Big(P_1 \\parallel P_3 \\Big)$"
   ]
  },
  {
   "cell_type": "code",
   "execution_count": 113,
   "metadata": {},
   "outputs": [
    {
     "data": {
      "text/plain": [
       "183.93972058572115"
      ]
     },
     "execution_count": 113,
     "metadata": {},
     "output_type": "execute_result"
    }
   ],
   "source": [
    "gaussian_kl_divergence(mu1, ln_var1, mu2, ln_var2)"
   ]
  },
  {
   "cell_type": "code",
   "execution_count": 124,
   "metadata": {},
   "outputs": [
    {
     "data": {
      "text/plain": [
       "32.406897523542348"
      ]
     },
     "execution_count": 124,
     "metadata": {},
     "output_type": "execute_result"
    }
   ],
   "source": [
    "gaussian_kl_divergence(mu1, ln_var1, mu3, ln_var3)"
   ]
  }
 ],
 "metadata": {
  "kernelspec": {
   "display_name": "Python 3",
   "language": "python",
   "name": "python3"
  },
  "language_info": {
   "codemirror_mode": {
    "name": "ipython",
    "version": 3
   },
   "file_extension": ".py",
   "mimetype": "text/x-python",
   "name": "python",
   "nbconvert_exporter": "python",
   "pygments_lexer": "ipython3",
   "version": "3.6.1"
  }
 },
 "nbformat": 4,
 "nbformat_minor": 2
}
