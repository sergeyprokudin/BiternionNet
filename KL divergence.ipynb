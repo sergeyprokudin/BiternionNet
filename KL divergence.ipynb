{
 "cells": [
  {
   "cell_type": "code",
   "execution_count": 1,
   "metadata": {
    "collapsed": true
   },
   "outputs": [],
   "source": [
    "import numpy as np\n",
    "import tensorflow as tf"
   ]
  },
  {
   "cell_type": "markdown",
   "metadata": {},
   "source": [
    "From Section 9 of http://ai.stanford.edu/~jduchi/projects/general_notes.pdf :\n",
    "\n",
    "\n",
    "$D_{KL}\\Big(P_1 \\parallel P_2 \\Big) = \\{\\dots\\} = \\frac{1}{2}\\Big( \\log \\frac{\\det\\Sigma_2}{\\det\\Sigma_1} - n + tr{\\Sigma^{-1}_2\\Sigma_1}  + (\\mu_2 - \\mu_1) \\Sigma^{-1}_2 (\\mu_2 - \\mu_1) \\Big)$\n",
    "\n",
    "\n",
    "$\\log{\\frac{\\det\\Sigma_2}{\\det\\Sigma_1}} = \\sum_{i=1}^n{\\big[\\log{\\sigma_{2i} - \\log{\\sigma_{1i}}} \\big]}$\n",
    "\n",
    "$\\Sigma_2^{-1} =  diag{(\\frac{1}{\\sigma_{21}}, \\dots, \\frac{1}{\\sigma_{2n}})}$\n",
    "\n",
    "$ tr{\\Sigma^{-1}_2\\Sigma_1}  = \\sum_{i=1}^n{\\frac{\\sigma_{1i}}{\\sigma_{2i}}}$\n",
    "\n",
    "$(\\mu_2 - \\mu_1) \\Sigma^{-1}_2 (\\mu_2 - \\mu_1) = \\sum_{i=1}^n{\\frac{(\\mu_{2i}-\\mu_{1i})^2}{\\sigma_{2i}}}$\n"
   ]
  },
  {
   "cell_type": "code",
   "execution_count": 26,
   "metadata": {
    "collapsed": true
   },
   "outputs": [],
   "source": [
    "def gaussian_kl_divergence_np(mu1, ln_var1, mu2, ln_var2): \n",
    "    \n",
    "    shape = mu1.shape\n",
    "    \n",
    "    batch_size = shape[0]\n",
    "    n = shape[1]\n",
    "    \n",
    "    log_var_diff = ln_var2 - ln_var1\n",
    "    \n",
    "    var_diff_trace = np.sum(np.exp(log_var_diff), axis=1)\n",
    "    \n",
    "    mudiff = np.sum(np.square(mu1-mu2) / np.exp(ln_var2), axis=1)\n",
    "    \n",
    "    kl_divs = 0.5*(np.sum(log_var_diff, axis=1) - n + var_diff_trace + mudiff)\n",
    "    \n",
    "    return np.sum(kl_divs) / batch_size\n",
    "\n",
    "\n",
    "def gaussian_kl_divergence_tf(mu1, ln_var1, mu2, ln_var2): \n",
    "    \n",
    "    shape = tf.to_float(tf.shape(mu1))\n",
    "    \n",
    "    batch_size = shape[0]\n",
    "    n = shape[1]\n",
    "    \n",
    "    log_var_diff = ln_var2 - ln_var1\n",
    "    \n",
    "    var_diff_trace = tf.reduce_sum(tf.exp(log_var_diff), axis=1)\n",
    "    \n",
    "    mudiff = tf.reduce_sum(tf.square(mu1-mu2) / tf.exp(ln_var2), axis=1)\n",
    "    \n",
    "    kl_div = 0.5*(tf.reduce_sum(log_var_diff, axis=1) - n + var_diff_trace + mudiff)\n",
    "    \n",
    "    return tf.reduce_sum(kl_div) / batch_size"
   ]
  },
  {
   "cell_type": "markdown",
   "metadata": {},
   "source": [
    "#### Sanity checks"
   ]
  },
  {
   "cell_type": "markdown",
   "metadata": {},
   "source": [
    "$ p_1(x) \\sim \\mathcal{N}(0, 1)$\n"
   ]
  },
  {
   "cell_type": "code",
   "execution_count": 32,
   "metadata": {},
   "outputs": [],
   "source": [
    "mu1_tf = tf.placeholder(tf.float32, shape=[None,3])\n",
    "ln_var1_tf = tf.placeholder(tf.float32, shape=[None,3])\n",
    "mu2_tf = tf.placeholder(tf.float32, shape=[None,3])\n",
    "ln_var2_tf = tf.placeholder(tf.float32, shape=[None,3])\n",
    "\n",
    "kl_div_tf = gaussian_kl_divergence_tf(mu1_tf, ln_var1_tf, mu2_tf, ln_var2_tf)"
   ]
  },
  {
   "cell_type": "code",
   "execution_count": 56,
   "metadata": {
    "collapsed": true
   },
   "outputs": [],
   "source": [
    "n = 15\n",
    "k = 3\n",
    "mu1 = np.zeros([n,k])\n",
    "ln_var1 = np.ones([n,k])"
   ]
  },
  {
   "cell_type": "markdown",
   "metadata": {},
   "source": [
    "$D_{KL}\\Big(P_1 \\parallel P_1 \\Big) $ = 0"
   ]
  },
  {
   "cell_type": "code",
   "execution_count": 57,
   "metadata": {},
   "outputs": [
    {
     "name": "stdout",
     "output_type": "stream",
     "text": [
      "KL (numpy): 0.000000\n",
      "KL (tensorflow): 0.000000\n"
     ]
    }
   ],
   "source": [
    "with tf.Session() as sess:\n",
    "    print(\"KL (numpy): %f\" % gaussian_kl_divergence_np(mu1, ln_var1, mu1, ln_var1))\n",
    "    feed_dict = {mu1_tf: mu1, ln_var1_tf: ln_var1, mu2_tf: mu1, ln_var2_tf: ln_var1}\n",
    "    print(\"KL (tensorflow): %f\" % kl_div_tf.eval(feed_dict=feed_dict))"
   ]
  },
  {
   "cell_type": "markdown",
   "metadata": {},
   "source": [
    "$ p_2(x) \\sim \\mathcal{N}(10, 1)$\n",
    "\n",
    "$ p_3(x) \\sim \\mathcal{N}(5, 10)$"
   ]
  },
  {
   "cell_type": "code",
   "execution_count": 59,
   "metadata": {
    "collapsed": true
   },
   "outputs": [],
   "source": [
    "mu2 = np.zeros([n,k])+10\n",
    "ln_var2 = np.ones([n,k])\n",
    "mu3 = np.zeros([n,k])+5\n",
    "ln_var3 = np.ones([n,k])*np.log(10)"
   ]
  },
  {
   "cell_type": "markdown",
   "metadata": {},
   "source": [
    "$D_{KL}\\Big(P_1 \\parallel P_2 \\Big)  > D_{KL}\\Big(P_1 \\parallel P_3 \\Big)$"
   ]
  },
  {
   "cell_type": "code",
   "execution_count": 60,
   "metadata": {},
   "outputs": [
    {
     "name": "stdout",
     "output_type": "stream",
     "text": [
      "KL (numpy): 55.181916\n",
      "KL (tensorflow): 55.181919\n"
     ]
    }
   ],
   "source": [
    "with tf.Session() as sess:\n",
    "    print(\"KL (numpy): %f\" % gaussian_kl_divergence_np(mu1, ln_var1, mu2, ln_var2))\n",
    "    feed_dict = {mu1_tf: mu1, ln_var1_tf: ln_var1, mu2_tf: mu2, ln_var2_tf: ln_var2}\n",
    "    print(\"KL (tensorflow): %f\" % kl_div_tf.eval(feed_dict=feed_dict))"
   ]
  },
  {
   "cell_type": "code",
   "execution_count": 61,
   "metadata": {},
   "outputs": [
    {
     "name": "stdout",
     "output_type": "stream",
     "text": [
      "KL (numpy): 9.722069\n",
      "KL (tensorflow): 9.722071\n"
     ]
    }
   ],
   "source": [
    "with tf.Session() as sess:\n",
    "    print(\"KL (numpy): %f\" % gaussian_kl_divergence_np(mu1, ln_var1, mu3, ln_var3))\n",
    "    feed_dict = {mu1_tf: mu1, ln_var1_tf: ln_var1, mu2_tf: mu3, ln_var2_tf: ln_var3}\n",
    "    print(\"KL (tensorflow): %f\" % kl_div_tf.eval(feed_dict=feed_dict))"
   ]
  },
  {
   "cell_type": "code",
   "execution_count": 65,
   "metadata": {
    "collapsed": true
   },
   "outputs": [],
   "source": [
    "mu4 = np.zeros([n,k])+0.1\n",
    "ln_var4 = np.ones([n,k])"
   ]
  },
  {
   "cell_type": "code",
   "execution_count": 66,
   "metadata": {},
   "outputs": [
    {
     "name": "stdout",
     "output_type": "stream",
     "text": [
      "KL (numpy): 0.005518\n",
      "KL (tensorflow): 0.005518\n"
     ]
    }
   ],
   "source": [
    "with tf.Session() as sess:\n",
    "    print(\"KL (numpy): %f\" % gaussian_kl_divergence_np(mu1, ln_var1, mu4, ln_var4))\n",
    "    feed_dict = {mu1_tf: mu1, ln_var1_tf: ln_var1, mu2_tf: mu4, ln_var2_tf: ln_var4}\n",
    "    print(\"KL (tensorflow): %f\" % kl_div_tf.eval(feed_dict=feed_dict))"
   ]
  },
  {
   "cell_type": "code",
   "execution_count": 67,
   "metadata": {
    "collapsed": true
   },
   "outputs": [],
   "source": [
    "with tf.Session() as sess:\n",
    "    feed_dict = {mu1_tf: mu1, ln_var1_tf: ln_var1, mu2_tf: mu4, ln_var2_tf: ln_var4}\n",
    "    kl = kl_div_tf.eval(feed_dict=feed_dict)"
   ]
  }
 ],
 "metadata": {
  "kernelspec": {
   "display_name": "Python 3",
   "language": "python",
   "name": "python3"
  },
  "language_info": {
   "codemirror_mode": {
    "name": "ipython",
    "version": 3
   },
   "file_extension": ".py",
   "mimetype": "text/x-python",
   "name": "python",
   "nbconvert_exporter": "python",
   "pygments_lexer": "ipython3",
   "version": "3.6.1"
  }
 },
 "nbformat": 4,
 "nbformat_minor": 2
}
