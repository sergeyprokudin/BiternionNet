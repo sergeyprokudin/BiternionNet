{
 "cells": [
  {
   "cell_type": "markdown",
   "metadata": {},
   "source": [
    "### This is just simple reproducement of the code available at \n",
    "\n",
    "http://wiseodd.github.io/techblog/2016/12/17/conditional-vae/"
   ]
  },
  {
   "cell_type": "code",
   "execution_count": 5,
   "metadata": {},
   "outputs": [],
   "source": [
    "from tensorflow.examples.tutorials.mnist import input_data\n",
    "from keras.layers import Input, Dense, Lambda\n",
    "from keras.layers.merge import concatenate\n",
    "from keras.models import Model\n",
    "from keras.objectives import binary_crossentropy\n",
    "from keras.callbacks import LearningRateScheduler\n",
    "\n",
    "import numpy as np\n",
    "import matplotlib.pyplot as plt\n",
    "%matplotlib inline\n",
    "import keras.backend as K\n",
    "import tensorflow as tf"
   ]
  },
  {
   "cell_type": "code",
   "execution_count": 16,
   "metadata": {},
   "outputs": [
    {
     "name": "stdout",
     "output_type": "stream",
     "text": [
      "Extracting MNIST_data/train-images-idx3-ubyte.gz\n",
      "Extracting MNIST_data/train-labels-idx1-ubyte.gz\n",
      "Extracting MNIST_data/t10k-images-idx3-ubyte.gz\n",
      "Extracting MNIST_data/t10k-labels-idx1-ubyte.gz\n"
     ]
    }
   ],
   "source": [
    "mnist = input_data.read_data_sets('MNIST_data', one_hot=True)\n",
    "X_train, y_train = mnist.train.images, mnist.train.labels\n",
    "X_test, y_test = mnist.test.images, mnist.test.labels\n",
    "\n",
    "m = 50\n",
    "n_x = X_train.shape[1]\n",
    "n_y = y_train.shape[1]\n",
    "n_z = 2\n",
    "n_epoch = 20"
   ]
  },
  {
   "cell_type": "markdown",
   "metadata": {},
   "source": [
    "#### Notation\n",
    "\n",
    "$x$ - image,\n",
    "\n",
    "$y$ - label,\n",
    "\n",
    "$z$ - hidden variable"
   ]
  },
  {
   "cell_type": "code",
   "execution_count": 17,
   "metadata": {},
   "outputs": [],
   "source": [
    "X = Input(shape=[n_x])\n",
    "cond = Input(shape=[n_y])\n",
    "inputs = concatenate([X, cond])"
   ]
  },
  {
   "cell_type": "markdown",
   "metadata": {},
   "source": [
    "#### Encoder network\n",
    "\n",
    "$ q(z|x,y) \\sim \\mathcal{N}(\\mu_1(x, \\theta), \\sigma_1(x, \\theta)) $"
   ]
  },
  {
   "cell_type": "code",
   "execution_count": 18,
   "metadata": {},
   "outputs": [],
   "source": [
    "h_q = Dense(512, activation='relu')(inputs)\n",
    "mu = Dense(n_z, activation='linear')(h_q)\n",
    "log_sigma = Dense(n_z, activation='linear')(h_q)\n",
    "\n",
    "# Encoder model, to encode input into latent variable\n",
    "# We use the mean as the output as it is the center point, the representative of the gaussian\n",
    "encoder = Model([X, cond], mu)"
   ]
  },
  {
   "cell_type": "code",
   "execution_count": 19,
   "metadata": {},
   "outputs": [
    {
     "data": {
      "text/plain": [
       "array([[-0.56614298,  0.30428547, -0.43186334,  0.45258918, -0.09483073,\n",
       "        -0.36229151,  0.07662731,  0.09490936],\n",
       "       [-0.2366021 ,  0.74731559,  0.01802142,  0.54994434,  0.19551612,\n",
       "        -0.47259003,  0.46612951, -0.14748636],\n",
       "       [-0.15152891,  0.52409631, -0.00965083, -0.16505212,  0.09835618,\n",
       "        -0.07829735,  0.2530863 ,  0.42494309],\n",
       "       [-0.00516238,  0.12490141, -0.18931341,  0.23323773, -0.53335065,\n",
       "         0.14951749,  0.00685311, -0.02836356],\n",
       "       [ 0.38020664,  0.08589519, -0.21407896,  0.16868465, -0.20545231,\n",
       "        -0.37060794,  0.01334147, -0.00474965],\n",
       "       [-0.4301697 ,  0.3997016 ,  0.10413002, -0.08826777,  0.04851338,\n",
       "        -0.43598017,  0.4325676 ,  0.26616755],\n",
       "       [ 0.21541229,  0.18403335, -0.16531414,  0.14490776, -0.2640228 ,\n",
       "        -0.43904254,  0.11984789, -0.00881718],\n",
       "       [-0.47904319,  0.62099302,  0.48432517,  0.49667138, -0.47591457,\n",
       "         0.05790415, -0.16085877,  0.48594004],\n",
       "       [-0.15370464,  0.22008272,  0.13817333,  0.07617557,  0.12429532,\n",
       "         0.12000012,  0.0672667 ,  0.03529741],\n",
       "       [-0.34303111,  0.36910182, -0.00422256,  0.36287823, -0.2421207 ,\n",
       "        -0.3288089 ,  0.42466232,  0.04979794]], dtype=float32)"
      ]
     },
     "execution_count": 19,
     "output_type": "execute_result",
     "metadata": {}
    }
   ],
   "source": [
    "encoder.predict([X_train[0:10], y_train[0:10]])"
   ]
  },
  {
   "cell_type": "code",
   "execution_count": 20,
   "metadata": {},
   "outputs": [],
   "source": [
    "def sample_z(args):\n",
    "    mu, log_sigma = args\n",
    "    eps = K.random_normal(shape=[n_z], mean=0., stddev=1.)\n",
    "    return mu + K.exp(log_sigma / 2) * eps\n",
    "\n",
    "\n",
    "# Sample z ~ Q(z|X,y)\n",
    "z = Lambda(sample_z)([mu, log_sigma])\n",
    "z_cond = concatenate([z, cond], axis=1) # <--- NEW!"
   ]
  },
  {
   "cell_type": "markdown",
   "metadata": {},
   "source": [
    "#### Decoder network\n",
    "\n",
    "$ p(x|z,y) $"
   ]
  },
  {
   "cell_type": "code",
   "execution_count": 21,
   "metadata": {},
   "outputs": [],
   "source": [
    "decoder_hidden = Dense(512, activation='relu')\n",
    "decoder_out = Dense(784, activation='sigmoid')\n",
    "\n",
    "h_p = decoder_hidden(z_cond)\n",
    "outputs = decoder_out(h_p)\n",
    "\n",
    "decoder_input = Input(shape=[n_z+n_y])\n",
    "decoder_hidden = decoder_hidden(decoder_input)\n",
    "decoder_out = decoder_out(decoder_hidden)\n",
    "decoder = Model(decoder_input, decoder_out)"
   ]
  },
  {
   "cell_type": "code",
   "execution_count": 22,
   "metadata": {},
   "outputs": [],
   "source": [
    "# Overall VAE model, for reconstruction and training\n",
    "vae = Model(inputs=[X, cond], outputs=outputs)"
   ]
  },
  {
   "cell_type": "code",
   "execution_count": 23,
   "metadata": {},
   "outputs": [],
   "source": [
    "def vae_loss(y_true, y_pred):\n",
    "    \"\"\" Calculate loss = reconstruction loss + KL loss for each data in minibatch \"\"\"\n",
    "    # E[log P(X|z)]\n",
    "    recon = K.sum(K.binary_crossentropy(y_pred, y_true), axis=1)\n",
    "    # D_KL(Q(z|X) || P(z|X)); calculate in closed form as both dist. are Gaussian\n",
    "    kl = 0.5 * K.sum(K.exp(log_sigma) + K.square(mu) - 1. - log_sigma, axis=1)\n",
    "    return recon + kl"
   ]
  },
  {
   "cell_type": "code",
   "execution_count": 24,
   "metadata": {},
   "outputs": [
    {
     "name": "stderr",
     "output_type": "stream",
     "text": [
      "/Users/sergey/BiternionNet/py_env/lib/python3.6/site-packages/ipykernel_launcher.py:2: UserWarning: The `nb_epoch` argument in `fit` has been renamed `epochs`.\n",
      "  \n"
     ]
    },
    {
     "name": "stdout",
     "output_type": "stream",
     "text": [
      "Train on 49500 samples, validate on 5500 samples\n",
      "Epoch 1/20\n",
      "49500/49500 [==============================] - 13s - loss: 498.0957 - val_loss: 434.3318\n",
      "Epoch 2/20\n",
      "49500/49500 [==============================] - 13s - loss: 434.9129 - val_loss: 430.5347\n",
      "Epoch 3/20\n",
      "49500/49500 [==============================] - 12s - loss: 431.7471 - val_loss: 430.3532\n",
      "Epoch 4/20\n",
      "49500/49500 [==============================] - 12s - loss: 431.6740 - val_loss: 430.3083\n",
      "Epoch 5/20\n",
      "49500/49500 [==============================] - 12s - loss: 431.6485 - val_loss: 430.2951\n",
      "Epoch 6/20\n",
      "49500/49500 [==============================] - 12s - loss: 431.6388 - val_loss: 430.2880\n",
      "Epoch 7/20\n",
      "49500/49500 [==============================] - 12s - loss: 431.6336 - val_loss: 430.2838\n",
      "Epoch 8/20\n",
      "49500/49500 [==============================] - 12s - loss: 431.6303 - val_loss: 430.2813\n",
      "Epoch 9/20\n",
      "49500/49500 [==============================] - 12s - loss: 431.6282 - val_loss: 430.2799\n",
      "Epoch 10/20\n",
      "49500/49500 [==============================] - 12s - loss: 431.6269 - val_loss: 430.2789\n",
      "Epoch 11/20\n",
      "49500/49500 [==============================] - 12s - loss: 431.6261 - val_loss: 430.2782\n",
      "Epoch 12/20\n",
      "49500/49500 [==============================] - 12s - loss: 431.6255 - val_loss: 430.2778\n",
      "Epoch 13/20\n",
      "49500/49500 [==============================] - 12s - loss: 431.6253 - val_loss: 430.2776\n",
      "Epoch 14/20\n",
      "49500/49500 [==============================] - 12s - loss: 431.6251 - val_loss: 430.2777\n",
      "Epoch 15/20\n",
      "49500/49500 [==============================] - 12s - loss: 431.6252 - val_loss: 430.2777\n",
      "Epoch 16/20\n",
      "49500/49500 [==============================] - 12s - loss: 431.6252 - val_loss: 430.2775\n",
      "Epoch 17/20\n",
      "49500/49500 [==============================] - 12s - loss: 431.6254 - val_loss: 430.2774\n",
      "Epoch 18/20\n",
      "49500/49500 [==============================] - 12s - loss: 431.6253 - val_loss: 430.2774\n",
      "Epoch 19/20\n",
      "49500/49500 [==============================] - 11s - loss: 431.6251 - val_loss: 430.2774\n",
      "Epoch 20/20\n",
      "49500/49500 [==============================] - 12s - loss: 431.6251 - val_loss: 430.2777\n"
     ]
    },
    {
     "data": {
      "text/plain": [
       "<keras.callbacks.History at 0x118c35780>"
      ]
     },
     "execution_count": 24,
     "output_type": "execute_result",
     "metadata": {}
    }
   ],
   "source": [
    "vae.compile(optimizer='adam', loss=vae_loss)\n",
    "vae.fit([X_train, y_train], [X_train], batch_size=50, nb_epoch=n_epoch, validation_split=0.1)"
   ]
  },
  {
   "cell_type": "markdown",
   "metadata": {},
   "source": [
    "#### Now let's generate some digits"
   ]
  },
  {
   "cell_type": "code",
   "execution_count": 15,
   "metadata": {},
   "outputs": [
    {
     "data": {
      "image/png": "[encoded data removed]"
     },
     "output_type": "display_data",
     "metadata": {}
    }
   ],
   "source": [
    "digit_to_generate = 8\n",
    "n_samples = 10\n",
    "Y = np.zeros([n_samples, 10])\n",
    "Y[:, digit_to_generate] = 1\n",
    "z = np.random.normal(0,1, [n_samples,2])\n",
    "decoder_input = np.concatenate([z, Y],axis=1)\n",
    "\n",
    "imgs = decoder.predict(decoder_input)\n",
    "\n",
    "fig, axs = plt.subplots(1, 10, figsize=(20, 10))\n",
    "for i in range(0, n_samples):\n",
    "    axs[i].imshow(imgs[i].reshape(28,28), cmap='gray')"
   ]
  }
 ],
 "metadata": {
  "kernelspec": {
   "display_name": "Python 3",
   "language": "python",
   "name": "python3"
  },
  "language_info": {
   "codemirror_mode": {
    "name": "ipython",
    "version": 3.0
   },
   "file_extension": ".py",
   "mimetype": "text/x-python",
   "name": "python",
   "nbconvert_exporter": "python",
   "pygments_lexer": "ipython3",
   "version": "3.6.1"
  }
 },
 "nbformat": 4,
 "nbformat_minor": 2
}