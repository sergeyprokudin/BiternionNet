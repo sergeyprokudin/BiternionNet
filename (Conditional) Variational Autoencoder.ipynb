{
 "cells": [
  {
   "cell_type": "markdown",
   "metadata": {},
   "source": [
    "### This is just simple reproducement of the code available at \n",
    "\n",
    "http://wiseodd.github.io/techblog/2016/12/17/conditional-vae/"
   ]
  },
  {
   "cell_type": "code",
   "execution_count": 170,
   "metadata": {},
   "outputs": [],
   "source": [
    "from tensorflow.examples.tutorials.mnist import input_data\n",
    "from keras.layers import Input, Dense, Lambda\n",
    "from keras.layers.merge import concatenate\n",
    "from keras.models import Model\n",
    "from keras.objectives import binary_crossentropy\n",
    "from keras.callbacks import LearningRateScheduler\n",
    "\n",
    "import numpy as np\n",
    "import matplotlib.pyplot as plt\n",
    "%matplotlib inline\n",
    "import keras.backend as K\n",
    "import tensorflow as tf"
   ]
  },
  {
   "cell_type": "code",
   "execution_count": 24,
   "metadata": {},
   "outputs": [
    {
     "name": "stdout",
     "output_type": "stream",
     "text": [
      "Extracting MNIST_data/train-images-idx3-ubyte.gz\n",
      "Extracting MNIST_data/train-labels-idx1-ubyte.gz\n",
      "Extracting MNIST_data/t10k-images-idx3-ubyte.gz\n",
      "Extracting MNIST_data/t10k-labels-idx1-ubyte.gz\n"
     ]
    }
   ],
   "source": [
    "mnist = input_data.read_data_sets('MNIST_data', one_hot=True)\n",
    "X_train, y_train = mnist.train.images, mnist.train.labels\n",
    "X_test, y_test = mnist.test.images, mnist.test.labels\n",
    "\n",
    "m = 50\n",
    "n_x = X_train.shape[1]\n",
    "n_y = y_train.shape[1]\n",
    "n_z = 2\n",
    "n_epoch = 20"
   ]
  },
  {
   "cell_type": "markdown",
   "metadata": {},
   "source": [
    "#### Notation\n",
    "\n",
    "$x$ - image,\n",
    "\n",
    "$y$ - label,\n",
    "\n",
    "$z$ - hidden variable"
   ]
  },
  {
   "cell_type": "code",
   "execution_count": 58,
   "metadata": {},
   "outputs": [],
   "source": [
    "X = Input(shape=[n_x])\n",
    "cond = Input(shape=[n_y])\n",
    "inputs = concatenate([X, cond])"
   ]
  },
  {
   "cell_type": "markdown",
   "metadata": {},
   "source": [
    "#### Encoder network\n",
    "\n",
    "$ q(z|x,y) \\sim \\mathcal{N}(\\mu_1(x, \\theta), \\sigma_1(x, \\theta)) $"
   ]
  },
  {
   "cell_type": "code",
   "execution_count": 60,
   "metadata": {},
   "outputs": [],
   "source": [
    "h_q = Dense(512, activation='relu')(inputs)\n",
    "mu = Dense(n_z, activation='linear')(h_q)\n",
    "log_sigma = Dense(n_z, activation='linear')(h_q)\n",
    "\n",
    "# Encoder model, to encode input into latent variable\n",
    "# We use the mean as the output as it is the center point, the representative of the gaussian\n",
    "encoder = Model([X, cond], mu)"
   ]
  },
  {
   "cell_type": "code",
   "execution_count": 64,
   "metadata": {},
   "outputs": [
    {
     "data": {
      "text/plain": [
       "array([[ 0.08301225, -0.46163154],\n",
       "       [ 0.55257177,  0.07319692],\n",
       "       [-0.36054221, -0.02031484],\n",
       "       [-0.12453099, -0.4002367 ],\n",
       "       [ 0.07757197, -0.42440763],\n",
       "       [ 0.08123612, -0.03703713],\n",
       "       [ 0.20135036, -0.48151165],\n",
       "       [-0.67630517, -0.20125806],\n",
       "       [-0.51006818, -0.14518163],\n",
       "       [ 0.17778093,  0.07543123]], dtype=float32)"
      ]
     },
     "execution_count": 64,
     "metadata": {},
     "output_type": "execute_result"
    }
   ],
   "source": [
    "encoder.predict([X_train[0:10], y_train[0:10]])"
   ]
  },
  {
   "cell_type": "code",
   "execution_count": 172,
   "metadata": {},
   "outputs": [],
   "source": [
    "def sample_z(args):\n",
    "    mu, log_sigma = args\n",
    "    eps = K.random_normal(shape=[n_z], mean=0., stddev=1.)\n",
    "    return mu + K.exp(log_sigma / 2) * eps\n",
    "\n",
    "\n",
    "# Sample z ~ Q(z|X,y)\n",
    "z = Lambda(sample_z)([mu, log_sigma])\n",
    "z_cond = concatenate([z, cond], axis=1) # <--- NEW!"
   ]
  },
  {
   "cell_type": "markdown",
   "metadata": {},
   "source": [
    "#### Decoder network\n",
    "\n",
    "$ p(x|z,y) $"
   ]
  },
  {
   "cell_type": "code",
   "execution_count": 111,
   "metadata": {},
   "outputs": [],
   "source": [
    "decoder_hidden = Dense(512, activation='relu')\n",
    "decoder_out = Dense(784, activation='sigmoid')\n",
    "\n",
    "h_p = decoder_hidden(z_cond)\n",
    "outputs = decoder_out(h_p)\n",
    "\n",
    "decoder_input = Input(shape=[n_z+n_y])\n",
    "decoder_hidden = decoder_hidden(decoder_input)\n",
    "decoder_out = decoder_out(decoder_hidden)\n",
    "decoder = Model(decoder_input, decoder_out)"
   ]
  },
  {
   "cell_type": "code",
   "execution_count": 112,
   "metadata": {},
   "outputs": [],
   "source": [
    "# Overall VAE model, for reconstruction and training\n",
    "vae = Model(inputs=[X, cond], outputs=outputs)"
   ]
  },
  {
   "cell_type": "code",
   "execution_count": 113,
   "metadata": {},
   "outputs": [],
   "source": [
    "def vae_loss(y_true, y_pred):\n",
    "    \"\"\" Calculate loss = reconstruction loss + KL loss for each data in minibatch \"\"\"\n",
    "    # E[log P(X|z)]\n",
    "    recon = K.sum(K.binary_crossentropy(y_pred, y_true), axis=1)\n",
    "    # D_KL(Q(z|X) || P(z|X)); calculate in closed form as both dist. are Gaussian\n",
    "    kl = 0.5 * K.sum(K.exp(log_sigma) + K.square(mu) - 1. - log_sigma, axis=1)\n",
    "    return recon + kl"
   ]
  },
  {
   "cell_type": "code",
   "execution_count": 114,
   "metadata": {},
   "outputs": [
    {
     "name": "stderr",
     "output_type": "stream",
     "text": [
      "/Users/sergey/BiternionNet/py_env/lib/python3.6/site-packages/ipykernel_launcher.py:2: UserWarning: The `nb_epoch` argument in `fit` has been renamed `epochs`.\n",
      "  \n"
     ]
    },
    {
     "name": "stdout",
     "output_type": "stream",
     "text": [
      "Train on 49500 samples, validate on 5500 samples\n",
      "Epoch 1/20\n",
      "49500/49500 [==============================] - 15s - loss: 163.7087 - val_loss: 141.0603\n",
      "Epoch 2/20\n",
      "49500/49500 [==============================] - 13s - loss: 140.3795 - val_loss: 136.6145\n",
      "Epoch 3/20\n",
      "49500/49500 [==============================] - 13s - loss: 137.2151 - val_loss: 135.3654\n",
      "Epoch 4/20\n",
      "49500/49500 [==============================] - 13s - loss: 135.6825 - val_loss: 133.9347\n",
      "Epoch 5/20\n",
      "49500/49500 [==============================] - 13s - loss: 134.5740 - val_loss: 133.9799\n",
      "Epoch 6/20\n",
      "49500/49500 [==============================] - 13s - loss: 133.9874 - val_loss: 132.8224\n",
      "Epoch 7/20\n",
      "49500/49500 [==============================] - 13s - loss: 133.4105 - val_loss: 132.4038\n",
      "Epoch 8/20\n",
      "49500/49500 [==============================] - 13s - loss: 132.9937 - val_loss: 131.9467\n",
      "Epoch 9/20\n",
      "49500/49500 [==============================] - 13s - loss: 132.7063 - val_loss: 132.2058\n",
      "Epoch 10/20\n",
      "49500/49500 [==============================] - 13s - loss: 132.3879 - val_loss: 131.4264\n",
      "Epoch 11/20\n",
      "49500/49500 [==============================] - 13s - loss: 132.1243 - val_loss: 131.4638\n",
      "Epoch 12/20\n",
      "49500/49500 [==============================] - 13s - loss: 131.8517 - val_loss: 131.6221\n",
      "Epoch 13/20\n",
      "49500/49500 [==============================] - 13s - loss: 131.6904 - val_loss: 131.0784\n",
      "Epoch 14/20\n",
      "49500/49500 [==============================] - 13s - loss: 131.6408 - val_loss: 131.1745\n",
      "Epoch 15/20\n",
      "49500/49500 [==============================] - 14s - loss: 131.3938 - val_loss: 130.9877\n",
      "Epoch 16/20\n",
      "49500/49500 [==============================] - 14s - loss: 131.3140 - val_loss: 130.7019\n",
      "Epoch 17/20\n",
      "49500/49500 [==============================] - 14s - loss: 131.1727 - val_loss: 130.8972\n",
      "Epoch 18/20\n",
      "49500/49500 [==============================] - 14s - loss: 131.0516 - val_loss: 130.7193\n",
      "Epoch 19/20\n",
      "49500/49500 [==============================] - 14s - loss: 130.8960 - val_loss: 130.4652\n",
      "Epoch 20/20\n",
      "49500/49500 [==============================] - 13s - loss: 130.7617 - val_loss: 130.4867\n"
     ]
    },
    {
     "data": {
      "text/plain": [
       "<keras.callbacks.History at 0x12ba06828>"
      ]
     },
     "execution_count": 114,
     "metadata": {},
     "output_type": "execute_result"
    }
   ],
   "source": [
    "vae.compile(optimizer='adam', loss=vae_loss)\n",
    "vae.fit([X_train, y_train], [X_train], batch_size=50, nb_epoch=n_epoch, validation_split=0.1)"
   ]
  },
  {
   "cell_type": "markdown",
   "metadata": {},
   "source": [
    "#### Now let's generate some digits"
   ]
  },
  {
   "cell_type": "code",
   "execution_count": 168,
   "metadata": {},
   "outputs": [
    {
     "data": {
      "image/png": "[encoded data removed]",
      "text/plain": [
       "<matplotlib.figure.Figure at 0x1337b9940>"
      ]
     },
     "metadata": {},
     "output_type": "display_data"
    }
   ],
   "source": [
    "digit_to_generate = 8\n",
    "n_samples = 10\n",
    "Y = np.zeros([n_samples, 10])\n",
    "Y[:, digit_to_generate] = 1\n",
    "z = np.random.normal(0,1, [n_samples,2])\n",
    "decoder_input = np.concatenate([z, Y],axis=1)\n",
    "\n",
    "imgs = decoder.predict(decoder_input)\n",
    "\n",
    "fig, axs = plt.subplots(1, 10, figsize=(20, 10))\n",
    "for i in range(0, n_samples):\n",
    "    axs[i].imshow(imgs[i].reshape(28,28), cmap='gray')"
   ]
  }
 ],
 "metadata": {
  "kernelspec": {
   "display_name": "Python 3",
   "language": "python",
   "name": "python3"
  },
  "language_info": {
   "codemirror_mode": {
    "name": "ipython",
    "version": 3
   },
   "file_extension": ".py",
   "mimetype": "text/x-python",
   "name": "python",
   "nbconvert_exporter": "python",
   "pygments_lexer": "ipython3",
   "version": "3.6.1"
  }
 },
 "nbformat": 4,
 "nbformat_minor": 2
}
