{
 "cells": [
  {
   "cell_type": "code",
   "execution_count": 105,
   "metadata": {},
   "outputs": [
    {
     "name": "stdout",
     "output_type": "stream",
     "text": [
      "3\n"
     ]
    }
   ],
   "source": [
    ""
   ]
  },
  {
   "cell_type": "code",
   "execution_count": 191,
   "metadata": {},
   "outputs": [
    {
     "name": "stdout",
     "output_type": "stream",
     "text": [
      "4\n",
      "1 2\n",
      "1 4\n",
      "1 3\n",
      "0\n"
     ]
    }
   ],
   "source": [
    "n = input()\n",
    "\n",
    "neighbors = [[] for y in range(n)] \n",
    "\n",
    "for i in range(0, n-1):\n",
    "    left, right = map(int, raw_input().split(' '))\n",
    "    neighbors[left-1].append(right-1)\n",
    "    neighbors[right-1].append(left-1)\n",
    "    \n",
    "left = []\n",
    "right = []\n",
    "flip = True\n",
    "\n",
    "for i in range(0, n):\n",
    "    if i in right:\n",
    "        left = left + neighbors[i]\n",
    "    if \n",
    "    else:\n",
    "        right = right + neighbors[i]\n",
    "        \n",
    "left = set(left)\n",
    "right = set(right)\n",
    "m = len(left)\n",
    "k = len(right)\n",
    "\n",
    "n_edges = m*k - (n-1)\n",
    "\n",
    "print(n_edges)"
   ]
  },
  {
   "cell_type": "code",
   "execution_count": 188,
   "metadata": {},
   "outputs": [
    {
     "data": {
      "text/plain": [
       "[0]"
      ]
     },
     "execution_count": 188,
     "output_type": "execute_result",
     "metadata": {}
    }
   ],
   "source": [
    "neighbors[2]"
   ]
  },
  {
   "cell_type": "code",
   "execution_count": 184,
   "metadata": {},
   "outputs": [
    {
     "data": {
      "text/plain": [
       "[0, 1, 2]"
      ]
     },
     "execution_count": 184,
     "output_type": "execute_result",
     "metadata": {}
    }
   ],
   "source": [
    "range(0, n)"
   ]
  },
  {
   "cell_type": "code",
   "execution_count": 183,
   "metadata": {},
   "outputs": [
    {
     "data": {
      "text/plain": [
       "[[1, 2], [0], [0]]"
      ]
     },
     "execution_count": 183,
     "output_type": "execute_result",
     "metadata": {}
    }
   ],
   "source": [
    "neighbors"
   ]
  },
  {
   "cell_type": "code",
   "execution_count": 141,
   "metadata": {},
   "outputs": [
    {
     "data": {
      "text/plain": [
       "[0, 1]"
      ]
     },
     "execution_count": 141,
     "output_type": "execute_result",
     "metadata": {}
    }
   ],
   "source": [
    "range(0, n-1)"
   ]
  },
  {
   "cell_type": "code",
   "execution_count": 169,
   "metadata": {},
   "outputs": [],
   "source": [
    ""
   ]
  },
  {
   "cell_type": "code",
   "execution_count": 170,
   "metadata": {},
   "outputs": [
    {
     "data": {
      "text/plain": [
       "0"
      ]
     },
     "execution_count": 170,
     "output_type": "execute_result",
     "metadata": {}
    }
   ],
   "source": [
    "n_edges"
   ]
  },
  {
   "cell_type": "code",
   "execution_count": 138,
   "metadata": {},
   "outputs": [
    {
     "data": {
      "text/plain": [
       "[1, 3]"
      ]
     },
     "execution_count": 138,
     "output_type": "execute_result",
     "metadata": {}
    }
   ],
   "source": [
    "neighbors[1]"
   ]
  },
  {
   "cell_type": "code",
   "execution_count": 168,
   "metadata": {},
   "outputs": [
    {
     "data": {
      "text/plain": [
       "2"
      ]
     },
     "execution_count": 168,
     "output_type": "execute_result",
     "metadata": {}
    }
   ],
   "source": [
    "len(set(left))"
   ]
  },
  {
   "cell_type": "code",
   "execution_count": 164,
   "metadata": {},
   "outputs": [
    {
     "data": {
      "text/plain": [
       "[[1], 1, [1]]"
      ]
     },
     "execution_count": 164,
     "output_type": "execute_result",
     "metadata": {}
    }
   ],
   "source": [
    "right"
   ]
  },
  {
   "cell_type": "code",
   "execution_count": 103,
   "metadata": {},
   "outputs": [
    {
     "name": "stdout",
     "output_type": "stream",
     "text": [
      "10 0\n",
      "1 3 4\n",
      "0\n"
     ]
    }
   ],
   "source": [
    "n, x = map(int, raw_input().split(' '))\n",
    "evil_set = map(int, raw_input().split(' '))\n",
    "\n",
    "n_ops = 0\n",
    "\n",
    "if x in evil_set:\n",
    "    evil_set.sort()\n",
    "    n_ops += 1 #we need to remove the element\n",
    "    n_smaller = evil_set.index(x)\n",
    "    n_inserts = x - n_smaller\n",
    "    n_ops += n_inserts\n",
    "else:\n",
    "    evil_set.append(x)\n",
    "    evil_set.sort()\n",
    "    n_smaller = evil_set.index(x)\n",
    "    n_inserts = x - n_smaller\n",
    "    n_ops += n_inserts\n",
    "\n",
    "print(n_ops)"
   ]
  },
  {
   "cell_type": "code",
   "execution_count": 60,
   "metadata": {},
   "outputs": [],
   "source": [
    "if x in evil_set:\n",
    "    n_smaller = evil_set.index(x)"
   ]
  },
  {
   "cell_type": "code",
   "execution_count": 81,
   "metadata": {},
   "outputs": [
    {
     "data": {
      "text/plain": [
       "2"
      ]
     },
     "execution_count": 81,
     "output_type": "execute_result",
     "metadata": {}
    }
   ],
   "source": [
    "evil_set.index(5)"
   ]
  },
  {
   "cell_type": "code",
   "execution_count": 87,
   "metadata": {},
   "outputs": [
    {
     "data": {
      "text/plain": [
       "2"
      ]
     },
     "execution_count": 87,
     "output_type": "execute_result",
     "metadata": {}
    }
   ],
   "source": [
    "x-evil_set.index(x)"
   ]
  }
 ],
 "metadata": {
  "kernelspec": {
   "display_name": "Python 2",
   "language": "python",
   "name": "python2"
  },
  "language_info": {
   "codemirror_mode": {
    "name": "ipython",
    "version": 2.0
   },
   "file_extension": ".py",
   "mimetype": "text/x-python",
   "name": "python",
   "nbconvert_exporter": "python",
   "pygments_lexer": "ipython2",
   "version": "2.7.11"
  }
 },
 "nbformat": 4,
 "nbformat_minor": 1
}