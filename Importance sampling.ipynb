{
 "cells": [
  {
   "cell_type": "code",
   "execution_count": 1,
   "metadata": {},
   "outputs": [
    {
     "name": "stderr",
     "output_type": "stream",
     "text": [
      "Using TensorFlow backend.\n"
     ]
    }
   ],
   "source": [
    "from keras.layers import Input, Dense, Lambda, Flatten, Activation, Merge, Concatenate, Add\n",
    "from keras import layers\n",
    "from keras.layers.merge import concatenate\n",
    "from keras.models import Model, Sequential\n",
    "from keras.objectives import binary_crossentropy\n",
    "from keras.callbacks import LearningRateScheduler\n",
    "\n",
    "import numpy as np\n",
    "from scipy.stats import sem\n",
    "from scipy.spatial.distance import squareform, pdist\n",
    "from keras import backend as K\n",
    "from keras.models import load_model\n",
    "import tensorflow as tf\n",
    "\n",
    "from models import vgg\n",
    "from models.cvae import CVAE\n",
    "from models.cvae_mod import CVAE as CVAE_mod\n",
    "from utils.losses import von_mises_log_likelihood_np\n",
    "from utils.angles import deg2bit, bit2deg\n",
    "from utils.losses import mad_loss_tf, cosine_loss_tf, von_mises_loss_tf, maad_from_deg\n",
    "from utils.losses import gaussian_kl_divergence_tf, gaussian_kl_divergence_np\n",
    "from utils.losses import gaussian_log_likelihood_np, gaussian_log_likelihood_scipy, gaussian_log_likelihood_tf\n",
    "from utils.losses  import von_mises_log_likelihood_tf, von_mises_log_likelihood_np\n",
    "from utils.sampling import sample_multiple_gauassians_np\n",
    "from utils.towncentre import load_towncentre\n",
    "from utils.experiements import get_experiment_id"
   ]
  },
  {
   "cell_type": "code",
   "execution_count": 4,
   "metadata": {
    "scrolled": true
   },
   "outputs": [
    {
     "name": "stdout",
     "output_type": "stream",
     "text": [
      "Number of train samples: 6916\n",
      "Number of validation samples: 874\n",
      "Number of test samples: 904\n"
     ]
    }
   ],
   "source": [
    "xtr, ytr_deg, xval, yval_deg, xte, yte_deg = load_towncentre('data/TownCentre.pkl.gz', canonical_split=True, verbose=1)\n",
    "\n",
    "image_height, image_width = xtr.shape[1], xtr.shape[2]\n",
    "ytr_bit = deg2bit(ytr_deg)\n",
    "yval_bit = deg2bit(yval_deg)\n",
    "yte_bit = deg2bit(yte_deg)\n",
    "yte_rad = np.deg2rad(yte_deg)\n",
    "\n",
    "image_height, image_width, n_channels = xtr.shape[1:]\n",
    "flatten_x_shape = xtr[0].flatten().shape[0]\n",
    "phi_shape = yte_bit.shape[1]"
   ]
  },
  {
   "cell_type": "markdown",
   "metadata": {},
   "source": [
    "Gaussian log-likelihood\n",
    "\n",
    "$\\log L(x)= -\\frac{1}{2} \\left( \\log (|\\boldsymbol\\Sigma|\\,) + (\\mathbf{x}-\\boldsymbol\\mu)^{\\rm T}\\boldsymbol\\Sigma^{-1}(\\mathbf{x}-\\boldsymbol\\mu) + n\\log(2\\pi) \\right)$\n",
    "\n",
    "In case $\\boldsymbol\\Sigma = diag(\\sigma_1^2, \\dots, \\sigma_n^2)$\n",
    "\n",
    "$\\log L(x)= -\\frac{1}{2} \\left( (\\sum_{i=1}^{n}{\\log \\sigma^2_i}) + \\sum_{i=1}^{n}{\\frac{(x_i-\\mu_i)^2}{\\sigma^2_i}} + n\\log(2\\pi) \\right)$\n"
   ]
  },
  {
   "cell_type": "code",
   "execution_count": 5,
   "metadata": {
    "collapsed": true
   },
   "outputs": [],
   "source": [
    "def get_model_samples(cvae, x, y, n_samples=10):\n",
    "    \n",
    "    n_points = x.shape[0]\n",
    "    \n",
    "    x_tiled = np.repeat(x_ex, repeats=n_samples, axis=0)\n",
    "    y_tiled = np.repeat(y_ex, repeats=n_samples, axis=0)\n",
    "    \n",
    "    output = cvae.get_full_output(x, y)\n",
    "    mu_prior = output['mu_prior']\n",
    "    std_prior = np.exp(output['log_sigma_prior'] / 2)\n",
    "    mu_encoder = output['mu_encoder']\n",
    "    std_encoder = np.exp(output['log_sigma_encoder'] / 2)\n",
    "    u_encoder = output['u_encoder']\n",
    "    mu_pred = output['mu_pred']\n",
    "    \n",
    "    u_samples = np.zeros([n_points, n_samples, cvae.n_u])\n",
    "    \n",
    "    mu_preds = np.zeros([n_points, n_samples, 2])\n",
    "    kappa_preds = np.zeros([n_points, n_samples, 1])\n",
    "        \n",
    "    for sid in range(0, n_samples):\n",
    "        \n",
    "        kappa_preds[:, sid, :] = output['kappa_pred']\n",
    "        \n",
    "        #vm_likelihood[:, sid] = np.squeeze(np.exp(von_mises_log_likelihood_np(y, mu_pred, kappa_pred)))\n",
    "        u_samples[:, sid, :] = u_encoder\n",
    "    \n",
    "    prior_log_likelihood =  gaussian_log_likelihood_np(mu_prior, std_prior, u_samples)\n",
    "    encoder_log_likelihood = gaussian_log_likelihood_np(mu_encoder, std_encoder, u_samples)\n",
    "    \n",
    "    sample_weight = np.exp(prior_log_likelihood - encoder_log_likelihood)\n",
    "    \n",
    "    importance_likelihoods = np.log(np.mean(vm_likelihood*sample_weight, axis=1))\n",
    "    \n",
    "    return u_samples, mu_pred"
   ]
  },
  {
   "cell_type": "markdown",
   "metadata": {},
   "source": [
    "#### Improtance sampling\n",
    "$ p(\\phi| x) \\approx \\frac{1}{S} \\sum_{i=1}^{S}{\\frac{ p(\\phi | x, u_i) p(u_i|x)  }{ q(u_i| x, \\phi)}}$\n",
    "\n",
    "where\n",
    "\n",
    "$ p(u|x) \\sim \\mathcal{N}(\\mu_1(x), \\sigma_1(x)) $\n",
    "\n",
    "$ q(u|x,\\phi) \\sim \\mathcal{N}(\\mu_2(x, \\phi), \\sigma_2(x, \\phi)) $\n",
    "\n",
    "$ p(\\phi|x, u) \\sim \\mathcal{VM}(\\mu(x,u), \\kappa(x,u)) $\n"
   ]
  },
  {
   "cell_type": "code",
   "execution_count": 42,
   "metadata": {
    "collapsed": true
   },
   "outputs": [],
   "source": [
    "n_u = 8\n",
    "cvae_ckpt_path = 'logs/best_models/cvae/2/cvae.full_model.trial_0.best.weights.hdf5'\n",
    "\n",
    "cvae = CVAE_mod(n_hidden_units=n_u, n_samples=128)\n",
    "cvae.full_model.load_weights(cvae_ckpt_path)"
   ]
  },
  {
   "cell_type": "code",
   "execution_count": 43,
   "metadata": {
    "collapsed": true
   },
   "outputs": [],
   "source": [
    "out = cvae.full_model.predict([xte, yte_bit])\n",
    "out = cvae.parse_output_np(out)"
   ]
  },
  {
   "cell_type": "code",
   "execution_count": 38,
   "metadata": {},
   "outputs": [
    {
     "ename": "AttributeError",
     "evalue": "'dict' object has no attribute 'shape'",
     "output_type": "error",
     "traceback": [
      "\u001b[0;31m---------------------------------------------------------------------------\u001b[0m",
      "\u001b[0;31mAttributeError\u001b[0m                            Traceback (most recent call last)",
      "\u001b[0;32m<ipython-input-38-bc9313eadd34>\u001b[0m in \u001b[0;36m<module>\u001b[0;34m()\u001b[0m\n\u001b[0;32m----> 1\u001b[0;31m \u001b[0mout\u001b[0m\u001b[0;34m.\u001b[0m\u001b[0mshape\u001b[0m\u001b[0;34m\u001b[0m\u001b[0m\n\u001b[0m",
      "\u001b[0;31mAttributeError\u001b[0m: 'dict' object has no attribute 'shape'"
     ]
    }
   ],
   "source": [
    "out.shape"
   ]
  },
  {
   "cell_type": "code",
   "execution_count": 44,
   "metadata": {},
   "outputs": [
    {
     "data": {
      "text/plain": [
       "array([ 0.02635976,  0.05754765,  0.05291699,  0.06663045,  0.04948011,\n",
       "        0.03372288,  0.0700205 ,  0.03959129], dtype=float32)"
      ]
     },
     "execution_count": 44,
     "metadata": {},
     "output_type": "execute_result"
    }
   ],
   "source": [
    "out['log_sigma_prior'][0]"
   ]
  },
  {
   "cell_type": "code",
   "execution_count": 7,
   "metadata": {},
   "outputs": [
    {
     "data": {
      "text/plain": [
       "array([ 0.03050286,  0.04987274,  0.04818736,  0.07788163,  0.0470078 ,\n",
       "        0.04491068,  0.07260608,  0.05432089], dtype=float32)"
      ]
     },
     "execution_count": 7,
     "metadata": {},
     "output_type": "execute_result"
    }
   ],
   "source": [
    "out['log_sigma_encoder'][0]"
   ]
  },
  {
   "cell_type": "code",
   "execution_count": 9,
   "metadata": {},
   "outputs": [
    {
     "data": {
      "text/plain": [
       "array([-0.01503756,  0.00639821, -0.00642541, -0.02498445, -0.01205181,\n",
       "        0.0185044 , -0.0402074 ,  0.00627557], dtype=float32)"
      ]
     },
     "execution_count": 9,
     "metadata": {},
     "output_type": "execute_result"
    }
   ],
   "source": [
    "out['mu_prior'][0]"
   ]
  },
  {
   "cell_type": "code",
   "execution_count": 8,
   "metadata": {},
   "outputs": [
    {
     "data": {
      "text/plain": [
       "array([ 0.0034244 ,  0.02234553, -0.00068222, -0.03396796, -0.01267993,\n",
       "        0.01617561, -0.01503824,  0.00521719], dtype=float32)"
      ]
     },
     "execution_count": 8,
     "metadata": {},
     "output_type": "execute_result"
    }
   ],
   "source": [
    "out['mu_encoder'][0]"
   ]
  },
  {
   "cell_type": "code",
   "execution_count": 12,
   "metadata": {},
   "outputs": [
    {
     "data": {
      "text/plain": [
       "array([ 210.,   32.,  165., ...,  193.,  186.,  179.])"
      ]
     },
     "execution_count": 12,
     "metadata": {},
     "output_type": "execute_result"
    }
   ],
   "source": [
    "bit2deg(ytr_bit)"
   ]
  },
  {
   "cell_type": "code",
   "execution_count": 41,
   "metadata": {},
   "outputs": [
    {
     "data": {
      "text/plain": [
       "26.453822414431951"
      ]
     },
     "execution_count": 41,
     "metadata": {},
     "output_type": "execute_result"
    }
   ],
   "source": [
    "np.mean(maad_from_deg(yte_deg, bit2deg(out['mu_preds'][:,0,:])))"
   ]
  },
  {
   "cell_type": "code",
   "execution_count": 36,
   "metadata": {},
   "outputs": [
    {
     "data": {
      "text/plain": [
       "(904, 384)"
      ]
     },
     "execution_count": 36,
     "metadata": {},
     "output_type": "execute_result"
    }
   ],
   "source": [
    "out.shape"
   ]
  },
  {
   "cell_type": "code",
   "execution_count": 45,
   "metadata": {},
   "outputs": [
    {
     "data": {
      "text/plain": [
       "-0.70381010128750288"
      ]
     },
     "execution_count": 45,
     "metadata": {},
     "output_type": "execute_result"
    }
   ],
   "source": [
    "np.mean(cvae.importance_log_likelihood_np(yte_bit, cvae.full_model.predict([xte, yte_bit])))"
   ]
  },
  {
   "cell_type": "code",
   "execution_count": 46,
   "metadata": {},
   "outputs": [
    {
     "data": {
      "text/plain": [
       "-0.62684722476709509"
      ]
     },
     "execution_count": 46,
     "metadata": {},
     "output_type": "execute_result"
    }
   ],
   "source": [
    "np.mean(cvae.importance_log_likelihood_np(yval_bit, cvae.full_model.predict([xval, yval_bit])))"
   ]
  },
  {
   "cell_type": "code",
   "execution_count": null,
   "metadata": {
    "collapsed": true
   },
   "outputs": [],
   "source": [
    "np.mean(cvae.importance_log_likelihood_np(yval_bit, cvae.full_model.predict([xval, yval_bit])))"
   ]
  },
  {
   "cell_type": "code",
   "execution_count": 25,
   "metadata": {
    "collapsed": true
   },
   "outputs": [],
   "source": [
    "out_ph = tf.placeholder(dtype=tf.float32, shape=[None, 152])\n",
    "y_ph = tf.placeholder(dtype=tf.float32, shape=[None, 2])\n",
    "\n",
    "impll_tf = cvae.importance_log_likelihood_tf(y_ph, out_ph)"
   ]
  },
  {
   "cell_type": "code",
   "execution_count": 26,
   "metadata": {
    "collapsed": true
   },
   "outputs": [],
   "source": [
    "with tf.Session() as sess:\n",
    "    ll = impll_tf.eval(feed_dict={out_ph:out, y_ph:y})"
   ]
  },
  {
   "cell_type": "code",
   "execution_count": 27,
   "metadata": {},
   "outputs": [
    {
     "data": {
      "text/plain": [
       "1.8896326"
      ]
     },
     "execution_count": 27,
     "metadata": {},
     "output_type": "execute_result"
    }
   ],
   "source": [
    "ll"
   ]
  }
 ],
 "metadata": {
  "kernelspec": {
   "display_name": "Python 3",
   "language": "python",
   "name": "python3"
  },
  "language_info": {
   "codemirror_mode": {
    "name": "ipython",
    "version": 3
   },
   "file_extension": ".py",
   "mimetype": "text/x-python",
   "name": "python",
   "nbconvert_exporter": "python",
   "pygments_lexer": "ipython3",
   "version": "3.6.1"
  }
 },
 "nbformat": 4,
 "nbformat_minor": 2
}
