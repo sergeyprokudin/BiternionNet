{
 "cells": [
  {
   "cell_type": "code",
   "execution_count": 1,
   "metadata": {},
   "outputs": [
    {
     "name": "stderr",
     "output_type": "stream",
     "text": [
      "Using TensorFlow backend.\n"
     ]
    }
   ],
   "source": [
    "import numpy as np\n",
    "import pandas as pd\n",
    "import lmdb\n",
    "import h5py\n",
    "import os\n",
    "\n",
    "from keras.preprocessing import image"
   ]
  },
  {
   "cell_type": "code",
   "execution_count": 94,
   "metadata": {},
   "outputs": [],
   "source": [
    "def prepare_pascal3d(data_path, out_path):\n",
    "    \"\"\"Converts cropped images and orientation annotation from Pascal3D+ into h5 database.\n",
    "    \n",
    "    Pascal3D+ should be preprocessed first via \n",
    "        https://github.com/ShapeNet/RenderForCNN/blob/master/view_estimation/prepare_testing_data.py\n",
    "        https://github.com/ShapeNet/RenderForCNN/blob/master/view_estimation/prepare_training_data.py\n",
    "    \n",
    "    # Arguments\n",
    "        data_path: path to preprocessed data (/pathto/RenderForCNN/data/real_images/)\n",
    "        \n",
    "        out_path: savepath for created h5 database\n",
    "        \n",
    "    \"\"\"\n",
    "    \n",
    "    classes = {0: 'aeroplane',\n",
    "               1: 'bicycle',\n",
    "               2: 'boat',\n",
    "               3: 'bottle',\n",
    "               4: 'bus',\n",
    "               5: 'car',\n",
    "               6: 'chair',\n",
    "               7: 'diningtable',\n",
    "               8: 'motorbike',\n",
    "               9: 'sofa',\n",
    "               10: 'train',\n",
    "               11: 'tvmonitor'}\n",
    "    \n",
    "    train_labels_global_path = os.path.join(data_path, 'voc12train_all_gt_bbox')\n",
    "    train_labels_paths = [os.path.join(train_labels_global_path, (classes[key]+'.txt')) for key in classes.keys()]\n",
    "    \n",
    "    val_labels_global_path = os.path.join(data_path, 'voc12val_easy_gt_bbox')\n",
    "    val_labels_paths = [os.path.join(val_labels_global_path, (classes[key]+'.txt')) for key in classes.keys()]\n",
    "    \n",
    "    pascal_db = h5py.File(out_path, 'w')\n",
    "    \n",
    "    def _load_data_by_labels(lpath, class_name, data_part):\n",
    "        \n",
    "        print(\"loading labels from path : %s\" % lpath)\n",
    "        labels = pd.read_csv(lpath, delimiter=' ', header=None, \n",
    "                             names=['image_path', 'class_id', 'azimuth', 'elevation', 'tilt'])\n",
    "\n",
    "        labels_np = np.asarray(labels[['class_id', 'azimuth', 'elevation', 'tilt']])\n",
    "\n",
    "        images = np.zeros([labels.shape[0], 224, 224, 3])\n",
    "\n",
    "        for i, img in enumerate(list(labels.image_path)):\n",
    "            img = image.load_img(img, target_size=(224, 224))\n",
    "            x = image.img_to_array(img)\n",
    "            images[i] = x\n",
    "        \n",
    "        pascal_db.create_dataset(os.path.join(data_part, class_name, 'labels'), data=labels_np)\n",
    "        pascal_db.create_dataset(os.path.join(data_part, class_name, 'images'), data=images)\n",
    "        \n",
    "        return \n",
    "    \n",
    "    for cid, lpath in enumerate(train_labels_paths):\n",
    "        _load_data_by_labels(lpath, classes[cid], 'train')\n",
    "    \n",
    "    for cid, lpath in enumerate(val_labels_paths):\n",
    "        _load_data_by_labels(lpath, classes[cid], 'validation')\n",
    "        \n",
    "    pascal_db.close()\n",
    "    \n",
    "    return"
   ]
  },
  {
   "cell_type": "code",
   "execution_count": 95,
   "metadata": {
    "collapsed": true
   },
   "outputs": [],
   "source": [
    "data_path = '/home/sprokudin/RenderForCNN/data/real_images/'\n",
    "db_path = 'data/pascal3d.h5'"
   ]
  },
  {
   "cell_type": "code",
   "execution_count": 98,
   "metadata": {},
   "outputs": [
    {
     "name": "stdout",
     "output_type": "stream",
     "text": [
      "loading labels from path : /home/sprokudin/RenderForCNN/data/real_images/voc12train_all_gt_bbox/aeroplane.txt\n",
      "loading labels from path : /home/sprokudin/RenderForCNN/data/real_images/voc12train_all_gt_bbox/bicycle.txt\n",
      "loading labels from path : /home/sprokudin/RenderForCNN/data/real_images/voc12train_all_gt_bbox/boat.txt\n",
      "loading labels from path : /home/sprokudin/RenderForCNN/data/real_images/voc12train_all_gt_bbox/bottle.txt\n",
      "loading labels from path : /home/sprokudin/RenderForCNN/data/real_images/voc12train_all_gt_bbox/bus.txt\n",
      "loading labels from path : /home/sprokudin/RenderForCNN/data/real_images/voc12train_all_gt_bbox/car.txt\n",
      "loading labels from path : /home/sprokudin/RenderForCNN/data/real_images/voc12train_all_gt_bbox/chair.txt\n",
      "loading labels from path : /home/sprokudin/RenderForCNN/data/real_images/voc12train_all_gt_bbox/diningtable.txt\n",
      "loading labels from path : /home/sprokudin/RenderForCNN/data/real_images/voc12train_all_gt_bbox/motorbike.txt\n",
      "loading labels from path : /home/sprokudin/RenderForCNN/data/real_images/voc12train_all_gt_bbox/sofa.txt\n",
      "loading labels from path : /home/sprokudin/RenderForCNN/data/real_images/voc12train_all_gt_bbox/train.txt\n",
      "loading labels from path : /home/sprokudin/RenderForCNN/data/real_images/voc12train_all_gt_bbox/tvmonitor.txt\n",
      "loading labels from path : /home/sprokudin/RenderForCNN/data/real_images/voc12val_easy_gt_bbox/aeroplane.txt\n",
      "loading labels from path : /home/sprokudin/RenderForCNN/data/real_images/voc12val_easy_gt_bbox/bicycle.txt\n",
      "loading labels from path : /home/sprokudin/RenderForCNN/data/real_images/voc12val_easy_gt_bbox/boat.txt\n",
      "loading labels from path : /home/sprokudin/RenderForCNN/data/real_images/voc12val_easy_gt_bbox/bottle.txt\n",
      "loading labels from path : /home/sprokudin/RenderForCNN/data/real_images/voc12val_easy_gt_bbox/bus.txt\n",
      "loading labels from path : /home/sprokudin/RenderForCNN/data/real_images/voc12val_easy_gt_bbox/car.txt\n",
      "loading labels from path : /home/sprokudin/RenderForCNN/data/real_images/voc12val_easy_gt_bbox/chair.txt\n",
      "loading labels from path : /home/sprokudin/RenderForCNN/data/real_images/voc12val_easy_gt_bbox/diningtable.txt\n",
      "loading labels from path : /home/sprokudin/RenderForCNN/data/real_images/voc12val_easy_gt_bbox/motorbike.txt\n",
      "loading labels from path : /home/sprokudin/RenderForCNN/data/real_images/voc12val_easy_gt_bbox/sofa.txt\n",
      "loading labels from path : /home/sprokudin/RenderForCNN/data/real_images/voc12val_easy_gt_bbox/train.txt\n",
      "loading labels from path : /home/sprokudin/RenderForCNN/data/real_images/voc12val_easy_gt_bbox/tvmonitor.txt\n"
     ]
    }
   ],
   "source": [
    "prepare_pascal3d(data_path, db_path)"
   ]
  },
  {
   "cell_type": "code",
   "execution_count": 47,
   "metadata": {},
   "outputs": [],
   "source": [
    "import matplotlib.pyplot as plt\n",
    "\n",
    "%matplotlib notebook"
   ]
  },
  {
   "cell_type": "code",
   "execution_count": null,
   "metadata": {
    "collapsed": true
   },
   "outputs": [],
   "source": [
    "data_file.create_dataset('group_name', data=data_matrix)\n",
    "data_file.close()"
   ]
  }
 ],
 "metadata": {
  "kernelspec": {
   "display_name": "py_env",
   "language": "python",
   "name": "py_env"
  },
  "language_info": {
   "codemirror_mode": {
    "name": "ipython",
    "version": 3
   },
   "file_extension": ".py",
   "mimetype": "text/x-python",
   "name": "python",
   "nbconvert_exporter": "python",
   "pygments_lexer": "ipython3",
   "version": "3.5.2"
  }
 },
 "nbformat": 4,
 "nbformat_minor": 2
}
