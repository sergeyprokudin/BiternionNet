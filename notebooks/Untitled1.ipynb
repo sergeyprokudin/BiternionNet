{
 "cells": [
  {
   "cell_type": "code",
   "execution_count": 3,
   "metadata": {},
   "outputs": [
    {
     "name": "stdout",
     "output_type": "stream",
     "text": [
      "Fri Mar  9 00:25:33 2018       \n",
      "+-----------------------------------------------------------------------------+\n",
      "| NVIDIA-SMI 384.81                 Driver Version: 384.81                    |\n",
      "|-------------------------------+----------------------+----------------------+\n",
      "| GPU  Name        Persistence-M| Bus-Id        Disp.A | Volatile Uncorr. ECC |\n",
      "| Fan  Temp  Perf  Pwr:Usage/Cap|         Memory-Usage | GPU-Util  Compute M. |\n",
      "|===============================+======================+======================|\n",
      "|   0  Tesla K80           On   | 00000000:04:00.0 Off |                    0 |\n",
      "| N/A   57C    P0   110W / 149W |  10964MiB / 11439MiB |     36%   E. Process |\n",
      "+-------------------------------+----------------------+----------------------+\n",
      "|   1  Tesla K80           On   | 00000000:05:00.0 Off |                    0 |\n",
      "| N/A   53C    P0   138W / 149W |  10944MiB / 11439MiB |     99%   E. Process |\n",
      "+-------------------------------+----------------------+----------------------+\n",
      "|   2  Tesla K80           On   | 00000000:83:00.0 Off |                    0 |\n",
      "| N/A   32C    P8    26W / 149W |      1MiB / 11439MiB |      0%   E. Process |\n",
      "+-------------------------------+----------------------+----------------------+\n",
      "|   3  Tesla K80           On   | 00000000:84:00.0 Off |                    0 |\n",
      "| N/A   29C    P8    29W / 149W |      1MiB / 11439MiB |      0%   E. Process |\n",
      "+-------------------------------+----------------------+----------------------+\n",
      "|   4  Tesla K80           On   | 00000000:89:00.0 Off |                    0 |\n",
      "| N/A   51C    P0   147W / 149W |  10964MiB / 11439MiB |     90%   E. Process |\n",
      "+-------------------------------+----------------------+----------------------+\n",
      "|   5  Tesla K80           On   | 00000000:8A:00.0 Off |                    0 |\n",
      "| N/A   55C    P0    72W / 149W |  10923MiB / 11439MiB |     30%   E. Process |\n",
      "+-------------------------------+----------------------+----------------------+\n",
      "|   6  Tesla K80           On   | 00000000:8D:00.0 Off |                    0 |\n",
      "| N/A   31C    P8    27W / 149W |      1MiB / 11439MiB |      0%   E. Process |\n",
      "+-------------------------------+----------------------+----------------------+\n",
      "|   7  Tesla K80           On   | 00000000:8E:00.0 Off |                    0 |\n",
      "| N/A   45C    P0    72W / 149W |  10875MiB / 11439MiB |      0%   E. Process |\n",
      "+-------------------------------+----------------------+----------------------+\n",
      "                                                                               \n",
      "+-----------------------------------------------------------------------------+\n",
      "| Processes:                                                       GPU Memory |\n",
      "|  GPU       PID   Type   Process name                             Usage      |\n",
      "|=============================================================================|\n",
      "|    0     26818      C   ...g2/VirtualEnvs/tensorflow_13/bin/python 10951MiB |\n",
      "|    1     20817      C   /usr/bin/python2.7                         10929MiB |\n",
      "|    4     40181      C   ...prokudin/biternionnet/py_env/bin/python 10951MiB |\n",
      "|    5     36482      C   /home/jzhu/anaconda3/bin/python            10906MiB |\n",
      "|    7     36482      C   /home/jzhu/anaconda3/bin/python            10858MiB |\n",
      "+-----------------------------------------------------------------------------+\n"
     ]
    }
   ],
   "source": [
    "!nvidia-smi"
   ]
  }
 ],
 "metadata": {
  "kernelspec": {
   "display_name": "py_env",
   "language": "python",
   "name": "py_env"
  },
  "language_info": {
   "codemirror_mode": {
    "name": "ipython",
    "version": 3
   },
   "file_extension": ".py",
   "mimetype": "text/x-python",
   "name": "python",
   "nbconvert_exporter": "python",
   "pygments_lexer": "ipython3",
   "version": "3.5.2"
  }
 },
 "nbformat": 4,
 "nbformat_minor": 2
}
