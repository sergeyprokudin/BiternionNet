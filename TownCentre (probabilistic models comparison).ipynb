{
 "cells": [
  {
   "cell_type": "code",
   "execution_count": 17,
   "metadata": {
    "collapsed": true
   },
   "outputs": [],
   "source": [
    "import keras\n",
    "from keras.layers import Input, Dense, Lambda, Flatten\n",
    "from keras.layers.merge import concatenate\n",
    "from keras.models import Model, Sequential\n",
    "from keras.objectives import binary_crossentropy\n",
    "from keras.callbacks import LearningRateScheduler\n",
    "\n",
    "import numpy as np\n",
    "import matplotlib.pyplot as plt\n",
    "%matplotlib inline\n",
    "import keras.backend as K\n",
    "import tensorflow as tf\n",
    "\n",
    "from models import vgg\n",
    "from utils.angles import deg2bit, bit2deg\n",
    "from utils.losses import maad_from_deg \n",
    "from utils.losses import von_mises_log_likelihood_tf, von_mises_log_likelihood_np\n",
    "from utils.towncentre import load_towncentre\n",
    "from utils.experiements import get_experiment_id"
   ]
  },
  {
   "cell_type": "code",
   "execution_count": 57,
   "metadata": {},
   "outputs": [
    {
     "data": {
      "text/plain": [
       "0.34168466480059195"
      ]
     },
     "execution_count": 57,
     "metadata": {},
     "output_type": "execute_result"
    }
   ],
   "source": [
    "np.exp(-1.073867)"
   ]
  },
  {
   "cell_type": "code",
   "execution_count": 58,
   "metadata": {},
   "outputs": [
    {
     "data": {
      "text/plain": [
       "0.35432560516251921"
      ]
     },
     "execution_count": 58,
     "metadata": {},
     "output_type": "execute_result"
    }
   ],
   "source": [
    "np.exp( -1.037539)"
   ]
  },
  {
   "cell_type": "code",
   "execution_count": 2,
   "metadata": {
    "collapsed": true
   },
   "outputs": [],
   "source": [
    "xtr, ytr_deg, xte, yte_deg = load_towncentre('data/TownCentre.pkl.gz', canonical_split=True)\n",
    "image_height, image_width = xtr.shape[1], xtr.shape[2]\n",
    "ytr_bit = deg2bit(ytr_deg)\n",
    "yte_bit = deg2bit(yte_deg)"
   ]
  },
  {
   "cell_type": "code",
   "execution_count": 59,
   "metadata": {},
   "outputs": [],
   "source": [
    "X = Input(shape=[50,50,3])\n",
    "\n",
    "vgg_x = vgg.vgg_model(final_layer=False,\n",
    "                      image_height=50,\n",
    "                      image_width=50)(X)\n",
    "\n",
    "mu = Lambda(lambda x: K.l2_normalize(x, axis=1))(Dense(2)(vgg_x))\n",
    "\n",
    "kappa_pred = tf.ones([tf.shape(mu)[0],1])\n",
    "\n",
    "# kappa_pred = Lambda(lambda x: K.abs(x))(Dense(1)(vgg_x))\n",
    "\n",
    "def _von_mises_neg_log_likelihood_keras(y_true, y_pred):\n",
    "    return -von_mises_log_likelihood_tf(y_true, y_pred, kappa_pred, input_type='biternion')\n",
    "\n",
    "biternion_vgg_prob = Model(X, mu)\n",
    "# kappa_model = Model(X, concatenate([kappa_pred, kappa_pred]))\n",
    "\n",
    "optimizer = keras.optimizers.Adam(lr=0.0001)\n",
    "\n",
    "biternion_vgg_prob.compile(loss=_von_mises_neg_log_likelihood_keras,\n",
    "                           metrics=['cosine'],\n",
    "                           optimizer=optimizer)"
   ]
  },
  {
   "cell_type": "code",
   "execution_count": null,
   "metadata": {},
   "outputs": [],
   "source": [
    "biternion_vgg_prob.fit(x=xtr , y=ytr_bit, batch_size=10, validation_split=0.1, epochs=20)"
   ]
  },
  {
   "cell_type": "code",
   "execution_count": 22,
   "metadata": {
    "collapsed": true
   },
   "outputs": [],
   "source": [
    "yte_preds_bit = biternion_vgg_prob.predict(xte)\n",
    "yte_preds_deg = deg2bit(yte_preds_bit)"
   ]
  },
  {
   "cell_type": "code",
   "execution_count": 36,
   "metadata": {},
   "outputs": [
    {
     "data": {
      "text/plain": [
       "1.7295935793671882"
      ]
     },
     "execution_count": 36,
     "metadata": {},
     "output_type": "execute_result"
    }
   ],
   "source": [
    "von_mises_log_likelihood_np(yte_bit, yte_bit, np.ones([yte_bit.shape[0],1])*200, input_type='biternion')"
   ]
  },
  {
   "cell_type": "code",
   "execution_count": 10,
   "metadata": {
    "collapsed": true
   },
   "outputs": [],
   "source": [
    "kappa_model = Model(X, kappa_pred)"
   ]
  },
  {
   "cell_type": "code",
   "execution_count": 16,
   "metadata": {
    "collapsed": true
   },
   "outputs": [],
   "source": [
    "kappa_te_preds = kappa_model.predict(xte)"
   ]
  },
  {
   "cell_type": "code",
   "execution_count": 13,
   "metadata": {},
   "outputs": [
    {
     "name": "stdout",
     "output_type": "stream",
     "text": [
      "MAAD error (test) : 79.814962 ± 53.066745\n"
     ]
    }
   ],
   "source": [
    "loss = maad_from_deg(yte_preds, yte_deg)\n",
    "\n",
    "mean_loss = np.mean(loss)\n",
    "std_loss = np.std(loss)\n",
    "\n",
    "print(\"MAAD error (test) : %f ± %f\" % (mean_loss, std_loss))"
   ]
  }
 ],
 "metadata": {
  "kernelspec": {
   "display_name": "Python 3",
   "language": "python",
   "name": "python3"
  },
  "language_info": {
   "codemirror_mode": {
    "name": "ipython",
    "version": 3
   },
   "file_extension": ".py",
   "mimetype": "text/x-python",
   "name": "python",
   "nbconvert_exporter": "python",
   "pygments_lexer": "ipython3",
   "version": "3.6.1"
  }
 },
 "nbformat": 4,
 "nbformat_minor": 2
}
