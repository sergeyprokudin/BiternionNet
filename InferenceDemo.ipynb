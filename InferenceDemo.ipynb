{
 "cells": [
  {
   "cell_type": "code",
   "execution_count": 1,
   "metadata": {},
   "outputs": [
    {
     "name": "stderr",
     "output_type": "stream",
     "text": [
      "Using TensorFlow backend.\n"
     ]
    }
   ],
   "source": [
    "import yaml\n",
    "from matplotlib import pyplot as plt\n",
    "%matplotlib inline\n",
    "\n",
    "from utils.load_datasets import load_dataset\n",
    "from models import vgg\n",
    "from models.cvae import CVAE\n",
    "from models.vgg_vmmix import BiternionVGGMixture"
   ]
  },
  {
   "cell_type": "code",
   "execution_count": 2,
   "metadata": {
    "collapsed": true
   },
   "outputs": [],
   "source": [
    "dataset_name = \"TownCentre\" #\"IDIAP\"\n",
    "dataset_path = 'data/TownCentre.pkl.gz' #'data//IDIAP.pkl'\n",
    "net_output = 'pan'\n",
    "model_type = 'cvae'"
   ]
  },
  {
   "cell_type": "code",
   "execution_count": 3,
   "metadata": {},
   "outputs": [],
   "source": [
    "(xtr, ytr_bit, ytr_deg), (xval, yval_bit, yval_deg), (xte, yte_bit, yte_deg) = load_dataset(dataset_name,\n",
    "                                                                                            dataset_path,\n",
    "                                                                                            net_output)\n",
    "\n",
    "image_height, image_width, n_channels = xtr.shape[1], xtr.shape[2], xtr.shape[3]"
   ]
  },
  {
   "cell_type": "code",
   "execution_count": 4,
   "metadata": {
    "collapsed": true
   },
   "outputs": [],
   "source": [
    "net_config_path = '/Users/sergey/BiternionNet/pretrained_models/TownCentre/cvae/model.trial_30.params.yml'\n",
    "net_weights_path = '/Users/sergey/BiternionNet/pretrained_models/TownCentre/cvae/model.trial_30.best.weights.hdf5'"
   ]
  },
  {
   "cell_type": "code",
   "execution_count": 22,
   "metadata": {
    "collapsed": true
   },
   "outputs": [],
   "source": [
    "#net_config_path = '/Users/sergey/BiternionNet/pretrained_models/IDIAP/vm_mixture/model.trial_0.params.yml'\n",
    "#net_weights_path = '/Users/sergey/BiternionNet/pretrained_models/IDIAP/vm_mixture/model.trial_0.best.weights.hdf5'"
   ]
  },
  {
   "cell_type": "code",
   "execution_count": 5,
   "metadata": {},
   "outputs": [],
   "source": [
    "with open(net_config_path, 'r') as f:\n",
    "    net_config = yaml.load(f)\n",
    "\n",
    "if model_type == 'vm_mixture':\n",
    "    model = BiternionVGGMixture(image_height=image_height,\n",
    "                            image_width=image_width,\n",
    "                            n_channels=3,\n",
    "                            **net_config)\n",
    "    model.load_weights(net_weights_path)\n",
    "    \n",
    "elif model_type == 'cvae':\n",
    "    model = CVAE(image_height=image_height,\n",
    "                 image_width=image_width,\n",
    "                 n_channels=n_channels,\n",
    "                 **net_config)\n",
    "    model.load_weights(net_weights_path)"
   ]
  },
  {
   "cell_type": "code",
   "execution_count": 7,
   "metadata": {},
   "outputs": [
    {
     "name": "stdout",
     "output_type": "stream",
     "text": [
      "MAAD error (test) : 21.711964 pm 1.031099SEM\n",
      "ELBO (test) : -0.544346 pm 0.058636SEM\n",
      "Approx Log-Likelihood, importance sampling (test) : -0.543643 pm 0.058561SEM\n",
      "KL-div (test) : 0.000025 pm0.000002SEM\n"
     ]
    },
    {
     "data": {
      "text/plain": [
       "{'elbo': -0.54434585906501576,\n",
       " 'elbo_sem': array([ 0.05863604]),\n",
       " 'importance_log_likelihood': -0.54364339532317485,\n",
       " 'importance_log_likelihood_sem': 0.058561346512496101,\n",
       " 'kl_div': 2.5416994473700863e-05,\n",
       " 'kl_div_sem': array([  2.24512186e-06]),\n",
       " 'maad_loss': 21.711963826291122,\n",
       " 'maad_loss_sem': 1.0310986475480064}"
      ]
     },
     "execution_count": 7,
     "metadata": {},
     "output_type": "execute_result"
    }
   ],
   "source": [
    "model.evaluate(xte[0:1000], yte_deg[0:1000], 'test')"
   ]
  },
  {
   "cell_type": "code",
   "execution_count": 17,
   "metadata": {},
   "outputs": [],
   "source": [
    "cvae_preds = model.get_multiple_predictions(xte[0:10], yte_bit[0:10], n_samples=50)"
   ]
  },
  {
   "cell_type": "code",
   "execution_count": 21,
   "metadata": {},
   "outputs": [
    {
     "data": {
      "text/plain": [
       "array([ 2.50098155,  2.50141369,  2.50240127,  2.49910225,  2.50134658,\n",
       "        2.50081634,  2.5015735 ,  2.50256231,  2.49989361,  2.50244983,\n",
       "        2.50009991,  2.50162242,  2.50093397,  2.50260379,  2.50561201,\n",
       "        2.50208966,  2.50122677,  2.50409839,  2.49476727,  2.50105916,\n",
       "        2.5027754 ,  2.50433038,  2.50240625,  2.50286551,  2.50076805,\n",
       "        2.50216884,  2.50249854,  2.50146726,  2.50533915,  2.50049632,\n",
       "        2.50369443,  2.50393745,  2.50215236,  2.49965775,  2.49991205,\n",
       "        2.50242193,  2.49698801,  2.49549138,  2.5033691 ,  2.50020553,\n",
       "        2.5019556 ,  2.50521052,  2.50195508,  2.5018183 ,  2.50372495,\n",
       "        2.50217749,  2.50225945,  2.50501805,  2.4982076 ,  2.49893308])"
      ]
     },
     "execution_count": 21,
     "metadata": {},
     "output_type": "execute_result"
    }
   ],
   "source": [
    "cvae_preds['mu_rad_dec'][3]"
   ]
  },
  {
   "cell_type": "code",
   "execution_count": null,
   "metadata": {
    "collapsed": true
   },
   "outputs": [],
   "source": [
    "model.evaluate()"
   ]
  }
 ],
 "metadata": {
  "kernelspec": {
   "display_name": "Python 3",
   "language": "python",
   "name": "python3"
  },
  "language_info": {
   "codemirror_mode": {
    "name": "ipython",
    "version": 3
   },
   "file_extension": ".py",
   "mimetype": "text/x-python",
   "name": "python",
   "nbconvert_exporter": "python",
   "pygments_lexer": "ipython3",
   "version": "3.6.1"
  }
 },
 "nbformat": 4,
 "nbformat_minor": 2
}
