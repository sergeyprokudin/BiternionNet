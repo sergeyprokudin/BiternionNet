{
 "cells": [
  {
   "cell_type": "code",
   "execution_count": 385,
   "metadata": {},
   "outputs": [
    {
     "name": "stdout",
     "output_type": "stream",
     "text": [
      "The autoreload extension is already loaded. To reload it, use:\n",
      "  %reload_ext autoreload\n"
     ]
    }
   ],
   "source": [
    "import numpy as np\n",
    "import yaml\n",
    "import os\n",
    "from matplotlib import pyplot as plt\n",
    "%matplotlib inline\n",
    "%load_ext autoreload\n",
    "%autoreload \n",
    "\n",
    "from utils.load_datasets import load_dataset\n",
    "from models import vgg\n",
    "from models.cvae import CVAE\n",
    "from models.vgg_vmmix import BiternionVGGMixture"
   ]
  },
  {
   "cell_type": "code",
   "execution_count": 191,
   "metadata": {
    "collapsed": true
   },
   "outputs": [],
   "source": [
    "dataset_name = \"CAVIAR-o\" #\"IDIAP\" #\"CAVIAR-o\"\n",
    "dataset_path = 'data/CAVIAR-o.pkl.gz' #'data//IDIAP.pkl' #'data/CAVIAR-o.pkl.gz' #\n",
    "net_output = 'pan'\n",
    "model_type = 'cvae'"
   ]
  },
  {
   "cell_type": "code",
   "execution_count": 150,
   "metadata": {
    "collapsed": true
   },
   "outputs": [],
   "source": [
    "(xtr, ytr_bit, ytr_deg), (xval, yval_bit, yval_deg), (xte, yte_bit, yte_deg) = load_dataset(dataset_name,\n",
    "                                                                                            dataset_path,\n",
    "                                                                                            net_output)\n",
    "\n",
    "image_height, image_width, n_channels = xtr.shape[1], xtr.shape[2], xtr.shape[3]"
   ]
  },
  {
   "cell_type": "code",
   "execution_count": 432,
   "metadata": {
    "collapsed": true
   },
   "outputs": [],
   "source": [
    "if dataset_name=='CAVIAR-o':\n",
    "    pretrained_path = 'pretrained_models/CAVIAR-o'\n",
    "\n",
    "vggbit_cosine_config_path = os.path.join(pretrained_path, 'cosine/model.best.params.yml')\n",
    "vggbit_cosine_weights_path = os.path.join(pretrained_path, 'cosine/model.best.weights.hdf5')\n",
    "vggbit_likelihood_config_path = os.path.join(pretrained_path, 'likelihood/model.best.params.yml')\n",
    "vggbit_likelihood_weights_path =  os.path.join(pretrained_path, 'likelihood/model.best.weights.hdf5')\n",
    "vmmix_config_path =  os.path.join(pretrained_path, 'vm_mixture/model.best.params.yml')\n",
    "vmmix_weights_path =  os.path.join(pretrained_path, 'vm_mixture/model.best.weights.hdf5')\n",
    "cvae_config_path =  os.path.join(pretrained_path, 'cvae/model.trial_0.params.yml')\n",
    "cvae_weights_path =  os.path.join(pretrained_path, 'cvae/model.trial_0.best.weights.hdf5')"
   ]
  },
  {
   "cell_type": "code",
   "execution_count": null,
   "metadata": {},
   "outputs": [
    {
     "name": "stdout",
     "output_type": "stream",
     "text": [
      "using cosine loss..\n",
      "using likelihood loss..\n"
     ]
    }
   ],
   "source": [
    "def load_config(net_config_path):\n",
    "    with open(net_config_path, 'r') as f:\n",
    "        net_config = yaml.load(f)\n",
    "    return net_config\n",
    "\n",
    "vggbit_cosine_model = vgg.BiternionVGG(image_height=image_height,\n",
    "                                image_width=image_width,\n",
    "                                n_channels=3,\n",
    "                                predict_kappa=False,\n",
    "                                loss_type='cosine',\n",
    "                                **load_config(vggbit_cosine_config_path))\n",
    "vggbit_cosine_model.load_weights(vggbit_cosine_weights_path)\n",
    "_ = vggbit_cosine_model.finetune_kappa(xval, yval_bit, max_kappa=1000)\n",
    "\n",
    "vggbit_likelihood_model = vgg.BiternionVGG(image_height=image_height,\n",
    "                                image_width=image_width,\n",
    "                                n_channels=3,\n",
    "                                predict_kappa=True,\n",
    "                                loss_type='vm_likelihood',\n",
    "                                **load_config(vggbit_likelihood_config_path))\n",
    "vggbit_likelihood_model.load_weights(vggbit_likelihood_weights_path)\n",
    "\n",
    "vmmix_model = BiternionVGGMixture(image_height=image_height,\n",
    "                            image_width=image_width,\n",
    "                            n_channels=3,\n",
    "                            **load_config(vmmix_config_path))\n",
    "\n",
    "vmmix_model.load_weights(vmmix_weights_path)\n",
    "    \n",
    "cvae_model = CVAE(image_height=image_height,\n",
    "                 image_width=image_width,\n",
    "                 n_channels=n_channels,\n",
    "                 **load_config(cvae_config_path))\n",
    "\n",
    "cvae_model.load_weights(cvae_weights_path)"
   ]
  },
  {
   "cell_type": "code",
   "execution_count": null,
   "metadata": {},
   "outputs": [
    {
     "name": "stdout",
     "output_type": "stream",
     "text": [
      "*****EVALUATING ON test*****\n",
      "evaluating VGGBit (cosine loss)..\n",
      "MAAD error (test) : 6.310945 pm 0.352273SEM\n",
      "log-likelihood (test) : 0.133556 pm 0.098160SEM\n",
      "evaluating VGGBit (likelihood loss)..\n",
      "MAAD error (test) : 5.755676 pm 0.367084SEM\n",
      "log-likelihood (test) : 0.581552 pm 0.120075SEM\n",
      "evaluating VM-Mixture..\n",
      "MAAD error (test) : 4.688489 pm 0.409078SEM\n",
      "log-likelihood (test) : 1.601147 pm 0.072679SEM\n",
      "evaluating CVAE..\n",
      "MAAD error (test) : 9.240366 pm 0.497109SEM\n",
      "ELBO (test) : 0.281886 pm 0.044563SEM\n",
      "Approx Log-Likelihood, importance sampling (test) : 0.283881 pm 0.044424SEM\n",
      "KL-div (test) : 0.000453 pm0.000013SEM\n"
     ]
    }
   ],
   "source": [
    "starting_frame = 0\n",
    "n_frames = 1000\n",
    "frames = np.arange(starting_frame, starting_frame+n_frames)\n",
    "n_samples = 10\n",
    "xvals =  np.arange(0, 2*np.pi, 0.01)\n",
    "\n",
    "results = eval_all_models(xte[frames], yte_deg[frames], 'test')\n",
    "\n",
    "pdfs_dict = {}\n",
    "\n",
    "vggcosine_acc_pdf = vggbit_cosine_model.pdf(xte[frames], xvals)\n",
    "\n",
    "vgglikelihood_acc_pdf = vggbit_likelihood_model.pdf(xte[frames], xvals)\n",
    "\n",
    "vmmix_pdfs, vmmix_acc_pdf = vmmix_model.pdf(xte[frames], xvals)\n",
    "\n",
    "cvae_samples_pdfs, cvae_acc_pdfs = cvae_model.pdf(xte[frames], xvals, n_samples=n_samples)"
   ]
  },
  {
   "cell_type": "code",
   "execution_count": 406,
   "metadata": {},
   "outputs": [],
   "source": [
    "def plot_pdf(axis, xvals, pdf, ypred=None, gt_val=None, title=''):\n",
    "    \n",
    "    axis.set_xticks(([0., .5*np.pi, np.pi, 1.5*np.pi, 2*np.pi]))\n",
    "    axis.set_xticklabels([\"$0$\", r\"$\\frac{\\pi}{2}$\", r\"$\\pi$\", r\"$\\frac{3\\pi}{2}$\", r\"$2\\pi$\"]) \n",
    "    axis.set_xlim([-0.001, 2*np.pi+0.001])\n",
    "    axis.set_ylim([0, 10.0])\n",
    "    if gt_val is not None:\n",
    "        axis.axvline(gt_val, color='red', label='gt')\n",
    "    if ypred is not None:\n",
    "        axis.axvline(ypred, color='blue', label='pred')\n",
    "    axis.plot(xvals, pdf)\n",
    "    axis.legend(loc=1)\n",
    "    axis.set_title(title)\n",
    "    return"
   ]
  },
  {
   "cell_type": "code",
   "execution_count": 407,
   "metadata": {},
   "outputs": [],
   "source": [
    "def plot_image_results(im, fid, xvals, pdfs_dict, likelihoods_dict, maad_dict, ppreds_dict, ytr_rad):\n",
    "    \n",
    "    n_pdfs = len(pdfs_dict)\n",
    "    \n",
    "    fig, axs = plt.subplots(1, n_pdfs+1, figsize=(30, 5))\n",
    "    \n",
    "    axs[0].imshow(im)\n",
    "    \n",
    "    i=1\n",
    "    \n",
    "    for pdf_name, pdf in pdfs_dict.items():\n",
    "        ypred_rad = np.deg2rad(ppreds_dict[pdf_name])\n",
    "        title = \"%s (logL$\\\\approx$%.2f, AAD=%.2f°)\" % (pdf_name, likelihoods_dict[pdf_name], maad_dict[pdf_name])\n",
    "        plot_pdf(axs[i], xvals, pdf, ypred_rad, ytr_rad, title)\n",
    "        i+=1\n",
    "    \n",
    "    # plot_pdf(axs[1], xvals, acc_pdf, ytr_rad)\n",
    "    #for sid in range(0, n_components):\n",
    "        #plot_pdf(axs[2], xvals, samples_pdf[sid], ytr_rad)\n",
    "    \n",
    "    fig.suptitle(\"Frame ID : %d\" % fid)\n",
    "    plt.show()\n",
    "    \n",
    "    return"
   ]
  },
  {
   "cell_type": "code",
   "execution_count": null,
   "metadata": {},
   "outputs": [],
   "source": [
    "from utils.angles import bit2deg\n",
    "\n",
    "yte_rad = np.deg2rad(bit2deg(yte_bit))\n",
    "\n",
    "for fix, fid in enumerate(frames):\n",
    "    \n",
    "    pdfs_dict = {}\n",
    "    likelihoods_dict = {}\n",
    "    point_preds_dict = {}\n",
    "    maad_dict = {}\n",
    "    pdfs_dict['VGGBit_cosine'] = vggcosine_acc_pdf[fix]\n",
    "    likelihoods_dict['VGGBit_cosine'] = results['cosine']['log_likelihood'][fix]\n",
    "    maad_dict['VGGBit_cosine'] = results['cosine']['maad'][fix]\n",
    "    point_preds_dict['VGGBit_cosine'] = results['cosine']['point_preds'][fix]\n",
    "    pdfs_dict['VGGBit_likelihood'] = vgglikelihood_acc_pdf[fix]\n",
    "    likelihoods_dict['VGGBit_likelihood'] = results['likelihood']['log_likelihood'][fix]\n",
    "    maad_dict['VGGBit_likelihood'] = results['likelihood']['maad'][fix]\n",
    "    point_preds_dict['VGGBit_likelihood'] = results['likelihood']['point_preds'][fix]\n",
    "    pdfs_dict['VM-Mixture'] = vmmix_acc_pdf[fix]\n",
    "    likelihoods_dict['VM-Mixture'] = results['mixture']['log_likelihood'][fix]\n",
    "    maad_dict['VM-Mixture'] = results['mixture']['maad'][fix]\n",
    "    point_preds_dict['VM-Mixture'] = results['mixture']['point_preds'][fix]\n",
    "    pdfs_dict['CVAE'] = cvae_acc_pdfs[fix]\n",
    "    likelihoods_dict['CVAE'] = results['cvae']['importance_log_likelihood'][fix]\n",
    "    maad_dict['CVAE'] = results['cvae']['maad'][fix]\n",
    "    point_preds_dict['CVAE'] = results['cvae']['point_preds'][fix]\n",
    "    #plot_image_results(xte[fid], xvals, cvae_acc_pdfs[fid], cvae_samples_pdfs[fid], yte_rad[fid])\n",
    "    plot_image_results(xte[fid], fid, xvals,  pdfs_dict, likelihoods_dict, maad_dict, point_preds_dict, yte_rad[fid])"
   ]
  },
  {
   "cell_type": "code",
   "execution_count": 384,
   "metadata": {},
   "outputs": [
    {
     "data": {
      "text/plain": [
       "-93.303900421536724"
      ]
     },
     "execution_count": 384,
     "metadata": {},
     "output_type": "execute_result"
    }
   ],
   "source": [
    "results['mixture']['point_preds'][3]"
   ]
  },
  {
   "cell_type": "code",
   "execution_count": 415,
   "metadata": {},
   "outputs": [
    {
     "data": {
      "text/plain": [
       "24"
      ]
     },
     "execution_count": 415,
     "metadata": {},
     "output_type": "execute_result"
    }
   ],
   "source": [
    "int(245/10)"
   ]
  },
  {
   "cell_type": "code",
   "execution_count": 314,
   "metadata": {},
   "outputs": [
    {
     "data": {
      "text/plain": [
       "array([False,  True,  True,  True, False,  True,  True, False,  True,\n",
       "        True,  True,  True, False,  True,  True,  True,  True, False,\n",
       "        True,  True,  True,  True,  True,  True,  True, False,  True,\n",
       "        True,  True,  True, False,  True, False, False,  True, False,\n",
       "        True,  True,  True,  True, False,  True,  True,  True,  True,\n",
       "        True,  True,  True, False,  True,  True,  True,  True,  True,\n",
       "       False,  True, False, False,  True,  True,  True,  True,  True,\n",
       "       False,  True,  True,  True,  True, False,  True,  True, False,\n",
       "        True,  True,  True,  True, False,  True,  True, False,  True,\n",
       "        True,  True,  True, False,  True,  True, False, False,  True,\n",
       "        True,  True,  True,  True,  True,  True,  True,  True,  True, False], dtype=bool)"
      ]
     },
     "execution_count": 314,
     "metadata": {},
     "output_type": "execute_result"
    }
   ],
   "source": [
    "np.squeeze(results['likelihood']['log_likelihood'])<np.squeeze(results['mixture']['log_likelihood'])-0.5"
   ]
  },
  {
   "cell_type": "code",
   "execution_count": 320,
   "metadata": {},
   "outputs": [
    {
     "data": {
      "text/plain": [
       "array([-22.22556305])"
      ]
     },
     "execution_count": 320,
     "metadata": {},
     "output_type": "execute_result"
    }
   ],
   "source": [
    "results['likelihood']['log_likelihood'][77]"
   ]
  },
  {
   "cell_type": "code",
   "execution_count": 321,
   "metadata": {},
   "outputs": [
    {
     "data": {
      "text/plain": [
       "0.4351661233387033"
      ]
     },
     "execution_count": 321,
     "metadata": {},
     "output_type": "execute_result"
    }
   ],
   "source": [
    "results['mixture']['log_likelihood'][77]"
   ]
  },
  {
   "cell_type": "code",
   "execution_count": 327,
   "metadata": {},
   "outputs": [
    {
     "data": {
      "text/plain": [
       "-2.238389335326517"
      ]
     },
     "execution_count": 327,
     "metadata": {},
     "output_type": "execute_result"
    }
   ],
   "source": [
    "results['cvae']['importance_log_likelihood'][77]"
   ]
  },
  {
   "cell_type": "code",
   "execution_count": null,
   "metadata": {
    "collapsed": true
   },
   "outputs": [],
   "source": [
    "results['cvae'] = cvae_model.evaluate(x, y_deg, data_part, return_per_image=True)"
   ]
  },
  {
   "cell_type": "code",
   "execution_count": 318,
   "metadata": {},
   "outputs": [
    {
     "data": {
      "text/plain": [
       "array([21, 85, 11, 67, 71, 15, 29, 80, 62, 66, 39, 91, 98, 58, 94,  7, 74,\n",
       "       42, 34, 36, 25, 13, 75, 54, 70, 28, 12, 78, 23, 26, 50, 59,  1, 65,\n",
       "       46, 86, 20, 51,  9, 72, 89,  6, 97, 52, 90, 18, 44, 19, 82, 63, 61,\n",
       "        8, 60, 69, 10, 37, 49, 55, 73, 68, 35, 47, 99,  0, 40, 88, 57, 53,\n",
       "       93, 41,  5, 83, 22, 48, 14, 64,  3, 84,  2, 43, 92, 38, 96, 33, 95,\n",
       "       24, 56, 81, 87, 45, 30, 17, 27, 79, 76,  4, 16, 31, 32, 77])"
      ]
     },
     "execution_count": 318,
     "metadata": {},
     "output_type": "execute_result"
    }
   ],
   "source": [
    "np.argsort(np.squeeze(results['likelihood']['maad']))"
   ]
  },
  {
   "cell_type": "code",
   "execution_count": 334,
   "metadata": {},
   "outputs": [
    {
     "name": "stdout",
     "output_type": "stream",
     "text": [
      "MAAD error (test) : 20.760905 pm 11.236111SEM\n",
      "ELBO (test) : 0.034645 pm 0.779676SEM\n",
      "Approx Log-Likelihood, importance sampling (test) : 0.042313 pm 0.778954SEM\n",
      "KL-div (test) : 0.000365 pm0.000108SEM\n"
     ]
    },
    {
     "data": {
      "text/plain": [
       "{'elbo': 0.034645423152275028,\n",
       " 'elbo_sem': array([ 0.77967594]),\n",
       " 'importance_log_likelihood': array([ 1.67331522, -0.65733112, -2.27562039,  1.8870329 , -0.41583184]),\n",
       " 'importance_log_likelihood_sem': 0.77895357799218168,\n",
       " 'kl_div': 0.00036525858740787953,\n",
       " 'kl_div_sem': array([ 0.00010844]),\n",
       " 'maad': array([  0.07646069,  22.8746215 ,  62.29593152,   2.07278874,  16.48472212]),\n",
       " 'maad_loss': 20.760904915393315,\n",
       " 'maad_loss_sem': 11.236111184386829}"
      ]
     },
     "execution_count": 334,
     "metadata": {},
     "output_type": "execute_result"
    }
   ],
   "source": [
    "cvae_model.evaluate(xte[275:280], yte_deg[275:280], 'test', return_per_image=True)"
   ]
  },
  {
   "cell_type": "code",
   "execution_count": 337,
   "metadata": {},
   "outputs": [
    {
     "data": {
      "text/plain": [
       "array([-44.49668224, -15.57452035, -10.11617915,  -8.14019907,\n",
       "        -7.52881148,  -4.81448744,  -3.75946444,  -3.53795423,\n",
       "        -2.00895022,  -1.8065433 ,  -1.78022069,  -1.66309838,\n",
       "        -1.65039339,  -1.09323448,  -0.79641974,  -0.36125637,\n",
       "         0.28012353,   0.3846318 ,   0.43516612,   0.43942299,\n",
       "         1.09484984,   1.21881937,   1.23633501,   1.37040638,\n",
       "         1.37967904,   1.68860796,   1.77874228,   1.78950512,\n",
       "         1.79849765,   1.80290359,   1.85982728,   1.88094591,\n",
       "         1.88344944,   1.89956665,   1.92047851,   1.94893578,\n",
       "         2.01373291,   2.03108772,   2.04437256,   2.0794668 ,\n",
       "         2.08734035,   2.18170555,   2.2187897 ,   2.23083496,\n",
       "         2.28941634,   2.34282193,   2.39434814,   2.45875859,\n",
       "         2.48431487,   2.49066162,   2.52213062,   2.57299805,\n",
       "         2.58799636,   2.58925409,   2.59234821,   2.60339355,\n",
       "         2.61730909,   2.6204778 ,   2.62928261,   2.64624023,\n",
       "         2.65636814,   2.65979004,   2.71824415,   2.73197709,\n",
       "         2.76856584,   2.79882789,   2.80871582,   2.82232367,\n",
       "         2.85149713,   2.86741249,   2.88699992,   2.94378283,\n",
       "         2.95602218,   2.97049825,   3.0234369 ,   3.12198681,\n",
       "         3.12768471,   3.17822266,   3.18093133,   3.20605469,\n",
       "         3.21386719,   3.24978901,   3.26025367,   3.30744865,\n",
       "         3.40233696,   3.41748047,   3.43748951,   3.45017008,\n",
       "         3.55110307,   3.55175281,   3.60644531,   3.62045583,\n",
       "         3.64746094,   3.75390625,   3.86328125,   4.00775417,\n",
       "         4.06640625,   4.31175354,   4.52904869,   4.84375   ])"
      ]
     },
     "execution_count": 337,
     "metadata": {},
     "output_type": "execute_result"
    }
   ],
   "source": [
    "np.sort(np.squeeze(results['mixture']['log_likelihood']))"
   ]
  },
  {
   "cell_type": "code",
   "execution_count": 339,
   "metadata": {},
   "outputs": [
    {
     "data": {
      "text/plain": [
       "array([-4.2710472 , -2.23838934, -1.23902891, -1.10295159, -0.7348292 ,\n",
       "       -0.608321  , -0.41941033, -0.39010242, -0.38897762, -0.3655733 ,\n",
       "       -0.24580376, -0.18524388, -0.17753233, -0.14514107, -0.0395684 ,\n",
       "        0.01735022,  0.0623169 ,  0.17846641,  0.19825491,  0.28872842,\n",
       "        0.33666295,  0.36314498,  0.37345292,  0.40562412,  0.46318949,\n",
       "        0.49029396,  0.50295094,  0.51032177,  0.58782718,  0.58988684,\n",
       "        0.64636168,  0.69724475,  0.71539636,  0.75490366,  0.76624682,\n",
       "        0.79447565,  0.81678743,  0.82029746,  0.83341812,  0.84618551,\n",
       "        0.87432308,  0.90187875,  0.90214575,  0.90222278,  0.9261283 ,\n",
       "        0.95242682,  0.95338588,  0.9786362 ,  1.04249043,  1.06038107,\n",
       "        1.16263131,  1.16619454,  1.1806022 ,  1.21102039,  1.22301983,\n",
       "        1.22805821,  1.25362966,  1.28646274,  1.32419365,  1.44398076,\n",
       "        1.45605137,  1.48809149,  1.49877989,  1.49940758,  1.50515441,\n",
       "        1.51346442,  1.51782912,  1.5657744 ,  1.64731734,  1.67328502,\n",
       "        1.71537256,  1.73138933,  1.75763706,  1.76626431,  1.85092618,\n",
       "        1.86767365,  1.86808006,  1.86921843,  1.87043173,  1.88443197,\n",
       "        1.89749141,  1.89803727,  1.90873458,  1.98538604,  1.99717801,\n",
       "        2.00222219,  2.0126354 ,  2.03293927,  2.0789422 ,  2.08360859,\n",
       "        2.08460205,  2.10451037,  2.12310463,  2.17111067,  2.17219151,\n",
       "        2.39728002,  2.49981923,  2.58143178,  2.72390689,  2.92557961])"
      ]
     },
     "execution_count": 339,
     "metadata": {},
     "output_type": "execute_result"
    }
   ],
   "source": [
    "np.sort(np.squeeze(results['cvae']['importance_log_likelihood']))"
   ]
  },
  {
   "cell_type": "code",
   "execution_count": 340,
   "metadata": {},
   "outputs": [
    {
     "data": {
      "text/plain": [
       "array([-22.22556305,  -6.27100372,  -3.83495331,  -3.51548767,\n",
       "        -1.19790483,  -1.07485962,  -0.52316284,  -0.47324823,\n",
       "        -0.34298706,  -0.19331741,  -0.02903366,   0.05560303,\n",
       "         0.1199913 ,   0.18650436,   0.18654633,   0.2202301 ,\n",
       "         0.31856537,   0.37343979,   0.42230988,   0.43109131,\n",
       "         0.52635193,   0.56076813,   0.62643433,   0.68505096,\n",
       "         0.68604279,   0.72418213,   0.76052094,   0.87863159,\n",
       "         0.91096115,   0.93156433,   0.931633  ,   0.9332428 ,\n",
       "         0.94658661,   0.97424316,   0.99673462,   0.99750519,\n",
       "         1.02568436,   1.08172226,   1.13371658,   1.14637756,\n",
       "         1.18682861,   1.2321701 ,   1.2334137 ,   1.32662964,\n",
       "         1.34722137,   1.36077881,   1.36849976,   1.36880493,\n",
       "         1.3812027 ,   1.42897797,   1.43743896,   1.45643616,\n",
       "         1.46617126,   1.48375702,   1.54652405,   1.56066895,\n",
       "         1.58210754,   1.610672  ,   1.64605713,   1.66242981,\n",
       "         1.6829834 ,   1.68963623,   1.69888306,   1.70149231,\n",
       "         1.70812988,   1.70825195,   1.72383118,   1.75137329,\n",
       "         1.76158142,   1.76860046,   1.7722168 ,   1.79966736,\n",
       "         1.80282593,   1.82115173,   1.86810303,   1.87960815,\n",
       "         1.90393066,   1.91030884,   1.94232178,   1.94415283,\n",
       "         1.94744873,   1.95758057,   1.97439575,   1.97665405,\n",
       "         1.99801636,   2.006073  ,   2.03063965,   2.05126953,\n",
       "         2.05297852,   2.09237671,   2.10028076,   2.11431885,\n",
       "         2.16070557,   2.20233154,   2.29492188,   2.31896973,\n",
       "         2.36785889,   2.47546387,   2.67114258,   2.82128906])"
      ]
     },
     "execution_count": 340,
     "metadata": {},
     "output_type": "execute_result"
    }
   ],
   "source": [
    "np.sort(np.squeeze(results['likelihood']['log_likelihood']))"
   ]
  },
  {
   "cell_type": "code",
   "execution_count": 341,
   "metadata": {},
   "outputs": [
    {
     "data": {
      "text/plain": [
       "0.88231270800930162"
      ]
     },
     "execution_count": 341,
     "metadata": {},
     "output_type": "execute_result"
    }
   ],
   "source": [
    "np.mean(results['likelihood']['log_likelihood'])"
   ]
  },
  {
   "cell_type": "code",
   "execution_count": 335,
   "metadata": {},
   "outputs": [
    {
     "name": "stdout",
     "output_type": "stream",
     "text": [
      "MAAD error (test) : 9.397371 pm 4.608603SEM\n",
      "log-likelihood (test) : -8.372195 pm 9.106752SEM\n"
     ]
    },
    {
     "data": {
      "text/plain": [
       "{'log_likelihood': array([  2.85149713, -44.49668224,   0.43516612,   2.88699992,  -3.53795456]),\n",
       " 'log_likelihood_mean': -8.372194723958183,\n",
       " 'log_likelihood_sem': 9.106752451207278,\n",
       " 'maad': array([  1.08526121,  24.40854463,   5.59321946,   0.47675797,  15.42307364]),\n",
       " 'maad_loss': 9.397371379158445,\n",
       " 'maad_sem': 4.608603373785982}"
      ]
     },
     "execution_count": 335,
     "metadata": {},
     "output_type": "execute_result"
    }
   ],
   "source": [
    "vmmix_model.evaluate(xte[275:280], yte_deg[275:280], 'test', return_per_image=True)"
   ]
  },
  {
   "cell_type": "code",
   "execution_count": null,
   "metadata": {
    "collapsed": true
   },
   "outputs": [],
   "source": [
    "cvae_model.evaluate(xte[275:280], yte_deg[275:280], 'test', return_per_image=True)"
   ]
  },
  {
   "cell_type": "code",
   "execution_count": 309,
   "metadata": {},
   "outputs": [
    {
     "data": {
      "text/plain": [
       "(100, 1)"
      ]
     },
     "execution_count": 309,
     "metadata": {},
     "output_type": "execute_result"
    }
   ],
   "source": [
    "results['likelihood']['log_likelihood'].shape"
   ]
  },
  {
   "cell_type": "code",
   "execution_count": 297,
   "metadata": {},
   "outputs": [],
   "source": [
    "def eval_all_models(x, y_deg, data_part):\n",
    "    \n",
    "    results = {}\n",
    "    \n",
    "    print(\"*****EVALUATING ON %s*****\"%data_part)\n",
    "    print(\"evaluating VGGBit (cosine loss)..\")\n",
    "    results['cosine'] = vggbit_cosine_model.evaluate(x, y_deg, data_part, return_per_image=True)\n",
    "    print(\"evaluating VGGBit (likelihood loss)..\")\n",
    "    results['likelihood'] = vggbit_likelihood_model.evaluate(x, y_deg, data_part, return_per_image=True)\n",
    "    print(\"evaluating VM-Mixture..\")\n",
    "    results['mixture'] = vmmix_model.evaluate(x, y_deg, data_part, return_per_image=True)\n",
    "    print(\"evaluating CVAE..\")\n",
    "    results['cvae'] = cvae_model.evaluate(x, y_deg, data_part, return_per_image=True)\n",
    "    \n",
    "    return results"
   ]
  }
 ],
 "metadata": {
  "kernelspec": {
   "display_name": "Python 3",
   "language": "python",
   "name": "python3"
  },
  "language_info": {
   "codemirror_mode": {
    "name": "ipython",
    "version": 3
   },
   "file_extension": ".py",
   "mimetype": "text/x-python",
   "name": "python",
   "nbconvert_exporter": "python",
   "pygments_lexer": "ipython3",
   "version": "3.6.1"
  }
 },
 "nbformat": 4,
 "nbformat_minor": 2
}
